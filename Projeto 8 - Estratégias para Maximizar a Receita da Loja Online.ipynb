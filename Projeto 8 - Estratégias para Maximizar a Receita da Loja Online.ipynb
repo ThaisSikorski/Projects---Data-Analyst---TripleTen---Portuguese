{
 "cells": [
  {
   "cell_type": "markdown",
   "id": "0126f6c3",
   "metadata": {},
   "source": [
    "# Table of contents <a id='back'></a>\n",
    "\n",
    "* [1.Iniciação, carregamento, otimização e exploração de dados](#inicio)\n",
    "* [2.Priorizando Hipóteses](#hipoteses)\n",
    "* [3.Análise de teste A/B](#analise)\n",
    "    * [3.1.Receita acumulada por grupo](#receita)\n",
    "    * [3.2.Tamanho médio acumulado do pedido por grupo](#medio)\n",
    "    * [3.3. Diferença relativa no tamanho médio acumulado do pedido entre os grupos](#diferenca)\n",
    "    * [3.4. Taxa de conversão de cada grupo](#conversao)\n",
    "    * [3.5. Gráfico diferença relativa](#relativa)\n",
    "    * [3.6. Dispersão do número de pedidos por usuário](#numero)\n",
    "    * [3.7. Percentis 95 e 99 para o número de pedidos por usuário](#percentilpedido)\n",
    "    * [3.8. Dispersão dos preços dos pedidos](#preco) \n",
    "    * [3.9. Percentis dos preços dos pedidos](#percentilpreco)\n",
    "    * [3.10 Diferença na conversão entre os grupos usando dados brutos](#dadosbrutos1)\n",
    "    * [3.11. Diferença no tamanho médio do pedido entre os grupos usando os dados brutos](#dadosbrutos2)\n",
    "    * [3.12. Diferença na conversão entre os grupos usando os dados filtrados](#dadosfiltrados1)\n",
    "    * [3.13. Diferença no tamanho médio do pedido entre os grupos usando os dados filtrados](#dadosfiltrados)\n",
    "    * [3.14. Decisões sobre o teste](#decisao)\n",
    "* [4. Conclusão](#conclusao)\n",
    "    \n",
    "    \n",
    "    \n"
   ]
  },
  {
   "cell_type": "markdown",
   "id": "1d0d7abc",
   "metadata": {},
   "source": [
    "# Estratégias para Maximizar a Receita da Loja Online"
   ]
  },
  {
   "cell_type": "markdown",
   "id": "6ff6605a",
   "metadata": {},
   "source": [
    "Como analista em uma grande loja online, estamos encarregados de ajudar o departamento de marketing a aumentar a receita da loja online da empresa. Após uma análise detalhada dos dados e juntamente com o departamento de marketing, foi compilada uma lista de hipóteses que podem ajudar a alcançar esse objetivo. \n",
    "\n",
    "Assim sendo, o presente estudo tem como escopo utilizar a referida lista para entao priorizar essas hipóteses e tambem testá-las para ver qual delas tem o maior impacto na receita.\n",
    "\n",
    "Para isso, iremos primeiramente priorizar hipoteses e apos iremos testar e analisar os testes A/B.\n"
   ]
  },
  {
   "cell_type": "markdown",
   "id": "d6ab5ab8",
   "metadata": {},
   "source": [
    "# 1. Iniciação, carregamento, otimização e exploração de dados <a id='inicio'></a>"
   ]
  },
  {
   "cell_type": "markdown",
   "id": "34db04cd",
   "metadata": {},
   "source": [
    "Carregaremos as bibliotecas e carregaremos os dados sobre as hipóteses, pedidos e visitas. Verificaremos se há valores ausentes e/ou duplicados. Também iremos checar se o tipo de dados nos dataframes está correto e se há alguma observação na escrita."
   ]
  },
  {
   "cell_type": "code",
   "execution_count": 20,
   "id": "289177cd",
   "metadata": {},
   "outputs": [],
   "source": [
    "import pandas as pd\n",
    "import matplotlib.pyplot as plt\n",
    "import seaborn as sns\n",
    "import numpy as np\n",
    "from scipy import stats as st\n",
    "import datetime as dt\n",
    "import scipy.stats as stats"
   ]
  },
  {
   "cell_type": "code",
   "execution_count": 21,
   "id": "7319487e",
   "metadata": {},
   "outputs": [
    {
     "name": "stdout",
     "output_type": "stream",
     "text": [
      "                                          Hypothesis  Reach  Impact  \\\n",
      "0  Add two new channels for attracting traffic. T...      3      10   \n",
      "1  Launch your own delivery service. This will sh...      2       5   \n",
      "2  Add product recommendation blocks to the store...      8       3   \n",
      "3  Change the category structure. This will incre...      8       3   \n",
      "4  Change the background color on the main page. ...      3       1   \n",
      "5  Add a customer review page. This will increase...      3       2   \n",
      "6  Show banners with current offers and sales on ...      5       3   \n",
      "7  Add a subscription form to all the main pages....     10       7   \n",
      "8  Launch a promotion that gives users discounts ...      1       9   \n",
      "\n",
      "   Confidence  Effort  \n",
      "0           8       6  \n",
      "1           4      10  \n",
      "2           7       3  \n",
      "3           3       8  \n",
      "4           1       1  \n",
      "5           2       3  \n",
      "6           8       3  \n",
      "7           8       5  \n",
      "8           9       5  \n"
     ]
    }
   ],
   "source": [
    "#path='/datasets/'\n",
    "path = 'C://Users//tha_s//Downloads//'\n",
    "hipoteses = pd.read_csv(path + 'hypotheses_us.csv', sep=';')\n",
    "print(hipoteses)"
   ]
  },
  {
   "cell_type": "code",
   "execution_count": 22,
   "id": "28749477",
   "metadata": {},
   "outputs": [
    {
     "name": "stdout",
     "output_type": "stream",
     "text": [
      "      transactionId   visitorId        date  revenue group\n",
      "0        3667963787  3312258926  2019-08-15     30.4     B\n",
      "1        2804400009  3642806036  2019-08-15     15.2     B\n",
      "2        2961555356  4069496402  2019-08-15     10.2     A\n",
      "3        3797467345  1196621759  2019-08-15    155.1     B\n",
      "4        2282983706  2322279887  2019-08-15     40.5     B\n",
      "...             ...         ...         ...      ...   ...\n",
      "1192     2662137336  3733762160  2019-08-14    100.8     B\n",
      "1193     2203539145   370388673  2019-08-14     50.1     A\n",
      "1194     1807773912   573423106  2019-08-14    165.3     A\n",
      "1195     1947021204  1614305549  2019-08-14      5.5     A\n",
      "1196     3936777065  2108080724  2019-08-15   3120.1     B\n",
      "\n",
      "[1197 rows x 5 columns]\n"
     ]
    }
   ],
   "source": [
    "#path='/datasets/'\n",
    "path = 'C://Users//tha_s//Downloads//'\n",
    "orders = pd.read_csv(path + 'orders_us.csv')\n",
    "print(orders)\n"
   ]
  },
  {
   "cell_type": "code",
   "execution_count": 23,
   "id": "85d06e51",
   "metadata": {},
   "outputs": [
    {
     "data": {
      "text/html": [
       "<div>\n",
       "<style scoped>\n",
       "    .dataframe tbody tr th:only-of-type {\n",
       "        vertical-align: middle;\n",
       "    }\n",
       "\n",
       "    .dataframe tbody tr th {\n",
       "        vertical-align: top;\n",
       "    }\n",
       "\n",
       "    .dataframe thead th {\n",
       "        text-align: right;\n",
       "    }\n",
       "</style>\n",
       "<table border=\"1\" class=\"dataframe\">\n",
       "  <thead>\n",
       "    <tr style=\"text-align: right;\">\n",
       "      <th></th>\n",
       "      <th>transactionId</th>\n",
       "      <th>visitorId</th>\n",
       "      <th>date</th>\n",
       "      <th>revenue</th>\n",
       "      <th>group</th>\n",
       "    </tr>\n",
       "  </thead>\n",
       "  <tbody>\n",
       "    <tr>\n",
       "      <th>0</th>\n",
       "      <td>3667963787</td>\n",
       "      <td>3312258926</td>\n",
       "      <td>2019-08-15</td>\n",
       "      <td>30.4</td>\n",
       "      <td>B</td>\n",
       "    </tr>\n",
       "    <tr>\n",
       "      <th>1</th>\n",
       "      <td>2804400009</td>\n",
       "      <td>3642806036</td>\n",
       "      <td>2019-08-15</td>\n",
       "      <td>15.2</td>\n",
       "      <td>B</td>\n",
       "    </tr>\n",
       "    <tr>\n",
       "      <th>2</th>\n",
       "      <td>2961555356</td>\n",
       "      <td>4069496402</td>\n",
       "      <td>2019-08-15</td>\n",
       "      <td>10.2</td>\n",
       "      <td>A</td>\n",
       "    </tr>\n",
       "    <tr>\n",
       "      <th>3</th>\n",
       "      <td>3797467345</td>\n",
       "      <td>1196621759</td>\n",
       "      <td>2019-08-15</td>\n",
       "      <td>155.1</td>\n",
       "      <td>B</td>\n",
       "    </tr>\n",
       "    <tr>\n",
       "      <th>4</th>\n",
       "      <td>2282983706</td>\n",
       "      <td>2322279887</td>\n",
       "      <td>2019-08-15</td>\n",
       "      <td>40.5</td>\n",
       "      <td>B</td>\n",
       "    </tr>\n",
       "  </tbody>\n",
       "</table>\n",
       "</div>"
      ],
      "text/plain": [
       "   transactionId   visitorId        date  revenue group\n",
       "0     3667963787  3312258926  2019-08-15     30.4     B\n",
       "1     2804400009  3642806036  2019-08-15     15.2     B\n",
       "2     2961555356  4069496402  2019-08-15     10.2     A\n",
       "3     3797467345  1196621759  2019-08-15    155.1     B\n",
       "4     2282983706  2322279887  2019-08-15     40.5     B"
      ]
     },
     "execution_count": 23,
     "metadata": {},
     "output_type": "execute_result"
    }
   ],
   "source": [
    "orders.head()"
   ]
  },
  {
   "cell_type": "code",
   "execution_count": 24,
   "id": "23c735e6",
   "metadata": {},
   "outputs": [
    {
     "name": "stdout",
     "output_type": "stream",
     "text": [
      "<class 'pandas.core.frame.DataFrame'>\n",
      "RangeIndex: 1197 entries, 0 to 1196\n",
      "Data columns (total 5 columns):\n",
      " #   Column         Non-Null Count  Dtype  \n",
      "---  ------         --------------  -----  \n",
      " 0   transactionId  1197 non-null   int64  \n",
      " 1   visitorId      1197 non-null   int64  \n",
      " 2   date           1197 non-null   object \n",
      " 3   revenue        1197 non-null   float64\n",
      " 4   group          1197 non-null   object \n",
      "dtypes: float64(1), int64(2), object(2)\n",
      "memory usage: 46.9+ KB\n"
     ]
    }
   ],
   "source": [
    "orders.info()"
   ]
  },
  {
   "cell_type": "code",
   "execution_count": 25,
   "id": "86991bf2",
   "metadata": {},
   "outputs": [
    {
     "data": {
      "text/html": [
       "<div>\n",
       "<style scoped>\n",
       "    .dataframe tbody tr th:only-of-type {\n",
       "        vertical-align: middle;\n",
       "    }\n",
       "\n",
       "    .dataframe tbody tr th {\n",
       "        vertical-align: top;\n",
       "    }\n",
       "\n",
       "    .dataframe thead th {\n",
       "        text-align: right;\n",
       "    }\n",
       "</style>\n",
       "<table border=\"1\" class=\"dataframe\">\n",
       "  <thead>\n",
       "    <tr style=\"text-align: right;\">\n",
       "      <th></th>\n",
       "      <th>transaction_id</th>\n",
       "      <th>visitor_id</th>\n",
       "      <th>date</th>\n",
       "      <th>revenue</th>\n",
       "      <th>group</th>\n",
       "    </tr>\n",
       "  </thead>\n",
       "  <tbody>\n",
       "    <tr>\n",
       "      <th>0</th>\n",
       "      <td>3667963787</td>\n",
       "      <td>3312258926</td>\n",
       "      <td>2019-08-15</td>\n",
       "      <td>30.4</td>\n",
       "      <td>B</td>\n",
       "    </tr>\n",
       "    <tr>\n",
       "      <th>1</th>\n",
       "      <td>2804400009</td>\n",
       "      <td>3642806036</td>\n",
       "      <td>2019-08-15</td>\n",
       "      <td>15.2</td>\n",
       "      <td>B</td>\n",
       "    </tr>\n",
       "    <tr>\n",
       "      <th>2</th>\n",
       "      <td>2961555356</td>\n",
       "      <td>4069496402</td>\n",
       "      <td>2019-08-15</td>\n",
       "      <td>10.2</td>\n",
       "      <td>A</td>\n",
       "    </tr>\n",
       "    <tr>\n",
       "      <th>3</th>\n",
       "      <td>3797467345</td>\n",
       "      <td>1196621759</td>\n",
       "      <td>2019-08-15</td>\n",
       "      <td>155.1</td>\n",
       "      <td>B</td>\n",
       "    </tr>\n",
       "    <tr>\n",
       "      <th>4</th>\n",
       "      <td>2282983706</td>\n",
       "      <td>2322279887</td>\n",
       "      <td>2019-08-15</td>\n",
       "      <td>40.5</td>\n",
       "      <td>B</td>\n",
       "    </tr>\n",
       "  </tbody>\n",
       "</table>\n",
       "</div>"
      ],
      "text/plain": [
       "   transaction_id  visitor_id        date  revenue group\n",
       "0      3667963787  3312258926  2019-08-15     30.4     B\n",
       "1      2804400009  3642806036  2019-08-15     15.2     B\n",
       "2      2961555356  4069496402  2019-08-15     10.2     A\n",
       "3      3797467345  1196621759  2019-08-15    155.1     B\n",
       "4      2282983706  2322279887  2019-08-15     40.5     B"
      ]
     },
     "execution_count": 25,
     "metadata": {},
     "output_type": "execute_result"
    }
   ],
   "source": [
    "orders.columns = ['transaction_id', 'visitor_id', 'date', 'revenue', 'group']\n",
    "orders.head()"
   ]
  },
  {
   "cell_type": "code",
   "execution_count": 26,
   "id": "e5ff8466",
   "metadata": {},
   "outputs": [],
   "source": [
    "orders['date'] = orders['date'].map(lambda x: dt.datetime.strptime(x, '%Y-%m-%d'))"
   ]
  },
  {
   "cell_type": "code",
   "execution_count": 27,
   "id": "329c881b",
   "metadata": {},
   "outputs": [
    {
     "name": "stdout",
     "output_type": "stream",
     "text": [
      "Nao ha dados duplicados no dataframe.\n"
     ]
    }
   ],
   "source": [
    "if orders.duplicated().any():\n",
    "    print(\"Existem dados duplicados no dataframe.\")\n",
    "else:\n",
    "    print(\"Nao ha dados duplicados no dataframe.\")"
   ]
  },
  {
   "cell_type": "code",
   "execution_count": 28,
   "id": "13ac8946",
   "metadata": {},
   "outputs": [
    {
     "name": "stdout",
     "output_type": "stream",
     "text": [
      "Nao ha valores ausentes no dataframe.\n"
     ]
    }
   ],
   "source": [
    "if orders.isnull().values.any():\n",
    "    print(\"Existem valores ausentes no dataframe.\")\n",
    "else:\n",
    "    print(\"Nao ha valores ausentes no dataframe.\")"
   ]
  },
  {
   "cell_type": "code",
   "execution_count": 29,
   "id": "bf4566b8",
   "metadata": {},
   "outputs": [
    {
     "name": "stdout",
     "output_type": "stream",
     "text": [
      "          date group  visits\n",
      "0   2019-08-01     A     719\n",
      "1   2019-08-02     A     619\n",
      "2   2019-08-03     A     507\n",
      "3   2019-08-04     A     717\n",
      "4   2019-08-05     A     756\n",
      "..         ...   ...     ...\n",
      "57  2019-08-27     B     720\n",
      "58  2019-08-28     B     654\n",
      "59  2019-08-29     B     531\n",
      "60  2019-08-30     B     490\n",
      "61  2019-08-31     B     718\n",
      "\n",
      "[62 rows x 3 columns]\n"
     ]
    }
   ],
   "source": [
    "#path='/datasets/'\n",
    "path = 'C://Users//tha_s//Downloads//'\n",
    "visits = pd.read_csv(path + 'visits_us.csv')\n",
    "print(visits)\n"
   ]
  },
  {
   "cell_type": "code",
   "execution_count": 30,
   "id": "ead921a6",
   "metadata": {},
   "outputs": [
    {
     "name": "stdout",
     "output_type": "stream",
     "text": [
      "<class 'pandas.core.frame.DataFrame'>\n",
      "RangeIndex: 62 entries, 0 to 61\n",
      "Data columns (total 3 columns):\n",
      " #   Column  Non-Null Count  Dtype \n",
      "---  ------  --------------  ----- \n",
      " 0   date    62 non-null     object\n",
      " 1   group   62 non-null     object\n",
      " 2   visits  62 non-null     int64 \n",
      "dtypes: int64(1), object(2)\n",
      "memory usage: 1.6+ KB\n"
     ]
    }
   ],
   "source": [
    "visits.info()"
   ]
  },
  {
   "cell_type": "code",
   "execution_count": 31,
   "id": "0e6663c5",
   "metadata": {},
   "outputs": [],
   "source": [
    "visits['date'] = visits['date'].map(lambda x: dt.datetime.strptime(x, '%Y-%m-%d'))"
   ]
  },
  {
   "cell_type": "code",
   "execution_count": 32,
   "id": "cff545f6",
   "metadata": {},
   "outputs": [
    {
     "name": "stdout",
     "output_type": "stream",
     "text": [
      "Nao ha valores ausentes no dataframe.\n"
     ]
    }
   ],
   "source": [
    "if visits.isnull().values.any():\n",
    "    print(\"Existem valores ausentes no dataframe.\")\n",
    "else:\n",
    "    print(\"Nao ha valores ausentes no dataframe.\")"
   ]
  },
  {
   "cell_type": "markdown",
   "id": "2c3211a1",
   "metadata": {},
   "source": [
    "Nesse primeiro estágio do projeto, carregamos os dados dos conjuntos de dados e verificamos que não há dados ausentes ou duplicados.\n",
    "\n",
    "No dataframe hipoteses, não houve qualquer mudança, pois não havia nada que precisasse de correção ou mudança. Já nos demais dataframes, as colunas date constavam em ambos como tipo de dado objeto e corrigimos para que constassem como date. No dataframe orders, também corrigimos a grafia das colunas 'transaction_id' e 'visitor_id'."
   ]
  },
  {
   "cell_type": "markdown",
   "id": "42e8dcc2",
   "metadata": {},
   "source": [
    "# 2. Priorizando Hipóteses <a id='hipoteses'></a>"
   ]
  },
  {
   "cell_type": "markdown",
   "id": "9754a327",
   "metadata": {},
   "source": [
    "Para aumentar a receita de uma loja online com Reach, Impact, Confidence e Effort especificados para cada um, iremos verificar o arquivo hypotheses e observar as hipóteses que o mesmo contém.\n",
    "\n",
    "Iremos aplicar o framework ICE para priorizar hipóteses e classificaremos em ordem decrescente de prioridade. Também aplicaremos o framework RICE para priorizar hipóteses e classificaremos em ordem decrescente de prioridade.\n",
    "\n",
    "Por fim, mostraremos como a priorização de hipóteses muda."
   ]
  },
  {
   "cell_type": "code",
   "execution_count": 33,
   "id": "987b8cd2",
   "metadata": {},
   "outputs": [
    {
     "name": "stdout",
     "output_type": "stream",
     "text": [
      "                                          Hypothesis        ICE\n",
      "8  Launch a promotion that gives users discounts ...  16.200000\n",
      "0  Add two new channels for attracting traffic. T...  13.333333\n",
      "7  Add a subscription form to all the main pages....  11.200000\n",
      "6  Show banners with current offers and sales on ...   8.000000\n",
      "2  Add product recommendation blocks to the store...   7.000000\n",
      "1  Launch your own delivery service. This will sh...   2.000000\n",
      "5  Add a customer review page. This will increase...   1.333333\n",
      "3  Change the category structure. This will incre...   1.125000\n",
      "4  Change the background color on the main page. ...   1.000000\n"
     ]
    }
   ],
   "source": [
    "hipoteses['ICE'] = (hipoteses['Impact'] * hipoteses['Confidence']) / hipoteses['Effort']\n",
    "print(hipoteses[['Hypothesis', 'ICE']].sort_values(by='ICE', ascending=False))"
   ]
  },
  {
   "cell_type": "code",
   "execution_count": 34,
   "id": "32a3e716",
   "metadata": {},
   "outputs": [
    {
     "name": "stdout",
     "output_type": "stream",
     "text": [
      "                                          Hypothesis   RICE\n",
      "7  Add a subscription form to all the main pages....  112.0\n",
      "2  Add product recommendation blocks to the store...   56.0\n",
      "0  Add two new channels for attracting traffic. T...   40.0\n",
      "6  Show banners with current offers and sales on ...   40.0\n",
      "8  Launch a promotion that gives users discounts ...   16.2\n",
      "3  Change the category structure. This will incre...    9.0\n",
      "1  Launch your own delivery service. This will sh...    4.0\n",
      "5  Add a customer review page. This will increase...    4.0\n",
      "4  Change the background color on the main page. ...    3.0\n"
     ]
    }
   ],
   "source": [
    "hipoteses['RICE'] = (hipoteses['Reach']*hipoteses['Impact']*hipoteses['Confidence']) / hipoteses['Effort']\n",
    "print(hipoteses[['Hypothesis', 'RICE']].sort_values(by='RICE', ascending=False))"
   ]
  },
  {
   "cell_type": "markdown",
   "id": "d9f7a146",
   "metadata": {},
   "source": [
    "Após aplicar o framework ICE para priorizar hipóteses e também aplicar o framework RICE para priorizar hipóteses e comparar os resultados, verificamos como a priorização de hipóteses muda.\n",
    "\n",
    "Quando do Impacto, Confiança e Esforço (ICE), verificamos que as três principais hipóteses foram 8, 0 e 7, e já quando do Alcance, Impacto, Confiança e Esforço (RICE), as três primeiras hipóteses foram 7, 2 e 0.\n",
    "\n",
    "Vimos que as hipóteses 0 e 7 estão presentes em ambos os frameworks, porém não ocupam a mesma posição, e as hipóteses 8 e 2 não estão presentes em ambos os frameworks.\n",
    "\n",
    "Nota-se que a hipótese 7 em RICE ficou em primeiro lugar, isso porque o parâmetro Alcance foi de 10, enquanto as demais possuem valor menor do que o da referida hipótese.\n",
    "\n",
    "Por fim, entendemos que a melhor escolha seria usar o modelo RICE em vez do modelo ICE, tendo em vista que estamos priorizando hipóteses que mudam para refletir o potencial em um público maior, em vez de avaliarmos apenas o impacto, confiança e facilidade."
   ]
  },
  {
   "cell_type": "markdown",
   "id": "55ba0f0f",
   "metadata": {},
   "source": [
    "[Voltar ao Indice](#back)"
   ]
  },
  {
   "cell_type": "markdown",
   "id": "cafb1658",
   "metadata": {},
   "source": [
    "# 3. Análise de teste A/B <a id='analise'></a>"
   ]
  },
  {
   "cell_type": "markdown",
   "id": "22d62a25",
   "metadata": {},
   "source": [
    "Com as hipóteses priorizadas, lançaremos um teste A/B para testar a hipótese selecionada. Isso envolve dividir aleatoriamente os visitantes do site em dois grupos: um grupo de controle e um grupo de teste. O grupo de controle não verá nenhuma mudança, enquanto o grupo de teste verá a implementação da hipótese.\n",
    "\n",
    "Porém, antes de começarmos os testes e análises, iremos remover os usuários que pertencem aos dois grupos - A e B - para que não haja interferência nos resultados dos testes.\n",
    "\n",
    "Para isso, iremos identificar a quantidade de grupos por usuário e depois identificaremos os usuários que estão em mais de um grupo. Por fim, removeremos do dataframe os pedidos de usuários que estão em nossos dois grupos."
   ]
  },
  {
   "cell_type": "code",
   "execution_count": 35,
   "id": "986ad5f1",
   "metadata": {},
   "outputs": [
    {
     "data": {
      "text/html": [
       "<div>\n",
       "<style scoped>\n",
       "    .dataframe tbody tr th:only-of-type {\n",
       "        vertical-align: middle;\n",
       "    }\n",
       "\n",
       "    .dataframe tbody tr th {\n",
       "        vertical-align: top;\n",
       "    }\n",
       "\n",
       "    .dataframe thead th {\n",
       "        text-align: right;\n",
       "    }\n",
       "</style>\n",
       "<table border=\"1\" class=\"dataframe\">\n",
       "  <thead>\n",
       "    <tr style=\"text-align: right;\">\n",
       "      <th></th>\n",
       "      <th>transaction_id</th>\n",
       "      <th>visitor_id</th>\n",
       "      <th>date</th>\n",
       "      <th>revenue</th>\n",
       "      <th>group</th>\n",
       "    </tr>\n",
       "  </thead>\n",
       "  <tbody>\n",
       "    <tr>\n",
       "      <th>0</th>\n",
       "      <td>3667963787</td>\n",
       "      <td>3312258926</td>\n",
       "      <td>2019-08-15</td>\n",
       "      <td>30.4</td>\n",
       "      <td>B</td>\n",
       "    </tr>\n",
       "    <tr>\n",
       "      <th>1</th>\n",
       "      <td>2804400009</td>\n",
       "      <td>3642806036</td>\n",
       "      <td>2019-08-15</td>\n",
       "      <td>15.2</td>\n",
       "      <td>B</td>\n",
       "    </tr>\n",
       "    <tr>\n",
       "      <th>2</th>\n",
       "      <td>2961555356</td>\n",
       "      <td>4069496402</td>\n",
       "      <td>2019-08-15</td>\n",
       "      <td>10.2</td>\n",
       "      <td>A</td>\n",
       "    </tr>\n",
       "    <tr>\n",
       "      <th>3</th>\n",
       "      <td>3797467345</td>\n",
       "      <td>1196621759</td>\n",
       "      <td>2019-08-15</td>\n",
       "      <td>155.1</td>\n",
       "      <td>B</td>\n",
       "    </tr>\n",
       "    <tr>\n",
       "      <th>4</th>\n",
       "      <td>2282983706</td>\n",
       "      <td>2322279887</td>\n",
       "      <td>2019-08-15</td>\n",
       "      <td>40.5</td>\n",
       "      <td>B</td>\n",
       "    </tr>\n",
       "  </tbody>\n",
       "</table>\n",
       "</div>"
      ],
      "text/plain": [
       "   transaction_id  visitor_id       date  revenue group\n",
       "0      3667963787  3312258926 2019-08-15     30.4     B\n",
       "1      2804400009  3642806036 2019-08-15     15.2     B\n",
       "2      2961555356  4069496402 2019-08-15     10.2     A\n",
       "3      3797467345  1196621759 2019-08-15    155.1     B\n",
       "4      2282983706  2322279887 2019-08-15     40.5     B"
      ]
     },
     "execution_count": 35,
     "metadata": {},
     "output_type": "execute_result"
    }
   ],
   "source": [
    "orders.head()"
   ]
  },
  {
   "cell_type": "code",
   "execution_count": 36,
   "id": "86ffa53d",
   "metadata": {},
   "outputs": [
    {
     "ename": "NameError",
     "evalue": "name 'groups' is not defined",
     "output_type": "error",
     "traceback": [
      "\u001b[1;31m---------------------------------------------------------------------------\u001b[0m",
      "\u001b[1;31mNameError\u001b[0m                                 Traceback (most recent call last)",
      "\u001b[1;32m~\\AppData\\Local\\Temp\\ipykernel_36540\\3044527150.py\u001b[0m in \u001b[0;36m<module>\u001b[1;34m\u001b[0m\n\u001b[0;32m      1\u001b[0m \u001b[0mgroup_by_users\u001b[0m \u001b[1;33m=\u001b[0m \u001b[0morders\u001b[0m\u001b[1;33m.\u001b[0m\u001b[0mgroupby\u001b[0m\u001b[1;33m(\u001b[0m\u001b[1;34m'visitor_id'\u001b[0m\u001b[1;33m)\u001b[0m\u001b[1;33m.\u001b[0m\u001b[0magg\u001b[0m\u001b[1;33m(\u001b[0m\u001b[1;33m{\u001b[0m\u001b[1;34m'group'\u001b[0m\u001b[1;33m:\u001b[0m\u001b[1;34m'nunique'\u001b[0m\u001b[1;33m}\u001b[0m\u001b[1;33m)\u001b[0m\u001b[1;33m.\u001b[0m\u001b[0msort_values\u001b[0m\u001b[1;33m(\u001b[0m\u001b[0mby\u001b[0m\u001b[1;33m=\u001b[0m\u001b[1;34m'group'\u001b[0m\u001b[1;33m,\u001b[0m \u001b[0mascending\u001b[0m\u001b[1;33m=\u001b[0m\u001b[1;32mFalse\u001b[0m\u001b[1;33m)\u001b[0m\u001b[1;33m.\u001b[0m\u001b[0mreset_index\u001b[0m\u001b[1;33m(\u001b[0m\u001b[1;33m)\u001b[0m\u001b[1;33m\u001b[0m\u001b[1;33m\u001b[0m\u001b[0m\n\u001b[1;32m----> 2\u001b[1;33m \u001b[0mgroups\u001b[0m\u001b[1;33m.\u001b[0m\u001b[0mhead\u001b[0m\u001b[1;33m(\u001b[0m\u001b[1;33m)\u001b[0m\u001b[1;33m\u001b[0m\u001b[1;33m\u001b[0m\u001b[0m\n\u001b[0m",
      "\u001b[1;31mNameError\u001b[0m: name 'groups' is not defined"
     ]
    }
   ],
   "source": [
    "group_by_users = orders.groupby('visitor_id').agg({'group':'nunique'}).sort_values(by='group', ascending=False).reset_index()\n",
    "groups.head()"
   ]
  },
  {
   "cell_type": "code",
   "execution_count": 37,
   "id": "c6dc400f",
   "metadata": {},
   "outputs": [
    {
     "data": {
      "text/plain": [
       "0    2654030115\n",
       "1    3891541246\n",
       "2    3941795274\n",
       "3    1404934699\n",
       "4     351125977\n",
       "Name: visitor_id, dtype: int64"
      ]
     },
     "execution_count": 37,
     "metadata": {},
     "output_type": "execute_result"
    }
   ],
   "source": [
    "both_groups_users = group_by_users[group_by_users['group'] >1]['visitor_id']\n",
    "both_groups_users.head()"
   ]
  },
  {
   "cell_type": "code",
   "execution_count": 38,
   "id": "681cc4b1",
   "metadata": {},
   "outputs": [
    {
     "name": "stdout",
     "output_type": "stream",
     "text": [
      "<class 'pandas.core.frame.DataFrame'>\n",
      "Int64Index: 1016 entries, 0 to 1196\n",
      "Data columns (total 5 columns):\n",
      " #   Column          Non-Null Count  Dtype         \n",
      "---  ------          --------------  -----         \n",
      " 0   transaction_id  1016 non-null   int64         \n",
      " 1   visitor_id      1016 non-null   int64         \n",
      " 2   date            1016 non-null   datetime64[ns]\n",
      " 3   revenue         1016 non-null   float64       \n",
      " 4   group           1016 non-null   object        \n",
      "dtypes: datetime64[ns](1), float64(1), int64(2), object(1)\n",
      "memory usage: 47.6+ KB\n"
     ]
    }
   ],
   "source": [
    "orders = orders[~orders['visitor_id'].isin(both_groups_users)]\n",
    "orders.info()"
   ]
  },
  {
   "cell_type": "markdown",
   "id": "8e6050e0",
   "metadata": {},
   "source": [
    "Agora, com o dataframe sem usuários que estão nos grupos, iniciaremos os testes e análises."
   ]
  },
  {
   "cell_type": "markdown",
   "id": "c1d95876",
   "metadata": {},
   "source": [
    "[Voltar ao Indice](#back)"
   ]
  },
  {
   "cell_type": "markdown",
   "id": "ce3f8bca",
   "metadata": {},
   "source": [
    "### 3.1. Receita acumulada por grupo <a id='receita'></a>"
   ]
  },
  {
   "cell_type": "markdown",
   "id": "20fee1d1",
   "metadata": {},
   "source": [
    "Iremos realizar o teste por receita acumulada por grupo e para isso iremos seguir os seguinte passos: \n",
    "\n",
    "- criaremos um dataframe com pares de 'date' unívocos e os valores de 'group' da tabela orders e também eliminaremos os valores duplicados; \n",
    "\n",
    "- criaremos uma variável para armazenar a data, o grupo do teste A/B e quantidade de pedidos distintos do grupo teste para a data especificada; \n",
    "\n",
    "- criaremos também uma variável para armazenar a data, o grupo do teste A/B e a quantidade de visitantes distintos no grupo teste até a data especificada\n",
    "\n",
    "- definiremos a uma nova variável fundindo as duas outras variáveis. \n",
    "\n",
    "- com a nova essa nova variável iremos criar uma variável para cada um dos grupos, onde iremos armazenar os dados relativos a datas, receita e quantidade de pedidos para ambos. \n",
    "\n",
    "Por fim, para melhor análise faremos os gráficos referente a receita acumulada pelo grupo A e B. "
   ]
  },
  {
   "cell_type": "code",
   "execution_count": 39,
   "id": "1b2a258e",
   "metadata": {},
   "outputs": [
    {
     "data": {
      "text/html": [
       "<div>\n",
       "<style scoped>\n",
       "    .dataframe tbody tr th:only-of-type {\n",
       "        vertical-align: middle;\n",
       "    }\n",
       "\n",
       "    .dataframe tbody tr th {\n",
       "        vertical-align: top;\n",
       "    }\n",
       "\n",
       "    .dataframe thead th {\n",
       "        text-align: right;\n",
       "    }\n",
       "</style>\n",
       "<table border=\"1\" class=\"dataframe\">\n",
       "  <thead>\n",
       "    <tr style=\"text-align: right;\">\n",
       "      <th></th>\n",
       "      <th>date</th>\n",
       "      <th>group</th>\n",
       "    </tr>\n",
       "  </thead>\n",
       "  <tbody>\n",
       "    <tr>\n",
       "      <th>0</th>\n",
       "      <td>2019-08-15</td>\n",
       "      <td>B</td>\n",
       "    </tr>\n",
       "    <tr>\n",
       "      <th>7</th>\n",
       "      <td>2019-08-15</td>\n",
       "      <td>A</td>\n",
       "    </tr>\n",
       "    <tr>\n",
       "      <th>45</th>\n",
       "      <td>2019-08-16</td>\n",
       "      <td>A</td>\n",
       "    </tr>\n",
       "    <tr>\n",
       "      <th>47</th>\n",
       "      <td>2019-08-16</td>\n",
       "      <td>B</td>\n",
       "    </tr>\n",
       "    <tr>\n",
       "      <th>55</th>\n",
       "      <td>2019-08-01</td>\n",
       "      <td>A</td>\n",
       "    </tr>\n",
       "  </tbody>\n",
       "</table>\n",
       "</div>"
      ],
      "text/plain": [
       "         date group\n",
       "0  2019-08-15     B\n",
       "7  2019-08-15     A\n",
       "45 2019-08-16     A\n",
       "47 2019-08-16     B\n",
       "55 2019-08-01     A"
      ]
     },
     "execution_count": 39,
     "metadata": {},
     "output_type": "execute_result"
    }
   ],
   "source": [
    "orders_dup = orders[['date','group']].drop_duplicates()\n",
    "orders_dup.head()"
   ]
  },
  {
   "cell_type": "code",
   "execution_count": 40,
   "id": "7f4ca6f6",
   "metadata": {},
   "outputs": [
    {
     "data": {
      "text/html": [
       "<div>\n",
       "<style scoped>\n",
       "    .dataframe tbody tr th:only-of-type {\n",
       "        vertical-align: middle;\n",
       "    }\n",
       "\n",
       "    .dataframe tbody tr th {\n",
       "        vertical-align: top;\n",
       "    }\n",
       "\n",
       "    .dataframe thead th {\n",
       "        text-align: right;\n",
       "    }\n",
       "</style>\n",
       "<table border=\"1\" class=\"dataframe\">\n",
       "  <thead>\n",
       "    <tr style=\"text-align: right;\">\n",
       "      <th></th>\n",
       "      <th>date</th>\n",
       "      <th>group</th>\n",
       "      <th>transaction_id</th>\n",
       "      <th>visitor_id</th>\n",
       "      <th>revenue</th>\n",
       "    </tr>\n",
       "  </thead>\n",
       "  <tbody>\n",
       "    <tr>\n",
       "      <th>55</th>\n",
       "      <td>2019-08-01</td>\n",
       "      <td>A</td>\n",
       "      <td>23</td>\n",
       "      <td>19</td>\n",
       "      <td>2266.6</td>\n",
       "    </tr>\n",
       "    <tr>\n",
       "      <th>66</th>\n",
       "      <td>2019-08-01</td>\n",
       "      <td>B</td>\n",
       "      <td>17</td>\n",
       "      <td>17</td>\n",
       "      <td>967.2</td>\n",
       "    </tr>\n",
       "    <tr>\n",
       "      <th>175</th>\n",
       "      <td>2019-08-02</td>\n",
       "      <td>A</td>\n",
       "      <td>42</td>\n",
       "      <td>36</td>\n",
       "      <td>3734.9</td>\n",
       "    </tr>\n",
       "    <tr>\n",
       "      <th>173</th>\n",
       "      <td>2019-08-02</td>\n",
       "      <td>B</td>\n",
       "      <td>40</td>\n",
       "      <td>39</td>\n",
       "      <td>3535.3</td>\n",
       "    </tr>\n",
       "    <tr>\n",
       "      <th>291</th>\n",
       "      <td>2019-08-03</td>\n",
       "      <td>A</td>\n",
       "      <td>66</td>\n",
       "      <td>60</td>\n",
       "      <td>5550.1</td>\n",
       "    </tr>\n",
       "    <tr>\n",
       "      <th>...</th>\n",
       "      <td>...</td>\n",
       "      <td>...</td>\n",
       "      <td>...</td>\n",
       "      <td>...</td>\n",
       "      <td>...</td>\n",
       "    </tr>\n",
       "    <tr>\n",
       "      <th>533</th>\n",
       "      <td>2019-08-29</td>\n",
       "      <td>B</td>\n",
       "      <td>510</td>\n",
       "      <td>490</td>\n",
       "      <td>74576.7</td>\n",
       "    </tr>\n",
       "    <tr>\n",
       "      <th>757</th>\n",
       "      <td>2019-08-30</td>\n",
       "      <td>A</td>\n",
       "      <td>460</td>\n",
       "      <td>437</td>\n",
       "      <td>52363.7</td>\n",
       "    </tr>\n",
       "    <tr>\n",
       "      <th>690</th>\n",
       "      <td>2019-08-30</td>\n",
       "      <td>B</td>\n",
       "      <td>531</td>\n",
       "      <td>511</td>\n",
       "      <td>77863.5</td>\n",
       "    </tr>\n",
       "    <tr>\n",
       "      <th>958</th>\n",
       "      <td>2019-08-31</td>\n",
       "      <td>A</td>\n",
       "      <td>468</td>\n",
       "      <td>445</td>\n",
       "      <td>53212.0</td>\n",
       "    </tr>\n",
       "    <tr>\n",
       "      <th>930</th>\n",
       "      <td>2019-08-31</td>\n",
       "      <td>B</td>\n",
       "      <td>548</td>\n",
       "      <td>528</td>\n",
       "      <td>79651.2</td>\n",
       "    </tr>\n",
       "  </tbody>\n",
       "</table>\n",
       "<p>62 rows × 5 columns</p>\n",
       "</div>"
      ],
      "text/plain": [
       "          date group  transaction_id  visitor_id  revenue\n",
       "55  2019-08-01     A              23          19   2266.6\n",
       "66  2019-08-01     B              17          17    967.2\n",
       "175 2019-08-02     A              42          36   3734.9\n",
       "173 2019-08-02     B              40          39   3535.3\n",
       "291 2019-08-03     A              66          60   5550.1\n",
       "..         ...   ...             ...         ...      ...\n",
       "533 2019-08-29     B             510         490  74576.7\n",
       "757 2019-08-30     A             460         437  52363.7\n",
       "690 2019-08-30     B             531         511  77863.5\n",
       "958 2019-08-31     A             468         445  53212.0\n",
       "930 2019-08-31     B             548         528  79651.2\n",
       "\n",
       "[62 rows x 5 columns]"
      ]
     },
     "execution_count": 40,
     "metadata": {},
     "output_type": "execute_result"
    }
   ],
   "source": [
    "orders_agregad = orders_dup.apply(lambda x: orders[np.logical_and(orders['date'] <= x['date'], orders['group'] == x['group'])].agg({'date' : 'max', 'group' : 'max', 'transaction_id' : pd.Series.nunique, 'visitor_id' : pd.Series.nunique, 'revenue' : 'sum'}), axis=1).sort_values(by=['date','group'])\n",
    "orders_agregad"
   ]
  },
  {
   "cell_type": "code",
   "execution_count": 41,
   "id": "fffd4d4d",
   "metadata": {},
   "outputs": [],
   "source": [
    "visits_agregad = orders_dup.apply(lambda x: visits[np.logical_and(visits['date'] <= x['date'], visits['group'] == x['group'])].agg({'date' : 'max', 'group' : 'max', 'visits' : 'sum'}), axis=1).sort_values(by=['date','group'])"
   ]
  },
  {
   "cell_type": "code",
   "execution_count": 42,
   "id": "0e34bee2",
   "metadata": {},
   "outputs": [
    {
     "data": {
      "text/html": [
       "<div>\n",
       "<style scoped>\n",
       "    .dataframe tbody tr th:only-of-type {\n",
       "        vertical-align: middle;\n",
       "    }\n",
       "\n",
       "    .dataframe tbody tr th {\n",
       "        vertical-align: top;\n",
       "    }\n",
       "\n",
       "    .dataframe thead th {\n",
       "        text-align: right;\n",
       "    }\n",
       "</style>\n",
       "<table border=\"1\" class=\"dataframe\">\n",
       "  <thead>\n",
       "    <tr style=\"text-align: right;\">\n",
       "      <th></th>\n",
       "      <th>date</th>\n",
       "      <th>group</th>\n",
       "      <th>orders</th>\n",
       "      <th>buyers</th>\n",
       "      <th>revenue</th>\n",
       "      <th>visits</th>\n",
       "    </tr>\n",
       "  </thead>\n",
       "  <tbody>\n",
       "    <tr>\n",
       "      <th>0</th>\n",
       "      <td>2019-08-01</td>\n",
       "      <td>A</td>\n",
       "      <td>23</td>\n",
       "      <td>19</td>\n",
       "      <td>2266.6</td>\n",
       "      <td>719</td>\n",
       "    </tr>\n",
       "    <tr>\n",
       "      <th>1</th>\n",
       "      <td>2019-08-01</td>\n",
       "      <td>B</td>\n",
       "      <td>17</td>\n",
       "      <td>17</td>\n",
       "      <td>967.2</td>\n",
       "      <td>713</td>\n",
       "    </tr>\n",
       "    <tr>\n",
       "      <th>2</th>\n",
       "      <td>2019-08-02</td>\n",
       "      <td>A</td>\n",
       "      <td>42</td>\n",
       "      <td>36</td>\n",
       "      <td>3734.9</td>\n",
       "      <td>1338</td>\n",
       "    </tr>\n",
       "    <tr>\n",
       "      <th>3</th>\n",
       "      <td>2019-08-02</td>\n",
       "      <td>B</td>\n",
       "      <td>40</td>\n",
       "      <td>39</td>\n",
       "      <td>3535.3</td>\n",
       "      <td>1294</td>\n",
       "    </tr>\n",
       "    <tr>\n",
       "      <th>4</th>\n",
       "      <td>2019-08-03</td>\n",
       "      <td>A</td>\n",
       "      <td>66</td>\n",
       "      <td>60</td>\n",
       "      <td>5550.1</td>\n",
       "      <td>1845</td>\n",
       "    </tr>\n",
       "  </tbody>\n",
       "</table>\n",
       "</div>"
      ],
      "text/plain": [
       "        date group  orders  buyers  revenue  visits\n",
       "0 2019-08-01     A      23      19   2266.6     719\n",
       "1 2019-08-01     B      17      17    967.2     713\n",
       "2 2019-08-02     A      42      36   3734.9    1338\n",
       "3 2019-08-02     B      40      39   3535.3    1294\n",
       "4 2019-08-03     A      66      60   5550.1    1845"
      ]
     },
     "execution_count": 42,
     "metadata": {},
     "output_type": "execute_result"
    }
   ],
   "source": [
    "acumulada_data = pd.merge(orders_agregad, visits_agregad, left_on=['date', 'group'], right_on=['date', 'group'])\n",
    "acumulada_data.columns = ['date', 'group', 'orders', 'buyers', 'revenue', 'visits']\n",
    "acumulada_data.head()"
   ]
  },
  {
   "cell_type": "code",
   "execution_count": 43,
   "id": "115afa15",
   "metadata": {},
   "outputs": [
    {
     "data": {
      "text/html": [
       "<div>\n",
       "<style scoped>\n",
       "    .dataframe tbody tr th:only-of-type {\n",
       "        vertical-align: middle;\n",
       "    }\n",
       "\n",
       "    .dataframe tbody tr th {\n",
       "        vertical-align: top;\n",
       "    }\n",
       "\n",
       "    .dataframe thead th {\n",
       "        text-align: right;\n",
       "    }\n",
       "</style>\n",
       "<table border=\"1\" class=\"dataframe\">\n",
       "  <thead>\n",
       "    <tr style=\"text-align: right;\">\n",
       "      <th></th>\n",
       "      <th>date</th>\n",
       "      <th>revenue</th>\n",
       "      <th>orders</th>\n",
       "    </tr>\n",
       "  </thead>\n",
       "  <tbody>\n",
       "    <tr>\n",
       "      <th>0</th>\n",
       "      <td>2019-08-01</td>\n",
       "      <td>2266.6</td>\n",
       "      <td>23</td>\n",
       "    </tr>\n",
       "    <tr>\n",
       "      <th>2</th>\n",
       "      <td>2019-08-02</td>\n",
       "      <td>3734.9</td>\n",
       "      <td>42</td>\n",
       "    </tr>\n",
       "    <tr>\n",
       "      <th>4</th>\n",
       "      <td>2019-08-03</td>\n",
       "      <td>5550.1</td>\n",
       "      <td>66</td>\n",
       "    </tr>\n",
       "    <tr>\n",
       "      <th>6</th>\n",
       "      <td>2019-08-04</td>\n",
       "      <td>6225.6</td>\n",
       "      <td>77</td>\n",
       "    </tr>\n",
       "    <tr>\n",
       "      <th>8</th>\n",
       "      <td>2019-08-05</td>\n",
       "      <td>7623.6</td>\n",
       "      <td>99</td>\n",
       "    </tr>\n",
       "  </tbody>\n",
       "</table>\n",
       "</div>"
      ],
      "text/plain": [
       "        date  revenue  orders\n",
       "0 2019-08-01   2266.6      23\n",
       "2 2019-08-02   3734.9      42\n",
       "4 2019-08-03   5550.1      66\n",
       "6 2019-08-04   6225.6      77\n",
       "8 2019-08-05   7623.6      99"
      ]
     },
     "execution_count": 43,
     "metadata": {},
     "output_type": "execute_result"
    }
   ],
   "source": [
    "receita_a = acumulada_data[acumulada_data['group']=='A'][['date','revenue', 'orders']]\n",
    "receita_a.head()"
   ]
  },
  {
   "cell_type": "code",
   "execution_count": 44,
   "id": "a2c36b4d",
   "metadata": {},
   "outputs": [
    {
     "data": {
      "text/html": [
       "<div>\n",
       "<style scoped>\n",
       "    .dataframe tbody tr th:only-of-type {\n",
       "        vertical-align: middle;\n",
       "    }\n",
       "\n",
       "    .dataframe tbody tr th {\n",
       "        vertical-align: top;\n",
       "    }\n",
       "\n",
       "    .dataframe thead th {\n",
       "        text-align: right;\n",
       "    }\n",
       "</style>\n",
       "<table border=\"1\" class=\"dataframe\">\n",
       "  <thead>\n",
       "    <tr style=\"text-align: right;\">\n",
       "      <th></th>\n",
       "      <th>date</th>\n",
       "      <th>revenue</th>\n",
       "      <th>orders</th>\n",
       "    </tr>\n",
       "  </thead>\n",
       "  <tbody>\n",
       "    <tr>\n",
       "      <th>1</th>\n",
       "      <td>2019-08-01</td>\n",
       "      <td>967.2</td>\n",
       "      <td>17</td>\n",
       "    </tr>\n",
       "    <tr>\n",
       "      <th>3</th>\n",
       "      <td>2019-08-02</td>\n",
       "      <td>3535.3</td>\n",
       "      <td>40</td>\n",
       "    </tr>\n",
       "    <tr>\n",
       "      <th>5</th>\n",
       "      <td>2019-08-03</td>\n",
       "      <td>4606.9</td>\n",
       "      <td>54</td>\n",
       "    </tr>\n",
       "    <tr>\n",
       "      <th>7</th>\n",
       "      <td>2019-08-04</td>\n",
       "      <td>6138.5</td>\n",
       "      <td>68</td>\n",
       "    </tr>\n",
       "    <tr>\n",
       "      <th>9</th>\n",
       "      <td>2019-08-05</td>\n",
       "      <td>7587.8</td>\n",
       "      <td>89</td>\n",
       "    </tr>\n",
       "  </tbody>\n",
       "</table>\n",
       "</div>"
      ],
      "text/plain": [
       "        date  revenue  orders\n",
       "1 2019-08-01    967.2      17\n",
       "3 2019-08-02   3535.3      40\n",
       "5 2019-08-03   4606.9      54\n",
       "7 2019-08-04   6138.5      68\n",
       "9 2019-08-05   7587.8      89"
      ]
     },
     "execution_count": 44,
     "metadata": {},
     "output_type": "execute_result"
    }
   ],
   "source": [
    "receita_b = acumulada_data[acumulada_data['group']=='B'][['date','revenue', 'orders']]\n",
    "receita_b.head()"
   ]
  },
  {
   "cell_type": "code",
   "execution_count": 45,
   "id": "a211be59",
   "metadata": {},
   "outputs": [
    {
     "data": {
      "image/png": "[encoded data removed]",
      "text/plain": [
       "<Figure size 640x480 with 1 Axes>"
      ]
     },
     "metadata": {},
     "output_type": "display_data"
    }
   ],
   "source": [
    "plt.plot(receita_a['date'], receita_a['revenue'], label='Group A', color='purple')\n",
    "plt.plot(receita_b['date'], receita_b['revenue'], label='Group B', color='orange')\n",
    "\n",
    "plt.legend() \n",
    "plt.xticks(rotation=45, ha='right') \n",
    "plt.xlabel('Data')\n",
    "plt.ylabel('Receita')\n",
    "plt.title('Receita acumulada por grupo')\n",
    "plt.show()"
   ]
  },
  {
   "cell_type": "markdown",
   "id": "cfbc3f60",
   "metadata": {},
   "source": [
    "Observando o gráfico, verificamos que, de início, ambos os grupos possuíam um crescimento praticamente igual. Havia um crescimento estável quando, após ambos estarem no mesmo ponto, o grupo B assumiu a liderança e se manteve à frente até a data final.\n",
    "\n",
    "Apesar do resultado parecer indicar que o grupo B seria o vencedor, esse pico pode sugerir a presença de pedidos muito caros na amostra, o que poderia afetar o resultado final. Portanto, ainda não tomaremos isso como resultado final e seguiremos com os testes e estudos."
   ]
  },
  {
   "cell_type": "markdown",
   "id": "0d6b5a9b",
   "metadata": {},
   "source": [
    "[Voltar ao Indice](#back)"
   ]
  },
  {
   "cell_type": "markdown",
   "id": "685b4ff5",
   "metadata": {},
   "source": [
    "### 3.2. Tamanho médio acumulado do pedido por grupo <a id='medio'></a>"
   ]
  },
  {
   "cell_type": "markdown",
   "id": "65181a18",
   "metadata": {},
   "source": [
    "Passaremos a analisar o tamanho médio acumulado do pedido por grupo e para isso iremos dividir a receita cumulativa pela quantidade cumulativa de pedidos utilizando as variáveis receita_ e receita_b. Para melhor análise construiremos um gráfico. "
   ]
  },
  {
   "cell_type": "code",
   "execution_count": 46,
   "id": "bf08c6cc",
   "metadata": {},
   "outputs": [
    {
     "data": {
      "image/png": "[encoded data removed]",
      "text/plain": [
       "<Figure size 640x480 with 1 Axes>"
      ]
     },
     "metadata": {},
     "output_type": "display_data"
    }
   ],
   "source": [
    "plt.plot(receita_a['date'], receita_a['revenue']/receita_a['orders'], label='Group A', color='purple')\n",
    "plt.plot(receita_b['date'], receita_b['revenue']/receita_b['orders'], label='Group B', color='orange')\n",
    "\n",
    "plt.legend() \n",
    "plt.xticks(rotation=45, ha='right') \n",
    "plt.xlabel('Data')\n",
    "plt.ylabel('Volume medio')\n",
    "plt.title('Tamanho médio acumulado do pedido por grupo')\n",
    "plt.show()"
   ]
  },
  {
   "cell_type": "markdown",
   "id": "a3034062",
   "metadata": {},
   "source": [
    "Visualizando o gráfico acima, vemos que o valor cumulativo dos volumes médios de compra ainda apresenta flutuações em ambos os grupos. Nota-se que, quando um grupo estava liderando, o outro estava com valores mais abaixo, e por três vezes os grupos tiveram pontos de encontro. Até a metade do teste, houve oscilações na liderança, e após isso, houve um grande crescimento, com o grupo B liderando até o final do teste.\n",
    "\n",
    "Mais uma vez, acreditamos que esse pico do grupo B pode ser decorrente da presença de pedidos volumosos e caros, e não podemos tirar conclusões ainda, tendo em vista que há dados atípicos que estão distorcendo o resultado."
   ]
  },
  {
   "cell_type": "markdown",
   "id": "c53cee67",
   "metadata": {},
   "source": [
    "[Voltar ao Indice](#back)"
   ]
  },
  {
   "cell_type": "markdown",
   "id": "518943fe",
   "metadata": {},
   "source": [
    "### 3.3. Diferença relativa no tamanho médio acumulado do pedido entre os grupos <a id='diferenca'></a>"
   ]
  },
  {
   "cell_type": "markdown",
   "id": "c7634b3c",
   "metadata": {},
   "source": [
    "Analisaremos agora a diferença relativa no tamanho médio acumulado do pedido entre os grupos. Para essa análise seguiremos os seguintes passos: \n",
    "\n",
    "- fundiremos as tabelas receita_a e receita_b para que tenha as colunas com a data, receita e ordens de cada grupo. \n",
    "\n",
    "- faremos um gráfico com a diferença entre o volume médio de compra cumulativo do grupo B comparado com o do grupo A. \n",
    "\n",
    "Também no grafico iremos acrescentar um eixo horizontal, ou seja, linha horizontal através do eixo, para que possamos ver os pontos onde a diferença entre os segmentos apresenta picos."
   ]
  },
  {
   "cell_type": "code",
   "execution_count": 47,
   "id": "efbc69fb",
   "metadata": {},
   "outputs": [
    {
     "data": {
      "text/html": [
       "<div>\n",
       "<style scoped>\n",
       "    .dataframe tbody tr th:only-of-type {\n",
       "        vertical-align: middle;\n",
       "    }\n",
       "\n",
       "    .dataframe tbody tr th {\n",
       "        vertical-align: top;\n",
       "    }\n",
       "\n",
       "    .dataframe thead th {\n",
       "        text-align: right;\n",
       "    }\n",
       "</style>\n",
       "<table border=\"1\" class=\"dataframe\">\n",
       "  <thead>\n",
       "    <tr style=\"text-align: right;\">\n",
       "      <th></th>\n",
       "      <th>date</th>\n",
       "      <th>revenue_A</th>\n",
       "      <th>orders_A</th>\n",
       "      <th>revenue_B</th>\n",
       "      <th>orders_B</th>\n",
       "    </tr>\n",
       "  </thead>\n",
       "  <tbody>\n",
       "    <tr>\n",
       "      <th>0</th>\n",
       "      <td>2019-08-01</td>\n",
       "      <td>2266.6</td>\n",
       "      <td>23</td>\n",
       "      <td>967.2</td>\n",
       "      <td>17</td>\n",
       "    </tr>\n",
       "    <tr>\n",
       "      <th>1</th>\n",
       "      <td>2019-08-02</td>\n",
       "      <td>3734.9</td>\n",
       "      <td>42</td>\n",
       "      <td>3535.3</td>\n",
       "      <td>40</td>\n",
       "    </tr>\n",
       "    <tr>\n",
       "      <th>2</th>\n",
       "      <td>2019-08-03</td>\n",
       "      <td>5550.1</td>\n",
       "      <td>66</td>\n",
       "      <td>4606.9</td>\n",
       "      <td>54</td>\n",
       "    </tr>\n",
       "    <tr>\n",
       "      <th>3</th>\n",
       "      <td>2019-08-04</td>\n",
       "      <td>6225.6</td>\n",
       "      <td>77</td>\n",
       "      <td>6138.5</td>\n",
       "      <td>68</td>\n",
       "    </tr>\n",
       "    <tr>\n",
       "      <th>4</th>\n",
       "      <td>2019-08-05</td>\n",
       "      <td>7623.6</td>\n",
       "      <td>99</td>\n",
       "      <td>7587.8</td>\n",
       "      <td>89</td>\n",
       "    </tr>\n",
       "  </tbody>\n",
       "</table>\n",
       "</div>"
      ],
      "text/plain": [
       "        date  revenue_A  orders_A  revenue_B  orders_B\n",
       "0 2019-08-01     2266.6        23      967.2        17\n",
       "1 2019-08-02     3734.9        42     3535.3        40\n",
       "2 2019-08-03     5550.1        66     4606.9        54\n",
       "3 2019-08-04     6225.6        77     6138.5        68\n",
       "4 2019-08-05     7623.6        99     7587.8        89"
      ]
     },
     "execution_count": 47,
     "metadata": {},
     "output_type": "execute_result"
    }
   ],
   "source": [
    "receita_cumulativa = pd.merge(receita_a, receita_b, left_on='date', right_on='date', how='left', suffixes=['A', 'B'])\n",
    "receita_cumulativa.columns = ['date', 'revenue_A', 'orders_A', 'revenue_B', 'orders_B']\n",
    "receita_cumulativa.head()"
   ]
  },
  {
   "cell_type": "code",
   "execution_count": 48,
   "id": "6676aff8",
   "metadata": {},
   "outputs": [
    {
     "data": {
      "image/png": "[encoded data removed]",
      "text/plain": [
       "<Figure size 640x480 with 1 Axes>"
      ]
     },
     "metadata": {},
     "output_type": "display_data"
    }
   ],
   "source": [
    "plt.plot(receita_cumulativa['date'], (receita_cumulativa['revenue_B']/receita_cumulativa['orders_B'])/(receita_cumulativa['revenue_A']/receita_cumulativa['orders_A'])-1)\n",
    "\n",
    "plt.axhline(y=0, color='red', linestyle='--') \n",
    "plt.xticks(rotation=45, ha='right') \n",
    "plt.xlabel('Data')\n",
    "plt.ylabel('Diferença relativa')\n",
    "plt.title('Diferença relativa no tamanho médio acumulado do pedido entre os grupos')\n",
    "plt.show()\n"
   ]
  },
  {
   "cell_type": "markdown",
   "id": "c1eafcfd",
   "metadata": {},
   "source": [
    "Verificando o gráfico e a linha horizontal que foi criada, concluímos que durante o teste houve pontos onde a diferença entre os segmentos apresentou picos.\n",
    "\n",
    "Entendemos que esses picos devem ter ocorrido devido à existência de pedidos grandes e valores atípicos."
   ]
  },
  {
   "cell_type": "markdown",
   "id": "5b377d7a",
   "metadata": {},
   "source": [
    "[Voltar ao Indice](#back)"
   ]
  },
  {
   "cell_type": "markdown",
   "id": "4e9620ff",
   "metadata": {},
   "source": [
    "### 3.4. Taxa de conversão de cada grupo <a id='conversao'></a>"
   ]
  },
  {
   "cell_type": "markdown",
   "id": "482872f8",
   "metadata": {},
   "source": [
    "Iremos analisar a taxa de conversão de cada grupo como a proporção de pedidos para o número de visitas para cada dia. Para essa análise seguiremos os seguintes passos: \n",
    "\n",
    "- adicionaremos a tabela acumulada_data uma coluna onde tera a razão entre a quantidade de pedidos e a quantidade de usuários para um grupo específico em uma data específica;\n",
    "\n",
    "- armazenaremos os dados relativos a pedidos nos segmentos A e B em uma variável para cada grupo. \n",
    "\n",
    "Com as variáveis criadas iremos construir um gráfico para vermos a conversão diária cumulativa para cada grupo e utilizaremos  intervalo de 2019-03-10 a 2019-04-23 e definiremos o eixo y para mostrar valores no intervalo de 0 a 0,05."
   ]
  },
  {
   "cell_type": "code",
   "execution_count": 49,
   "id": "094b0766",
   "metadata": {},
   "outputs": [
    {
     "data": {
      "text/html": [
       "<div>\n",
       "<style scoped>\n",
       "    .dataframe tbody tr th:only-of-type {\n",
       "        vertical-align: middle;\n",
       "    }\n",
       "\n",
       "    .dataframe tbody tr th {\n",
       "        vertical-align: top;\n",
       "    }\n",
       "\n",
       "    .dataframe thead th {\n",
       "        text-align: right;\n",
       "    }\n",
       "</style>\n",
       "<table border=\"1\" class=\"dataframe\">\n",
       "  <thead>\n",
       "    <tr style=\"text-align: right;\">\n",
       "      <th></th>\n",
       "      <th>date</th>\n",
       "      <th>group</th>\n",
       "      <th>orders</th>\n",
       "      <th>buyers</th>\n",
       "      <th>revenue</th>\n",
       "      <th>visits</th>\n",
       "      <th>conversion</th>\n",
       "    </tr>\n",
       "  </thead>\n",
       "  <tbody>\n",
       "    <tr>\n",
       "      <th>0</th>\n",
       "      <td>2019-08-01</td>\n",
       "      <td>A</td>\n",
       "      <td>23</td>\n",
       "      <td>19</td>\n",
       "      <td>2266.6</td>\n",
       "      <td>719</td>\n",
       "      <td>0.031989</td>\n",
       "    </tr>\n",
       "    <tr>\n",
       "      <th>1</th>\n",
       "      <td>2019-08-01</td>\n",
       "      <td>B</td>\n",
       "      <td>17</td>\n",
       "      <td>17</td>\n",
       "      <td>967.2</td>\n",
       "      <td>713</td>\n",
       "      <td>0.023843</td>\n",
       "    </tr>\n",
       "    <tr>\n",
       "      <th>2</th>\n",
       "      <td>2019-08-02</td>\n",
       "      <td>A</td>\n",
       "      <td>42</td>\n",
       "      <td>36</td>\n",
       "      <td>3734.9</td>\n",
       "      <td>1338</td>\n",
       "      <td>0.031390</td>\n",
       "    </tr>\n",
       "    <tr>\n",
       "      <th>3</th>\n",
       "      <td>2019-08-02</td>\n",
       "      <td>B</td>\n",
       "      <td>40</td>\n",
       "      <td>39</td>\n",
       "      <td>3535.3</td>\n",
       "      <td>1294</td>\n",
       "      <td>0.030912</td>\n",
       "    </tr>\n",
       "    <tr>\n",
       "      <th>4</th>\n",
       "      <td>2019-08-03</td>\n",
       "      <td>A</td>\n",
       "      <td>66</td>\n",
       "      <td>60</td>\n",
       "      <td>5550.1</td>\n",
       "      <td>1845</td>\n",
       "      <td>0.035772</td>\n",
       "    </tr>\n",
       "  </tbody>\n",
       "</table>\n",
       "</div>"
      ],
      "text/plain": [
       "        date group  orders  buyers  revenue  visits  conversion\n",
       "0 2019-08-01     A      23      19   2266.6     719    0.031989\n",
       "1 2019-08-01     B      17      17    967.2     713    0.023843\n",
       "2 2019-08-02     A      42      36   3734.9    1338    0.031390\n",
       "3 2019-08-02     B      40      39   3535.3    1294    0.030912\n",
       "4 2019-08-03     A      66      60   5550.1    1845    0.035772"
      ]
     },
     "execution_count": 49,
     "metadata": {},
     "output_type": "execute_result"
    }
   ],
   "source": [
    "acumulada_data['conversion'] = acumulada_data['orders']/acumulada_data['visits']\n",
    "acumulada_data.head()"
   ]
  },
  {
   "cell_type": "code",
   "execution_count": 50,
   "id": "80d84353",
   "metadata": {},
   "outputs": [
    {
     "data": {
      "text/html": [
       "<div>\n",
       "<style scoped>\n",
       "    .dataframe tbody tr th:only-of-type {\n",
       "        vertical-align: middle;\n",
       "    }\n",
       "\n",
       "    .dataframe tbody tr th {\n",
       "        vertical-align: top;\n",
       "    }\n",
       "\n",
       "    .dataframe thead th {\n",
       "        text-align: right;\n",
       "    }\n",
       "</style>\n",
       "<table border=\"1\" class=\"dataframe\">\n",
       "  <thead>\n",
       "    <tr style=\"text-align: right;\">\n",
       "      <th></th>\n",
       "      <th>date</th>\n",
       "      <th>group</th>\n",
       "      <th>orders</th>\n",
       "      <th>buyers</th>\n",
       "      <th>revenue</th>\n",
       "      <th>visits</th>\n",
       "      <th>conversion</th>\n",
       "    </tr>\n",
       "  </thead>\n",
       "  <tbody>\n",
       "    <tr>\n",
       "      <th>0</th>\n",
       "      <td>2019-08-01</td>\n",
       "      <td>A</td>\n",
       "      <td>23</td>\n",
       "      <td>19</td>\n",
       "      <td>2266.6</td>\n",
       "      <td>719</td>\n",
       "      <td>0.031989</td>\n",
       "    </tr>\n",
       "    <tr>\n",
       "      <th>2</th>\n",
       "      <td>2019-08-02</td>\n",
       "      <td>A</td>\n",
       "      <td>42</td>\n",
       "      <td>36</td>\n",
       "      <td>3734.9</td>\n",
       "      <td>1338</td>\n",
       "      <td>0.031390</td>\n",
       "    </tr>\n",
       "    <tr>\n",
       "      <th>4</th>\n",
       "      <td>2019-08-03</td>\n",
       "      <td>A</td>\n",
       "      <td>66</td>\n",
       "      <td>60</td>\n",
       "      <td>5550.1</td>\n",
       "      <td>1845</td>\n",
       "      <td>0.035772</td>\n",
       "    </tr>\n",
       "    <tr>\n",
       "      <th>6</th>\n",
       "      <td>2019-08-04</td>\n",
       "      <td>A</td>\n",
       "      <td>77</td>\n",
       "      <td>71</td>\n",
       "      <td>6225.6</td>\n",
       "      <td>2562</td>\n",
       "      <td>0.030055</td>\n",
       "    </tr>\n",
       "    <tr>\n",
       "      <th>8</th>\n",
       "      <td>2019-08-05</td>\n",
       "      <td>A</td>\n",
       "      <td>99</td>\n",
       "      <td>92</td>\n",
       "      <td>7623.6</td>\n",
       "      <td>3318</td>\n",
       "      <td>0.029837</td>\n",
       "    </tr>\n",
       "  </tbody>\n",
       "</table>\n",
       "</div>"
      ],
      "text/plain": [
       "        date group  orders  buyers  revenue  visits  conversion\n",
       "0 2019-08-01     A      23      19   2266.6     719    0.031989\n",
       "2 2019-08-02     A      42      36   3734.9    1338    0.031390\n",
       "4 2019-08-03     A      66      60   5550.1    1845    0.035772\n",
       "6 2019-08-04     A      77      71   6225.6    2562    0.030055\n",
       "8 2019-08-05     A      99      92   7623.6    3318    0.029837"
      ]
     },
     "execution_count": 50,
     "metadata": {},
     "output_type": "execute_result"
    }
   ],
   "source": [
    "acumulada_data_a = acumulada_data[acumulada_data['group']=='A']\n",
    "acumulada_data_a.head()"
   ]
  },
  {
   "cell_type": "code",
   "execution_count": 51,
   "id": "92fa9bbe",
   "metadata": {},
   "outputs": [
    {
     "data": {
      "text/html": [
       "<div>\n",
       "<style scoped>\n",
       "    .dataframe tbody tr th:only-of-type {\n",
       "        vertical-align: middle;\n",
       "    }\n",
       "\n",
       "    .dataframe tbody tr th {\n",
       "        vertical-align: top;\n",
       "    }\n",
       "\n",
       "    .dataframe thead th {\n",
       "        text-align: right;\n",
       "    }\n",
       "</style>\n",
       "<table border=\"1\" class=\"dataframe\">\n",
       "  <thead>\n",
       "    <tr style=\"text-align: right;\">\n",
       "      <th></th>\n",
       "      <th>date</th>\n",
       "      <th>group</th>\n",
       "      <th>orders</th>\n",
       "      <th>buyers</th>\n",
       "      <th>revenue</th>\n",
       "      <th>visits</th>\n",
       "      <th>conversion</th>\n",
       "    </tr>\n",
       "  </thead>\n",
       "  <tbody>\n",
       "    <tr>\n",
       "      <th>1</th>\n",
       "      <td>2019-08-01</td>\n",
       "      <td>B</td>\n",
       "      <td>17</td>\n",
       "      <td>17</td>\n",
       "      <td>967.2</td>\n",
       "      <td>713</td>\n",
       "      <td>0.023843</td>\n",
       "    </tr>\n",
       "    <tr>\n",
       "      <th>3</th>\n",
       "      <td>2019-08-02</td>\n",
       "      <td>B</td>\n",
       "      <td>40</td>\n",
       "      <td>39</td>\n",
       "      <td>3535.3</td>\n",
       "      <td>1294</td>\n",
       "      <td>0.030912</td>\n",
       "    </tr>\n",
       "    <tr>\n",
       "      <th>5</th>\n",
       "      <td>2019-08-03</td>\n",
       "      <td>B</td>\n",
       "      <td>54</td>\n",
       "      <td>53</td>\n",
       "      <td>4606.9</td>\n",
       "      <td>1803</td>\n",
       "      <td>0.029950</td>\n",
       "    </tr>\n",
       "    <tr>\n",
       "      <th>7</th>\n",
       "      <td>2019-08-04</td>\n",
       "      <td>B</td>\n",
       "      <td>68</td>\n",
       "      <td>66</td>\n",
       "      <td>6138.5</td>\n",
       "      <td>2573</td>\n",
       "      <td>0.026428</td>\n",
       "    </tr>\n",
       "    <tr>\n",
       "      <th>9</th>\n",
       "      <td>2019-08-05</td>\n",
       "      <td>B</td>\n",
       "      <td>89</td>\n",
       "      <td>87</td>\n",
       "      <td>7587.8</td>\n",
       "      <td>3280</td>\n",
       "      <td>0.027134</td>\n",
       "    </tr>\n",
       "  </tbody>\n",
       "</table>\n",
       "</div>"
      ],
      "text/plain": [
       "        date group  orders  buyers  revenue  visits  conversion\n",
       "1 2019-08-01     B      17      17    967.2     713    0.023843\n",
       "3 2019-08-02     B      40      39   3535.3    1294    0.030912\n",
       "5 2019-08-03     B      54      53   4606.9    1803    0.029950\n",
       "7 2019-08-04     B      68      66   6138.5    2573    0.026428\n",
       "9 2019-08-05     B      89      87   7587.8    3280    0.027134"
      ]
     },
     "execution_count": 51,
     "metadata": {},
     "output_type": "execute_result"
    }
   ],
   "source": [
    "acumulada_data_b = acumulada_data[acumulada_data['group']=='B']\n",
    "acumulada_data_b.head()"
   ]
  },
  {
   "cell_type": "code",
   "execution_count": 52,
   "id": "b7d692fb",
   "metadata": {},
   "outputs": [
    {
     "data": {
      "image/png": "[encoded data removed]",
      "text/plain": [
       "<Figure size 640x480 with 1 Axes>"
      ]
     },
     "metadata": {},
     "output_type": "display_data"
    }
   ],
   "source": [
    "plt.plot(acumulada_data_a['date'], acumulada_data_a['conversion'], label='Group A', color='purple')\n",
    "plt.plot(acumulada_data_b['date'], acumulada_data_b['conversion'], label='Group B', color='orange')\n",
    "\n",
    "plt.legend()\n",
    "plt.axis([pd.to_datetime('2019-08-01'), pd.to_datetime('2019-09-01'), 0, 0.05])\n",
    "plt.xticks(rotation=45, ha='right') \n",
    "plt.xlabel('Data')\n",
    "plt.ylabel('Conversão diária cumulativa')\n",
    "plt.title('Taxa de conversão diária de cada grupo')\n",
    "plt.show()"
   ]
  },
  {
   "cell_type": "markdown",
   "id": "6a75062b",
   "metadata": {},
   "source": [
    "O teste se iniciou com o grupo A tendo uma conversão maior, porém a taxa do grupo B subiu e ao longo do teste se estabilizou. Assim, a taxa de conversão do grupo A caiu, mas também se estabilizou."
   ]
  },
  {
   "cell_type": "markdown",
   "id": "6b5a5600",
   "metadata": {},
   "source": [
    "[Voltar ao Indice](#back)"
   ]
  },
  {
   "cell_type": "markdown",
   "id": "e8ef0363",
   "metadata": {},
   "source": [
    "### 3.5 Gráfico diferença relativa <a id='relativa'></a>"
   ]
  },
  {
   "cell_type": "markdown",
   "id": "e9a1fd6d",
   "metadata": {},
   "source": [
    "Para melhor análise da diferença relativa, iremos construir um gráfico. Porém, primeiramente fundiremos as tabelas acumulada_data_a e acumulada_data_b para que assim tenhamos uma tabela com as colunas data e a conversão de ambos os grupos.\n",
    "\n",
    "Com a nova tabela criada, o gráfico será feito com a diferença relativa entre a taxa de conversão cumulativa do grupo B comparada com o grupo A, utilizando o intervalo de 2019-03-10 a 2019-04-23 e definiremos o eixo y para mostrar valores no intervalo de -0,5 a 0,5.\n",
    "\n",
    "Também no gráfico iremos acrescentar dois eixos horizontais para que possamos ver os pontos onde a diferença entre os segmentos apresenta picos."
   ]
  },
  {
   "cell_type": "code",
   "execution_count": 53,
   "id": "2922843d",
   "metadata": {},
   "outputs": [
    {
     "data": {
      "text/html": [
       "<div>\n",
       "<style scoped>\n",
       "    .dataframe tbody tr th:only-of-type {\n",
       "        vertical-align: middle;\n",
       "    }\n",
       "\n",
       "    .dataframe tbody tr th {\n",
       "        vertical-align: top;\n",
       "    }\n",
       "\n",
       "    .dataframe thead th {\n",
       "        text-align: right;\n",
       "    }\n",
       "</style>\n",
       "<table border=\"1\" class=\"dataframe\">\n",
       "  <thead>\n",
       "    <tr style=\"text-align: right;\">\n",
       "      <th></th>\n",
       "      <th>date</th>\n",
       "      <th>conversion_A</th>\n",
       "      <th>conversion_B</th>\n",
       "    </tr>\n",
       "  </thead>\n",
       "  <tbody>\n",
       "    <tr>\n",
       "      <th>0</th>\n",
       "      <td>2019-08-01</td>\n",
       "      <td>0.031989</td>\n",
       "      <td>0.023843</td>\n",
       "    </tr>\n",
       "    <tr>\n",
       "      <th>1</th>\n",
       "      <td>2019-08-02</td>\n",
       "      <td>0.031390</td>\n",
       "      <td>0.030912</td>\n",
       "    </tr>\n",
       "    <tr>\n",
       "      <th>2</th>\n",
       "      <td>2019-08-03</td>\n",
       "      <td>0.035772</td>\n",
       "      <td>0.029950</td>\n",
       "    </tr>\n",
       "    <tr>\n",
       "      <th>3</th>\n",
       "      <td>2019-08-04</td>\n",
       "      <td>0.030055</td>\n",
       "      <td>0.026428</td>\n",
       "    </tr>\n",
       "    <tr>\n",
       "      <th>4</th>\n",
       "      <td>2019-08-05</td>\n",
       "      <td>0.029837</td>\n",
       "      <td>0.027134</td>\n",
       "    </tr>\n",
       "  </tbody>\n",
       "</table>\n",
       "</div>"
      ],
      "text/plain": [
       "        date  conversion_A  conversion_B\n",
       "0 2019-08-01      0.031989      0.023843\n",
       "1 2019-08-02      0.031390      0.030912\n",
       "2 2019-08-03      0.035772      0.029950\n",
       "3 2019-08-04      0.030055      0.026428\n",
       "4 2019-08-05      0.029837      0.027134"
      ]
     },
     "execution_count": 53,
     "metadata": {},
     "output_type": "execute_result"
    }
   ],
   "source": [
    "conversions_merge = pd.merge(acumulada_data_a[['date','conversion']], acumulada_data_b[['date','conversion']], left_on='date', right_on='date', how='left', suffixes=['A', 'B'])\n",
    "conversions_merge.columns = ['date', 'conversion_A', 'conversion_B']\n",
    "conversions_merge.head()"
   ]
  },
  {
   "cell_type": "code",
   "execution_count": 54,
   "id": "be75cb86",
   "metadata": {},
   "outputs": [
    {
     "data": {
      "image/png": "[encoded data removed]",
      "text/plain": [
       "<Figure size 640x480 with 1 Axes>"
      ]
     },
     "metadata": {},
     "output_type": "display_data"
    }
   ],
   "source": [
    "plt.plot(conversions_merge['date'], conversions_merge['conversion_B']/conversions_merge['conversion_A']-1, label='Diferença relativa')\n",
    "\n",
    "plt.legend()\n",
    "plt.axhline(y=0, color='red', linestyle='--')\n",
    "plt.axhline(y=0.2, color='green', linestyle='--')\n",
    "plt.axis([pd.to_datetime('2019-08-01'), pd.to_datetime('2019-09-01'), -0.5, 0.5])\n",
    "plt.xticks(rotation=45, ha='right') \n",
    "plt.xlabel('Data')\n",
    "plt.ylabel('Diferença relativa')\n",
    "plt.title('Diferença relativa entre a taxa de conversão cumulativa')\n",
    "plt.show()"
   ]
  },
  {
   "cell_type": "markdown",
   "id": "c5f25b44",
   "metadata": {},
   "source": [
    "No gráfico, vemos que o grupo B iniciou o teste com uma taxa de conversão menor, porém, ao longo do teste, conquistou a liderança, chegando a um crescimento de pouco mais de 20% acima do grupo A. Nota-se que, logo depois que o grupo B assumiu a liderança, a conversão diminuiu, mas até o fim do teste ela se mostrou em crescimento gradual."
   ]
  },
  {
   "cell_type": "markdown",
   "id": "c471d369",
   "metadata": {},
   "source": [
    "[Voltar ao Indice](#back)"
   ]
  },
  {
   "cell_type": "markdown",
   "id": "a20db70a",
   "metadata": {},
   "source": [
    "### 3.6. Dispersão do número de pedidos por usuário  <a id='numero'></a>"
   ]
  },
  {
   "cell_type": "markdown",
   "id": "e1d8a8e7",
   "metadata": {},
   "source": [
    "Identificamos picos nas análises anteriores que devem ter ocorrido devido à existência de pedidos grandes e valores atípicos. Assim, para seguir nosso teste, iremos primeiramente criar um gráfico para verificar a distribuição da quantidade de pedidos por usuário.\n",
    "\n",
    "Para fazermos o gráfico, criaremos um novo DataFrame que tenha as colunas 'visitor_id' e 'orders' e o analisaremos."
   ]
  },
  {
   "cell_type": "code",
   "execution_count": 55,
   "id": "d25e9d00",
   "metadata": {},
   "outputs": [
    {
     "name": "stdout",
     "output_type": "stream",
     "text": [
      "        user_id  orders\n",
      "908  3967698036       3\n",
      "55    249864742       3\n",
      "478  2108163459       3\n",
      "687  2988190573       3\n",
      "890  3908431265       3\n",
      "138   611059232       3\n",
      "632  2742574263       3\n",
      "157   678354126       2\n",
      "323  1404560065       2\n",
      "452  1985475298       2\n"
     ]
    }
   ],
   "source": [
    "orders_users = (orders.drop(['group', 'revenue', 'date'], axis=1).groupby('visitor_id', as_index=False).agg({'transaction_id': pd.Series.nunique}))\n",
    "orders_users.columns = ['user_id', 'orders']\n",
    "print(orders_users.sort_values(by='orders', ascending=False).head(10))"
   ]
  },
  {
   "cell_type": "code",
   "execution_count": 56,
   "id": "a1414b6e",
   "metadata": {},
   "outputs": [
    {
     "data": {
      "image/png": "[encoded data removed]",
      "text/plain": [
       "<Figure size 640x480 with 1 Axes>"
      ]
     },
     "metadata": {},
     "output_type": "display_data"
    }
   ],
   "source": [
    "plt.hist(orders_users['orders'])\n",
    "plt.title('Distribuição para a quantidade de pedidos por usuário')\n",
    "plt.xlabel('Numero de ordens')\n",
    "plt.ylabel('Numero de usuarios')\n",
    "plt.show()"
   ]
  },
  {
   "cell_type": "markdown",
   "id": "be2d86f9",
   "metadata": {},
   "source": [
    "Observando o gráfico acima verificamos que a maioria dos clientes realizaram apenas um pedido. Porém, uma parcela significante efetuou de dois a quatro pedidos cada e poucos realizaram de 6 a 11 pedidos.\n",
    "\n",
    "Para melhor análise iremos agora construir um gráfico de dispersão com a quantidade de pedidos por usuário. "
   ]
  },
  {
   "cell_type": "code",
   "execution_count": 57,
   "id": "111886c5",
   "metadata": {},
   "outputs": [
    {
     "data": {
      "image/png": "[encoded data removed]",
      "text/plain": [
       "<Figure size 640x480 with 1 Axes>"
      ]
     },
     "metadata": {},
     "output_type": "display_data"
    }
   ],
   "source": [
    "x_values = pd.Series(range(0, len(orders_users)))\n",
    "plt.scatter(x_values, orders_users['orders']) \n",
    "plt.title('Dispersão do número de pedidos por usuário')\n",
    "plt.xlabel('Usuarios')\n",
    "plt.ylabel('Numero de ordens')\n",
    "plt.show()"
   ]
  },
  {
   "cell_type": "markdown",
   "id": "536d4088",
   "metadata": {},
   "source": [
    "Com o gráfico de dispersão pudemos verificar que a grande maioria dos usuários realizaram de um a dois pedidos. Acreditamos que há anomalias nos dados tendo em vista que não há registro de usuários com mais de dois pedidos. "
   ]
  },
  {
   "cell_type": "markdown",
   "id": "284678e1",
   "metadata": {},
   "source": [
    "[Voltar ao Indice](#back)"
   ]
  },
  {
   "cell_type": "markdown",
   "id": "1ac50c81",
   "metadata": {},
   "source": [
    "### 3.7. Percentis para o número de pedidos por usuário <a id='percentilpedido'></a>"
   ]
  },
  {
   "cell_type": "markdown",
   "id": "a8d7013e",
   "metadata": {},
   "source": [
    "Acreditando que há anomalias e que as mesmas atrapalham o resultado do nosso estudo iremos agora calcular percentis para a quantidade de pedidos por usuário. "
   ]
  },
  {
   "cell_type": "code",
   "execution_count": 58,
   "id": "f8dbf4a2",
   "metadata": {},
   "outputs": [
    {
     "name": "stdout",
     "output_type": "stream",
     "text": [
      "        user_id  orders\n",
      "908  3967698036       3\n",
      "55    249864742       3\n",
      "478  2108163459       3\n",
      "687  2988190573       3\n",
      "890  3908431265       3\n",
      "138   611059232       3\n",
      "632  2742574263       3\n",
      "157   678354126       2\n",
      "323  1404560065       2\n",
      "452  1985475298       2\n",
      "[1. 2.]\n"
     ]
    }
   ],
   "source": [
    "print(orders_users.sort_values(by='orders', ascending=False).head(10))\n",
    "print(np.percentile(orders_users['orders'], [95, 99]))"
   ]
  },
  {
   "cell_type": "markdown",
   "id": "66a53afe",
   "metadata": {},
   "source": [
    "Calculando os percentins verificamos que menos de 5% dos usuários fizeram mais que 1 pedidos e que menos de 1% dos usuários fizeram mais que 2 pedidos."
   ]
  },
  {
   "cell_type": "markdown",
   "id": "70907026",
   "metadata": {},
   "source": [
    "[Voltar ao Indice](#back)"
   ]
  },
  {
   "cell_type": "markdown",
   "id": "eb5ae639",
   "metadata": {},
   "source": [
    "### 3.8. Dispersão dos preços dos pedidos  <a id='preco'></a>"
   ]
  },
  {
   "cell_type": "markdown",
   "id": "3f58e528",
   "metadata": {},
   "source": [
    "Identificamos picos nas análises anteriores que devem ter ocorrido devido a altos preços e valores atípicos. Assim, para seguir nosso teste e para uma melhor análise iremos agora construir um gráfico de dispersão com a quantidade de pedidos por usuário."
   ]
  },
  {
   "cell_type": "code",
   "execution_count": 59,
   "id": "93562d96",
   "metadata": {},
   "outputs": [
    {
     "data": {
      "image/png": "[encoded data removed]",
      "text/plain": [
       "<Figure size 640x480 with 1 Axes>"
      ]
     },
     "metadata": {},
     "output_type": "display_data"
    }
   ],
   "source": [
    "x_values = pd.Series(range(0,len(orders['revenue'])))\n",
    "plt.scatter(x_values, orders['revenue']) \n",
    "plt.title('Dispersão dos preços dos pedidos')\n",
    "plt.xlabel('Usuarios')\n",
    "plt.ylabel('Receita')\n",
    "plt.show()"
   ]
  },
  {
   "cell_type": "markdown",
   "id": "6b78bf1b",
   "metadata": {},
   "source": [
    "Com o gráfico de dispersão, pudemos verificar que o preço dos pedidos não ultrapassa a receita de 2500. No entanto, observamos um pedido com uma receita significativamente alta, indicando a presença de valores atípicos. Acreditamos que essas anomalias podem estar influenciando os resultados da análise."
   ]
  },
  {
   "cell_type": "markdown",
   "id": "7a0d7c9e",
   "metadata": {},
   "source": [
    "[Voltar ao Indice](#back)"
   ]
  },
  {
   "cell_type": "markdown",
   "id": "88be54a7",
   "metadata": {},
   "source": [
    "### 3.9. Percentis dos preços dos pedidos <a id='percentilpreco'></a>"
   ]
  },
  {
   "cell_type": "markdown",
   "id": "61f55865",
   "metadata": {},
   "source": [
    "Acreditando que há anomalias e que as mesmas atrapalham o resultado do nosso estudo iremos agora calcular percentis para o preço dos pedidos por usuário."
   ]
  },
  {
   "cell_type": "code",
   "execution_count": 60,
   "id": "c7efc9af",
   "metadata": {},
   "outputs": [
    {
     "name": "stdout",
     "output_type": "stream",
     "text": [
      "        user_id  orders\n",
      "908  3967698036       3\n",
      "55    249864742       3\n",
      "478  2108163459       3\n",
      "687  2988190573       3\n",
      "890  3908431265       3\n",
      "138   611059232       3\n",
      "632  2742574263       3\n",
      "157   678354126       2\n",
      "323  1404560065       2\n",
      "452  1985475298       2\n",
      "[414.275 830.3  ]\n"
     ]
    }
   ],
   "source": [
    "print(orders_users.sort_values(by='orders', ascending=False).head(10))\n",
    "print(np.percentile(orders['revenue'], [95, 99]))"
   ]
  },
  {
   "cell_type": "markdown",
   "id": "483b6ca5",
   "metadata": {},
   "source": [
    "Calculando os percentins podemos concluir que menos de 5% dos usuários fizeram pedidos com um valor maiores que 414,27 e que menos de 1% dos usuários fizeram pedidos com um valor mais alto que 830.30. "
   ]
  },
  {
   "cell_type": "markdown",
   "id": "d3cdfcfa",
   "metadata": {},
   "source": [
    "[Voltar ao Indice](#back)"
   ]
  },
  {
   "cell_type": "markdown",
   "id": "b93fd95e",
   "metadata": {},
   "source": [
    "### 3.10 Diferença na conversão entre os grupos usando dados brutos <a id='dadosbrutos1'></a>"
   ]
  },
  {
   "cell_type": "markdown",
   "id": "282c9bae",
   "metadata": {},
   "source": [
    "Para termos a diferença na conversão entre os grupos usando dados brutos vamos calcular sua significância estatística e para isso criaremos variáveis para cada grupo e armazenaremos as colunas 'user_id', 'orders. \n",
    "\n",
    "Declararemos variáveis para ambos os grupos com com usuários que realizaram pedidos e também com a quantidade de pedidos correspondente. Definiremos 0 para usuários sem pedidos\n",
    "\n",
    "Depois calcularemos a significância estatística da diferença de conversão com base nos resultados obtidos e aplicaremos o teste Mann-Whitney."
   ]
  },
  {
   "cell_type": "code",
   "execution_count": 61,
   "id": "23dff963",
   "metadata": {},
   "outputs": [
    {
     "data": {
      "text/html": [
       "<div>\n",
       "<style scoped>\n",
       "    .dataframe tbody tr th:only-of-type {\n",
       "        vertical-align: middle;\n",
       "    }\n",
       "\n",
       "    .dataframe tbody tr th {\n",
       "        vertical-align: top;\n",
       "    }\n",
       "\n",
       "    .dataframe thead th {\n",
       "        text-align: right;\n",
       "    }\n",
       "</style>\n",
       "<table border=\"1\" class=\"dataframe\">\n",
       "  <thead>\n",
       "    <tr style=\"text-align: right;\">\n",
       "      <th></th>\n",
       "      <th>user_id</th>\n",
       "      <th>orders</th>\n",
       "    </tr>\n",
       "  </thead>\n",
       "  <tbody>\n",
       "    <tr>\n",
       "      <th>0</th>\n",
       "      <td>11685486</td>\n",
       "      <td>1</td>\n",
       "    </tr>\n",
       "    <tr>\n",
       "      <th>1</th>\n",
       "      <td>54447517</td>\n",
       "      <td>1</td>\n",
       "    </tr>\n",
       "    <tr>\n",
       "      <th>2</th>\n",
       "      <td>66685450</td>\n",
       "      <td>1</td>\n",
       "    </tr>\n",
       "    <tr>\n",
       "      <th>3</th>\n",
       "      <td>78758296</td>\n",
       "      <td>1</td>\n",
       "    </tr>\n",
       "    <tr>\n",
       "      <th>4</th>\n",
       "      <td>85103373</td>\n",
       "      <td>1</td>\n",
       "    </tr>\n",
       "  </tbody>\n",
       "</table>\n",
       "</div>"
      ],
      "text/plain": [
       "    user_id  orders\n",
       "0  11685486       1\n",
       "1  54447517       1\n",
       "2  66685450       1\n",
       "3  78758296       1\n",
       "4  85103373       1"
      ]
     },
     "execution_count": 61,
     "metadata": {},
     "output_type": "execute_result"
    }
   ],
   "source": [
    "orders_a = orders[orders['group']=='A'].groupby('visitor_id', as_index=False).agg({'transaction_id' : pd.Series.nunique})\n",
    "orders_a.columns = ['user_id', 'orders']\n",
    "orders_a.head()"
   ]
  },
  {
   "cell_type": "code",
   "execution_count": 62,
   "id": "a5831359",
   "metadata": {},
   "outputs": [
    {
     "data": {
      "text/html": [
       "<div>\n",
       "<style scoped>\n",
       "    .dataframe tbody tr th:only-of-type {\n",
       "        vertical-align: middle;\n",
       "    }\n",
       "\n",
       "    .dataframe tbody tr th {\n",
       "        vertical-align: top;\n",
       "    }\n",
       "\n",
       "    .dataframe thead th {\n",
       "        text-align: right;\n",
       "    }\n",
       "</style>\n",
       "<table border=\"1\" class=\"dataframe\">\n",
       "  <thead>\n",
       "    <tr style=\"text-align: right;\">\n",
       "      <th></th>\n",
       "      <th>user_id</th>\n",
       "      <th>orders</th>\n",
       "    </tr>\n",
       "  </thead>\n",
       "  <tbody>\n",
       "    <tr>\n",
       "      <th>0</th>\n",
       "      <td>5114589</td>\n",
       "      <td>1</td>\n",
       "    </tr>\n",
       "    <tr>\n",
       "      <th>1</th>\n",
       "      <td>6958315</td>\n",
       "      <td>1</td>\n",
       "    </tr>\n",
       "    <tr>\n",
       "      <th>2</th>\n",
       "      <td>39475350</td>\n",
       "      <td>1</td>\n",
       "    </tr>\n",
       "    <tr>\n",
       "      <th>3</th>\n",
       "      <td>47206413</td>\n",
       "      <td>1</td>\n",
       "    </tr>\n",
       "    <tr>\n",
       "      <th>4</th>\n",
       "      <td>48147722</td>\n",
       "      <td>1</td>\n",
       "    </tr>\n",
       "  </tbody>\n",
       "</table>\n",
       "</div>"
      ],
      "text/plain": [
       "    user_id  orders\n",
       "0   5114589       1\n",
       "1   6958315       1\n",
       "2  39475350       1\n",
       "3  47206413       1\n",
       "4  48147722       1"
      ]
     },
     "execution_count": 62,
     "metadata": {},
     "output_type": "execute_result"
    }
   ],
   "source": [
    "orders_b = orders[orders['group']=='B'].groupby('visitor_id', as_index=False).agg({'transaction_id' : pd.Series.nunique})\n",
    "orders_b.columns = ['user_id', 'orders'] \n",
    "orders_b.head()"
   ]
  },
  {
   "cell_type": "code",
   "execution_count": 63,
   "id": "09fff172",
   "metadata": {},
   "outputs": [],
   "source": [
    "sample_a = pd.concat(\n",
    "    [\n",
    "        orders_a['orders'],\n",
    "        pd.Series(\n",
    "            0,\n",
    "            index=np.arange(\n",
    "                visits[visits['group'] == 'A']['visits'].sum()\n",
    "                - len(orders_a['orders'])\n",
    "            ),\n",
    "            name='orders',\n",
    "        ),\n",
    "    ],\n",
    "    axis=0,\n",
    ")"
   ]
  },
  {
   "cell_type": "code",
   "execution_count": 64,
   "id": "70b355a9",
   "metadata": {},
   "outputs": [],
   "source": [
    "sample_b = pd.concat(\n",
    "    [\n",
    "        orders_b['orders'],\n",
    "        pd.Series(\n",
    "            0,\n",
    "            index=np.arange(\n",
    "                visits[visits['group'] == 'B']['visits'].sum()\n",
    "                - len(orders_b['orders'])\n",
    "            ),\n",
    "            name='orders',\n",
    "        ),\n",
    "    ],\n",
    "    axis=0,\n",
    ")"
   ]
  },
  {
   "cell_type": "code",
   "execution_count": 65,
   "id": "f94a8e24",
   "metadata": {},
   "outputs": [
    {
     "name": "stdout",
     "output_type": "stream",
     "text": [
      "0.01102\n",
      "0.160\n"
     ]
    }
   ],
   "source": [
    "print('{0:.5f}'.format(stats.mannwhitneyu(sample_a, sample_b)[1]))\n",
    "print('{0:.3f}'.format(sample_b.mean() / sample_a.mean() - 1))"
   ]
  },
  {
   "cell_type": "markdown",
   "id": "cb7dd64f",
   "metadata": {},
   "source": [
    "Verificamos que o valor-p foi 0.01102, que é menor que 0.05. Portanto, há uma diferença significativa entre as duas amostras, e assim rejeitamos a hipótese nula de que as amostras são iguais. Além disso, observamos que a amostra B teve um ganho de 16% em relação à amostra A."
   ]
  },
  {
   "cell_type": "markdown",
   "id": "58ef9d0e",
   "metadata": {},
   "source": [
    "[Voltar ao Indice](#back)"
   ]
  },
  {
   "cell_type": "markdown",
   "id": "efac1233",
   "metadata": {},
   "source": [
    "### 3.11. Diferença no tamanho médio do pedido entre os grupos usando os dados brutos  <a id='dadosbrutos2'></a>"
   ]
  },
  {
   "cell_type": "markdown",
   "id": "4da8f0e9",
   "metadata": {},
   "source": [
    "Para termos a diferença no tamanho médio do pedido entre os grupos usando os dados brutos calcularemos agora a significância estatística.\n",
    "\n",
    "Iremos imprimir o valor-p para comparar os volumes médios de pedidos dos grupos e também imprimiremos o ganho relativo para o grupo B, arredondando o valor mais uma vez para três casas decimais."
   ]
  },
  {
   "cell_type": "code",
   "execution_count": 66,
   "id": "e4ff9003",
   "metadata": {},
   "outputs": [
    {
     "name": "stdout",
     "output_type": "stream",
     "text": [
      "0.862\n",
      "0.278\n"
     ]
    }
   ],
   "source": [
    "print('{0:.3f}'.format(stats.mannwhitneyu(orders[orders['group']=='A']['revenue'], orders[orders['group']=='B']['revenue'])[1]))\n",
    "print('{0:.3f}'.format(orders[orders['group']=='B']['revenue'].mean()/orders[orders['group']=='A']['revenue'].mean()-1)) "
   ]
  },
  {
   "cell_type": "markdown",
   "id": "250192f3",
   "metadata": {},
   "source": [
    "Sobre a diferença no tamanho médio do pedido entre os grupos usando os dados brutos, observamos que o valor-p foi maior que 0.05. Logo, não temos evidências suficientes para rejeitar a hipótese nula de que as médias são iguais. Em sendo assim, concluímos que não há diferenças significativas entre as médias das amostras. Por fim, verificamos que a diferença relativa foi de 27.8%."
   ]
  },
  {
   "cell_type": "markdown",
   "id": "16bd77b5",
   "metadata": {},
   "source": [
    "[Voltar ao Indice](#back)"
   ]
  },
  {
   "cell_type": "markdown",
   "id": "c9b4ae89",
   "metadata": {},
   "source": [
    "### 3.12.  Diferença na conversão entre os grupos usando os dados filtrados <a id='dadosfiltrados1'></a>"
   ]
  },
  {
   "cell_type": "markdown",
   "id": "e72d4b39",
   "metadata": {},
   "source": [
    "Iremos agora encontrar a significância estatística da diferença na conversão entre os grupos usando os dados filtrados. Porém, antes, precisaremos filtrar os dados.\n",
    "\n",
    "Para a filtragem, observaremos os valores dados nos percentis calculados acima, onde o percentil para o volume médio de pedido foi e para a quantidade de usuários foi, e assim consideraremos como usuários anômalos aqueles que realizaram três ou mais pedidos ou que fizeram um com valor superior a 414,27.\n",
    "\n",
    "Para remover os usuários anômalos, iremos identificar os pedidos anômalos e depois adicionaremos os usuários que realizaram esses pedidos à lista de anomalias.\n",
    "\n",
    "Para isso, iremos fatiar os dados para usuários com três ou mais pedidos e usuários com pedidos com valores superiores a 414,27. Por fim, juntaremos os dados em uma nova tabela e iremos também remover os valores duplicados.\n",
    "\n",
    "Com a nova tabela, iremos remover os usuários anômalos e calcular a significância estatística da diferença de conversão, criando variáveis para o grupo A e B para armazenar os dados após as anomalias terem sido removidas pela filtragem.\n",
    "\n",
    "Terminaremos imprimindo o valor-p para comparar as taxas de conversão dos grupos filtrados e o ganho relativo do grupo B."
   ]
  },
  {
   "cell_type": "code",
   "execution_count": 67,
   "id": "700e80fe",
   "metadata": {},
   "outputs": [
    {
     "name": "stdout",
     "output_type": "stream",
     "text": [
      "568     113298937\n",
      "1099    148427295\n",
      "928     204675465\n",
      "33      249864742\n",
      "684     358944393\n",
      "dtype: int64\n",
      "(58,)\n"
     ]
    }
   ],
   "source": [
    "more_orders = pd.concat([orders_a[orders_a['orders'] > 2]['user_id'], orders_b[orders_b['orders'] > 2]['user_id']], axis = 0)\n",
    "expensive_orders = orders[orders['revenue'] > 414.27]['visitor_id']\n",
    "anomalias = pd.concat([more_orders, expensive_orders], axis = 0).drop_duplicates().sort_values()\n",
    "print(anomalias.head(5))\n",
    "print(anomalias.shape)"
   ]
  },
  {
   "cell_type": "markdown",
   "id": "98d88633",
   "metadata": {},
   "source": [
    "Já verificamos aqui que temos 58 usuários anômalos.\n",
    "\n",
    "Neste teste, analisaremos as seguintes hipóteses:\n",
    "\n",
    "Hipótese nula: Não há diferença significativa entre as médias das duas amostras.\n",
    "\n",
    "Hipótese alternativa: Existe diferença significativa entre as médias das duas amostras."
   ]
  },
  {
   "cell_type": "code",
   "execution_count": 68,
   "id": "c7a82b3b",
   "metadata": {},
   "outputs": [],
   "source": [
    "sample_a_filtered = pd.concat(\n",
    "    [orders_a[np.logical_not(orders_a['user_id'].isin(anomalias))]\n",
    "     ['orders'],pd.Series(0, \n",
    "         index=np.arange(\n",
    "             visits[visits['group']=='A']['visits'].sum() \n",
    "             - len(orders_a['orders'])),name='orders')],axis=0)"
   ]
  },
  {
   "cell_type": "code",
   "execution_count": 69,
   "id": "221fd520",
   "metadata": {},
   "outputs": [],
   "source": [
    "sample_b_filtered  = pd.concat(\n",
    "    [orders_b[np.logical_not(orders_b['user_id'].isin(anomalias))]\n",
    "     ['orders'],pd.Series(0,\n",
    "        index=np.arange(\n",
    "            visits[visits['group']=='B']['visits'].sum() \n",
    "            - len(orders_b['orders'])),name='orders')],axis=0)"
   ]
  },
  {
   "cell_type": "code",
   "execution_count": 70,
   "id": "6386d654",
   "metadata": {},
   "outputs": [
    {
     "name": "stdout",
     "output_type": "stream",
     "text": [
      "0.01235\n",
      "0.182\n"
     ]
    }
   ],
   "source": [
    "print(\"{0:.5f}\".format(stats.mannwhitneyu(sample_a_filtered, sample_b_filtered)[1]))\n",
    "print(\"{0:.3f}\".format(sample_b_filtered.mean()/sample_a_filtered.mean()-1)) "
   ]
  },
  {
   "cell_type": "markdown",
   "id": "e5edbaa4",
   "metadata": {},
   "source": [
    "Filtramos os dados para que pudéssemos encontrar a diferença na conversão entre os grupos sem os dados anômalos e concluímos que o valor-p foi menor que 0.05. Assim, com a diferença estatística significativa, rejeitamos a hipótese nula. Portanto, há diferença na média entre as duas amostras. Com os dados filtrados, as amostras ficaram mais homogêneas e a variância diminuiu."
   ]
  },
  {
   "cell_type": "markdown",
   "id": "5e058507",
   "metadata": {},
   "source": [
    "[Voltar ao Indice](#back)"
   ]
  },
  {
   "cell_type": "markdown",
   "id": "48bfb55b",
   "metadata": {},
   "source": [
    "### 3.13 Diferença no tamanho médio do pedido entre os grupos usando os dados filtrados <a id='dadosfiltrados2'></a>"
   ]
  },
  {
   "cell_type": "markdown",
   "id": "5331f96b",
   "metadata": {},
   "source": [
    "Usando a nova tabela com os dados filtrados, iremos agora encontrar a significância estatística da diferença no tamanho médio do pedido entre os grupos usando os dados filtrados.\n",
    "\n",
    "Para isso, primeiramente iremos remover as anomalias e depois imprimiremos o valor-p para comparar os volumes médios e arredonde-o para três casas decimais.\n",
    "\n",
    "Já nesse teste iremos analisar as seguintes hipóteses:\n",
    "\n",
    "Hipótese nula: Não há diferença significativa entre o tamanho médio do pedido nas duas amostras.\n",
    "\n",
    "Hipótese alternativa: Existe diferença significativa entre o tamanho médio do pedido nas duas amostras."
   ]
  },
  {
   "cell_type": "code",
   "execution_count": 71,
   "id": "5453509e",
   "metadata": {},
   "outputs": [
    {
     "name": "stdout",
     "output_type": "stream",
     "text": [
      "0.680\n",
      "-0.047\n"
     ]
    }
   ],
   "source": [
    "print('{0:.3f}'.format(stats.mannwhitneyu(\n",
    "    orders[np.logical_and(\n",
    "        orders['group']=='A',\n",
    "        np.logical_not(orders['visitor_id'].isin(anomalias)))]['revenue'],\n",
    "    orders[np.logical_and(\n",
    "        orders['group']=='B',\n",
    "        np.logical_not(orders['visitor_id'].isin(anomalias)))]['revenue'])[1]))\n",
    "\n",
    "print('{0:.3f}'.format(\n",
    "    orders[np.logical_and(orders['group']=='B',np.logical_not(orders['visitor_id'].isin(anomalias)))]['revenue'].mean()/\n",
    "    orders[np.logical_and(\n",
    "        orders['group']=='A',\n",
    "        np.logical_not(orders['visitor_id'].isin(anomalias)))]['revenue'].mean() - 1))"
   ]
  },
  {
   "cell_type": "markdown",
   "id": "52e1d568",
   "metadata": {},
   "source": [
    "Já quanto à diferença no tamanho médio do pedido entre os grupos usando os dados filtrados, concluímos que o valor-p foi de 0,68, ou seja, superior a 0,05, e assim sendo, não há diferença significativa na receita média entre os grupos A e B. Também observamos que a receita média do grupo B perdeu 4,7% em relação à receita do grupo A."
   ]
  },
  {
   "cell_type": "markdown",
   "id": "d08bf68a",
   "metadata": {},
   "source": [
    "[Voltar ao Indice](#back)"
   ]
  },
  {
   "cell_type": "markdown",
   "id": "8f33006c",
   "metadata": {},
   "source": [
    "### 3.14. Decisão sobre o teste  <a id='decisao'></a>"
   ]
  },
  {
   "cell_type": "markdown",
   "id": "41417681",
   "metadata": {},
   "source": [
    "Com alguns testes realizados e observando seus resultados, entendemos que já podemos tomar uma decisão. Sabemos também que as possíveis decisões seriam: parar o teste e considerar um dos grupos o líder; parar o teste e concluir que não há diferença entre os grupos; continuar o teste.\n",
    "\n",
    "E assim, decidimos primeiramente parar o teste, ou seja, não iremos continuar testando mais os grupos A e B, pois já encontramos um resultado satisfatório para o estudo.\n",
    "\n",
    "Com a referida decisão e observando o teste como um todo, ficou claro e evidente que há diferença entre os grupos, e assim consideramos o grupo B líder, tendo em vista que houve uma grande diferença na significância estatística da diferença no tamanho médio do pedido em dados brutos e filtrados, e também na significância da conversão entre os grupos."
   ]
  },
  {
   "cell_type": "markdown",
   "id": "40b68b5f",
   "metadata": {},
   "source": [
    "[Voltar ao Indice](#back)"
   ]
  },
  {
   "cell_type": "markdown",
   "id": "dc0f4ede",
   "metadata": {},
   "source": [
    "# 4. CONCLUSÃO  <a id='conclusao'></a>"
   ]
  },
  {
   "cell_type": "markdown",
   "id": "82b15663",
   "metadata": {},
   "source": [
    "Com o presente estudo, pudemos concluir primeiramente sobre a priorização da hipótese que a melhor escolha seria usar o modelo RICE em vez do modelo ICE, tendo em vista que estamos priorizando hipóteses que mudam para refletir o potencial em um público maior, em vez de avaliarmos apenas o impacto, confiança e facilidade.\n",
    "\n",
    "Já quanto ao teste A/B, concluímos o seguinte:\n",
    "\n",
    "- sobre a receita acumulada e tamanho médio acumulado do pedido por grupo: o grupo B foi o vencedor, porém foi encontrado um pico que sugeriu de dados atípicos que afetariam o resultado final\n",
    "\n",
    "\n",
    "- quando verificamos a diferença relativa no tamanho médio acumulado do pedido entre os grupos, identificamos que poderia haver a existência de valores atípicos.\n",
    "\n",
    "\n",
    "- quanto a taxa de conversão o grupo B teve uma taxa maior e quando checamos a diferença relativa o mesmo liderou. \n",
    "\n",
    "\n",
    "- quanto da dispersão do número de pedidos por usuário e dos preços dos pedidos identificamos que de fato havia valores anômalos e calculamos os percentis e verificamos que: \n",
    "    - 5% dos usuários fizeram mais que 2 pedidos e 1% fizeram mais que 4 pedidos.\n",
    "    - 5% dos usuários fizeram pedidos com um valor maiores que 414,27 e que 1% fizeram pedidos com um valor mais alto que 900.90\n",
    "\n",
    "\n",
    "- Verificamos que existe uma grande diferença na significância estatística da diferença no tamanho médio do pedido em dados brutos e filtrados, e também há diferença na significância da conversão entre os grupos.\n",
    "\n",
    "\n",
    "- e com base no valor-p e na variância podemos concluir que: \n",
    "    - om os dados filtrados, temos uma diferença estatística significativa no tamanho médio do pedido, pois o valor-p está abaixo de 0.05, ou seja, podemos rejeitar a hipótese nula. Portanto, há diferença na média entre as duas amostras. Com as amostras mais homogêneas, a taxa de variância continua a ser alta.\n",
    "    - com relação à significância da conversão entre os grupos, verificamos que o valor-p foi maior que 0.05 e, portanto, não há diferença significativa na taxa de conversão entre os grupos A e B. Quanto à variação, encontramos um valor de 4.7%.\n",
    "\n",
    "Por fim, com os resultados encontrados no teste A/B, decidimos parar o teste. Pela evidente diferença entre os grupos, concluímos que o grupo B seria o líder, tendo em vista a grande diferença na significância estatística da diferença no tamanho médio do pedido em dados brutos e filtrados, assim como na significância da conversão entre os grupos.\n",
    "    \n"
   ]
  },
  {
   "cell_type": "markdown",
   "id": "577dfe77",
   "metadata": {},
   "source": [
    "[Voltar ao Indice](#back)"
   ]
  }
 ],
 "metadata": {
  "kernelspec": {
   "display_name": "Python 3 (ipykernel)",
   "language": "python",
   "name": "python3"
  },
  "language_info": {
   "codemirror_mode": {
    "name": "ipython",
    "version": 3
   },
   "file_extension": ".py",
   "mimetype": "text/x-python",
   "name": "python",
   "nbconvert_exporter": "python",
   "pygments_lexer": "ipython3",
   "version": "3.9.13"
  },
  "toc": {
   "base_numbering": 1,
   "nav_menu": {},
   "number_sections": true,
   "sideBar": true,
   "skip_h1_title": true,
   "title_cell": "Table of Contents",
   "title_sidebar": "Contents",
   "toc_cell": false,
   "toc_position": {},
   "toc_section_display": true,
   "toc_window_display": false
  }
 },
 "nbformat": 4,
 "nbformat_minor": 5
}
