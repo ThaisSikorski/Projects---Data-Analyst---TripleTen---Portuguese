{
 "cells": [
  {
   "cell_type": "markdown",
   "id": "b24be198",
   "metadata": {},
   "source": [
    "#  O JOGO DE SUCESSO"
   ]
  },
  {
   "cell_type": "markdown",
   "id": "d854f35b",
   "metadata": {},
   "source": [
    "Para identificar os jogos que mais vendem na loja online Ice e para planejar a campanha publicitária para o próximo ano, o presente projeto visa analisar as avaliações de usuários e especialistas, gêneros, plataformas (por exemplo, Xbox ou PlayStation) e dados históricos sobre vendas de jogos que estão disponíveis em fontes abertas, identificando padrões que determinam se um jogo tem sucesso ou não."
   ]
  },
  {
   "cell_type": "markdown",
   "id": "c32300a3",
   "metadata": {},
   "source": [
    "# Iniciação, Carregamento de Dados e Exploração de Dados"
   ]
  },
  {
   "cell_type": "markdown",
   "id": "632ad704",
   "metadata": {},
   "source": [
    "Carregaremos as bibliotecas e os dados do projeto para analisar as informações gerais. Inicialmente com os dados iremos observar as 10 linhas de cada conjunto de dados."
   ]
  },
  {
   "cell_type": "code",
   "execution_count": 9,
   "id": "b7254fcb",
   "metadata": {},
   "outputs": [],
   "source": [
    "import pandas as pd\n",
    "import matplotlib.pyplot as plt\n",
    "import numpy as np\n",
    "from scipy import stats as st"
   ]
  },
  {
   "cell_type": "code",
   "execution_count": 10,
   "id": "e8d29356",
   "metadata": {},
   "outputs": [],
   "source": [
    "#df = pd.read_csv(\"C:\\\\Users\\\\tha_s\\\\Downloads\\\\games.csv\")\n",
    "df = pd.read_csv(\"https://practicum-content.s3.us-west-1.amazonaws.com/datasets/games.csv\")"
   ]
  },
  {
   "cell_type": "code",
   "execution_count": 11,
   "id": "bb07f76f",
   "metadata": {},
   "outputs": [
    {
     "data": {
      "text/html": [
       "<div>\n",
       "<style scoped>\n",
       "    .dataframe tbody tr th:only-of-type {\n",
       "        vertical-align: middle;\n",
       "    }\n",
       "\n",
       "    .dataframe tbody tr th {\n",
       "        vertical-align: top;\n",
       "    }\n",
       "\n",
       "    .dataframe thead th {\n",
       "        text-align: right;\n",
       "    }\n",
       "</style>\n",
       "<table border=\"1\" class=\"dataframe\">\n",
       "  <thead>\n",
       "    <tr style=\"text-align: right;\">\n",
       "      <th></th>\n",
       "      <th>Name</th>\n",
       "      <th>Platform</th>\n",
       "      <th>Year_of_Release</th>\n",
       "      <th>Genre</th>\n",
       "      <th>NA_sales</th>\n",
       "      <th>EU_sales</th>\n",
       "      <th>JP_sales</th>\n",
       "      <th>Other_sales</th>\n",
       "      <th>Critic_Score</th>\n",
       "      <th>User_Score</th>\n",
       "      <th>Rating</th>\n",
       "    </tr>\n",
       "  </thead>\n",
       "  <tbody>\n",
       "    <tr>\n",
       "      <th>0</th>\n",
       "      <td>Wii Sports</td>\n",
       "      <td>Wii</td>\n",
       "      <td>2006.0</td>\n",
       "      <td>Sports</td>\n",
       "      <td>41.36</td>\n",
       "      <td>28.96</td>\n",
       "      <td>3.77</td>\n",
       "      <td>8.45</td>\n",
       "      <td>76.0</td>\n",
       "      <td>8</td>\n",
       "      <td>E</td>\n",
       "    </tr>\n",
       "    <tr>\n",
       "      <th>1</th>\n",
       "      <td>Super Mario Bros.</td>\n",
       "      <td>NES</td>\n",
       "      <td>1985.0</td>\n",
       "      <td>Platform</td>\n",
       "      <td>29.08</td>\n",
       "      <td>3.58</td>\n",
       "      <td>6.81</td>\n",
       "      <td>0.77</td>\n",
       "      <td>NaN</td>\n",
       "      <td>NaN</td>\n",
       "      <td>NaN</td>\n",
       "    </tr>\n",
       "    <tr>\n",
       "      <th>2</th>\n",
       "      <td>Mario Kart Wii</td>\n",
       "      <td>Wii</td>\n",
       "      <td>2008.0</td>\n",
       "      <td>Racing</td>\n",
       "      <td>15.68</td>\n",
       "      <td>12.76</td>\n",
       "      <td>3.79</td>\n",
       "      <td>3.29</td>\n",
       "      <td>82.0</td>\n",
       "      <td>8.3</td>\n",
       "      <td>E</td>\n",
       "    </tr>\n",
       "    <tr>\n",
       "      <th>3</th>\n",
       "      <td>Wii Sports Resort</td>\n",
       "      <td>Wii</td>\n",
       "      <td>2009.0</td>\n",
       "      <td>Sports</td>\n",
       "      <td>15.61</td>\n",
       "      <td>10.93</td>\n",
       "      <td>3.28</td>\n",
       "      <td>2.95</td>\n",
       "      <td>80.0</td>\n",
       "      <td>8</td>\n",
       "      <td>E</td>\n",
       "    </tr>\n",
       "    <tr>\n",
       "      <th>4</th>\n",
       "      <td>Pokemon Red/Pokemon Blue</td>\n",
       "      <td>GB</td>\n",
       "      <td>1996.0</td>\n",
       "      <td>Role-Playing</td>\n",
       "      <td>11.27</td>\n",
       "      <td>8.89</td>\n",
       "      <td>10.22</td>\n",
       "      <td>1.00</td>\n",
       "      <td>NaN</td>\n",
       "      <td>NaN</td>\n",
       "      <td>NaN</td>\n",
       "    </tr>\n",
       "    <tr>\n",
       "      <th>5</th>\n",
       "      <td>Tetris</td>\n",
       "      <td>GB</td>\n",
       "      <td>1989.0</td>\n",
       "      <td>Puzzle</td>\n",
       "      <td>23.20</td>\n",
       "      <td>2.26</td>\n",
       "      <td>4.22</td>\n",
       "      <td>0.58</td>\n",
       "      <td>NaN</td>\n",
       "      <td>NaN</td>\n",
       "      <td>NaN</td>\n",
       "    </tr>\n",
       "    <tr>\n",
       "      <th>6</th>\n",
       "      <td>New Super Mario Bros.</td>\n",
       "      <td>DS</td>\n",
       "      <td>2006.0</td>\n",
       "      <td>Platform</td>\n",
       "      <td>11.28</td>\n",
       "      <td>9.14</td>\n",
       "      <td>6.50</td>\n",
       "      <td>2.88</td>\n",
       "      <td>89.0</td>\n",
       "      <td>8.5</td>\n",
       "      <td>E</td>\n",
       "    </tr>\n",
       "    <tr>\n",
       "      <th>7</th>\n",
       "      <td>Wii Play</td>\n",
       "      <td>Wii</td>\n",
       "      <td>2006.0</td>\n",
       "      <td>Misc</td>\n",
       "      <td>13.96</td>\n",
       "      <td>9.18</td>\n",
       "      <td>2.93</td>\n",
       "      <td>2.84</td>\n",
       "      <td>58.0</td>\n",
       "      <td>6.6</td>\n",
       "      <td>E</td>\n",
       "    </tr>\n",
       "    <tr>\n",
       "      <th>8</th>\n",
       "      <td>New Super Mario Bros. Wii</td>\n",
       "      <td>Wii</td>\n",
       "      <td>2009.0</td>\n",
       "      <td>Platform</td>\n",
       "      <td>14.44</td>\n",
       "      <td>6.94</td>\n",
       "      <td>4.70</td>\n",
       "      <td>2.24</td>\n",
       "      <td>87.0</td>\n",
       "      <td>8.4</td>\n",
       "      <td>E</td>\n",
       "    </tr>\n",
       "    <tr>\n",
       "      <th>9</th>\n",
       "      <td>Duck Hunt</td>\n",
       "      <td>NES</td>\n",
       "      <td>1984.0</td>\n",
       "      <td>Shooter</td>\n",
       "      <td>26.93</td>\n",
       "      <td>0.63</td>\n",
       "      <td>0.28</td>\n",
       "      <td>0.47</td>\n",
       "      <td>NaN</td>\n",
       "      <td>NaN</td>\n",
       "      <td>NaN</td>\n",
       "    </tr>\n",
       "  </tbody>\n",
       "</table>\n",
       "</div>"
      ],
      "text/plain": [
       "                        Name Platform  Year_of_Release         Genre  \\\n",
       "0                 Wii Sports      Wii           2006.0        Sports   \n",
       "1          Super Mario Bros.      NES           1985.0      Platform   \n",
       "2             Mario Kart Wii      Wii           2008.0        Racing   \n",
       "3          Wii Sports Resort      Wii           2009.0        Sports   \n",
       "4   Pokemon Red/Pokemon Blue       GB           1996.0  Role-Playing   \n",
       "5                     Tetris       GB           1989.0        Puzzle   \n",
       "6      New Super Mario Bros.       DS           2006.0      Platform   \n",
       "7                   Wii Play      Wii           2006.0          Misc   \n",
       "8  New Super Mario Bros. Wii      Wii           2009.0      Platform   \n",
       "9                  Duck Hunt      NES           1984.0       Shooter   \n",
       "\n",
       "   NA_sales  EU_sales  JP_sales  Other_sales  Critic_Score User_Score Rating  \n",
       "0     41.36     28.96      3.77         8.45          76.0          8      E  \n",
       "1     29.08      3.58      6.81         0.77           NaN        NaN    NaN  \n",
       "2     15.68     12.76      3.79         3.29          82.0        8.3      E  \n",
       "3     15.61     10.93      3.28         2.95          80.0          8      E  \n",
       "4     11.27      8.89     10.22         1.00           NaN        NaN    NaN  \n",
       "5     23.20      2.26      4.22         0.58           NaN        NaN    NaN  \n",
       "6     11.28      9.14      6.50         2.88          89.0        8.5      E  \n",
       "7     13.96      9.18      2.93         2.84          58.0        6.6      E  \n",
       "8     14.44      6.94      4.70         2.24          87.0        8.4      E  \n",
       "9     26.93      0.63      0.28         0.47           NaN        NaN    NaN  "
      ]
     },
     "execution_count": 11,
     "metadata": {},
     "output_type": "execute_result"
    }
   ],
   "source": [
    "df.head(10)"
   ]
  },
  {
   "cell_type": "code",
   "execution_count": 12,
   "id": "641d25c2",
   "metadata": {},
   "outputs": [
    {
     "name": "stdout",
     "output_type": "stream",
     "text": [
      "<class 'pandas.core.frame.DataFrame'>\n",
      "RangeIndex: 16715 entries, 0 to 16714\n",
      "Data columns (total 11 columns):\n",
      " #   Column           Non-Null Count  Dtype  \n",
      "---  ------           --------------  -----  \n",
      " 0   Name             16713 non-null  object \n",
      " 1   Platform         16715 non-null  object \n",
      " 2   Year_of_Release  16446 non-null  float64\n",
      " 3   Genre            16713 non-null  object \n",
      " 4   NA_sales         16715 non-null  float64\n",
      " 5   EU_sales         16715 non-null  float64\n",
      " 6   JP_sales         16715 non-null  float64\n",
      " 7   Other_sales      16715 non-null  float64\n",
      " 8   Critic_Score     8137 non-null   float64\n",
      " 9   User_Score       10014 non-null  object \n",
      " 10  Rating           9949 non-null   object \n",
      "dtypes: float64(6), object(5)\n",
      "memory usage: 1.4+ MB\n"
     ]
    }
   ],
   "source": [
    "df.info()"
   ]
  },
  {
   "cell_type": "code",
   "execution_count": 13,
   "id": "8eee8ab5",
   "metadata": {},
   "outputs": [
    {
     "data": {
      "text/plain": [
       "Name                  2\n",
       "Platform              0\n",
       "Year_of_Release     269\n",
       "Genre                 2\n",
       "NA_sales              0\n",
       "EU_sales              0\n",
       "JP_sales              0\n",
       "Other_sales           0\n",
       "Critic_Score       8578\n",
       "User_Score         6701\n",
       "Rating             6766\n",
       "dtype: int64"
      ]
     },
     "execution_count": 13,
     "metadata": {},
     "output_type": "execute_result"
    }
   ],
   "source": [
    "df.isnull().sum()"
   ]
  },
  {
   "cell_type": "code",
   "execution_count": 14,
   "id": "ced9bcc2",
   "metadata": {},
   "outputs": [
    {
     "data": {
      "text/html": [
       "<div>\n",
       "<style scoped>\n",
       "    .dataframe tbody tr th:only-of-type {\n",
       "        vertical-align: middle;\n",
       "    }\n",
       "\n",
       "    .dataframe tbody tr th {\n",
       "        vertical-align: top;\n",
       "    }\n",
       "\n",
       "    .dataframe thead th {\n",
       "        text-align: right;\n",
       "    }\n",
       "</style>\n",
       "<table border=\"1\" class=\"dataframe\">\n",
       "  <thead>\n",
       "    <tr style=\"text-align: right;\">\n",
       "      <th></th>\n",
       "      <th>name</th>\n",
       "      <th>platform</th>\n",
       "      <th>year_of_release</th>\n",
       "      <th>genre</th>\n",
       "      <th>na_sales</th>\n",
       "      <th>eu_sales</th>\n",
       "      <th>jp_sales</th>\n",
       "      <th>other_sales</th>\n",
       "      <th>critic_score</th>\n",
       "      <th>user_score</th>\n",
       "      <th>rating</th>\n",
       "    </tr>\n",
       "  </thead>\n",
       "  <tbody>\n",
       "    <tr>\n",
       "      <th>0</th>\n",
       "      <td>Wii Sports</td>\n",
       "      <td>Wii</td>\n",
       "      <td>2006.0</td>\n",
       "      <td>Sports</td>\n",
       "      <td>41.36</td>\n",
       "      <td>28.96</td>\n",
       "      <td>3.77</td>\n",
       "      <td>8.45</td>\n",
       "      <td>76.0</td>\n",
       "      <td>8</td>\n",
       "      <td>E</td>\n",
       "    </tr>\n",
       "    <tr>\n",
       "      <th>1</th>\n",
       "      <td>Super Mario Bros.</td>\n",
       "      <td>NES</td>\n",
       "      <td>1985.0</td>\n",
       "      <td>Platform</td>\n",
       "      <td>29.08</td>\n",
       "      <td>3.58</td>\n",
       "      <td>6.81</td>\n",
       "      <td>0.77</td>\n",
       "      <td>NaN</td>\n",
       "      <td>NaN</td>\n",
       "      <td>NaN</td>\n",
       "    </tr>\n",
       "    <tr>\n",
       "      <th>2</th>\n",
       "      <td>Mario Kart Wii</td>\n",
       "      <td>Wii</td>\n",
       "      <td>2008.0</td>\n",
       "      <td>Racing</td>\n",
       "      <td>15.68</td>\n",
       "      <td>12.76</td>\n",
       "      <td>3.79</td>\n",
       "      <td>3.29</td>\n",
       "      <td>82.0</td>\n",
       "      <td>8.3</td>\n",
       "      <td>E</td>\n",
       "    </tr>\n",
       "    <tr>\n",
       "      <th>3</th>\n",
       "      <td>Wii Sports Resort</td>\n",
       "      <td>Wii</td>\n",
       "      <td>2009.0</td>\n",
       "      <td>Sports</td>\n",
       "      <td>15.61</td>\n",
       "      <td>10.93</td>\n",
       "      <td>3.28</td>\n",
       "      <td>2.95</td>\n",
       "      <td>80.0</td>\n",
       "      <td>8</td>\n",
       "      <td>E</td>\n",
       "    </tr>\n",
       "    <tr>\n",
       "      <th>4</th>\n",
       "      <td>Pokemon Red/Pokemon Blue</td>\n",
       "      <td>GB</td>\n",
       "      <td>1996.0</td>\n",
       "      <td>Role-Playing</td>\n",
       "      <td>11.27</td>\n",
       "      <td>8.89</td>\n",
       "      <td>10.22</td>\n",
       "      <td>1.00</td>\n",
       "      <td>NaN</td>\n",
       "      <td>NaN</td>\n",
       "      <td>NaN</td>\n",
       "    </tr>\n",
       "  </tbody>\n",
       "</table>\n",
       "</div>"
      ],
      "text/plain": [
       "                       name platform  year_of_release         genre  na_sales  \\\n",
       "0                Wii Sports      Wii           2006.0        Sports     41.36   \n",
       "1         Super Mario Bros.      NES           1985.0      Platform     29.08   \n",
       "2            Mario Kart Wii      Wii           2008.0        Racing     15.68   \n",
       "3         Wii Sports Resort      Wii           2009.0        Sports     15.61   \n",
       "4  Pokemon Red/Pokemon Blue       GB           1996.0  Role-Playing     11.27   \n",
       "\n",
       "   eu_sales  jp_sales  other_sales  critic_score user_score rating  \n",
       "0     28.96      3.77         8.45          76.0          8      E  \n",
       "1      3.58      6.81         0.77           NaN        NaN    NaN  \n",
       "2     12.76      3.79         3.29          82.0        8.3      E  \n",
       "3     10.93      3.28         2.95          80.0          8      E  \n",
       "4      8.89     10.22         1.00           NaN        NaN    NaN  "
      ]
     },
     "execution_count": 14,
     "metadata": {},
     "output_type": "execute_result"
    }
   ],
   "source": [
    "df.columns = df.columns.str.lower()\n",
    "df.head()"
   ]
  },
  {
   "cell_type": "markdown",
   "id": "1f213204",
   "metadata": {},
   "source": [
    "Inicialmente, pudemos verificar que o nome das colunas possui letras maiúsculas e minúsculas e arrumamos a grafia dos nomes das colunas para que fiquem todas em letra minúscula. Também identificamos que os dados referentes a data na coluna year_of_release se apresentavam como float64, e para que possamos analisá-los, iremos corrigi-los para que os dados constem como datetime. Verificamos que há dados ausentes nas colunas name, Year_of_Release, genre, Critic_Score, User_Score e Rating. Quanto aos valores ausentes nas colunas name e genre, por se tratarem de uma quantidade pequena em relação ao conjunto de dados geral, iremos ignorá-los. Quanto às demais colunas com valores ausentes, iremos analisá-las e criaremos um tópico para decidirmos como iremos tratá-los."
   ]
  },
  {
   "cell_type": "markdown",
   "id": "43ad9a8e",
   "metadata": {},
   "source": [
    "# Valores Ausentes"
   ]
  },
  {
   "cell_type": "markdown",
   "id": "d419a383",
   "metadata": {},
   "source": [
    "Como já informado anteriormente, as colunas year_of_release, critic_score, user_score e rating possuem valores ausentes. Agora, neste tópico, iremos decidir como tratá-los."
   ]
  },
  {
   "cell_type": "markdown",
   "id": "34125451",
   "metadata": {},
   "source": [
    "**Valores Ausentes em year_of_release**"
   ]
  },
  {
   "cell_type": "code",
   "execution_count": 15,
   "id": "e39846f1",
   "metadata": {},
   "outputs": [],
   "source": [
    "df['year_of_release'].fillna(value=0, inplace=True)"
   ]
  },
  {
   "cell_type": "code",
   "execution_count": 16,
   "id": "a086d097",
   "metadata": {},
   "outputs": [
    {
     "data": {
      "text/plain": [
       "0"
      ]
     },
     "execution_count": 16,
     "metadata": {},
     "output_type": "execute_result"
    }
   ],
   "source": [
    "df['year_of_release'].isna().sum()"
   ]
  },
  {
   "cell_type": "markdown",
   "id": "3cc3a650",
   "metadata": {},
   "source": [
    "Para a coluna year_of_release, não poderíamos retirar as linhas com os valores ausentes, pois isso poderia influenciar no resultado do estudo. Assim, preenchemos os valores ausentes com o valor 0."
   ]
  },
  {
   "cell_type": "markdown",
   "id": "f7fc7fe9",
   "metadata": {},
   "source": [
    "**Valores ausentes em critic_score**"
   ]
  },
  {
   "cell_type": "markdown",
   "id": "d10bf0b5",
   "metadata": {},
   "source": [
    "Para os valores ausentes em critic_score, decidimos não fazer nenhuma substituição. Não seria uma boa alternativa substituir os dados pela média, por exemplo, já que as críticas são dadas de acordo com o jogo, e no presente estudo a lista de jogos é extensa. Preencher valores nulos com valores médios poderia distorcer a distribuição dos dados. A ausência de dados pode ter ocorrido porque a avaliação não foi registrada corretamente ou foi perdida durante o processo de coleta de dados."
   ]
  },
  {
   "cell_type": "markdown",
   "id": "80256231",
   "metadata": {},
   "source": [
    "**Valores ausentes em user_score**"
   ]
  },
  {
   "cell_type": "code",
   "execution_count": 17,
   "id": "20f6d21d",
   "metadata": {
    "scrolled": true
   },
   "outputs": [
    {
     "data": {
      "text/plain": [
       "tbd    2424\n",
       "7.8     324\n",
       "8       290\n",
       "8.2     282\n",
       "8.3     254\n",
       "       ... \n",
       "1.1       2\n",
       "1.9       2\n",
       "9.6       2\n",
       "0         1\n",
       "9.7       1\n",
       "Name: user_score, Length: 96, dtype: int64"
      ]
     },
     "execution_count": 17,
     "metadata": {},
     "output_type": "execute_result"
    }
   ],
   "source": [
    "df['user_score'].value_counts()"
   ]
  },
  {
   "cell_type": "code",
   "execution_count": 18,
   "id": "af289d77",
   "metadata": {},
   "outputs": [],
   "source": [
    "df['user_score'].replace({'tbd':np.nan}, inplace=True)"
   ]
  },
  {
   "cell_type": "code",
   "execution_count": 19,
   "id": "5fb117c0",
   "metadata": {},
   "outputs": [
    {
     "data": {
      "text/plain": [
       "7.8    324\n",
       "8      290\n",
       "8.2    282\n",
       "8.3    254\n",
       "8.5    253\n",
       "      ... \n",
       "1.5      2\n",
       "0.3      2\n",
       "1.1      2\n",
       "0        1\n",
       "9.7      1\n",
       "Name: user_score, Length: 95, dtype: int64"
      ]
     },
     "execution_count": 19,
     "metadata": {},
     "output_type": "execute_result"
    }
   ],
   "source": [
    "df['user_score'].value_counts()"
   ]
  },
  {
   "cell_type": "code",
   "execution_count": 20,
   "id": "f4480f0f",
   "metadata": {},
   "outputs": [
    {
     "data": {
      "text/html": [
       "<div>\n",
       "<style scoped>\n",
       "    .dataframe tbody tr th:only-of-type {\n",
       "        vertical-align: middle;\n",
       "    }\n",
       "\n",
       "    .dataframe tbody tr th {\n",
       "        vertical-align: top;\n",
       "    }\n",
       "\n",
       "    .dataframe thead th {\n",
       "        text-align: right;\n",
       "    }\n",
       "</style>\n",
       "<table border=\"1\" class=\"dataframe\">\n",
       "  <thead>\n",
       "    <tr style=\"text-align: right;\">\n",
       "      <th></th>\n",
       "      <th>name</th>\n",
       "      <th>platform</th>\n",
       "      <th>year_of_release</th>\n",
       "      <th>genre</th>\n",
       "      <th>na_sales</th>\n",
       "      <th>eu_sales</th>\n",
       "      <th>jp_sales</th>\n",
       "      <th>other_sales</th>\n",
       "      <th>critic_score</th>\n",
       "      <th>user_score</th>\n",
       "      <th>rating</th>\n",
       "    </tr>\n",
       "  </thead>\n",
       "  <tbody>\n",
       "    <tr>\n",
       "      <th>0</th>\n",
       "      <td>Wii Sports</td>\n",
       "      <td>Wii</td>\n",
       "      <td>2006.0</td>\n",
       "      <td>Sports</td>\n",
       "      <td>41.36</td>\n",
       "      <td>28.96</td>\n",
       "      <td>3.77</td>\n",
       "      <td>8.45</td>\n",
       "      <td>76.0</td>\n",
       "      <td>8</td>\n",
       "      <td>E</td>\n",
       "    </tr>\n",
       "    <tr>\n",
       "      <th>2</th>\n",
       "      <td>Mario Kart Wii</td>\n",
       "      <td>Wii</td>\n",
       "      <td>2008.0</td>\n",
       "      <td>Racing</td>\n",
       "      <td>15.68</td>\n",
       "      <td>12.76</td>\n",
       "      <td>3.79</td>\n",
       "      <td>3.29</td>\n",
       "      <td>82.0</td>\n",
       "      <td>8.3</td>\n",
       "      <td>E</td>\n",
       "    </tr>\n",
       "    <tr>\n",
       "      <th>3</th>\n",
       "      <td>Wii Sports Resort</td>\n",
       "      <td>Wii</td>\n",
       "      <td>2009.0</td>\n",
       "      <td>Sports</td>\n",
       "      <td>15.61</td>\n",
       "      <td>10.93</td>\n",
       "      <td>3.28</td>\n",
       "      <td>2.95</td>\n",
       "      <td>80.0</td>\n",
       "      <td>8</td>\n",
       "      <td>E</td>\n",
       "    </tr>\n",
       "    <tr>\n",
       "      <th>6</th>\n",
       "      <td>New Super Mario Bros.</td>\n",
       "      <td>DS</td>\n",
       "      <td>2006.0</td>\n",
       "      <td>Platform</td>\n",
       "      <td>11.28</td>\n",
       "      <td>9.14</td>\n",
       "      <td>6.50</td>\n",
       "      <td>2.88</td>\n",
       "      <td>89.0</td>\n",
       "      <td>8.5</td>\n",
       "      <td>E</td>\n",
       "    </tr>\n",
       "    <tr>\n",
       "      <th>7</th>\n",
       "      <td>Wii Play</td>\n",
       "      <td>Wii</td>\n",
       "      <td>2006.0</td>\n",
       "      <td>Misc</td>\n",
       "      <td>13.96</td>\n",
       "      <td>9.18</td>\n",
       "      <td>2.93</td>\n",
       "      <td>2.84</td>\n",
       "      <td>58.0</td>\n",
       "      <td>6.6</td>\n",
       "      <td>E</td>\n",
       "    </tr>\n",
       "  </tbody>\n",
       "</table>\n",
       "</div>"
      ],
      "text/plain": [
       "                    name platform  year_of_release     genre  na_sales  \\\n",
       "0             Wii Sports      Wii           2006.0    Sports     41.36   \n",
       "2         Mario Kart Wii      Wii           2008.0    Racing     15.68   \n",
       "3      Wii Sports Resort      Wii           2009.0    Sports     15.61   \n",
       "6  New Super Mario Bros.       DS           2006.0  Platform     11.28   \n",
       "7               Wii Play      Wii           2006.0      Misc     13.96   \n",
       "\n",
       "   eu_sales  jp_sales  other_sales  critic_score user_score rating  \n",
       "0     28.96      3.77         8.45          76.0          8      E  \n",
       "2     12.76      3.79         3.29          82.0        8.3      E  \n",
       "3     10.93      3.28         2.95          80.0          8      E  \n",
       "6      9.14      6.50         2.88          89.0        8.5      E  \n",
       "7      9.18      2.93         2.84          58.0        6.6      E  "
      ]
     },
     "execution_count": 20,
     "metadata": {},
     "output_type": "execute_result"
    }
   ],
   "source": [
    "df = df.dropna(subset=['user_score'])\n",
    "df.head()"
   ]
  },
  {
   "cell_type": "markdown",
   "id": "bb8dacc1",
   "metadata": {},
   "source": [
    "Ao checar os valores presentes na coluna user_score, observamos que há um valor \"tbd\" (to be determined). Com os valores \"tbd\", fizemos uma substituição para NaN, pois seria mais fácil para trabalharmos com esse valor. Por fim, com todos os valores ausentes, decidimos não preenchê-los por entender que não seria a melhor alternativa, pois preenchê-los poderia influenciar no resultado do estudo. \n",
    "\n",
    "Porém, durante a análise, para podermos realizar algumas análises no conjunto de dados, usamos o método df.dropna(subset=[]) na coluna user_score."
   ]
  },
  {
   "cell_type": "markdown",
   "id": "40365635",
   "metadata": {},
   "source": [
    "**Valores ausentes em rating**"
   ]
  },
  {
   "cell_type": "code",
   "execution_count": 21,
   "id": "85287675",
   "metadata": {},
   "outputs": [
    {
     "data": {
      "text/plain": [
       "Action          1830\n",
       "Sports          1103\n",
       "Shooter          924\n",
       "Role-Playing     743\n",
       "Racing           641\n",
       "Misc             439\n",
       "Platform         428\n",
       "Fighting         399\n",
       "Simulation       344\n",
       "Strategy         311\n",
       "Adventure        300\n",
       "Puzzle           128\n",
       "Name: genre, dtype: int64"
      ]
     },
     "execution_count": 21,
     "metadata": {},
     "output_type": "execute_result"
    }
   ],
   "source": [
    "df['genre'].value_counts()"
   ]
  },
  {
   "cell_type": "code",
   "execution_count": 22,
   "id": "be8703a2",
   "metadata": {},
   "outputs": [
    {
     "data": {
      "text/html": [
       "<div>\n",
       "<style scoped>\n",
       "    .dataframe tbody tr th:only-of-type {\n",
       "        vertical-align: middle;\n",
       "    }\n",
       "\n",
       "    .dataframe tbody tr th {\n",
       "        vertical-align: top;\n",
       "    }\n",
       "\n",
       "    .dataframe thead th {\n",
       "        text-align: right;\n",
       "    }\n",
       "</style>\n",
       "<table border=\"1\" class=\"dataframe\">\n",
       "  <thead>\n",
       "    <tr style=\"text-align: right;\">\n",
       "      <th></th>\n",
       "      <th>name</th>\n",
       "      <th>platform</th>\n",
       "      <th>year_of_release</th>\n",
       "      <th>genre</th>\n",
       "      <th>na_sales</th>\n",
       "      <th>eu_sales</th>\n",
       "      <th>jp_sales</th>\n",
       "      <th>other_sales</th>\n",
       "      <th>critic_score</th>\n",
       "      <th>user_score</th>\n",
       "      <th>rating</th>\n",
       "    </tr>\n",
       "  </thead>\n",
       "  <tbody>\n",
       "    <tr>\n",
       "      <th>160</th>\n",
       "      <td>Assassin's Creed</td>\n",
       "      <td>X360</td>\n",
       "      <td>2007.0</td>\n",
       "      <td>Adventure</td>\n",
       "      <td>3.28</td>\n",
       "      <td>1.64</td>\n",
       "      <td>0.07</td>\n",
       "      <td>0.56</td>\n",
       "      <td>81.0</td>\n",
       "      <td>7.7</td>\n",
       "      <td>M</td>\n",
       "    </tr>\n",
       "    <tr>\n",
       "      <th>219</th>\n",
       "      <td>Assassin's Creed</td>\n",
       "      <td>PS3</td>\n",
       "      <td>2007.0</td>\n",
       "      <td>Adventure</td>\n",
       "      <td>1.91</td>\n",
       "      <td>2.00</td>\n",
       "      <td>0.09</td>\n",
       "      <td>0.82</td>\n",
       "      <td>81.0</td>\n",
       "      <td>7.3</td>\n",
       "      <td>M</td>\n",
       "    </tr>\n",
       "    <tr>\n",
       "      <th>433</th>\n",
       "      <td>L.A. Noire</td>\n",
       "      <td>PS3</td>\n",
       "      <td>2011.0</td>\n",
       "      <td>Adventure</td>\n",
       "      <td>1.27</td>\n",
       "      <td>1.29</td>\n",
       "      <td>0.12</td>\n",
       "      <td>0.49</td>\n",
       "      <td>89.0</td>\n",
       "      <td>7.7</td>\n",
       "      <td>M</td>\n",
       "    </tr>\n",
       "    <tr>\n",
       "      <th>437</th>\n",
       "      <td>Club Penguin: Elite Penguin Force</td>\n",
       "      <td>DS</td>\n",
       "      <td>2008.0</td>\n",
       "      <td>Adventure</td>\n",
       "      <td>1.87</td>\n",
       "      <td>0.97</td>\n",
       "      <td>0.00</td>\n",
       "      <td>0.30</td>\n",
       "      <td>NaN</td>\n",
       "      <td>8</td>\n",
       "      <td>E</td>\n",
       "    </tr>\n",
       "    <tr>\n",
       "      <th>463</th>\n",
       "      <td>Heavy Rain</td>\n",
       "      <td>PS3</td>\n",
       "      <td>2010.0</td>\n",
       "      <td>Adventure</td>\n",
       "      <td>1.29</td>\n",
       "      <td>1.21</td>\n",
       "      <td>0.06</td>\n",
       "      <td>0.47</td>\n",
       "      <td>87.0</td>\n",
       "      <td>7.7</td>\n",
       "      <td>M</td>\n",
       "    </tr>\n",
       "    <tr>\n",
       "      <th>...</th>\n",
       "      <td>...</td>\n",
       "      <td>...</td>\n",
       "      <td>...</td>\n",
       "      <td>...</td>\n",
       "      <td>...</td>\n",
       "      <td>...</td>\n",
       "      <td>...</td>\n",
       "      <td>...</td>\n",
       "      <td>...</td>\n",
       "      <td>...</td>\n",
       "      <td>...</td>\n",
       "    </tr>\n",
       "    <tr>\n",
       "      <th>16499</th>\n",
       "      <td>Sherlock Holmes: The Devil's Daughter</td>\n",
       "      <td>PS4</td>\n",
       "      <td>2016.0</td>\n",
       "      <td>Adventure</td>\n",
       "      <td>0.01</td>\n",
       "      <td>0.00</td>\n",
       "      <td>0.00</td>\n",
       "      <td>0.00</td>\n",
       "      <td>70.0</td>\n",
       "      <td>6.8</td>\n",
       "      <td>T</td>\n",
       "    </tr>\n",
       "    <tr>\n",
       "      <th>16500</th>\n",
       "      <td>Root Letter</td>\n",
       "      <td>PS4</td>\n",
       "      <td>2016.0</td>\n",
       "      <td>Adventure</td>\n",
       "      <td>0.00</td>\n",
       "      <td>0.00</td>\n",
       "      <td>0.01</td>\n",
       "      <td>0.00</td>\n",
       "      <td>69.0</td>\n",
       "      <td>7.5</td>\n",
       "      <td>NaN</td>\n",
       "    </tr>\n",
       "    <tr>\n",
       "      <th>16532</th>\n",
       "      <td>Alone in the Dark</td>\n",
       "      <td>PC</td>\n",
       "      <td>2008.0</td>\n",
       "      <td>Adventure</td>\n",
       "      <td>0.00</td>\n",
       "      <td>0.01</td>\n",
       "      <td>0.00</td>\n",
       "      <td>0.00</td>\n",
       "      <td>55.0</td>\n",
       "      <td>5.7</td>\n",
       "      <td>M</td>\n",
       "    </tr>\n",
       "    <tr>\n",
       "      <th>16618</th>\n",
       "      <td>Xblaze: Lost Memories</td>\n",
       "      <td>PSV</td>\n",
       "      <td>2015.0</td>\n",
       "      <td>Adventure</td>\n",
       "      <td>0.01</td>\n",
       "      <td>0.00</td>\n",
       "      <td>0.00</td>\n",
       "      <td>0.00</td>\n",
       "      <td>NaN</td>\n",
       "      <td>7</td>\n",
       "      <td>M</td>\n",
       "    </tr>\n",
       "    <tr>\n",
       "      <th>16705</th>\n",
       "      <td>15 Days</td>\n",
       "      <td>PC</td>\n",
       "      <td>2009.0</td>\n",
       "      <td>Adventure</td>\n",
       "      <td>0.00</td>\n",
       "      <td>0.01</td>\n",
       "      <td>0.00</td>\n",
       "      <td>0.00</td>\n",
       "      <td>63.0</td>\n",
       "      <td>5.8</td>\n",
       "      <td>NaN</td>\n",
       "    </tr>\n",
       "  </tbody>\n",
       "</table>\n",
       "<p>300 rows × 11 columns</p>\n",
       "</div>"
      ],
      "text/plain": [
       "                                        name platform  year_of_release  \\\n",
       "160                         Assassin's Creed     X360           2007.0   \n",
       "219                         Assassin's Creed      PS3           2007.0   \n",
       "433                               L.A. Noire      PS3           2011.0   \n",
       "437        Club Penguin: Elite Penguin Force       DS           2008.0   \n",
       "463                               Heavy Rain      PS3           2010.0   \n",
       "...                                      ...      ...              ...   \n",
       "16499  Sherlock Holmes: The Devil's Daughter      PS4           2016.0   \n",
       "16500                            Root Letter      PS4           2016.0   \n",
       "16532                      Alone in the Dark       PC           2008.0   \n",
       "16618                  Xblaze: Lost Memories      PSV           2015.0   \n",
       "16705                                15 Days       PC           2009.0   \n",
       "\n",
       "           genre  na_sales  eu_sales  jp_sales  other_sales  critic_score  \\\n",
       "160    Adventure      3.28      1.64      0.07         0.56          81.0   \n",
       "219    Adventure      1.91      2.00      0.09         0.82          81.0   \n",
       "433    Adventure      1.27      1.29      0.12         0.49          89.0   \n",
       "437    Adventure      1.87      0.97      0.00         0.30           NaN   \n",
       "463    Adventure      1.29      1.21      0.06         0.47          87.0   \n",
       "...          ...       ...       ...       ...          ...           ...   \n",
       "16499  Adventure      0.01      0.00      0.00         0.00          70.0   \n",
       "16500  Adventure      0.00      0.00      0.01         0.00          69.0   \n",
       "16532  Adventure      0.00      0.01      0.00         0.00          55.0   \n",
       "16618  Adventure      0.01      0.00      0.00         0.00           NaN   \n",
       "16705  Adventure      0.00      0.01      0.00         0.00          63.0   \n",
       "\n",
       "      user_score rating  \n",
       "160          7.7      M  \n",
       "219          7.3      M  \n",
       "433          7.7      M  \n",
       "437            8      E  \n",
       "463          7.7      M  \n",
       "...          ...    ...  \n",
       "16499        6.8      T  \n",
       "16500        7.5    NaN  \n",
       "16532        5.7      M  \n",
       "16618          7      M  \n",
       "16705        5.8    NaN  \n",
       "\n",
       "[300 rows x 11 columns]"
      ]
     },
     "execution_count": 22,
     "metadata": {},
     "output_type": "execute_result"
    }
   ],
   "source": [
    "aventura = df.loc[df['genre'] == 'Adventure']\n",
    "aventura"
   ]
  },
  {
   "cell_type": "code",
   "execution_count": 23,
   "id": "ff1beeb4",
   "metadata": {},
   "outputs": [
    {
     "data": {
      "text/html": [
       "<div>\n",
       "<style scoped>\n",
       "    .dataframe tbody tr th:only-of-type {\n",
       "        vertical-align: middle;\n",
       "    }\n",
       "\n",
       "    .dataframe tbody tr th {\n",
       "        vertical-align: top;\n",
       "    }\n",
       "\n",
       "    .dataframe thead th {\n",
       "        text-align: right;\n",
       "    }\n",
       "</style>\n",
       "<table border=\"1\" class=\"dataframe\">\n",
       "  <thead>\n",
       "    <tr style=\"text-align: right;\">\n",
       "      <th></th>\n",
       "      <th>name</th>\n",
       "      <th>platform</th>\n",
       "      <th>year_of_release</th>\n",
       "      <th>genre</th>\n",
       "      <th>na_sales</th>\n",
       "      <th>eu_sales</th>\n",
       "      <th>jp_sales</th>\n",
       "      <th>other_sales</th>\n",
       "      <th>critic_score</th>\n",
       "      <th>user_score</th>\n",
       "      <th>rating</th>\n",
       "    </tr>\n",
       "  </thead>\n",
       "  <tbody>\n",
       "    <tr>\n",
       "      <th>218</th>\n",
       "      <td>StarCraft II: Wings of Liberty</td>\n",
       "      <td>PC</td>\n",
       "      <td>2010.0</td>\n",
       "      <td>Strategy</td>\n",
       "      <td>2.57</td>\n",
       "      <td>1.68</td>\n",
       "      <td>0.00</td>\n",
       "      <td>0.58</td>\n",
       "      <td>93.0</td>\n",
       "      <td>8.2</td>\n",
       "      <td>T</td>\n",
       "    </tr>\n",
       "    <tr>\n",
       "      <th>582</th>\n",
       "      <td>Halo Wars</td>\n",
       "      <td>X360</td>\n",
       "      <td>2009.0</td>\n",
       "      <td>Strategy</td>\n",
       "      <td>1.54</td>\n",
       "      <td>0.80</td>\n",
       "      <td>0.04</td>\n",
       "      <td>0.24</td>\n",
       "      <td>82.0</td>\n",
       "      <td>7.2</td>\n",
       "      <td>T</td>\n",
       "    </tr>\n",
       "    <tr>\n",
       "      <th>656</th>\n",
       "      <td>Theme Hospital</td>\n",
       "      <td>PC</td>\n",
       "      <td>1997.0</td>\n",
       "      <td>Strategy</td>\n",
       "      <td>2.30</td>\n",
       "      <td>0.10</td>\n",
       "      <td>0.00</td>\n",
       "      <td>0.00</td>\n",
       "      <td>NaN</td>\n",
       "      <td>9</td>\n",
       "      <td>K-A</td>\n",
       "    </tr>\n",
       "    <tr>\n",
       "      <th>803</th>\n",
       "      <td>Sim Theme Park</td>\n",
       "      <td>PC</td>\n",
       "      <td>1998.0</td>\n",
       "      <td>Strategy</td>\n",
       "      <td>2.04</td>\n",
       "      <td>0.04</td>\n",
       "      <td>0.00</td>\n",
       "      <td>0.00</td>\n",
       "      <td>NaN</td>\n",
       "      <td>8.3</td>\n",
       "      <td>E</td>\n",
       "    </tr>\n",
       "    <tr>\n",
       "      <th>1078</th>\n",
       "      <td>Sid Meier's Civilization V</td>\n",
       "      <td>PC</td>\n",
       "      <td>2010.0</td>\n",
       "      <td>Strategy</td>\n",
       "      <td>0.98</td>\n",
       "      <td>0.52</td>\n",
       "      <td>0.00</td>\n",
       "      <td>0.17</td>\n",
       "      <td>90.0</td>\n",
       "      <td>7.9</td>\n",
       "      <td>E10+</td>\n",
       "    </tr>\n",
       "    <tr>\n",
       "      <th>...</th>\n",
       "      <td>...</td>\n",
       "      <td>...</td>\n",
       "      <td>...</td>\n",
       "      <td>...</td>\n",
       "      <td>...</td>\n",
       "      <td>...</td>\n",
       "      <td>...</td>\n",
       "      <td>...</td>\n",
       "      <td>...</td>\n",
       "      <td>...</td>\n",
       "      <td>...</td>\n",
       "    </tr>\n",
       "    <tr>\n",
       "      <th>16453</th>\n",
       "      <td>Act of Aggression</td>\n",
       "      <td>PC</td>\n",
       "      <td>2015.0</td>\n",
       "      <td>Strategy</td>\n",
       "      <td>0.00</td>\n",
       "      <td>0.01</td>\n",
       "      <td>0.00</td>\n",
       "      <td>0.00</td>\n",
       "      <td>71.0</td>\n",
       "      <td>7.1</td>\n",
       "      <td>NaN</td>\n",
       "    </tr>\n",
       "    <tr>\n",
       "      <th>16569</th>\n",
       "      <td>The Eye of Judgment: Legends</td>\n",
       "      <td>PSP</td>\n",
       "      <td>2010.0</td>\n",
       "      <td>Strategy</td>\n",
       "      <td>0.00</td>\n",
       "      <td>0.00</td>\n",
       "      <td>0.01</td>\n",
       "      <td>0.00</td>\n",
       "      <td>69.0</td>\n",
       "      <td>7.9</td>\n",
       "      <td>E10+</td>\n",
       "    </tr>\n",
       "    <tr>\n",
       "      <th>16640</th>\n",
       "      <td>Hospital Tycoon</td>\n",
       "      <td>PC</td>\n",
       "      <td>2007.0</td>\n",
       "      <td>Strategy</td>\n",
       "      <td>0.00</td>\n",
       "      <td>0.01</td>\n",
       "      <td>0.00</td>\n",
       "      <td>0.00</td>\n",
       "      <td>51.0</td>\n",
       "      <td>3.8</td>\n",
       "      <td>E10+</td>\n",
       "    </tr>\n",
       "    <tr>\n",
       "      <th>16681</th>\n",
       "      <td>Worms 2</td>\n",
       "      <td>PC</td>\n",
       "      <td>1997.0</td>\n",
       "      <td>Strategy</td>\n",
       "      <td>0.00</td>\n",
       "      <td>0.01</td>\n",
       "      <td>0.00</td>\n",
       "      <td>0.00</td>\n",
       "      <td>NaN</td>\n",
       "      <td>8.1</td>\n",
       "      <td>K-A</td>\n",
       "    </tr>\n",
       "    <tr>\n",
       "      <th>16702</th>\n",
       "      <td>STORM: Frontline Nation</td>\n",
       "      <td>PC</td>\n",
       "      <td>2011.0</td>\n",
       "      <td>Strategy</td>\n",
       "      <td>0.00</td>\n",
       "      <td>0.01</td>\n",
       "      <td>0.00</td>\n",
       "      <td>0.00</td>\n",
       "      <td>60.0</td>\n",
       "      <td>7.2</td>\n",
       "      <td>E10+</td>\n",
       "    </tr>\n",
       "  </tbody>\n",
       "</table>\n",
       "<p>311 rows × 11 columns</p>\n",
       "</div>"
      ],
      "text/plain": [
       "                                 name platform  year_of_release     genre  \\\n",
       "218    StarCraft II: Wings of Liberty       PC           2010.0  Strategy   \n",
       "582                         Halo Wars     X360           2009.0  Strategy   \n",
       "656                    Theme Hospital       PC           1997.0  Strategy   \n",
       "803                    Sim Theme Park       PC           1998.0  Strategy   \n",
       "1078       Sid Meier's Civilization V       PC           2010.0  Strategy   \n",
       "...                               ...      ...              ...       ...   \n",
       "16453               Act of Aggression       PC           2015.0  Strategy   \n",
       "16569    The Eye of Judgment: Legends      PSP           2010.0  Strategy   \n",
       "16640                 Hospital Tycoon       PC           2007.0  Strategy   \n",
       "16681                         Worms 2       PC           1997.0  Strategy   \n",
       "16702         STORM: Frontline Nation       PC           2011.0  Strategy   \n",
       "\n",
       "       na_sales  eu_sales  jp_sales  other_sales  critic_score user_score  \\\n",
       "218        2.57      1.68      0.00         0.58          93.0        8.2   \n",
       "582        1.54      0.80      0.04         0.24          82.0        7.2   \n",
       "656        2.30      0.10      0.00         0.00           NaN          9   \n",
       "803        2.04      0.04      0.00         0.00           NaN        8.3   \n",
       "1078       0.98      0.52      0.00         0.17          90.0        7.9   \n",
       "...         ...       ...       ...          ...           ...        ...   \n",
       "16453      0.00      0.01      0.00         0.00          71.0        7.1   \n",
       "16569      0.00      0.00      0.01         0.00          69.0        7.9   \n",
       "16640      0.00      0.01      0.00         0.00          51.0        3.8   \n",
       "16681      0.00      0.01      0.00         0.00           NaN        8.1   \n",
       "16702      0.00      0.01      0.00         0.00          60.0        7.2   \n",
       "\n",
       "      rating  \n",
       "218        T  \n",
       "582        T  \n",
       "656      K-A  \n",
       "803        E  \n",
       "1078    E10+  \n",
       "...      ...  \n",
       "16453    NaN  \n",
       "16569   E10+  \n",
       "16640   E10+  \n",
       "16681    K-A  \n",
       "16702   E10+  \n",
       "\n",
       "[311 rows x 11 columns]"
      ]
     },
     "execution_count": 23,
     "metadata": {},
     "output_type": "execute_result"
    }
   ],
   "source": [
    "strategy = df.loc[df['genre'] == 'Strategy']\n",
    "strategy"
   ]
  },
  {
   "cell_type": "code",
   "execution_count": 24,
   "id": "34b49a6f",
   "metadata": {},
   "outputs": [],
   "source": [
    "def rating_genre(row):\n",
    "    genre = row['genre']\n",
    "    rating = row['rating']\n",
    "    \n",
    "    e_genres = ['Puzzle', 'Sports', 'Misc', 'Racing', 'Platform', 'Simulation']\n",
    "    \n",
    "    if genre in e_genres:\n",
    "        return 'E'\n",
    "    elif genre in ['Action', 'Shooter', 'Adventure']:\n",
    "        return 'M'\n",
    "    elif genre in ['Role-Playing', 'Fighting', 'Strategy']:\n",
    "        return 'T'\n",
    "    else:\n",
    "        return rating"
   ]
  },
  {
   "cell_type": "code",
   "execution_count": 25,
   "id": "29844c40",
   "metadata": {},
   "outputs": [
    {
     "data": {
      "text/plain": [
       "'M'"
      ]
     },
     "execution_count": 25,
     "metadata": {},
     "output_type": "execute_result"
    }
   ],
   "source": [
    "rating_genre(df.iloc[10])"
   ]
  },
  {
   "cell_type": "code",
   "execution_count": 26,
   "id": "dfcf2f85",
   "metadata": {},
   "outputs": [],
   "source": [
    "df['rating'] = df.apply(rating_genre, axis=1)"
   ]
  },
  {
   "cell_type": "code",
   "execution_count": 27,
   "id": "a06a43c8",
   "metadata": {},
   "outputs": [
    {
     "data": {
      "text/plain": [
       "array(['E', 'M', 'T'], dtype=object)"
      ]
     },
     "execution_count": 27,
     "metadata": {},
     "output_type": "execute_result"
    }
   ],
   "source": [
    "df['rating'].unique()"
   ]
  },
  {
   "cell_type": "code",
   "execution_count": 28,
   "id": "97075961",
   "metadata": {},
   "outputs": [
    {
     "data": {
      "text/html": [
       "<div>\n",
       "<style scoped>\n",
       "    .dataframe tbody tr th:only-of-type {\n",
       "        vertical-align: middle;\n",
       "    }\n",
       "\n",
       "    .dataframe tbody tr th {\n",
       "        vertical-align: top;\n",
       "    }\n",
       "\n",
       "    .dataframe thead th {\n",
       "        text-align: right;\n",
       "    }\n",
       "</style>\n",
       "<table border=\"1\" class=\"dataframe\">\n",
       "  <thead>\n",
       "    <tr style=\"text-align: right;\">\n",
       "      <th></th>\n",
       "      <th>name</th>\n",
       "      <th>platform</th>\n",
       "      <th>year_of_release</th>\n",
       "      <th>genre</th>\n",
       "      <th>na_sales</th>\n",
       "      <th>eu_sales</th>\n",
       "      <th>jp_sales</th>\n",
       "      <th>other_sales</th>\n",
       "      <th>critic_score</th>\n",
       "      <th>user_score</th>\n",
       "      <th>rating</th>\n",
       "    </tr>\n",
       "  </thead>\n",
       "  <tbody>\n",
       "    <tr>\n",
       "      <th>0</th>\n",
       "      <td>Wii Sports</td>\n",
       "      <td>Wii</td>\n",
       "      <td>2006.0</td>\n",
       "      <td>Sports</td>\n",
       "      <td>41.36</td>\n",
       "      <td>28.96</td>\n",
       "      <td>3.77</td>\n",
       "      <td>8.45</td>\n",
       "      <td>76.0</td>\n",
       "      <td>8</td>\n",
       "      <td>E</td>\n",
       "    </tr>\n",
       "    <tr>\n",
       "      <th>2</th>\n",
       "      <td>Mario Kart Wii</td>\n",
       "      <td>Wii</td>\n",
       "      <td>2008.0</td>\n",
       "      <td>Racing</td>\n",
       "      <td>15.68</td>\n",
       "      <td>12.76</td>\n",
       "      <td>3.79</td>\n",
       "      <td>3.29</td>\n",
       "      <td>82.0</td>\n",
       "      <td>8.3</td>\n",
       "      <td>E</td>\n",
       "    </tr>\n",
       "    <tr>\n",
       "      <th>3</th>\n",
       "      <td>Wii Sports Resort</td>\n",
       "      <td>Wii</td>\n",
       "      <td>2009.0</td>\n",
       "      <td>Sports</td>\n",
       "      <td>15.61</td>\n",
       "      <td>10.93</td>\n",
       "      <td>3.28</td>\n",
       "      <td>2.95</td>\n",
       "      <td>80.0</td>\n",
       "      <td>8</td>\n",
       "      <td>E</td>\n",
       "    </tr>\n",
       "    <tr>\n",
       "      <th>6</th>\n",
       "      <td>New Super Mario Bros.</td>\n",
       "      <td>DS</td>\n",
       "      <td>2006.0</td>\n",
       "      <td>Platform</td>\n",
       "      <td>11.28</td>\n",
       "      <td>9.14</td>\n",
       "      <td>6.50</td>\n",
       "      <td>2.88</td>\n",
       "      <td>89.0</td>\n",
       "      <td>8.5</td>\n",
       "      <td>E</td>\n",
       "    </tr>\n",
       "    <tr>\n",
       "      <th>7</th>\n",
       "      <td>Wii Play</td>\n",
       "      <td>Wii</td>\n",
       "      <td>2006.0</td>\n",
       "      <td>Misc</td>\n",
       "      <td>13.96</td>\n",
       "      <td>9.18</td>\n",
       "      <td>2.93</td>\n",
       "      <td>2.84</td>\n",
       "      <td>58.0</td>\n",
       "      <td>6.6</td>\n",
       "      <td>E</td>\n",
       "    </tr>\n",
       "    <tr>\n",
       "      <th>8</th>\n",
       "      <td>New Super Mario Bros. Wii</td>\n",
       "      <td>Wii</td>\n",
       "      <td>2009.0</td>\n",
       "      <td>Platform</td>\n",
       "      <td>14.44</td>\n",
       "      <td>6.94</td>\n",
       "      <td>4.70</td>\n",
       "      <td>2.24</td>\n",
       "      <td>87.0</td>\n",
       "      <td>8.4</td>\n",
       "      <td>E</td>\n",
       "    </tr>\n",
       "    <tr>\n",
       "      <th>11</th>\n",
       "      <td>Mario Kart DS</td>\n",
       "      <td>DS</td>\n",
       "      <td>2005.0</td>\n",
       "      <td>Racing</td>\n",
       "      <td>9.71</td>\n",
       "      <td>7.47</td>\n",
       "      <td>4.13</td>\n",
       "      <td>1.90</td>\n",
       "      <td>91.0</td>\n",
       "      <td>8.6</td>\n",
       "      <td>E</td>\n",
       "    </tr>\n",
       "    <tr>\n",
       "      <th>13</th>\n",
       "      <td>Wii Fit</td>\n",
       "      <td>Wii</td>\n",
       "      <td>2007.0</td>\n",
       "      <td>Sports</td>\n",
       "      <td>8.92</td>\n",
       "      <td>8.03</td>\n",
       "      <td>3.60</td>\n",
       "      <td>2.15</td>\n",
       "      <td>80.0</td>\n",
       "      <td>7.7</td>\n",
       "      <td>E</td>\n",
       "    </tr>\n",
       "    <tr>\n",
       "      <th>14</th>\n",
       "      <td>Kinect Adventures!</td>\n",
       "      <td>X360</td>\n",
       "      <td>2010.0</td>\n",
       "      <td>Misc</td>\n",
       "      <td>15.00</td>\n",
       "      <td>4.89</td>\n",
       "      <td>0.24</td>\n",
       "      <td>1.69</td>\n",
       "      <td>61.0</td>\n",
       "      <td>6.3</td>\n",
       "      <td>E</td>\n",
       "    </tr>\n",
       "    <tr>\n",
       "      <th>15</th>\n",
       "      <td>Wii Fit Plus</td>\n",
       "      <td>Wii</td>\n",
       "      <td>2009.0</td>\n",
       "      <td>Sports</td>\n",
       "      <td>9.01</td>\n",
       "      <td>8.49</td>\n",
       "      <td>2.53</td>\n",
       "      <td>1.77</td>\n",
       "      <td>80.0</td>\n",
       "      <td>7.4</td>\n",
       "      <td>E</td>\n",
       "    </tr>\n",
       "  </tbody>\n",
       "</table>\n",
       "</div>"
      ],
      "text/plain": [
       "                         name platform  year_of_release     genre  na_sales  \\\n",
       "0                  Wii Sports      Wii           2006.0    Sports     41.36   \n",
       "2              Mario Kart Wii      Wii           2008.0    Racing     15.68   \n",
       "3           Wii Sports Resort      Wii           2009.0    Sports     15.61   \n",
       "6       New Super Mario Bros.       DS           2006.0  Platform     11.28   \n",
       "7                    Wii Play      Wii           2006.0      Misc     13.96   \n",
       "8   New Super Mario Bros. Wii      Wii           2009.0  Platform     14.44   \n",
       "11              Mario Kart DS       DS           2005.0    Racing      9.71   \n",
       "13                    Wii Fit      Wii           2007.0    Sports      8.92   \n",
       "14         Kinect Adventures!     X360           2010.0      Misc     15.00   \n",
       "15               Wii Fit Plus      Wii           2009.0    Sports      9.01   \n",
       "\n",
       "    eu_sales  jp_sales  other_sales  critic_score user_score rating  \n",
       "0      28.96      3.77         8.45          76.0          8      E  \n",
       "2      12.76      3.79         3.29          82.0        8.3      E  \n",
       "3      10.93      3.28         2.95          80.0          8      E  \n",
       "6       9.14      6.50         2.88          89.0        8.5      E  \n",
       "7       9.18      2.93         2.84          58.0        6.6      E  \n",
       "8       6.94      4.70         2.24          87.0        8.4      E  \n",
       "11      7.47      4.13         1.90          91.0        8.6      E  \n",
       "13      8.03      3.60         2.15          80.0        7.7      E  \n",
       "14      4.89      0.24         1.69          61.0        6.3      E  \n",
       "15      8.49      2.53         1.77          80.0        7.4      E  "
      ]
     },
     "execution_count": 28,
     "metadata": {},
     "output_type": "execute_result"
    }
   ],
   "source": [
    "df.head(10)"
   ]
  },
  {
   "cell_type": "markdown",
   "id": "101f936c",
   "metadata": {},
   "source": [
    "Para o preenchimento dos dados na coluna rating, checamos os gêneros que possuíam rating e valores ausentes. Comparando-os, primeiramente dividimos os gêneros em três categorias: E (Everyone), T (Teen) e M (Mature).\n",
    "\n",
    "Buscando preencher os valores ausentes, criamos uma função onde as linhas com os gêneros 'Puzzle', 'Sports', 'Misc', 'Racing', 'Platform' e 'Simulation' receberiam o valor E; os gêneros 'Action', 'Shooter' e 'Adventure' receberiam o valor M; e, por fim, os gêneros 'Role-Playing', 'Fighting' e 'Strategy' receberiam o valor T."
   ]
  },
  {
   "cell_type": "markdown",
   "id": "a1496be2",
   "metadata": {},
   "source": [
    "# Correção de Dados"
   ]
  },
  {
   "cell_type": "markdown",
   "id": "52325bb3",
   "metadata": {},
   "source": [
    "Como identificamos que os dados na coluna year_of_release não eram números inteiros, iremos corrigi-los para facilitar a utilização dessa coluna. Além disso, visando a correção dos dados, na coluna user_score converteremos a string em um número de ponto flutuante usando a função float(), para facilitar também a utilização dessa coluna na análise de dados."
   ]
  },
  {
   "cell_type": "code",
   "execution_count": 29,
   "id": "f27ffd58",
   "metadata": {},
   "outputs": [
    {
     "name": "stdout",
     "output_type": "stream",
     "text": [
      "0        2006\n",
      "2        2008\n",
      "3        2009\n",
      "6        2006\n",
      "7        2006\n",
      "         ... \n",
      "16681    1997\n",
      "16692    2014\n",
      "16696    2011\n",
      "16702    2011\n",
      "16705    2009\n",
      "Name: year_of_release, Length: 7590, dtype: int32\n"
     ]
    }
   ],
   "source": [
    "df['year_of_release'] = df['year_of_release'].astype(int)\n",
    "print(df['year_of_release'])"
   ]
  },
  {
   "cell_type": "code",
   "execution_count": 30,
   "id": "2006b312",
   "metadata": {},
   "outputs": [
    {
     "name": "stdout",
     "output_type": "stream",
     "text": [
      "0        8.0\n",
      "2        8.3\n",
      "3        8.0\n",
      "6        8.5\n",
      "7        6.6\n",
      "        ... \n",
      "16681    8.1\n",
      "16692    7.6\n",
      "16696    5.8\n",
      "16702    7.2\n",
      "16705    5.8\n",
      "Name: user_score, Length: 7590, dtype: float64\n"
     ]
    }
   ],
   "source": [
    "df['user_score'] = df['user_score'].astype(float)\n",
    "print(df['user_score'])"
   ]
  },
  {
   "cell_type": "markdown",
   "id": "57e09ad7",
   "metadata": {},
   "source": [
    "# Enriquecendo os Dados"
   ]
  },
  {
   "cell_type": "markdown",
   "id": "7ba74b8a",
   "metadata": {},
   "source": [
    "Enriqueremos os dados somando as vendas em todas as regiões - Norte Americana, Europeia, Japonesa e outras - para cada jogo e criamos uma coluna chamada total_vendas que terá os valores achados."
   ]
  },
  {
   "cell_type": "code",
   "execution_count": 31,
   "id": "ef273226",
   "metadata": {},
   "outputs": [
    {
     "data": {
      "text/html": [
       "<div>\n",
       "<style scoped>\n",
       "    .dataframe tbody tr th:only-of-type {\n",
       "        vertical-align: middle;\n",
       "    }\n",
       "\n",
       "    .dataframe tbody tr th {\n",
       "        vertical-align: top;\n",
       "    }\n",
       "\n",
       "    .dataframe thead th {\n",
       "        text-align: right;\n",
       "    }\n",
       "</style>\n",
       "<table border=\"1\" class=\"dataframe\">\n",
       "  <thead>\n",
       "    <tr style=\"text-align: right;\">\n",
       "      <th></th>\n",
       "      <th>name</th>\n",
       "      <th>platform</th>\n",
       "      <th>year_of_release</th>\n",
       "      <th>genre</th>\n",
       "      <th>na_sales</th>\n",
       "      <th>eu_sales</th>\n",
       "      <th>jp_sales</th>\n",
       "      <th>other_sales</th>\n",
       "      <th>critic_score</th>\n",
       "      <th>user_score</th>\n",
       "      <th>rating</th>\n",
       "      <th>total_vendas</th>\n",
       "    </tr>\n",
       "  </thead>\n",
       "  <tbody>\n",
       "    <tr>\n",
       "      <th>0</th>\n",
       "      <td>Wii Sports</td>\n",
       "      <td>Wii</td>\n",
       "      <td>2006</td>\n",
       "      <td>Sports</td>\n",
       "      <td>41.36</td>\n",
       "      <td>28.96</td>\n",
       "      <td>3.77</td>\n",
       "      <td>8.45</td>\n",
       "      <td>76.0</td>\n",
       "      <td>8.0</td>\n",
       "      <td>E</td>\n",
       "      <td>82.54</td>\n",
       "    </tr>\n",
       "    <tr>\n",
       "      <th>2</th>\n",
       "      <td>Mario Kart Wii</td>\n",
       "      <td>Wii</td>\n",
       "      <td>2008</td>\n",
       "      <td>Racing</td>\n",
       "      <td>15.68</td>\n",
       "      <td>12.76</td>\n",
       "      <td>3.79</td>\n",
       "      <td>3.29</td>\n",
       "      <td>82.0</td>\n",
       "      <td>8.3</td>\n",
       "      <td>E</td>\n",
       "      <td>35.52</td>\n",
       "    </tr>\n",
       "    <tr>\n",
       "      <th>3</th>\n",
       "      <td>Wii Sports Resort</td>\n",
       "      <td>Wii</td>\n",
       "      <td>2009</td>\n",
       "      <td>Sports</td>\n",
       "      <td>15.61</td>\n",
       "      <td>10.93</td>\n",
       "      <td>3.28</td>\n",
       "      <td>2.95</td>\n",
       "      <td>80.0</td>\n",
       "      <td>8.0</td>\n",
       "      <td>E</td>\n",
       "      <td>32.77</td>\n",
       "    </tr>\n",
       "    <tr>\n",
       "      <th>6</th>\n",
       "      <td>New Super Mario Bros.</td>\n",
       "      <td>DS</td>\n",
       "      <td>2006</td>\n",
       "      <td>Platform</td>\n",
       "      <td>11.28</td>\n",
       "      <td>9.14</td>\n",
       "      <td>6.50</td>\n",
       "      <td>2.88</td>\n",
       "      <td>89.0</td>\n",
       "      <td>8.5</td>\n",
       "      <td>E</td>\n",
       "      <td>29.80</td>\n",
       "    </tr>\n",
       "    <tr>\n",
       "      <th>7</th>\n",
       "      <td>Wii Play</td>\n",
       "      <td>Wii</td>\n",
       "      <td>2006</td>\n",
       "      <td>Misc</td>\n",
       "      <td>13.96</td>\n",
       "      <td>9.18</td>\n",
       "      <td>2.93</td>\n",
       "      <td>2.84</td>\n",
       "      <td>58.0</td>\n",
       "      <td>6.6</td>\n",
       "      <td>E</td>\n",
       "      <td>28.91</td>\n",
       "    </tr>\n",
       "  </tbody>\n",
       "</table>\n",
       "</div>"
      ],
      "text/plain": [
       "                    name platform  year_of_release     genre  na_sales  \\\n",
       "0             Wii Sports      Wii             2006    Sports     41.36   \n",
       "2         Mario Kart Wii      Wii             2008    Racing     15.68   \n",
       "3      Wii Sports Resort      Wii             2009    Sports     15.61   \n",
       "6  New Super Mario Bros.       DS             2006  Platform     11.28   \n",
       "7               Wii Play      Wii             2006      Misc     13.96   \n",
       "\n",
       "   eu_sales  jp_sales  other_sales  critic_score  user_score rating  \\\n",
       "0     28.96      3.77         8.45          76.0         8.0      E   \n",
       "2     12.76      3.79         3.29          82.0         8.3      E   \n",
       "3     10.93      3.28         2.95          80.0         8.0      E   \n",
       "6      9.14      6.50         2.88          89.0         8.5      E   \n",
       "7      9.18      2.93         2.84          58.0         6.6      E   \n",
       "\n",
       "   total_vendas  \n",
       "0         82.54  \n",
       "2         35.52  \n",
       "3         32.77  \n",
       "6         29.80  \n",
       "7         28.91  "
      ]
     },
     "execution_count": 31,
     "metadata": {},
     "output_type": "execute_result"
    }
   ],
   "source": [
    "df['total_vendas'] = df['na_sales'] + df['eu_sales'] + df['jp_sales'] + df['other_sales']\n",
    "df.head()"
   ]
  },
  {
   "cell_type": "markdown",
   "id": "8e6badc3",
   "metadata": {},
   "source": [
    "# Análise de Dados"
   ]
  },
  {
   "cell_type": "markdown",
   "id": "8f5da80d",
   "metadata": {},
   "source": [
    "Iremos agora analisar os dados da seguinte forma:\n",
    "- jogos lançados em anos diferentes;\n",
    "- como vendas variaram de plataforma para plataforma;\n",
    "- plataformas que estão liderando em vendas;\n",
    "- construção de um diagrama de caixa para as vendas globais de todos os jogos divididos por plataforma;\n",
    "- as vendas médias em várias plataformas;\n",
    "- avaliações de usuários e profissionais e as vendas de uma plataforma popular;\n",
    "- vendas dos mesmos jogos em outras plataformas\n",
    "- distribuição geral de jogos por gênero.\n",
    "    "
   ]
  },
  {
   "cell_type": "markdown",
   "id": "2abc5a19",
   "metadata": {},
   "source": [
    "**Jogos lançados em anos diferentes**"
   ]
  },
  {
   "cell_type": "markdown",
   "id": "447da07e",
   "metadata": {},
   "source": [
    "Começaremos analisar quantos jogos foram lançados por ano para que assim possamos verificar quais dados de cada período podem ser significativos para nosso estudo."
   ]
  },
  {
   "cell_type": "code",
   "execution_count": 32,
   "id": "8518b764",
   "metadata": {},
   "outputs": [],
   "source": [
    "df = df[df['year_of_release'] != 0]"
   ]
  },
  {
   "cell_type": "code",
   "execution_count": 33,
   "id": "edff1f9c",
   "metadata": {},
   "outputs": [],
   "source": [
    "df_grouped = df.groupby('year_of_release').mean()"
   ]
  },
  {
   "cell_type": "code",
   "execution_count": 34,
   "id": "55871826",
   "metadata": {},
   "outputs": [
    {
     "data": {
      "text/plain": [
       "year_of_release\n",
       "1985      1\n",
       "1988      1\n",
       "1992      1\n",
       "1994      1\n",
       "1996      8\n",
       "1997     18\n",
       "1998     31\n",
       "1999     31\n",
       "2000    107\n",
       "2001    257\n",
       "2002    464\n",
       "2003    516\n",
       "2004    489\n",
       "2005    583\n",
       "2006    552\n",
       "2007    629\n",
       "2008    661\n",
       "2009    614\n",
       "2010    467\n",
       "2011    501\n",
       "2012    339\n",
       "2013    304\n",
       "2014    329\n",
       "2015    297\n",
       "2016    262\n",
       "Name: name, dtype: int64"
      ]
     },
     "execution_count": 34,
     "metadata": {},
     "output_type": "execute_result"
    }
   ],
   "source": [
    "contagem_por_ano = df.groupby('year_of_release')['name'].count()\n",
    "contagem_por_ano"
   ]
  },
  {
   "cell_type": "markdown",
   "id": "f4b12a1f",
   "metadata": {},
   "source": [
    "Conseguimos ver a quantidade de jogos lançados em cada ano e assim pudemos concluir que:\n",
    "- nos anos 80 e no início dos anos 90 eram poucos os games lançados\n",
    "- a partir do ano de 1994 os lancamentos de games por ano começaram aumentar e foi gradual até o ano 2005\n",
    "- houve um grande aumento de lançamentos entre os anos de 2006 e 2011\n",
    "- os anos de maior lançamento de games foram 2008 e 2009\n",
    "- de 2012 até o ano de 2016 tem havido uma descrecente nos lançamentos anuais. \n",
    "\n",
    "Assim, decidimos que os dados de alguns períodos não seriam significativos para nossa análise. No entanto, a quantidade de jogos lançados não poderia ser o único parâmetro a ser observado. Iremos também verificar como as vendas variaram de plataforma para plataforma."
   ]
  },
  {
   "cell_type": "markdown",
   "id": "b77582a3",
   "metadata": {},
   "source": [
    "**Como vendas variaram de plataforma para plataforma**"
   ]
  },
  {
   "cell_type": "markdown",
   "id": "d5f541f5",
   "metadata": {},
   "source": [
    "Iremos verificar como as vendas variaram de plataforma para plataforma. Para isso dentre as plataformas que nosso conjunto de dados possui escolheremos aquelas com as maiores vendas totais e construiremos uma distribuição com base em dados para cada ano. Também observaremos quais plataformas costumavam ser populares, mas agora não têm vendas, bem como quanto tempo leva para as novas plataformas aparecerem e as antigas desaparecerem."
   ]
  },
  {
   "cell_type": "code",
   "execution_count": 35,
   "id": "cff585d5",
   "metadata": {},
   "outputs": [
    {
     "data": {
      "text/plain": [
       "platform\n",
       "PS2     983.01\n",
       "X360    888.89\n",
       "PS3     829.17\n",
       "Wii     696.02\n",
       "DS      413.30\n",
       "PS4     244.92\n",
       "PS      214.45\n",
       "XB      212.95\n",
       "PC      202.92\n",
       "PSP     195.61\n",
       "GC      160.19\n",
       "GBA     137.82\n",
       "XOne    134.26\n",
       "3DS     126.73\n",
       "WiiU     67.21\n",
       "PSV      34.27\n",
       "DC        4.55\n",
       "Name: total_vendas, dtype: float64"
      ]
     },
     "execution_count": 35,
     "metadata": {},
     "output_type": "execute_result"
    }
   ],
   "source": [
    "vendas_por_plataforma = df.groupby('platform')['total_vendas'].sum()\n",
    "vendas_por_plataforma = vendas_por_plataforma.sort_values(ascending=False)\n",
    "vendas_por_plataforma"
   ]
  },
  {
   "cell_type": "markdown",
   "id": "90d48895",
   "metadata": {},
   "source": [
    "Para seguir a análise decidimos escolher as plataformas PS2, X360, PS3, pois são as que possuem as maiores vendas totais. Abaixo iremos analisar cada uma dessas plataformas e criaremos um gráfico para vermos a distribuição com base em dados para cada ano."
   ]
  },
  {
   "cell_type": "code",
   "execution_count": 36,
   "id": "c947e988",
   "metadata": {},
   "outputs": [
    {
     "data": {
      "text/html": [
       "<div>\n",
       "<style scoped>\n",
       "    .dataframe tbody tr th:only-of-type {\n",
       "        vertical-align: middle;\n",
       "    }\n",
       "\n",
       "    .dataframe tbody tr th {\n",
       "        vertical-align: top;\n",
       "    }\n",
       "\n",
       "    .dataframe thead th {\n",
       "        text-align: right;\n",
       "    }\n",
       "</style>\n",
       "<table border=\"1\" class=\"dataframe\">\n",
       "  <thead>\n",
       "    <tr style=\"text-align: right;\">\n",
       "      <th></th>\n",
       "      <th>name</th>\n",
       "      <th>platform</th>\n",
       "      <th>year_of_release</th>\n",
       "      <th>genre</th>\n",
       "      <th>na_sales</th>\n",
       "      <th>eu_sales</th>\n",
       "      <th>jp_sales</th>\n",
       "      <th>other_sales</th>\n",
       "      <th>critic_score</th>\n",
       "      <th>user_score</th>\n",
       "      <th>rating</th>\n",
       "      <th>total_vendas</th>\n",
       "    </tr>\n",
       "  </thead>\n",
       "  <tbody>\n",
       "    <tr>\n",
       "      <th>17</th>\n",
       "      <td>Grand Theft Auto: San Andreas</td>\n",
       "      <td>PS2</td>\n",
       "      <td>2004</td>\n",
       "      <td>Action</td>\n",
       "      <td>9.43</td>\n",
       "      <td>0.40</td>\n",
       "      <td>0.41</td>\n",
       "      <td>10.57</td>\n",
       "      <td>95.0</td>\n",
       "      <td>9.0</td>\n",
       "      <td>M</td>\n",
       "      <td>20.81</td>\n",
       "    </tr>\n",
       "    <tr>\n",
       "      <th>24</th>\n",
       "      <td>Grand Theft Auto: Vice City</td>\n",
       "      <td>PS2</td>\n",
       "      <td>2002</td>\n",
       "      <td>Action</td>\n",
       "      <td>8.41</td>\n",
       "      <td>5.49</td>\n",
       "      <td>0.47</td>\n",
       "      <td>1.78</td>\n",
       "      <td>95.0</td>\n",
       "      <td>8.7</td>\n",
       "      <td>M</td>\n",
       "      <td>16.15</td>\n",
       "    </tr>\n",
       "    <tr>\n",
       "      <th>28</th>\n",
       "      <td>Gran Turismo 3: A-Spec</td>\n",
       "      <td>PS2</td>\n",
       "      <td>2001</td>\n",
       "      <td>Racing</td>\n",
       "      <td>6.85</td>\n",
       "      <td>5.09</td>\n",
       "      <td>1.87</td>\n",
       "      <td>1.16</td>\n",
       "      <td>95.0</td>\n",
       "      <td>8.4</td>\n",
       "      <td>E</td>\n",
       "      <td>14.97</td>\n",
       "    </tr>\n",
       "    <tr>\n",
       "      <th>38</th>\n",
       "      <td>Grand Theft Auto III</td>\n",
       "      <td>PS2</td>\n",
       "      <td>2001</td>\n",
       "      <td>Action</td>\n",
       "      <td>6.99</td>\n",
       "      <td>4.51</td>\n",
       "      <td>0.30</td>\n",
       "      <td>1.30</td>\n",
       "      <td>97.0</td>\n",
       "      <td>8.5</td>\n",
       "      <td>M</td>\n",
       "      <td>13.10</td>\n",
       "    </tr>\n",
       "    <tr>\n",
       "      <th>48</th>\n",
       "      <td>Gran Turismo 4</td>\n",
       "      <td>PS2</td>\n",
       "      <td>2004</td>\n",
       "      <td>Racing</td>\n",
       "      <td>3.01</td>\n",
       "      <td>0.01</td>\n",
       "      <td>1.10</td>\n",
       "      <td>7.53</td>\n",
       "      <td>89.0</td>\n",
       "      <td>8.5</td>\n",
       "      <td>E</td>\n",
       "      <td>11.65</td>\n",
       "    </tr>\n",
       "    <tr>\n",
       "      <th>84</th>\n",
       "      <td>Final Fantasy X</td>\n",
       "      <td>PS2</td>\n",
       "      <td>2001</td>\n",
       "      <td>Role-Playing</td>\n",
       "      <td>2.91</td>\n",
       "      <td>2.07</td>\n",
       "      <td>2.73</td>\n",
       "      <td>0.33</td>\n",
       "      <td>92.0</td>\n",
       "      <td>8.7</td>\n",
       "      <td>T</td>\n",
       "      <td>8.04</td>\n",
       "    </tr>\n",
       "    <tr>\n",
       "      <th>102</th>\n",
       "      <td>Need for Speed Underground</td>\n",
       "      <td>PS2</td>\n",
       "      <td>2003</td>\n",
       "      <td>Racing</td>\n",
       "      <td>3.27</td>\n",
       "      <td>2.83</td>\n",
       "      <td>0.08</td>\n",
       "      <td>1.02</td>\n",
       "      <td>85.0</td>\n",
       "      <td>8.6</td>\n",
       "      <td>E</td>\n",
       "      <td>7.20</td>\n",
       "    </tr>\n",
       "    <tr>\n",
       "      <th>113</th>\n",
       "      <td>Need for Speed Underground 2</td>\n",
       "      <td>PS2</td>\n",
       "      <td>2004</td>\n",
       "      <td>Racing</td>\n",
       "      <td>2.71</td>\n",
       "      <td>3.02</td>\n",
       "      <td>0.08</td>\n",
       "      <td>1.09</td>\n",
       "      <td>82.0</td>\n",
       "      <td>8.6</td>\n",
       "      <td>E</td>\n",
       "      <td>6.90</td>\n",
       "    </tr>\n",
       "    <tr>\n",
       "      <th>114</th>\n",
       "      <td>Medal of Honor: Frontline</td>\n",
       "      <td>PS2</td>\n",
       "      <td>2002</td>\n",
       "      <td>Shooter</td>\n",
       "      <td>2.93</td>\n",
       "      <td>2.75</td>\n",
       "      <td>0.17</td>\n",
       "      <td>0.99</td>\n",
       "      <td>88.0</td>\n",
       "      <td>8.5</td>\n",
       "      <td>M</td>\n",
       "      <td>6.84</td>\n",
       "    </tr>\n",
       "    <tr>\n",
       "      <th>132</th>\n",
       "      <td>Kingdom Hearts</td>\n",
       "      <td>PS2</td>\n",
       "      <td>2002</td>\n",
       "      <td>Role-Playing</td>\n",
       "      <td>3.64</td>\n",
       "      <td>1.20</td>\n",
       "      <td>1.49</td>\n",
       "      <td>0.07</td>\n",
       "      <td>85.0</td>\n",
       "      <td>8.8</td>\n",
       "      <td>T</td>\n",
       "      <td>6.40</td>\n",
       "    </tr>\n",
       "  </tbody>\n",
       "</table>\n",
       "</div>"
      ],
      "text/plain": [
       "                              name platform  year_of_release         genre  \\\n",
       "17   Grand Theft Auto: San Andreas      PS2             2004        Action   \n",
       "24     Grand Theft Auto: Vice City      PS2             2002        Action   \n",
       "28          Gran Turismo 3: A-Spec      PS2             2001        Racing   \n",
       "38            Grand Theft Auto III      PS2             2001        Action   \n",
       "48                  Gran Turismo 4      PS2             2004        Racing   \n",
       "84                 Final Fantasy X      PS2             2001  Role-Playing   \n",
       "102     Need for Speed Underground      PS2             2003        Racing   \n",
       "113   Need for Speed Underground 2      PS2             2004        Racing   \n",
       "114      Medal of Honor: Frontline      PS2             2002       Shooter   \n",
       "132                 Kingdom Hearts      PS2             2002  Role-Playing   \n",
       "\n",
       "     na_sales  eu_sales  jp_sales  other_sales  critic_score  user_score  \\\n",
       "17       9.43      0.40      0.41        10.57          95.0         9.0   \n",
       "24       8.41      5.49      0.47         1.78          95.0         8.7   \n",
       "28       6.85      5.09      1.87         1.16          95.0         8.4   \n",
       "38       6.99      4.51      0.30         1.30          97.0         8.5   \n",
       "48       3.01      0.01      1.10         7.53          89.0         8.5   \n",
       "84       2.91      2.07      2.73         0.33          92.0         8.7   \n",
       "102      3.27      2.83      0.08         1.02          85.0         8.6   \n",
       "113      2.71      3.02      0.08         1.09          82.0         8.6   \n",
       "114      2.93      2.75      0.17         0.99          88.0         8.5   \n",
       "132      3.64      1.20      1.49         0.07          85.0         8.8   \n",
       "\n",
       "    rating  total_vendas  \n",
       "17       M         20.81  \n",
       "24       M         16.15  \n",
       "28       E         14.97  \n",
       "38       M         13.10  \n",
       "48       E         11.65  \n",
       "84       T          8.04  \n",
       "102      E          7.20  \n",
       "113      E          6.90  \n",
       "114      M          6.84  \n",
       "132      T          6.40  "
      ]
     },
     "execution_count": 36,
     "metadata": {},
     "output_type": "execute_result"
    }
   ],
   "source": [
    "ps2 = df.query('platform in \"PS2\"')\n",
    "ps2.head(10)"
   ]
  },
  {
   "cell_type": "code",
   "execution_count": 37,
   "id": "98b11b69",
   "metadata": {},
   "outputs": [
    {
     "data": {
      "text/html": [
       "<div>\n",
       "<style scoped>\n",
       "    .dataframe tbody tr th:only-of-type {\n",
       "        vertical-align: middle;\n",
       "    }\n",
       "\n",
       "    .dataframe tbody tr th {\n",
       "        vertical-align: top;\n",
       "    }\n",
       "\n",
       "    .dataframe thead th {\n",
       "        text-align: right;\n",
       "    }\n",
       "</style>\n",
       "<table border=\"1\" class=\"dataframe\">\n",
       "  <thead>\n",
       "    <tr style=\"text-align: right;\">\n",
       "      <th></th>\n",
       "      <th>year_of_release</th>\n",
       "      <th>total_vendas</th>\n",
       "    </tr>\n",
       "  </thead>\n",
       "  <tbody>\n",
       "    <tr>\n",
       "      <th>4</th>\n",
       "      <td>2004</td>\n",
       "      <td>189.59</td>\n",
       "    </tr>\n",
       "    <tr>\n",
       "      <th>2</th>\n",
       "      <td>2002</td>\n",
       "      <td>173.60</td>\n",
       "    </tr>\n",
       "    <tr>\n",
       "      <th>3</th>\n",
       "      <td>2003</td>\n",
       "      <td>146.26</td>\n",
       "    </tr>\n",
       "    <tr>\n",
       "      <th>1</th>\n",
       "      <td>2001</td>\n",
       "      <td>145.96</td>\n",
       "    </tr>\n",
       "    <tr>\n",
       "      <th>5</th>\n",
       "      <td>2005</td>\n",
       "      <td>123.75</td>\n",
       "    </tr>\n",
       "    <tr>\n",
       "      <th>6</th>\n",
       "      <td>2006</td>\n",
       "      <td>76.10</td>\n",
       "    </tr>\n",
       "    <tr>\n",
       "      <th>7</th>\n",
       "      <td>2007</td>\n",
       "      <td>51.53</td>\n",
       "    </tr>\n",
       "    <tr>\n",
       "      <th>8</th>\n",
       "      <td>2008</td>\n",
       "      <td>29.56</td>\n",
       "    </tr>\n",
       "    <tr>\n",
       "      <th>0</th>\n",
       "      <td>2000</td>\n",
       "      <td>29.50</td>\n",
       "    </tr>\n",
       "    <tr>\n",
       "      <th>9</th>\n",
       "      <td>2009</td>\n",
       "      <td>14.17</td>\n",
       "    </tr>\n",
       "    <tr>\n",
       "      <th>10</th>\n",
       "      <td>2010</td>\n",
       "      <td>2.70</td>\n",
       "    </tr>\n",
       "    <tr>\n",
       "      <th>11</th>\n",
       "      <td>2011</td>\n",
       "      <td>0.29</td>\n",
       "    </tr>\n",
       "  </tbody>\n",
       "</table>\n",
       "</div>"
      ],
      "text/plain": [
       "    year_of_release  total_vendas\n",
       "4              2004        189.59\n",
       "2              2002        173.60\n",
       "3              2003        146.26\n",
       "1              2001        145.96\n",
       "5              2005        123.75\n",
       "6              2006         76.10\n",
       "7              2007         51.53\n",
       "8              2008         29.56\n",
       "0              2000         29.50\n",
       "9              2009         14.17\n",
       "10             2010          2.70\n",
       "11             2011          0.29"
      ]
     },
     "execution_count": 37,
     "metadata": {},
     "output_type": "execute_result"
    }
   ],
   "source": [
    "ps2_pivot_table = ps2.pivot_table(index = 'year_of_release', values = 'total_vendas', aggfunc = 'sum')\n",
    "ps2_pivot_table = ps2_pivot_table.reset_index().sort_values(by = 'total_vendas', ascending=False)\n",
    "ps2_pivot_table"
   ]
  },
  {
   "cell_type": "code",
   "execution_count": 38,
   "id": "69ac0324",
   "metadata": {},
   "outputs": [
    {
     "data": {
      "image/png": "[encoded data removed]",
      "text/plain": [
       "<Figure size 640x480 with 1 Axes>"
      ]
     },
     "metadata": {},
     "output_type": "display_data"
    }
   ],
   "source": [
    "plt.bar(ps2_pivot_table['year_of_release'], ps2_pivot_table['total_vendas'])\n",
    "plt.title('Distribuição de vendas por ano')\n",
    "plt.xlabel('Ano')\n",
    "plt.ylabel('Total de vendas')\n",
    "plt.show()"
   ]
  },
  {
   "cell_type": "markdown",
   "id": "f81a9e43",
   "metadata": {},
   "source": [
    "Na plataforma PS2, vimos que ela teve início em 2000, e as vendas alavancaram nos anos seguintes. O pico de vendas ocorreu em 2004; no entanto, após 2004, as vendas começaram a cair, e o último registro de venda se deu em 2011."
   ]
  },
  {
   "cell_type": "code",
   "execution_count": 39,
   "id": "b06a1143",
   "metadata": {},
   "outputs": [
    {
     "data": {
      "text/html": [
       "<div>\n",
       "<style scoped>\n",
       "    .dataframe tbody tr th:only-of-type {\n",
       "        vertical-align: middle;\n",
       "    }\n",
       "\n",
       "    .dataframe tbody tr th {\n",
       "        vertical-align: top;\n",
       "    }\n",
       "\n",
       "    .dataframe thead th {\n",
       "        text-align: right;\n",
       "    }\n",
       "</style>\n",
       "<table border=\"1\" class=\"dataframe\">\n",
       "  <thead>\n",
       "    <tr style=\"text-align: right;\">\n",
       "      <th></th>\n",
       "      <th>name</th>\n",
       "      <th>platform</th>\n",
       "      <th>year_of_release</th>\n",
       "      <th>genre</th>\n",
       "      <th>na_sales</th>\n",
       "      <th>eu_sales</th>\n",
       "      <th>jp_sales</th>\n",
       "      <th>other_sales</th>\n",
       "      <th>critic_score</th>\n",
       "      <th>user_score</th>\n",
       "      <th>rating</th>\n",
       "      <th>total_vendas</th>\n",
       "    </tr>\n",
       "  </thead>\n",
       "  <tbody>\n",
       "    <tr>\n",
       "      <th>14</th>\n",
       "      <td>Kinect Adventures!</td>\n",
       "      <td>X360</td>\n",
       "      <td>2010</td>\n",
       "      <td>Misc</td>\n",
       "      <td>15.00</td>\n",
       "      <td>4.89</td>\n",
       "      <td>0.24</td>\n",
       "      <td>1.69</td>\n",
       "      <td>61.0</td>\n",
       "      <td>6.3</td>\n",
       "      <td>E</td>\n",
       "      <td>21.82</td>\n",
       "    </tr>\n",
       "    <tr>\n",
       "      <th>23</th>\n",
       "      <td>Grand Theft Auto V</td>\n",
       "      <td>X360</td>\n",
       "      <td>2013</td>\n",
       "      <td>Action</td>\n",
       "      <td>9.66</td>\n",
       "      <td>5.14</td>\n",
       "      <td>0.06</td>\n",
       "      <td>1.41</td>\n",
       "      <td>97.0</td>\n",
       "      <td>8.1</td>\n",
       "      <td>M</td>\n",
       "      <td>16.27</td>\n",
       "    </tr>\n",
       "    <tr>\n",
       "      <th>29</th>\n",
       "      <td>Call of Duty: Modern Warfare 3</td>\n",
       "      <td>X360</td>\n",
       "      <td>2011</td>\n",
       "      <td>Shooter</td>\n",
       "      <td>9.04</td>\n",
       "      <td>4.24</td>\n",
       "      <td>0.13</td>\n",
       "      <td>1.32</td>\n",
       "      <td>88.0</td>\n",
       "      <td>3.4</td>\n",
       "      <td>M</td>\n",
       "      <td>14.73</td>\n",
       "    </tr>\n",
       "    <tr>\n",
       "      <th>32</th>\n",
       "      <td>Call of Duty: Black Ops</td>\n",
       "      <td>X360</td>\n",
       "      <td>2010</td>\n",
       "      <td>Shooter</td>\n",
       "      <td>9.70</td>\n",
       "      <td>3.68</td>\n",
       "      <td>0.11</td>\n",
       "      <td>1.13</td>\n",
       "      <td>87.0</td>\n",
       "      <td>6.3</td>\n",
       "      <td>M</td>\n",
       "      <td>14.62</td>\n",
       "    </tr>\n",
       "    <tr>\n",
       "      <th>35</th>\n",
       "      <td>Call of Duty: Black Ops II</td>\n",
       "      <td>X360</td>\n",
       "      <td>2012</td>\n",
       "      <td>Shooter</td>\n",
       "      <td>8.25</td>\n",
       "      <td>4.24</td>\n",
       "      <td>0.07</td>\n",
       "      <td>1.12</td>\n",
       "      <td>83.0</td>\n",
       "      <td>4.8</td>\n",
       "      <td>M</td>\n",
       "      <td>13.68</td>\n",
       "    </tr>\n",
       "  </tbody>\n",
       "</table>\n",
       "</div>"
      ],
      "text/plain": [
       "                              name platform  year_of_release    genre  \\\n",
       "14              Kinect Adventures!     X360             2010     Misc   \n",
       "23              Grand Theft Auto V     X360             2013   Action   \n",
       "29  Call of Duty: Modern Warfare 3     X360             2011  Shooter   \n",
       "32         Call of Duty: Black Ops     X360             2010  Shooter   \n",
       "35      Call of Duty: Black Ops II     X360             2012  Shooter   \n",
       "\n",
       "    na_sales  eu_sales  jp_sales  other_sales  critic_score  user_score  \\\n",
       "14     15.00      4.89      0.24         1.69          61.0         6.3   \n",
       "23      9.66      5.14      0.06         1.41          97.0         8.1   \n",
       "29      9.04      4.24      0.13         1.32          88.0         3.4   \n",
       "32      9.70      3.68      0.11         1.13          87.0         6.3   \n",
       "35      8.25      4.24      0.07         1.12          83.0         4.8   \n",
       "\n",
       "   rating  total_vendas  \n",
       "14      E         21.82  \n",
       "23      M         16.27  \n",
       "29      M         14.73  \n",
       "32      M         14.62  \n",
       "35      M         13.68  "
      ]
     },
     "execution_count": 39,
     "metadata": {},
     "output_type": "execute_result"
    }
   ],
   "source": [
    "X360 = df.query('platform in \"X360\"')\n",
    "X360.head()"
   ]
  },
  {
   "cell_type": "code",
   "execution_count": 40,
   "id": "a4421a04",
   "metadata": {},
   "outputs": [
    {
     "data": {
      "text/html": [
       "<div>\n",
       "<style scoped>\n",
       "    .dataframe tbody tr th:only-of-type {\n",
       "        vertical-align: middle;\n",
       "    }\n",
       "\n",
       "    .dataframe tbody tr th {\n",
       "        vertical-align: top;\n",
       "    }\n",
       "\n",
       "    .dataframe thead th {\n",
       "        text-align: right;\n",
       "    }\n",
       "</style>\n",
       "<table border=\"1\" class=\"dataframe\">\n",
       "  <thead>\n",
       "    <tr style=\"text-align: right;\">\n",
       "      <th></th>\n",
       "      <th>year_of_release</th>\n",
       "      <th>total_vendas</th>\n",
       "    </tr>\n",
       "  </thead>\n",
       "  <tbody>\n",
       "    <tr>\n",
       "      <th>5</th>\n",
       "      <td>2010</td>\n",
       "      <td>159.00</td>\n",
       "    </tr>\n",
       "    <tr>\n",
       "      <th>6</th>\n",
       "      <td>2011</td>\n",
       "      <td>130.54</td>\n",
       "    </tr>\n",
       "    <tr>\n",
       "      <th>3</th>\n",
       "      <td>2008</td>\n",
       "      <td>129.31</td>\n",
       "    </tr>\n",
       "    <tr>\n",
       "      <th>4</th>\n",
       "      <td>2009</td>\n",
       "      <td>111.64</td>\n",
       "    </tr>\n",
       "    <tr>\n",
       "      <th>7</th>\n",
       "      <td>2012</td>\n",
       "      <td>96.25</td>\n",
       "    </tr>\n",
       "    <tr>\n",
       "      <th>2</th>\n",
       "      <td>2007</td>\n",
       "      <td>89.39</td>\n",
       "    </tr>\n",
       "    <tr>\n",
       "      <th>8</th>\n",
       "      <td>2013</td>\n",
       "      <td>75.36</td>\n",
       "    </tr>\n",
       "    <tr>\n",
       "      <th>1</th>\n",
       "      <td>2006</td>\n",
       "      <td>48.92</td>\n",
       "    </tr>\n",
       "    <tr>\n",
       "      <th>9</th>\n",
       "      <td>2014</td>\n",
       "      <td>31.34</td>\n",
       "    </tr>\n",
       "    <tr>\n",
       "      <th>10</th>\n",
       "      <td>2015</td>\n",
       "      <td>8.31</td>\n",
       "    </tr>\n",
       "    <tr>\n",
       "      <th>0</th>\n",
       "      <td>2005</td>\n",
       "      <td>7.64</td>\n",
       "    </tr>\n",
       "    <tr>\n",
       "      <th>11</th>\n",
       "      <td>2016</td>\n",
       "      <td>1.19</td>\n",
       "    </tr>\n",
       "  </tbody>\n",
       "</table>\n",
       "</div>"
      ],
      "text/plain": [
       "    year_of_release  total_vendas\n",
       "5              2010        159.00\n",
       "6              2011        130.54\n",
       "3              2008        129.31\n",
       "4              2009        111.64\n",
       "7              2012         96.25\n",
       "2              2007         89.39\n",
       "8              2013         75.36\n",
       "1              2006         48.92\n",
       "9              2014         31.34\n",
       "10             2015          8.31\n",
       "0              2005          7.64\n",
       "11             2016          1.19"
      ]
     },
     "execution_count": 40,
     "metadata": {},
     "output_type": "execute_result"
    }
   ],
   "source": [
    "X360_pivot_table = X360.pivot_table(index = 'year_of_release', values = 'total_vendas', aggfunc = 'sum')\n",
    "X360_pivot_table = X360_pivot_table.reset_index().sort_values(by = 'total_vendas', ascending=False)\n",
    "X360_pivot_table"
   ]
  },
  {
   "cell_type": "code",
   "execution_count": 41,
   "id": "8d822f67",
   "metadata": {},
   "outputs": [
    {
     "data": {
      "image/png": "[encoded data removed]",
      "text/plain": [
       "<Figure size 640x480 with 1 Axes>"
      ]
     },
     "metadata": {},
     "output_type": "display_data"
    }
   ],
   "source": [
    "plt.bar(X360_pivot_table['year_of_release'], X360_pivot_table['total_vendas'])\n",
    "plt.title('Distribuição de vendas por ano')\n",
    "plt.xlabel('Ano')\n",
    "plt.ylabel('Total de vendas')\n",
    "plt.show()"
   ]
  },
  {
   "cell_type": "markdown",
   "id": "fc000add",
   "metadata": {},
   "source": [
    "Na plataforma X360, observamos que ela teve início em 2005 e as vendas cresceram nos anos seguintes. O pico de vendas ocorreu em 2011; no entanto, após 2011, as vendas começaram a cair até o ano de 2016."
   ]
  },
  {
   "cell_type": "code",
   "execution_count": 42,
   "id": "34267c47",
   "metadata": {},
   "outputs": [
    {
     "data": {
      "text/html": [
       "<div>\n",
       "<style scoped>\n",
       "    .dataframe tbody tr th:only-of-type {\n",
       "        vertical-align: middle;\n",
       "    }\n",
       "\n",
       "    .dataframe tbody tr th {\n",
       "        vertical-align: top;\n",
       "    }\n",
       "\n",
       "    .dataframe thead th {\n",
       "        text-align: right;\n",
       "    }\n",
       "</style>\n",
       "<table border=\"1\" class=\"dataframe\">\n",
       "  <thead>\n",
       "    <tr style=\"text-align: right;\">\n",
       "      <th></th>\n",
       "      <th>name</th>\n",
       "      <th>platform</th>\n",
       "      <th>year_of_release</th>\n",
       "      <th>genre</th>\n",
       "      <th>na_sales</th>\n",
       "      <th>eu_sales</th>\n",
       "      <th>jp_sales</th>\n",
       "      <th>other_sales</th>\n",
       "      <th>critic_score</th>\n",
       "      <th>user_score</th>\n",
       "      <th>rating</th>\n",
       "      <th>total_vendas</th>\n",
       "    </tr>\n",
       "  </thead>\n",
       "  <tbody>\n",
       "    <tr>\n",
       "      <th>16</th>\n",
       "      <td>Grand Theft Auto V</td>\n",
       "      <td>PS3</td>\n",
       "      <td>2013</td>\n",
       "      <td>Action</td>\n",
       "      <td>7.02</td>\n",
       "      <td>9.09</td>\n",
       "      <td>0.98</td>\n",
       "      <td>3.96</td>\n",
       "      <td>97.0</td>\n",
       "      <td>8.2</td>\n",
       "      <td>M</td>\n",
       "      <td>21.05</td>\n",
       "    </tr>\n",
       "    <tr>\n",
       "      <th>34</th>\n",
       "      <td>Call of Duty: Black Ops II</td>\n",
       "      <td>PS3</td>\n",
       "      <td>2012</td>\n",
       "      <td>Shooter</td>\n",
       "      <td>4.99</td>\n",
       "      <td>5.73</td>\n",
       "      <td>0.65</td>\n",
       "      <td>2.42</td>\n",
       "      <td>83.0</td>\n",
       "      <td>5.3</td>\n",
       "      <td>M</td>\n",
       "      <td>13.79</td>\n",
       "    </tr>\n",
       "    <tr>\n",
       "      <th>37</th>\n",
       "      <td>Call of Duty: Modern Warfare 3</td>\n",
       "      <td>PS3</td>\n",
       "      <td>2011</td>\n",
       "      <td>Shooter</td>\n",
       "      <td>5.54</td>\n",
       "      <td>5.73</td>\n",
       "      <td>0.49</td>\n",
       "      <td>1.57</td>\n",
       "      <td>88.0</td>\n",
       "      <td>3.2</td>\n",
       "      <td>M</td>\n",
       "      <td>13.33</td>\n",
       "    </tr>\n",
       "    <tr>\n",
       "      <th>41</th>\n",
       "      <td>Call of Duty: Black Ops</td>\n",
       "      <td>PS3</td>\n",
       "      <td>2010</td>\n",
       "      <td>Shooter</td>\n",
       "      <td>5.99</td>\n",
       "      <td>4.37</td>\n",
       "      <td>0.48</td>\n",
       "      <td>1.79</td>\n",
       "      <td>88.0</td>\n",
       "      <td>6.4</td>\n",
       "      <td>M</td>\n",
       "      <td>12.63</td>\n",
       "    </tr>\n",
       "    <tr>\n",
       "      <th>54</th>\n",
       "      <td>Gran Turismo 5</td>\n",
       "      <td>PS3</td>\n",
       "      <td>2010</td>\n",
       "      <td>Racing</td>\n",
       "      <td>2.96</td>\n",
       "      <td>4.82</td>\n",
       "      <td>0.81</td>\n",
       "      <td>2.11</td>\n",
       "      <td>84.0</td>\n",
       "      <td>7.5</td>\n",
       "      <td>E</td>\n",
       "      <td>10.70</td>\n",
       "    </tr>\n",
       "  </tbody>\n",
       "</table>\n",
       "</div>"
      ],
      "text/plain": [
       "                              name platform  year_of_release    genre  \\\n",
       "16              Grand Theft Auto V      PS3             2013   Action   \n",
       "34      Call of Duty: Black Ops II      PS3             2012  Shooter   \n",
       "37  Call of Duty: Modern Warfare 3      PS3             2011  Shooter   \n",
       "41         Call of Duty: Black Ops      PS3             2010  Shooter   \n",
       "54                  Gran Turismo 5      PS3             2010   Racing   \n",
       "\n",
       "    na_sales  eu_sales  jp_sales  other_sales  critic_score  user_score  \\\n",
       "16      7.02      9.09      0.98         3.96          97.0         8.2   \n",
       "34      4.99      5.73      0.65         2.42          83.0         5.3   \n",
       "37      5.54      5.73      0.49         1.57          88.0         3.2   \n",
       "41      5.99      4.37      0.48         1.79          88.0         6.4   \n",
       "54      2.96      4.82      0.81         2.11          84.0         7.5   \n",
       "\n",
       "   rating  total_vendas  \n",
       "16      M         21.05  \n",
       "34      M         13.79  \n",
       "37      M         13.33  \n",
       "41      M         12.63  \n",
       "54      E         10.70  "
      ]
     },
     "execution_count": 42,
     "metadata": {},
     "output_type": "execute_result"
    }
   ],
   "source": [
    "PS3 = df.query('platform in \"PS3\"')\n",
    "PS3.head()"
   ]
  },
  {
   "cell_type": "code",
   "execution_count": 43,
   "id": "c8f872db",
   "metadata": {},
   "outputs": [
    {
     "data": {
      "text/html": [
       "<div>\n",
       "<style scoped>\n",
       "    .dataframe tbody tr th:only-of-type {\n",
       "        vertical-align: middle;\n",
       "    }\n",
       "\n",
       "    .dataframe tbody tr th {\n",
       "        vertical-align: top;\n",
       "    }\n",
       "\n",
       "    .dataframe thead th {\n",
       "        text-align: right;\n",
       "    }\n",
       "</style>\n",
       "<table border=\"1\" class=\"dataframe\">\n",
       "  <thead>\n",
       "    <tr style=\"text-align: right;\">\n",
       "      <th></th>\n",
       "      <th>year_of_release</th>\n",
       "      <th>total_vendas</th>\n",
       "    </tr>\n",
       "  </thead>\n",
       "  <tbody>\n",
       "    <tr>\n",
       "      <th>5</th>\n",
       "      <td>2011</td>\n",
       "      <td>135.74</td>\n",
       "    </tr>\n",
       "    <tr>\n",
       "      <th>4</th>\n",
       "      <td>2010</td>\n",
       "      <td>127.85</td>\n",
       "    </tr>\n",
       "    <tr>\n",
       "      <th>3</th>\n",
       "      <td>2009</td>\n",
       "      <td>119.32</td>\n",
       "    </tr>\n",
       "    <tr>\n",
       "      <th>2</th>\n",
       "      <td>2008</td>\n",
       "      <td>110.10</td>\n",
       "    </tr>\n",
       "    <tr>\n",
       "      <th>7</th>\n",
       "      <td>2013</td>\n",
       "      <td>103.46</td>\n",
       "    </tr>\n",
       "    <tr>\n",
       "      <th>6</th>\n",
       "      <td>2012</td>\n",
       "      <td>95.87</td>\n",
       "    </tr>\n",
       "    <tr>\n",
       "      <th>1</th>\n",
       "      <td>2007</td>\n",
       "      <td>68.52</td>\n",
       "    </tr>\n",
       "    <tr>\n",
       "      <th>8</th>\n",
       "      <td>2014</td>\n",
       "      <td>35.97</td>\n",
       "    </tr>\n",
       "    <tr>\n",
       "      <th>0</th>\n",
       "      <td>2006</td>\n",
       "      <td>19.62</td>\n",
       "    </tr>\n",
       "    <tr>\n",
       "      <th>9</th>\n",
       "      <td>2015</td>\n",
       "      <td>11.09</td>\n",
       "    </tr>\n",
       "    <tr>\n",
       "      <th>10</th>\n",
       "      <td>2016</td>\n",
       "      <td>1.63</td>\n",
       "    </tr>\n",
       "  </tbody>\n",
       "</table>\n",
       "</div>"
      ],
      "text/plain": [
       "    year_of_release  total_vendas\n",
       "5              2011        135.74\n",
       "4              2010        127.85\n",
       "3              2009        119.32\n",
       "2              2008        110.10\n",
       "7              2013        103.46\n",
       "6              2012         95.87\n",
       "1              2007         68.52\n",
       "8              2014         35.97\n",
       "0              2006         19.62\n",
       "9              2015         11.09\n",
       "10             2016          1.63"
      ]
     },
     "execution_count": 43,
     "metadata": {},
     "output_type": "execute_result"
    }
   ],
   "source": [
    "PS3_pivot_table = PS3.pivot_table(index = 'year_of_release', values = 'total_vendas', aggfunc = 'sum')\n",
    "PS3_pivot_table = PS3_pivot_table.reset_index().sort_values(by = 'total_vendas', ascending=False)\n",
    "PS3_pivot_table"
   ]
  },
  {
   "cell_type": "code",
   "execution_count": 44,
   "id": "a47f40df",
   "metadata": {},
   "outputs": [
    {
     "data": {
      "image/png": "[encoded data removed]",
      "text/plain": [
       "<Figure size 640x480 with 1 Axes>"
      ]
     },
     "metadata": {},
     "output_type": "display_data"
    }
   ],
   "source": [
    "plt.bar(PS3_pivot_table['year_of_release'], PS3_pivot_table['total_vendas'])\n",
    "plt.title('Distribuição de vendas por ano')\n",
    "plt.xlabel('Ano')\n",
    "plt.ylabel('Total de vendas')\n",
    "plt.show()"
   ]
  },
  {
   "cell_type": "markdown",
   "id": "78c8f2f1",
   "metadata": {},
   "source": [
    "Na plataforma PS3, vimos que ela teve início em 2006, e as vendas alavancaram nos anos seguintes. Entre 2011, as vendas praticamente se mantiveram estáveis. No entanto, após o pico de vendas em 2011, houve uma pequena queda em 2012 e 2013. A partir de 2014, as vendas caíram drasticamente e seguiram caindo até 2016."
   ]
  },
  {
   "cell_type": "markdown",
   "id": "b368454a",
   "metadata": {},
   "source": [
    "Assim, analisando essas três plataformas, vimos que a PS2 era popular no início dos anos 2000, mas desapareceu em 2011. Já as outras duas plataformas surgiram em períodos próximos, mas em 2016 ambas já não tinham grandes vendas. Podemos concluir que as plataformas levam aproximadamente 10 anos para aparecerem, atingirem um pico de vendas e desaparecerem. São nesses 10 anos que o jogador conhece a plataforma, se adapta a ela, há um equilíbrio, e muito provavelmente, com o surgimento de uma nova plataforma, a antiga desaparece."
   ]
  },
  {
   "cell_type": "markdown",
   "id": "905acfcd",
   "metadata": {},
   "source": [
    "**Escolhendo de um periodo para análise**"
   ]
  },
  {
   "cell_type": "markdown",
   "id": "f0d2bed5",
   "metadata": {},
   "source": [
    "Para melhor direcionar o estudo, determinamos que, baseados nas respostas anteriores, os anos de 2015 e 2016 são os mais relevantes, pois são mais recentes. Assim, iremos agora analisar apenas os dados referentes a esse período, desconsiderando os dados de anos anteriores. Com o período selecionado, iremos analisar quais plataformas venderam mais. "
   ]
  },
  {
   "cell_type": "code",
   "execution_count": 45,
   "id": "ea0be9ca",
   "metadata": {},
   "outputs": [
    {
     "data": {
      "text/html": [
       "<div>\n",
       "<style scoped>\n",
       "    .dataframe tbody tr th:only-of-type {\n",
       "        vertical-align: middle;\n",
       "    }\n",
       "\n",
       "    .dataframe tbody tr th {\n",
       "        vertical-align: top;\n",
       "    }\n",
       "\n",
       "    .dataframe thead th {\n",
       "        text-align: right;\n",
       "    }\n",
       "</style>\n",
       "<table border=\"1\" class=\"dataframe\">\n",
       "  <thead>\n",
       "    <tr style=\"text-align: right;\">\n",
       "      <th></th>\n",
       "      <th>name</th>\n",
       "      <th>platform</th>\n",
       "      <th>year_of_release</th>\n",
       "      <th>genre</th>\n",
       "      <th>na_sales</th>\n",
       "      <th>eu_sales</th>\n",
       "      <th>jp_sales</th>\n",
       "      <th>other_sales</th>\n",
       "      <th>critic_score</th>\n",
       "      <th>user_score</th>\n",
       "      <th>rating</th>\n",
       "      <th>total_vendas</th>\n",
       "    </tr>\n",
       "  </thead>\n",
       "  <tbody>\n",
       "    <tr>\n",
       "      <th>77</th>\n",
       "      <td>FIFA 16</td>\n",
       "      <td>PS4</td>\n",
       "      <td>2015</td>\n",
       "      <td>Sports</td>\n",
       "      <td>1.12</td>\n",
       "      <td>6.12</td>\n",
       "      <td>0.06</td>\n",
       "      <td>1.28</td>\n",
       "      <td>82.0</td>\n",
       "      <td>4.3</td>\n",
       "      <td>E</td>\n",
       "      <td>8.58</td>\n",
       "    </tr>\n",
       "    <tr>\n",
       "      <th>94</th>\n",
       "      <td>FIFA 17</td>\n",
       "      <td>PS4</td>\n",
       "      <td>2016</td>\n",
       "      <td>Sports</td>\n",
       "      <td>0.66</td>\n",
       "      <td>5.75</td>\n",
       "      <td>0.08</td>\n",
       "      <td>1.11</td>\n",
       "      <td>85.0</td>\n",
       "      <td>5.0</td>\n",
       "      <td>E</td>\n",
       "      <td>7.60</td>\n",
       "    </tr>\n",
       "    <tr>\n",
       "      <th>105</th>\n",
       "      <td>Fallout 4</td>\n",
       "      <td>PS4</td>\n",
       "      <td>2015</td>\n",
       "      <td>Role-Playing</td>\n",
       "      <td>2.53</td>\n",
       "      <td>3.27</td>\n",
       "      <td>0.24</td>\n",
       "      <td>1.13</td>\n",
       "      <td>87.0</td>\n",
       "      <td>6.5</td>\n",
       "      <td>T</td>\n",
       "      <td>7.17</td>\n",
       "    </tr>\n",
       "    <tr>\n",
       "      <th>171</th>\n",
       "      <td>Uncharted 4: A Thief's End</td>\n",
       "      <td>PS4</td>\n",
       "      <td>2016</td>\n",
       "      <td>Shooter</td>\n",
       "      <td>1.85</td>\n",
       "      <td>2.50</td>\n",
       "      <td>0.19</td>\n",
       "      <td>0.85</td>\n",
       "      <td>93.0</td>\n",
       "      <td>7.9</td>\n",
       "      <td>M</td>\n",
       "      <td>5.39</td>\n",
       "    </tr>\n",
       "    <tr>\n",
       "      <th>231</th>\n",
       "      <td>Uncharted: The Nathan Drake Collection</td>\n",
       "      <td>PS4</td>\n",
       "      <td>2015</td>\n",
       "      <td>Action</td>\n",
       "      <td>2.07</td>\n",
       "      <td>1.71</td>\n",
       "      <td>0.08</td>\n",
       "      <td>0.76</td>\n",
       "      <td>86.0</td>\n",
       "      <td>8.1</td>\n",
       "      <td>M</td>\n",
       "      <td>4.62</td>\n",
       "    </tr>\n",
       "  </tbody>\n",
       "</table>\n",
       "</div>"
      ],
      "text/plain": [
       "                                       name platform  year_of_release  \\\n",
       "77                                  FIFA 16      PS4             2015   \n",
       "94                                  FIFA 17      PS4             2016   \n",
       "105                               Fallout 4      PS4             2015   \n",
       "171              Uncharted 4: A Thief's End      PS4             2016   \n",
       "231  Uncharted: The Nathan Drake Collection      PS4             2015   \n",
       "\n",
       "            genre  na_sales  eu_sales  jp_sales  other_sales  critic_score  \\\n",
       "77         Sports      1.12      6.12      0.06         1.28          82.0   \n",
       "94         Sports      0.66      5.75      0.08         1.11          85.0   \n",
       "105  Role-Playing      2.53      3.27      0.24         1.13          87.0   \n",
       "171       Shooter      1.85      2.50      0.19         0.85          93.0   \n",
       "231        Action      2.07      1.71      0.08         0.76          86.0   \n",
       "\n",
       "     user_score rating  total_vendas  \n",
       "77          4.3      E          8.58  \n",
       "94          5.0      E          7.60  \n",
       "105         6.5      T          7.17  \n",
       "171         7.9      M          5.39  \n",
       "231         8.1      M          4.62  "
      ]
     },
     "execution_count": 45,
     "metadata": {},
     "output_type": "execute_result"
    }
   ],
   "source": [
    "ano_analise = df.loc[df['year_of_release'] > 2014]\n",
    "ano_analise.head()"
   ]
  },
  {
   "cell_type": "code",
   "execution_count": 46,
   "id": "f5d6a038",
   "metadata": {},
   "outputs": [
    {
     "data": {
      "text/plain": [
       "platform\n",
       "PS4     138.90\n",
       "XOne     68.65\n",
       "WiiU     18.65\n",
       "3DS      13.52\n",
       "PS3      12.72\n",
       "PC       12.28\n",
       "X360      9.50\n",
       "PSV       4.06\n",
       "Name: total_vendas, dtype: float64"
      ]
     },
     "execution_count": 46,
     "metadata": {},
     "output_type": "execute_result"
    }
   ],
   "source": [
    "ano_filtrado = ano_analise.groupby('platform')['total_vendas'].sum()\n",
    "ano_filtrado = ano_filtrado.sort_values(ascending=False)\n",
    "ano_filtrado"
   ]
  },
  {
   "cell_type": "markdown",
   "id": "84cbafbd",
   "metadata": {},
   "source": [
    "**Plataformas que estão liderando em vendas**"
   ]
  },
  {
   "cell_type": "markdown",
   "id": "eba3bd3f",
   "metadata": {},
   "source": [
    "Analisaremos quais plataformas estão liderando em vendas e  quais estão crescendo ou diminuindo. Para isso selecionamos as plataformas PS4, XOne e 3DS analisarmos, pois parecem ser potencialmente lucrativas."
   ]
  },
  {
   "cell_type": "code",
   "execution_count": 47,
   "id": "49a413e8",
   "metadata": {},
   "outputs": [
    {
     "data": {
      "text/html": [
       "<div>\n",
       "<style scoped>\n",
       "    .dataframe tbody tr th:only-of-type {\n",
       "        vertical-align: middle;\n",
       "    }\n",
       "\n",
       "    .dataframe tbody tr th {\n",
       "        vertical-align: top;\n",
       "    }\n",
       "\n",
       "    .dataframe thead th {\n",
       "        text-align: right;\n",
       "    }\n",
       "</style>\n",
       "<table border=\"1\" class=\"dataframe\">\n",
       "  <thead>\n",
       "    <tr style=\"text-align: right;\">\n",
       "      <th></th>\n",
       "      <th>name</th>\n",
       "      <th>platform</th>\n",
       "      <th>year_of_release</th>\n",
       "      <th>genre</th>\n",
       "      <th>na_sales</th>\n",
       "      <th>eu_sales</th>\n",
       "      <th>jp_sales</th>\n",
       "      <th>other_sales</th>\n",
       "      <th>critic_score</th>\n",
       "      <th>user_score</th>\n",
       "      <th>rating</th>\n",
       "      <th>total_vendas</th>\n",
       "    </tr>\n",
       "  </thead>\n",
       "  <tbody>\n",
       "    <tr>\n",
       "      <th>77</th>\n",
       "      <td>FIFA 16</td>\n",
       "      <td>PS4</td>\n",
       "      <td>2015</td>\n",
       "      <td>Sports</td>\n",
       "      <td>1.12</td>\n",
       "      <td>6.12</td>\n",
       "      <td>0.06</td>\n",
       "      <td>1.28</td>\n",
       "      <td>82.0</td>\n",
       "      <td>4.3</td>\n",
       "      <td>E</td>\n",
       "      <td>8.58</td>\n",
       "    </tr>\n",
       "    <tr>\n",
       "      <th>94</th>\n",
       "      <td>FIFA 17</td>\n",
       "      <td>PS4</td>\n",
       "      <td>2016</td>\n",
       "      <td>Sports</td>\n",
       "      <td>0.66</td>\n",
       "      <td>5.75</td>\n",
       "      <td>0.08</td>\n",
       "      <td>1.11</td>\n",
       "      <td>85.0</td>\n",
       "      <td>5.0</td>\n",
       "      <td>E</td>\n",
       "      <td>7.60</td>\n",
       "    </tr>\n",
       "    <tr>\n",
       "      <th>105</th>\n",
       "      <td>Fallout 4</td>\n",
       "      <td>PS4</td>\n",
       "      <td>2015</td>\n",
       "      <td>Role-Playing</td>\n",
       "      <td>2.53</td>\n",
       "      <td>3.27</td>\n",
       "      <td>0.24</td>\n",
       "      <td>1.13</td>\n",
       "      <td>87.0</td>\n",
       "      <td>6.5</td>\n",
       "      <td>T</td>\n",
       "      <td>7.17</td>\n",
       "    </tr>\n",
       "    <tr>\n",
       "      <th>171</th>\n",
       "      <td>Uncharted 4: A Thief's End</td>\n",
       "      <td>PS4</td>\n",
       "      <td>2016</td>\n",
       "      <td>Shooter</td>\n",
       "      <td>1.85</td>\n",
       "      <td>2.50</td>\n",
       "      <td>0.19</td>\n",
       "      <td>0.85</td>\n",
       "      <td>93.0</td>\n",
       "      <td>7.9</td>\n",
       "      <td>M</td>\n",
       "      <td>5.39</td>\n",
       "    </tr>\n",
       "    <tr>\n",
       "      <th>231</th>\n",
       "      <td>Uncharted: The Nathan Drake Collection</td>\n",
       "      <td>PS4</td>\n",
       "      <td>2015</td>\n",
       "      <td>Action</td>\n",
       "      <td>2.07</td>\n",
       "      <td>1.71</td>\n",
       "      <td>0.08</td>\n",
       "      <td>0.76</td>\n",
       "      <td>86.0</td>\n",
       "      <td>8.1</td>\n",
       "      <td>M</td>\n",
       "      <td>4.62</td>\n",
       "    </tr>\n",
       "  </tbody>\n",
       "</table>\n",
       "</div>"
      ],
      "text/plain": [
       "                                       name platform  year_of_release  \\\n",
       "77                                  FIFA 16      PS4             2015   \n",
       "94                                  FIFA 17      PS4             2016   \n",
       "105                               Fallout 4      PS4             2015   \n",
       "171              Uncharted 4: A Thief's End      PS4             2016   \n",
       "231  Uncharted: The Nathan Drake Collection      PS4             2015   \n",
       "\n",
       "            genre  na_sales  eu_sales  jp_sales  other_sales  critic_score  \\\n",
       "77         Sports      1.12      6.12      0.06         1.28          82.0   \n",
       "94         Sports      0.66      5.75      0.08         1.11          85.0   \n",
       "105  Role-Playing      2.53      3.27      0.24         1.13          87.0   \n",
       "171       Shooter      1.85      2.50      0.19         0.85          93.0   \n",
       "231        Action      2.07      1.71      0.08         0.76          86.0   \n",
       "\n",
       "     user_score rating  total_vendas  \n",
       "77          4.3      E          8.58  \n",
       "94          5.0      E          7.60  \n",
       "105         6.5      T          7.17  \n",
       "171         7.9      M          5.39  \n",
       "231         8.1      M          4.62  "
      ]
     },
     "execution_count": 47,
     "metadata": {},
     "output_type": "execute_result"
    }
   ],
   "source": [
    "PS4 = ano_analise.query('platform in \"PS4\"')\n",
    "PS4.head()"
   ]
  },
  {
   "cell_type": "code",
   "execution_count": 48,
   "id": "a07a4e73",
   "metadata": {},
   "outputs": [
    {
     "data": {
      "text/html": [
       "<div>\n",
       "<style scoped>\n",
       "    .dataframe tbody tr th:only-of-type {\n",
       "        vertical-align: middle;\n",
       "    }\n",
       "\n",
       "    .dataframe tbody tr th {\n",
       "        vertical-align: top;\n",
       "    }\n",
       "\n",
       "    .dataframe thead th {\n",
       "        text-align: right;\n",
       "    }\n",
       "</style>\n",
       "<table border=\"1\" class=\"dataframe\">\n",
       "  <thead>\n",
       "    <tr style=\"text-align: right;\">\n",
       "      <th></th>\n",
       "      <th>year_of_release</th>\n",
       "      <th>total_vendas</th>\n",
       "    </tr>\n",
       "  </thead>\n",
       "  <tbody>\n",
       "    <tr>\n",
       "      <th>0</th>\n",
       "      <td>2015</td>\n",
       "      <td>81.16</td>\n",
       "    </tr>\n",
       "    <tr>\n",
       "      <th>1</th>\n",
       "      <td>2016</td>\n",
       "      <td>57.74</td>\n",
       "    </tr>\n",
       "  </tbody>\n",
       "</table>\n",
       "</div>"
      ],
      "text/plain": [
       "   year_of_release  total_vendas\n",
       "0             2015         81.16\n",
       "1             2016         57.74"
      ]
     },
     "execution_count": 48,
     "metadata": {},
     "output_type": "execute_result"
    }
   ],
   "source": [
    "PS4_pivot_table = PS4.pivot_table(index = 'year_of_release', values = 'total_vendas', aggfunc = 'sum')\n",
    "PS4_pivot_table = PS4_pivot_table.reset_index().sort_values(by = 'total_vendas', ascending=False)\n",
    "PS4_pivot_table"
   ]
  },
  {
   "cell_type": "code",
   "execution_count": 49,
   "id": "14d06118",
   "metadata": {},
   "outputs": [
    {
     "data": {
      "text/html": [
       "<div>\n",
       "<style scoped>\n",
       "    .dataframe tbody tr th:only-of-type {\n",
       "        vertical-align: middle;\n",
       "    }\n",
       "\n",
       "    .dataframe tbody tr th {\n",
       "        vertical-align: top;\n",
       "    }\n",
       "\n",
       "    .dataframe thead th {\n",
       "        text-align: right;\n",
       "    }\n",
       "</style>\n",
       "<table border=\"1\" class=\"dataframe\">\n",
       "  <thead>\n",
       "    <tr style=\"text-align: right;\">\n",
       "      <th></th>\n",
       "      <th>name</th>\n",
       "      <th>platform</th>\n",
       "      <th>year_of_release</th>\n",
       "      <th>genre</th>\n",
       "      <th>na_sales</th>\n",
       "      <th>eu_sales</th>\n",
       "      <th>jp_sales</th>\n",
       "      <th>other_sales</th>\n",
       "      <th>critic_score</th>\n",
       "      <th>user_score</th>\n",
       "      <th>rating</th>\n",
       "      <th>total_vendas</th>\n",
       "    </tr>\n",
       "  </thead>\n",
       "  <tbody>\n",
       "    <tr>\n",
       "      <th>242</th>\n",
       "      <td>Halo 5: Guardians</td>\n",
       "      <td>XOne</td>\n",
       "      <td>2015</td>\n",
       "      <td>Shooter</td>\n",
       "      <td>2.78</td>\n",
       "      <td>1.27</td>\n",
       "      <td>0.03</td>\n",
       "      <td>0.41</td>\n",
       "      <td>84.0</td>\n",
       "      <td>6.4</td>\n",
       "      <td>M</td>\n",
       "      <td>4.49</td>\n",
       "    </tr>\n",
       "    <tr>\n",
       "      <th>270</th>\n",
       "      <td>Fallout 4</td>\n",
       "      <td>XOne</td>\n",
       "      <td>2015</td>\n",
       "      <td>Role-Playing</td>\n",
       "      <td>2.51</td>\n",
       "      <td>1.32</td>\n",
       "      <td>0.01</td>\n",
       "      <td>0.38</td>\n",
       "      <td>88.0</td>\n",
       "      <td>6.2</td>\n",
       "      <td>T</td>\n",
       "      <td>4.22</td>\n",
       "    </tr>\n",
       "    <tr>\n",
       "      <th>413</th>\n",
       "      <td>Gears of War: Ultimate Edition</td>\n",
       "      <td>XOne</td>\n",
       "      <td>2015</td>\n",
       "      <td>Shooter</td>\n",
       "      <td>2.61</td>\n",
       "      <td>0.33</td>\n",
       "      <td>0.00</td>\n",
       "      <td>0.34</td>\n",
       "      <td>82.0</td>\n",
       "      <td>7.5</td>\n",
       "      <td>M</td>\n",
       "      <td>3.28</td>\n",
       "    </tr>\n",
       "    <tr>\n",
       "      <th>417</th>\n",
       "      <td>FIFA 16</td>\n",
       "      <td>XOne</td>\n",
       "      <td>2015</td>\n",
       "      <td>Sports</td>\n",
       "      <td>0.89</td>\n",
       "      <td>2.12</td>\n",
       "      <td>0.00</td>\n",
       "      <td>0.24</td>\n",
       "      <td>84.0</td>\n",
       "      <td>4.4</td>\n",
       "      <td>E</td>\n",
       "      <td>3.25</td>\n",
       "    </tr>\n",
       "    <tr>\n",
       "      <th>571</th>\n",
       "      <td>FIFA 17</td>\n",
       "      <td>XOne</td>\n",
       "      <td>2016</td>\n",
       "      <td>Sports</td>\n",
       "      <td>0.43</td>\n",
       "      <td>2.05</td>\n",
       "      <td>0.00</td>\n",
       "      <td>0.17</td>\n",
       "      <td>84.0</td>\n",
       "      <td>5.5</td>\n",
       "      <td>E</td>\n",
       "      <td>2.65</td>\n",
       "    </tr>\n",
       "  </tbody>\n",
       "</table>\n",
       "</div>"
      ],
      "text/plain": [
       "                               name platform  year_of_release         genre  \\\n",
       "242               Halo 5: Guardians     XOne             2015       Shooter   \n",
       "270                       Fallout 4     XOne             2015  Role-Playing   \n",
       "413  Gears of War: Ultimate Edition     XOne             2015       Shooter   \n",
       "417                         FIFA 16     XOne             2015        Sports   \n",
       "571                         FIFA 17     XOne             2016        Sports   \n",
       "\n",
       "     na_sales  eu_sales  jp_sales  other_sales  critic_score  user_score  \\\n",
       "242      2.78      1.27      0.03         0.41          84.0         6.4   \n",
       "270      2.51      1.32      0.01         0.38          88.0         6.2   \n",
       "413      2.61      0.33      0.00         0.34          82.0         7.5   \n",
       "417      0.89      2.12      0.00         0.24          84.0         4.4   \n",
       "571      0.43      2.05      0.00         0.17          84.0         5.5   \n",
       "\n",
       "    rating  total_vendas  \n",
       "242      M          4.49  \n",
       "270      T          4.22  \n",
       "413      M          3.28  \n",
       "417      E          3.25  \n",
       "571      E          2.65  "
      ]
     },
     "execution_count": 49,
     "metadata": {},
     "output_type": "execute_result"
    }
   ],
   "source": [
    "XOne = ano_analise.query('platform in \"XOne\"')\n",
    "XOne.head()"
   ]
  },
  {
   "cell_type": "code",
   "execution_count": 50,
   "id": "e50ab5ad",
   "metadata": {},
   "outputs": [
    {
     "data": {
      "text/html": [
       "<div>\n",
       "<style scoped>\n",
       "    .dataframe tbody tr th:only-of-type {\n",
       "        vertical-align: middle;\n",
       "    }\n",
       "\n",
       "    .dataframe tbody tr th {\n",
       "        vertical-align: top;\n",
       "    }\n",
       "\n",
       "    .dataframe thead th {\n",
       "        text-align: right;\n",
       "    }\n",
       "</style>\n",
       "<table border=\"1\" class=\"dataframe\">\n",
       "  <thead>\n",
       "    <tr style=\"text-align: right;\">\n",
       "      <th></th>\n",
       "      <th>year_of_release</th>\n",
       "      <th>total_vendas</th>\n",
       "    </tr>\n",
       "  </thead>\n",
       "  <tbody>\n",
       "    <tr>\n",
       "      <th>0</th>\n",
       "      <td>2015</td>\n",
       "      <td>44.83</td>\n",
       "    </tr>\n",
       "    <tr>\n",
       "      <th>1</th>\n",
       "      <td>2016</td>\n",
       "      <td>23.82</td>\n",
       "    </tr>\n",
       "  </tbody>\n",
       "</table>\n",
       "</div>"
      ],
      "text/plain": [
       "   year_of_release  total_vendas\n",
       "0             2015         44.83\n",
       "1             2016         23.82"
      ]
     },
     "execution_count": 50,
     "metadata": {},
     "output_type": "execute_result"
    }
   ],
   "source": [
    "XOne_pivot_table = XOne.pivot_table(index = 'year_of_release', values = 'total_vendas', aggfunc = 'sum')\n",
    "XOne_pivot_table = XOne_pivot_table.reset_index().sort_values(by = 'total_vendas', ascending=False)\n",
    "XOne_pivot_table"
   ]
  },
  {
   "cell_type": "code",
   "execution_count": 51,
   "id": "df58ce7c",
   "metadata": {},
   "outputs": [
    {
     "data": {
      "text/html": [
       "<div>\n",
       "<style scoped>\n",
       "    .dataframe tbody tr th:only-of-type {\n",
       "        vertical-align: middle;\n",
       "    }\n",
       "\n",
       "    .dataframe tbody tr th {\n",
       "        vertical-align: top;\n",
       "    }\n",
       "\n",
       "    .dataframe thead th {\n",
       "        text-align: right;\n",
       "    }\n",
       "</style>\n",
       "<table border=\"1\" class=\"dataframe\">\n",
       "  <thead>\n",
       "    <tr style=\"text-align: right;\">\n",
       "      <th></th>\n",
       "      <th>name</th>\n",
       "      <th>platform</th>\n",
       "      <th>year_of_release</th>\n",
       "      <th>genre</th>\n",
       "      <th>na_sales</th>\n",
       "      <th>eu_sales</th>\n",
       "      <th>jp_sales</th>\n",
       "      <th>other_sales</th>\n",
       "      <th>critic_score</th>\n",
       "      <th>user_score</th>\n",
       "      <th>rating</th>\n",
       "      <th>total_vendas</th>\n",
       "    </tr>\n",
       "  </thead>\n",
       "  <tbody>\n",
       "    <tr>\n",
       "      <th>457</th>\n",
       "      <td>Animal Crossing: Happy Home Designer</td>\n",
       "      <td>3DS</td>\n",
       "      <td>2015</td>\n",
       "      <td>Simulation</td>\n",
       "      <td>0.51</td>\n",
       "      <td>1.02</td>\n",
       "      <td>1.40</td>\n",
       "      <td>0.12</td>\n",
       "      <td>66.0</td>\n",
       "      <td>6.9</td>\n",
       "      <td>E</td>\n",
       "      <td>3.05</td>\n",
       "    </tr>\n",
       "    <tr>\n",
       "      <th>677</th>\n",
       "      <td>The Legend of Zelda: Majora's Mask 3D</td>\n",
       "      <td>3DS</td>\n",
       "      <td>2015</td>\n",
       "      <td>Action</td>\n",
       "      <td>1.15</td>\n",
       "      <td>0.55</td>\n",
       "      <td>0.47</td>\n",
       "      <td>0.17</td>\n",
       "      <td>89.0</td>\n",
       "      <td>9.0</td>\n",
       "      <td>M</td>\n",
       "      <td>2.34</td>\n",
       "    </tr>\n",
       "    <tr>\n",
       "      <th>1596</th>\n",
       "      <td>Pokemon Super Mystery Dungeon</td>\n",
       "      <td>3DS</td>\n",
       "      <td>2015</td>\n",
       "      <td>Role-Playing</td>\n",
       "      <td>0.48</td>\n",
       "      <td>0.35</td>\n",
       "      <td>0.34</td>\n",
       "      <td>0.08</td>\n",
       "      <td>69.0</td>\n",
       "      <td>8.8</td>\n",
       "      <td>T</td>\n",
       "      <td>1.25</td>\n",
       "    </tr>\n",
       "    <tr>\n",
       "      <th>1817</th>\n",
       "      <td>The Legend of Zelda: Tri Force Heroes</td>\n",
       "      <td>3DS</td>\n",
       "      <td>2015</td>\n",
       "      <td>Action</td>\n",
       "      <td>0.53</td>\n",
       "      <td>0.33</td>\n",
       "      <td>0.17</td>\n",
       "      <td>0.08</td>\n",
       "      <td>73.0</td>\n",
       "      <td>7.6</td>\n",
       "      <td>M</td>\n",
       "      <td>1.11</td>\n",
       "    </tr>\n",
       "    <tr>\n",
       "      <th>2219</th>\n",
       "      <td>Kirby: Planet Robobot</td>\n",
       "      <td>3DS</td>\n",
       "      <td>2016</td>\n",
       "      <td>Action</td>\n",
       "      <td>0.28</td>\n",
       "      <td>0.14</td>\n",
       "      <td>0.47</td>\n",
       "      <td>0.04</td>\n",
       "      <td>81.0</td>\n",
       "      <td>8.7</td>\n",
       "      <td>M</td>\n",
       "      <td>0.93</td>\n",
       "    </tr>\n",
       "  </tbody>\n",
       "</table>\n",
       "</div>"
      ],
      "text/plain": [
       "                                       name platform  year_of_release  \\\n",
       "457    Animal Crossing: Happy Home Designer      3DS             2015   \n",
       "677   The Legend of Zelda: Majora's Mask 3D      3DS             2015   \n",
       "1596          Pokemon Super Mystery Dungeon      3DS             2015   \n",
       "1817  The Legend of Zelda: Tri Force Heroes      3DS             2015   \n",
       "2219                  Kirby: Planet Robobot      3DS             2016   \n",
       "\n",
       "             genre  na_sales  eu_sales  jp_sales  other_sales  critic_score  \\\n",
       "457     Simulation      0.51      1.02      1.40         0.12          66.0   \n",
       "677         Action      1.15      0.55      0.47         0.17          89.0   \n",
       "1596  Role-Playing      0.48      0.35      0.34         0.08          69.0   \n",
       "1817        Action      0.53      0.33      0.17         0.08          73.0   \n",
       "2219        Action      0.28      0.14      0.47         0.04          81.0   \n",
       "\n",
       "      user_score rating  total_vendas  \n",
       "457          6.9      E          3.05  \n",
       "677          9.0      M          2.34  \n",
       "1596         8.8      T          1.25  \n",
       "1817         7.6      M          1.11  \n",
       "2219         8.7      M          0.93  "
      ]
     },
     "execution_count": 51,
     "metadata": {},
     "output_type": "execute_result"
    }
   ],
   "source": [
    "plat_3DS = ano_analise.query('platform in \"3DS\"')\n",
    "plat_3DS.head()"
   ]
  },
  {
   "cell_type": "code",
   "execution_count": 52,
   "id": "51ead232",
   "metadata": {},
   "outputs": [
    {
     "data": {
      "text/html": [
       "<div>\n",
       "<style scoped>\n",
       "    .dataframe tbody tr th:only-of-type {\n",
       "        vertical-align: middle;\n",
       "    }\n",
       "\n",
       "    .dataframe tbody tr th {\n",
       "        vertical-align: top;\n",
       "    }\n",
       "\n",
       "    .dataframe thead th {\n",
       "        text-align: right;\n",
       "    }\n",
       "</style>\n",
       "<table border=\"1\" class=\"dataframe\">\n",
       "  <thead>\n",
       "    <tr style=\"text-align: right;\">\n",
       "      <th></th>\n",
       "      <th>year_of_release</th>\n",
       "      <th>total_vendas</th>\n",
       "    </tr>\n",
       "  </thead>\n",
       "  <tbody>\n",
       "    <tr>\n",
       "      <th>0</th>\n",
       "      <td>2015</td>\n",
       "      <td>11.20</td>\n",
       "    </tr>\n",
       "    <tr>\n",
       "      <th>1</th>\n",
       "      <td>2016</td>\n",
       "      <td>2.32</td>\n",
       "    </tr>\n",
       "  </tbody>\n",
       "</table>\n",
       "</div>"
      ],
      "text/plain": [
       "   year_of_release  total_vendas\n",
       "0             2015         11.20\n",
       "1             2016          2.32"
      ]
     },
     "execution_count": 52,
     "metadata": {},
     "output_type": "execute_result"
    }
   ],
   "source": [
    "plat_3DS_pivot_table = plat_3DS.pivot_table(index = 'year_of_release', values = 'total_vendas', aggfunc = 'sum')\n",
    "plat_3DS_pivot_table = plat_3DS_pivot_table.reset_index().sort_values(by = 'total_vendas', ascending=False)\n",
    "plat_3DS_pivot_table"
   ]
  },
  {
   "cell_type": "markdown",
   "id": "9588b853",
   "metadata": {},
   "source": [
    "Analisando os anos de 2015 e 2016 e as três plataformas que seriam potencialmente lucrativas, pudemos verificar que, apesar de serem as mais lucrativas nesses dois últimos anos, essas plataformas não estão crescendo; na verdade, estão diminuindo."
   ]
  },
  {
   "cell_type": "markdown",
   "id": "85c00657",
   "metadata": {},
   "source": [
    "**Diagrama de caixa**"
   ]
  },
  {
   "cell_type": "markdown",
   "id": "039af1ff",
   "metadata": {},
   "source": [
    "Construiremos um diagrama de caixa para as vendas globais de todos os jogos divididos por plataforma."
   ]
  },
  {
   "cell_type": "code",
   "execution_count": 53,
   "id": "adfa244e",
   "metadata": {},
   "outputs": [
    {
     "data": {
      "image/png": "[encoded data removed]",
      "text/plain": [
       "<Figure size 1400x1000 with 1 Axes>"
      ]
     },
     "metadata": {},
     "output_type": "display_data"
    }
   ],
   "source": [
    "ano_analise.boxplot(column='total_vendas', by='platform', figsize=(14,10))\n",
    "plt.title('Total de Vendas por Plataforma')\n",
    "plt.ylim(0,3)\n",
    "plt.xlabel('Plataformas')\n",
    "plt.ylabel('Total de vendas')\n",
    "plt.show()"
   ]
  },
  {
   "cell_type": "markdown",
   "id": "c30e524a",
   "metadata": {},
   "source": [
    "Pudemos ver que não só há diferenças nas vendas, mas também, ao observar a mediana (linha verde) e a variação dos dados (presentes nos bigodes), as diferenças são significativas."
   ]
  },
  {
   "cell_type": "markdown",
   "id": "d3b90e30",
   "metadata": {},
   "source": [
    "**As vendas médias em várias plataformas**"
   ]
  },
  {
   "cell_type": "code",
   "execution_count": 54,
   "id": "6b558ef7",
   "metadata": {},
   "outputs": [
    {
     "data": {
      "text/plain": [
       "platform\n",
       "PS4     0.731053\n",
       "WiiU    0.643103\n",
       "XOne    0.567355\n",
       "3DS     0.409697\n",
       "PS3     0.363429\n",
       "X360    0.306452\n",
       "PC      0.146190\n",
       "PSV     0.112778\n",
       "Name: total_vendas, dtype: float64"
      ]
     },
     "execution_count": 54,
     "metadata": {},
     "output_type": "execute_result"
    }
   ],
   "source": [
    "media_vendas = ano_analise.groupby('platform')['total_vendas'].mean()\n",
    "media_vendas = media_vendas.sort_values(ascending=False)\n",
    "media_vendas"
   ]
  },
  {
   "cell_type": "markdown",
   "id": "2623860a",
   "metadata": {},
   "source": [
    "Na análise das vendas médias em várias plataformas, observamos que a plataforma PS4 teve a maior média de vendas totais, com 0,625083 unidades vendidas em média por jogo, seguida pela plataforma XOne, com uma média de 0,516707 unidades vendidas por jogo. A última plataforma listada é a PSP, com uma média de vendas totais de 0,04 unidades por jogo."
   ]
  },
  {
   "cell_type": "markdown",
   "id": "d8a30f2f",
   "metadata": {},
   "source": [
    "**Avaliações de usuários e profissionais e as vendas de uma plataforma popular**"
   ]
  },
  {
   "cell_type": "markdown",
   "id": "7510f695",
   "metadata": {},
   "source": [
    "Iremos agora analisar como as avaliações de usuários e profissionais afetam as vendas de uma plataforma popular e para isso selecionaremos a plataforma PS4."
   ]
  },
  {
   "cell_type": "code",
   "execution_count": 55,
   "id": "b1ada6f0",
   "metadata": {},
   "outputs": [
    {
     "data": {
      "text/plain": [
       "Text(0, 0.5, 'Total de vendas')"
      ]
     },
     "execution_count": 55,
     "metadata": {},
     "output_type": "execute_result"
    },
    {
     "data": {
      "image/png": "[encoded data removed]",
      "text/plain": [
       "<Figure size 640x480 with 1 Axes>"
      ]
     },
     "metadata": {},
     "output_type": "display_data"
    }
   ],
   "source": [
    "PS4.plot.scatter(x='critic_score', y='total_vendas', alpha=0.5)\n",
    "plt.title('Revisões dos criticos vs. Total de vendas')\n",
    "plt.xlabel('Pontuação da Crítica')\n",
    "plt.ylabel('Total de vendas')"
   ]
  },
  {
   "cell_type": "code",
   "execution_count": 56,
   "id": "9a5c7e33",
   "metadata": {},
   "outputs": [
    {
     "name": "stdout",
     "output_type": "stream",
     "text": [
      "A correlação entre revisões e vendas é: 0.3920741369660568\n"
     ]
    }
   ],
   "source": [
    "critic_vendas = PS4['critic_score'].corr(PS4['total_vendas'])\n",
    "print(f\"A correlação entre revisões e vendas é: {critic_vendas}\")"
   ]
  },
  {
   "cell_type": "markdown",
   "id": "941d0147",
   "metadata": {},
   "source": [
    "A correlação entre revisões e vendas é de 0.39 indica uma correlação positiva e significaria que há uma tendência de que quando o número de revisões aumenta, as vendas também aumentam."
   ]
  },
  {
   "cell_type": "code",
   "execution_count": 57,
   "id": "45b710f7",
   "metadata": {},
   "outputs": [
    {
     "data": {
      "image/png": "[encoded data removed]",
      "text/plain": [
       "<Figure size 640x480 with 1 Axes>"
      ]
     },
     "metadata": {},
     "output_type": "display_data"
    }
   ],
   "source": [
    "plt.scatter(x=PS4['user_score'], y=PS4['total_vendas'], s=20, alpha=0.5)\n",
    "plt.title('Avaliações de usuários vs. Vendas totais para o PS4')\n",
    "plt.xlabel('Avaliações de usuários')\n",
    "plt.ylabel('Vendas totais')\n",
    "plt.show()"
   ]
  },
  {
   "cell_type": "code",
   "execution_count": 58,
   "id": "60fe5c6c",
   "metadata": {},
   "outputs": [
    {
     "name": "stdout",
     "output_type": "stream",
     "text": [
      "A correlação entre revisões e vendas é: -0.05973845712638215\n"
     ]
    }
   ],
   "source": [
    "user_vendas = PS4['user_score'].corr(PS4['total_vendas'])\n",
    "print(f\"A correlação entre revisões e vendas é: {user_vendas}\")"
   ]
  },
  {
   "cell_type": "markdown",
   "id": "4656191a",
   "metadata": {},
   "source": [
    "A correlação entre revisões e vendas é de -0.059 e indica uma correlacao negativa e significaria que há uma tendência de que quando o número de revisões aumenta, as vendas diminuem."
   ]
  },
  {
   "cell_type": "markdown",
   "id": "614d90ab",
   "metadata": {},
   "source": [
    "Assim, se observarmos apenas as avaliações dos críticos e dos usuários, poderíamos concluir que as avaliações dos críticos ajudam a aumentar as vendas, ao contrário do que acontece com as avaliações dos usuários, que tendem a diminuir as vendas."
   ]
  },
  {
   "cell_type": "markdown",
   "id": "bb334f80",
   "metadata": {},
   "source": [
    "**Vendas dos mesmos jogos em outras plataformas**"
   ]
  },
  {
   "cell_type": "code",
   "execution_count": 59,
   "id": "250c1d5b",
   "metadata": {},
   "outputs": [
    {
     "data": {
      "text/html": [
       "<div>\n",
       "<style scoped>\n",
       "    .dataframe tbody tr th:only-of-type {\n",
       "        vertical-align: middle;\n",
       "    }\n",
       "\n",
       "    .dataframe tbody tr th {\n",
       "        vertical-align: top;\n",
       "    }\n",
       "\n",
       "    .dataframe thead th {\n",
       "        text-align: right;\n",
       "    }\n",
       "</style>\n",
       "<table border=\"1\" class=\"dataframe\">\n",
       "  <thead>\n",
       "    <tr style=\"text-align: right;\">\n",
       "      <th></th>\n",
       "      <th></th>\n",
       "      <th>total_vendas</th>\n",
       "    </tr>\n",
       "    <tr>\n",
       "      <th>name</th>\n",
       "      <th>platform</th>\n",
       "      <th></th>\n",
       "    </tr>\n",
       "  </thead>\n",
       "  <tbody>\n",
       "    <tr>\n",
       "      <th rowspan=\"2\" valign=\"top\">7 Days to Die</th>\n",
       "      <th>PS4</th>\n",
       "      <td>0.14</td>\n",
       "    </tr>\n",
       "    <tr>\n",
       "      <th>XOne</th>\n",
       "      <td>0.05</td>\n",
       "    </tr>\n",
       "    <tr>\n",
       "      <th>7th Dragon III Code: VFD</th>\n",
       "      <th>3DS</th>\n",
       "      <td>0.16</td>\n",
       "    </tr>\n",
       "    <tr>\n",
       "      <th>Act of Aggression</th>\n",
       "      <th>PC</th>\n",
       "      <td>0.01</td>\n",
       "    </tr>\n",
       "    <tr>\n",
       "      <th rowspan=\"2\" valign=\"top\">Aegis of Earth: Protonovus Assault</th>\n",
       "      <th>PS4</th>\n",
       "      <td>0.02</td>\n",
       "    </tr>\n",
       "    <tr>\n",
       "      <th>PSV</th>\n",
       "      <td>0.03</td>\n",
       "    </tr>\n",
       "    <tr>\n",
       "      <th rowspan=\"2\" valign=\"top\">Agatha Christie's The ABC Murders</th>\n",
       "      <th>PS4</th>\n",
       "      <td>0.02</td>\n",
       "    </tr>\n",
       "    <tr>\n",
       "      <th>XOne</th>\n",
       "      <td>0.01</td>\n",
       "    </tr>\n",
       "    <tr>\n",
       "      <th>Agatha Christie: The ABC Murders</th>\n",
       "      <th>PC</th>\n",
       "      <td>0.02</td>\n",
       "    </tr>\n",
       "    <tr>\n",
       "      <th>Anima - Gate of Memories</th>\n",
       "      <th>PS4</th>\n",
       "      <td>0.02</td>\n",
       "    </tr>\n",
       "    <tr>\n",
       "      <th>Animal Crossing: Amiibo Festival</th>\n",
       "      <th>WiiU</th>\n",
       "      <td>0.42</td>\n",
       "    </tr>\n",
       "    <tr>\n",
       "      <th>Animal Crossing: Happy Home Designer</th>\n",
       "      <th>3DS</th>\n",
       "      <td>3.05</td>\n",
       "    </tr>\n",
       "    <tr>\n",
       "      <th>Anno 2205</th>\n",
       "      <th>PC</th>\n",
       "      <td>0.26</td>\n",
       "    </tr>\n",
       "    <tr>\n",
       "      <th rowspan=\"2\" valign=\"top\">Arslan: The Warriors of Legend</th>\n",
       "      <th>PS4</th>\n",
       "      <td>0.09</td>\n",
       "    </tr>\n",
       "    <tr>\n",
       "      <th>XOne</th>\n",
       "      <td>0.01</td>\n",
       "    </tr>\n",
       "    <tr>\n",
       "      <th>Art Academy: Home Studio</th>\n",
       "      <th>WiiU</th>\n",
       "      <td>0.01</td>\n",
       "    </tr>\n",
       "    <tr>\n",
       "      <th rowspan=\"3\" valign=\"top\">Assassin's Creed Chronicles</th>\n",
       "      <th>PS4</th>\n",
       "      <td>0.08</td>\n",
       "    </tr>\n",
       "    <tr>\n",
       "      <th>PSV</th>\n",
       "      <td>0.07</td>\n",
       "    </tr>\n",
       "    <tr>\n",
       "      <th>XOne</th>\n",
       "      <td>0.01</td>\n",
       "    </tr>\n",
       "    <tr>\n",
       "      <th>Assassin's Creed Chronicles: China</th>\n",
       "      <th>PS4</th>\n",
       "      <td>0.04</td>\n",
       "    </tr>\n",
       "  </tbody>\n",
       "</table>\n",
       "</div>"
      ],
      "text/plain": [
       "                                               total_vendas\n",
       "name                                 platform              \n",
       "7 Days to Die                        PS4               0.14\n",
       "                                     XOne              0.05\n",
       "7th Dragon III Code: VFD             3DS               0.16\n",
       "Act of Aggression                    PC                0.01\n",
       "Aegis of Earth: Protonovus Assault   PS4               0.02\n",
       "                                     PSV               0.03\n",
       "Agatha Christie's The ABC Murders    PS4               0.02\n",
       "                                     XOne              0.01\n",
       "Agatha Christie: The ABC Murders     PC                0.02\n",
       "Anima - Gate of Memories             PS4               0.02\n",
       "Animal Crossing: Amiibo Festival     WiiU              0.42\n",
       "Animal Crossing: Happy Home Designer 3DS               3.05\n",
       "Anno 2205                            PC                0.26\n",
       "Arslan: The Warriors of Legend       PS4               0.09\n",
       "                                     XOne              0.01\n",
       "Art Academy: Home Studio             WiiU              0.01\n",
       "Assassin's Creed Chronicles          PS4               0.08\n",
       "                                     PSV               0.07\n",
       "                                     XOne              0.01\n",
       "Assassin's Creed Chronicles: China   PS4               0.04"
      ]
     },
     "execution_count": 59,
     "metadata": {},
     "output_type": "execute_result"
    }
   ],
   "source": [
    "jogos_plataforma = ano_analise.pivot_table(index=['name', 'platform'], values='total_vendas', aggfunc = 'sum')\n",
    "jogos_plataforma.head(20)"
   ]
  },
  {
   "cell_type": "markdown",
   "id": "09ea1941",
   "metadata": {},
   "source": [
    "Fizemos uma pivot table para compararmos as vendas dos jogos que estão em mais de uma plataforma e pudemos ver os jogos que estão na plataforma PS4 tem mais vendas do que aqueles que estão em outras plataformas. "
   ]
  },
  {
   "cell_type": "markdown",
   "id": "62ed42e4",
   "metadata": {},
   "source": [
    "**Distribuição geral de jogos por gênero**"
   ]
  },
  {
   "cell_type": "code",
   "execution_count": 60,
   "id": "08b98c5c",
   "metadata": {},
   "outputs": [
    {
     "data": {
      "text/plain": [
       "genre\n",
       "Action          71.45\n",
       "Shooter         64.66\n",
       "Sports          62.82\n",
       "Role-Playing    31.87\n",
       "Fighting        11.20\n",
       "Misc             8.90\n",
       "Platform         6.94\n",
       "Racing           6.73\n",
       "Simulation       5.73\n",
       "Adventure        5.62\n",
       "Strategy         2.27\n",
       "Puzzle           0.09\n",
       "Name: total_vendas, dtype: float64"
      ]
     },
     "execution_count": 60,
     "metadata": {},
     "output_type": "execute_result"
    }
   ],
   "source": [
    "vendas_por_genero = ano_analise.groupby('genre')['total_vendas'].sum()\n",
    "vendas_por_genero = vendas_por_genero.sort_values(ascending=False)\n",
    "vendas_por_genero"
   ]
  },
  {
   "cell_type": "markdown",
   "id": "b62e1274",
   "metadata": {},
   "source": [
    "Olhando apenas a soma das vendas totais de jogos de cada gênero, podemos concluir que os três gêneros mais lucrativos são: Shooter, Action e Sports. No entanto, não podemos generalizar as vendas altas e baixas, pois não sabemos o preço de cada jogo no mercado. Seria melhor analisar cada jogo individualmente para avaliar sua lucratividade, já que o lucro pode variar de acordo com o jogo e não apenas com o gênero. Portanto, não seria a melhor opção generalizar a lucratividade como alta ou baixa com base no gênero de um jogo."
   ]
  },
  {
   "cell_type": "markdown",
   "id": "10e8adfc",
   "metadata": {},
   "source": [
    "# Criando um perfil de usuário para cada região"
   ]
  },
  {
   "cell_type": "markdown",
   "id": "46e71926",
   "metadata": {},
   "source": [
    "Para ajudar nosso estudo iremos criar um perfil de usuario por cada região que possuem as maiores vendas, que são a região Norte Americana, Europeia e Japonesa. Para criar o perfil observaremos:\n",
    "- as 5 plataformas principais e as variações das suas quotas de mercado de região para região;\n",
    "- os cinco principais gêneros\n",
    "- e se as classificações do ESRB afetam as vendas em regiões individuais"
   ]
  },
  {
   "cell_type": "markdown",
   "id": "b047fb41",
   "metadata": {},
   "source": [
    "**Regiao Norte America(AN)**"
   ]
  },
  {
   "cell_type": "code",
   "execution_count": 61,
   "id": "3f3b3ea1",
   "metadata": {},
   "outputs": [
    {
     "data": {
      "text/plain": [
       "platform\n",
       "PS4     47.19\n",
       "XOne    40.03\n",
       "WiiU     7.94\n",
       "X360     5.70\n",
       "3DS      4.93\n",
       "PS3      4.22\n",
       "PC       3.49\n",
       "PSV      0.46\n",
       "Name: na_sales, dtype: float64"
      ]
     },
     "execution_count": 61,
     "metadata": {},
     "output_type": "execute_result"
    }
   ],
   "source": [
    "na_platform = ano_analise.groupby('platform')['na_sales'].sum()\n",
    "na_platform = na_platform.sort_values(ascending=False)\n",
    "na_platform"
   ]
  },
  {
   "cell_type": "code",
   "execution_count": 62,
   "id": "7a8266da",
   "metadata": {},
   "outputs": [
    {
     "data": {
      "text/plain": [
       "genre\n",
       "Shooter         29.36\n",
       "Action          28.25\n",
       "Sports          26.13\n",
       "Role-Playing    12.15\n",
       "Fighting         5.25\n",
       "Misc             4.49\n",
       "Platform         2.96\n",
       "Adventure        1.99\n",
       "Racing           1.91\n",
       "Simulation       0.79\n",
       "Strategy         0.68\n",
       "Puzzle           0.00\n",
       "Name: na_sales, dtype: float64"
      ]
     },
     "execution_count": 62,
     "metadata": {},
     "output_type": "execute_result"
    }
   ],
   "source": [
    "na_genre = ano_analise.groupby('genre')['na_sales'].sum()\n",
    "na_genre = na_genre.sort_values(ascending=False)\n",
    "na_genre"
   ]
  },
  {
   "cell_type": "code",
   "execution_count": 63,
   "id": "8aeb9a00",
   "metadata": {},
   "outputs": [
    {
     "data": {
      "text/plain": [
       "rating\n",
       "M    56.12\n",
       "E    39.11\n",
       "T    16.56\n",
       "Name: eu_sales, dtype: float64"
      ]
     },
     "execution_count": 63,
     "metadata": {},
     "output_type": "execute_result"
    }
   ],
   "source": [
    "na_genree = ano_analise.groupby('rating')['eu_sales'].sum()\n",
    "na_genre = na_genree.sort_values(ascending=False)\n",
    "na_genre"
   ]
  },
  {
   "cell_type": "markdown",
   "id": "e91d601e",
   "metadata": {},
   "source": [
    "**Regiao Europeia (EU)**"
   ]
  },
  {
   "cell_type": "code",
   "execution_count": 64,
   "id": "9858a0f1",
   "metadata": {},
   "outputs": [
    {
     "data": {
      "text/plain": [
       "platform\n",
       "PS4     63.74\n",
       "XOne    22.35\n",
       "PC       7.92\n",
       "WiiU     5.72\n",
       "PS3      5.02\n",
       "3DS      3.30\n",
       "X360     2.93\n",
       "PSV      0.81\n",
       "Name: eu_sales, dtype: float64"
      ]
     },
     "execution_count": 64,
     "metadata": {},
     "output_type": "execute_result"
    }
   ],
   "source": [
    "eu_platform = ano_analise.groupby('platform')['eu_sales'].sum()\n",
    "eu_platform = eu_platform.sort_values(ascending=False)\n",
    "eu_platform "
   ]
  },
  {
   "cell_type": "code",
   "execution_count": 65,
   "id": "be938589",
   "metadata": {},
   "outputs": [
    {
     "data": {
      "text/plain": [
       "genre\n",
       "Action          29.16\n",
       "Sports          27.26\n",
       "Shooter         24.28\n",
       "Role-Playing    11.80\n",
       "Racing           4.00\n",
       "Fighting         3.38\n",
       "Simulation       3.04\n",
       "Adventure        2.68\n",
       "Misc             2.66\n",
       "Platform         2.13\n",
       "Strategy         1.38\n",
       "Puzzle           0.02\n",
       "Name: eu_sales, dtype: float64"
      ]
     },
     "execution_count": 65,
     "metadata": {},
     "output_type": "execute_result"
    }
   ],
   "source": [
    "eu_genre = ano_analise.groupby('genre')['eu_sales'].sum()\n",
    "eu_genre = eu_genre.sort_values(ascending=False)\n",
    "eu_genre"
   ]
  },
  {
   "cell_type": "code",
   "execution_count": 66,
   "id": "28906093",
   "metadata": {},
   "outputs": [
    {
     "data": {
      "text/plain": [
       "rating\n",
       "M    56.12\n",
       "E    39.11\n",
       "T    16.56\n",
       "Name: eu_sales, dtype: float64"
      ]
     },
     "execution_count": 66,
     "metadata": {},
     "output_type": "execute_result"
    }
   ],
   "source": [
    "eu_genre = ano_analise.groupby('rating')['eu_sales'].sum()\n",
    "eu_genre = eu_genre.sort_values(ascending=False)\n",
    "eu_genre"
   ]
  },
  {
   "cell_type": "markdown",
   "id": "a4450653",
   "metadata": {},
   "source": [
    "**Regiao Japonesa(JP)**"
   ]
  },
  {
   "cell_type": "code",
   "execution_count": 67,
   "id": "7638d67d",
   "metadata": {},
   "outputs": [
    {
     "data": {
      "text/plain": [
       "platform\n",
       "PS4     6.46\n",
       "3DS     4.52\n",
       "WiiU    3.67\n",
       "PSV     2.41\n",
       "PS3     1.70\n",
       "XOne    0.14\n",
       "PC      0.00\n",
       "X360    0.00\n",
       "Name: jp_sales, dtype: float64"
      ]
     },
     "execution_count": 67,
     "metadata": {},
     "output_type": "execute_result"
    }
   ],
   "source": [
    "jp_platform = ano_analise.groupby('platform')['jp_sales'].sum()\n",
    "jp_platform = jp_platform.sort_values(ascending=False)\n",
    "jp_platform"
   ]
  },
  {
   "cell_type": "code",
   "execution_count": 68,
   "id": "23d3be87",
   "metadata": {},
   "outputs": [
    {
     "data": {
      "text/plain": [
       "genre\n",
       "Action          5.16\n",
       "Role-Playing    4.39\n",
       "Shooter         3.09\n",
       "Simulation      1.56\n",
       "Platform        1.29\n",
       "Fighting        1.12\n",
       "Sports          0.98\n",
       "Misc            0.82\n",
       "Adventure       0.27\n",
       "Racing          0.12\n",
       "Puzzle          0.07\n",
       "Strategy        0.03\n",
       "Name: jp_sales, dtype: float64"
      ]
     },
     "execution_count": 68,
     "metadata": {},
     "output_type": "execute_result"
    }
   ],
   "source": [
    "jp_genre = ano_analise.groupby('genre')['jp_sales'].sum()\n",
    "jp_genre = jp_genre.sort_values(ascending=False)\n",
    "jp_genre"
   ]
  },
  {
   "cell_type": "code",
   "execution_count": 69,
   "id": "298b5dd2",
   "metadata": {},
   "outputs": [
    {
     "data": {
      "text/plain": [
       "rating\n",
       "M    8.52\n",
       "T    5.54\n",
       "E    4.84\n",
       "Name: jp_sales, dtype: float64"
      ]
     },
     "execution_count": 69,
     "metadata": {},
     "output_type": "execute_result"
    }
   ],
   "source": [
    "jp_genre = ano_analise.groupby('rating')['jp_sales'].sum()\n",
    "jp_genre = jp_genre.sort_values(ascending=False)\n",
    "jp_genre"
   ]
  },
  {
   "cell_type": "markdown",
   "id": "2cd3d90e",
   "metadata": {},
   "source": [
    "Sobre as 5 plataformas principais e as variações de suas quotas de mercado de região para região, temos:\n",
    "- Para região NA - PS4, XOne, WiiU, X360, 3DS\n",
    "- Para região EU - PS4, XOne, PC, WiiU, PS3\n",
    "- Para região JP - PS4, 3DS, WiiU, PSV, PS3\n",
    "\n",
    "As regiões praticamente têm as mesmas cinco plataformas principais, variando apenas pela ausência da XOne e pela presença da PSV na região japonesa. Vimos que a plataforma PS4 está em primeiro em todas as regiões, enquanto as demais plataformas ocupam diferentes posições conforme a região."
   ]
  },
  {
   "cell_type": "markdown",
   "id": "5a024cb1",
   "metadata": {},
   "source": [
    "Sobre os cinco principais gêneros em cada região, temos:\n",
    "\n",
    "- Para região NA - Shooter, Action, Sports, Role-Playing, Fighting\n",
    "- Para região EU - Action, Sports, Shooter, Role-Playing, Racing\n",
    "- Para região JP - Action, Role-Playing, Shooter, Simulation, Platform\n",
    "\n",
    "Todas as regiões têm os mesmos três gêneros principais: Shooter, Action e Role-Playing, variando apenas a posição de preferência. Já os outros dois gêneros dependem de cada região. A diferença provavelmente se deve às preferências dos usuários de cada região."
   ]
  },
  {
   "cell_type": "markdown",
   "id": "adff927f",
   "metadata": {},
   "source": [
    "Por fim, quanto aos ratings, o M (Mature) pode ser considerado o preferido entre os usuários de todas as regiões. Há diferenças na preferência entre o gênero T (Teen) e E (Everyone). A classificação pode afetar as vendas em regiões individuais, pois as classificações podem influenciar as decisões de compra dos consumidores."
   ]
  },
  {
   "cell_type": "markdown",
   "id": "ea586a28",
   "metadata": {},
   "source": [
    "# Testando Hipóteses"
   ]
  },
  {
   "cell_type": "markdown",
   "id": "3ee32df0",
   "metadata": {},
   "source": [
    "Com os dados analisados, agora iremos testar duas hipóteses. Abaixo, testaremos a hipótese sobre as classificações médias dos usuários das plataformas Xbox One e PC, bem como para os gêneros Action (Ação) e Sports (Esportes)."
   ]
  },
  {
   "cell_type": "markdown",
   "id": "34407cfe",
   "metadata": {},
   "source": [
    "Sobre a classificações médias dos usuários das plataformas Xbox One e PC formulamos da seguinte forma:\n",
    "- Hipótese nula: As classificações médias dos usuários das plataformas Xbox One e PC são as mesmas.\n",
    "- Hipótese alternativa: As classificações médias dos usuários das plataformas Xbox One e PC são diferentes."
   ]
  },
  {
   "cell_type": "code",
   "execution_count": 70,
   "id": "d3a4eeb1",
   "metadata": {},
   "outputs": [
    {
     "name": "stdout",
     "output_type": "stream",
     "text": [
      "p-value:  0.2946308864003345\n",
      "Nós não podemos rejeitar a hipótese nula\n"
     ]
    }
   ],
   "source": [
    "alpha = 0.05\n",
    "\n",
    "sample_1 = ano_analise[ano_analise['platform'].str.contains('XOne')]\n",
    "sample_2 = ano_analise[ano_analise['platform'].str.contains('PC')]  \n",
    "results = st.ttest_ind(sample_1['user_score'], sample_2['user_score'], equal_var = False, nan_policy='omit')\n",
    "\n",
    "print('p-value: ', results.pvalue)\n",
    "\n",
    "if results.pvalue < alpha:\n",
    "    print (\"Rejeitamos a hipótese nula\")\n",
    "else:\n",
    "    print (\"Nós não podemos rejeitar a hipótese nula\")"
   ]
  },
  {
   "cell_type": "markdown",
   "id": "2b6b0038",
   "metadata": {},
   "source": [
    "Como resultado da primeira hipótese testada nao pudemos rejeitar a hipótese nula, ou seja, assumimos que não há diferença signitivativa entre as classificações médias dos usuários das plataformas Xbox One e PC, sendo então as mesmas."
   ]
  },
  {
   "cell_type": "markdown",
   "id": "c77a5049",
   "metadata": {},
   "source": [
    "Já para sobre as classificações médias de usuários para os gêneros Action (ação) e Sports (esportes) formulamos da seguinte forma:\n",
    "\n",
    "- Hipótese nula: As classificações médias de usuários para os gêneros Action (ação) e Sports (esportes) são as mesmas.\n",
    "- Hipótese alternativa: As classificações médias de usuários para os gêneros Action (ação) e Sports (esportes) são diferentes."
   ]
  },
  {
   "cell_type": "code",
   "execution_count": 71,
   "id": "0801016f",
   "metadata": {},
   "outputs": [
    {
     "name": "stdout",
     "output_type": "stream",
     "text": [
      "p-value:  5.97163549920592e-10\n",
      "Rejeitamos a hipótese nula\n"
     ]
    }
   ],
   "source": [
    "alpha = 0.05\n",
    "\n",
    "sample_1 = ano_analise[ano_analise['genre'].str.contains('Action')]\n",
    "sample_2 = ano_analise[ano_analise['genre'].str.contains('Sports')]  \n",
    "results = st.ttest_ind(sample_1['user_score'], sample_2['user_score'], equal_var = False, nan_policy='omit')\n",
    "\n",
    "print('p-value: ', results.pvalue)\n",
    "\n",
    "if results.pvalue < alpha:\n",
    "    print (\"Rejeitamos a hipótese nula\")\n",
    "else:\n",
    "    print (\"Nós não podemos rejeitar a hipótese nula\")"
   ]
  },
  {
   "cell_type": "markdown",
   "id": "e855a5ba",
   "metadata": {},
   "source": [
    "Na segunda hipótese testada temos rejeitamos a hipótese nula, ou seja, assumimos que há diferença signitivativa entre as classificações médias de usuários para os gêneros Action (ação) e Sports (esportes), sendo assim, diferentes. "
   ]
  },
  {
   "cell_type": "markdown",
   "id": "12a4d839",
   "metadata": {},
   "source": [
    "Na primeira hipótese, definimos que, se o resultado do p-value fosse menor que o valor do alpha, não rejeitaríamos a hipótese nula. Já na segunda hipótese, definimos que, se o valor p fosse menor que o nível de significância de 0,05 (alpha), rejeitaríamos a hipótese nula; caso contrário, não rejeitaríamos a hipótese nula.\n",
    "\n",
    "Portanto, concluimos que:\n",
    "\n",
    "- As classificações médias dos usuários das plataformas Xbox One e PC são as mesmas.\n",
    "- As classificações médias de usuários para os gêneros Action (ação) e Sports (esportes) são diferentes."
   ]
  },
  {
   "cell_type": "markdown",
   "id": "ae623401",
   "metadata": {},
   "source": [
    "# Conclusão"
   ]
  },
  {
   "cell_type": "markdown",
   "id": "b84423a5",
   "metadata": {},
   "source": [
    "No presente estudo, buscamos identificar os jogos que mais vendem na loja online Ice para planejar a campanha publicitária para o próximo ano. Visamos analisar as avaliações de usuários e especialistas, gêneros, plataformas (por exemplo, Xbox ou PlayStation) e dados históricos sobre vendas de jogos que estão disponíveis em fontes abertas, identificando padrões que determinam se um jogo tem sucesso ou não.\n",
    "\n",
    "Quando analisamos os dados, pudemos perceber a quantidade de jogos lançados em cada ano, mas havia muitos dados que não seriam pertinentes ao nosso estudo. Assim, decidimos fazer uma primeira análise das vendas das principais plataformas.\n",
    "\n",
    "Analisando as principais plataformas, decidimos escolher as plataformas PS2, X360 e PS3, pois eram as que possuíam as maiores vendas totais. Constatamos que as plataformas levam aproximadamente 10 anos para aparecerem, atingirem um pico de vendas e desaparecerem.\n",
    "\n",
    "Para melhor direcionar o estudo, determinamos que, baseados na análise anterior, os anos de 2015 e 2016 seriam os mais relevantes, pois eram mais recentes e ajudariam a analisar os dados desse período. Com essa análise filtrada, vimos que as plataformas PS4, XOne e 3DS pareciam ser potencialmente lucrativas. No entanto, observamos que as vendas dessas plataformas estavam diminuindo em vez de crescer.\n",
    "\n",
    "Analisando o gráfico de caixa para as vendas globais de todos os jogos, divididos por plataforma, pudemos ver que as diferenças nas vendas são significativas. Quanto às vendas médias em várias plataformas, observamos que a plataforma PS4 teve a maior média de vendas totais, seguida pela plataforma XOne, com a PSP figurando em último lugar.\n",
    "\n",
    "Na análise da correlação entre as avaliações dos críticos e usuários e o total de vendas, concluímos que as avaliações dos críticos tendem a aumentar as vendas, enquanto as avaliações dos usuários podem ter o efeito oposto, diminuindo as vendas.\n",
    "\n",
    "Ainda, ao comparar as vendas de jogos que estão em mais de uma plataforma, pudemos ver que os jogos disponíveis na plataforma PS4 têm mais vendas do que aqueles disponíveis em outras plataformas.\n",
    "\n",
    "Na análise da distribuição geral de jogos por gênero, concluímos que Shooter, Action e Sports são os gêneros mais lucrativos. No entanto, acreditamos que não seria a melhor opção generalizar a lucratividade com base apenas no gênero, pois o lucro pode variar de acordo com o jogo específico e não apenas com o gênero.\n",
    "\n",
    "Sobre o perfil do usuário para as regiões Norte-Americana, Europeia e Japonesa, observamos que a plataforma mais popular entre elas era a PS4, o rating mais popular era M (Mature) e os gêneros Shooter, Action e Role-Playing eram os únicos que estavam entre os cinco primeiros em todas as três regiões.\n",
    "\n",
    "Quando testamos as hipóteses, concluímos que:\n",
    "- As classificações médias dos usuários das plataformas Xbox One e PC são as mesmas.\n",
    "- As classificações médias de usuários para os gêneros Action (ação) e Sports (esportes) são diferentes.\n",
    "\n",
    "Assim, podemos concluir que, apesar da plataforma PS4 estar enfrentando uma diminuição nas vendas, continua sendo a plataforma mais popular. Portanto, deve-se focar em jogos com rating M e gêneros Shooter, Action e Role-Playing.\n",
    "\n"
   ]
  }
 ],
 "metadata": {
  "kernelspec": {
   "display_name": "Python 3 (ipykernel)",
   "language": "python",
   "name": "python3"
  },
  "language_info": {
   "codemirror_mode": {
    "name": "ipython",
    "version": 3
   },
   "file_extension": ".py",
   "mimetype": "text/x-python",
   "name": "python",
   "nbconvert_exporter": "python",
   "pygments_lexer": "ipython3",
   "version": "3.9.13"
  },
  "toc": {
   "base_numbering": 1,
   "nav_menu": {},
   "number_sections": true,
   "sideBar": true,
   "skip_h1_title": true,
   "title_cell": "Table of Contents",
   "title_sidebar": "Contents",
   "toc_cell": false,
   "toc_position": {},
   "toc_section_display": true,
   "toc_window_display": false
  }
 },
 "nbformat": 4,
 "nbformat_minor": 5
}
