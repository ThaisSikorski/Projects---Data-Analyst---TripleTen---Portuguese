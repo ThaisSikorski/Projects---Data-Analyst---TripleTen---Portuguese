{
 "cells": [
  {
   "cell_type": "markdown",
   "id": "13768596",
   "metadata": {},
   "source": [
    "# Table of Contents <a id='back'></a>\n",
    "\n",
    "* [1. Iniciação, carregamento, otimização e exploração de dados](#inicio)\n",
    "* [2. Enriquecendo dados](#enriquecendo)\n",
    "* [3.Análise de Dados](#analise)\n",
    "    * [3.1. Verificando os dados](#verificando)\n",
    "        * [3.1.1. Quantos eventos ficam nos diários?](#eventos)\n",
    "        * [3.1.2. Qual é o número médio de eventos por usuário?](#medio)\n",
    "        * [3.1.3. Qual é o período de tempo que os dados cobrem?](#periodo)\n",
    "        * [3.1.4. Do momento em que os dados começam a ser completos](#momento)\n",
    "    * [3.2 Funil de eventos](#funil)\n",
    "        * [3.2.1. Tipos de eventos e frequência](#tipo)\n",
    "        * [3.2.2. Do número de usuários que executaram cada uma dessas ações](#numero)\n",
    "        * [3.2.3. Da ordem das ações](#ordem)\n",
    "        * [3.2.4.  Funil de eventos e análise de conversão](#conversao)  \n",
    "    * [3.3. Dos resultados do experimento](#experimento)\n",
    "        * [3.3.1. Quantos usuários há em cada grupo?](#grupo)\n",
    "        * [3.3.2. Dos grupos de controle no teste A/A](#controle)\n",
    "        * [3.3.3.  Dos eventos no grupos A/A](#diferenca)\n",
    "        * [3.3.4.  Comparando grupo B com grupos A/A](#comparando)\n",
    "        \n",
    "* [4. Conclusão](#conclusao)"
   ]
  },
  {
   "cell_type": "markdown",
   "id": "b7a3a97c",
   "metadata": {},
   "source": [
    "# Comportamento do usuário para o aplicativo"
   ]
  },
  {
   "cell_type": "markdown",
   "id": "0c2bcbe9",
   "metadata": {},
   "source": [
    "A empresa ALIMENTOS possui um aplicativo onde vende seus produtos alimentícios. Para o presente estudo, iremos analisar o comportamento do usuário para o aplicativo da empresa.\n",
    "\n",
    "Para essa análise, iremos estudar o funil de eventos, descobrindo como os usuários chegam à etapa de compra, bem como quantos usuários realmente chegam a essa etapa e também quantos ficam presos nas fases anteriores.\n",
    "\n",
    "Ainda, veremos os resultados do teste A/A/B para auxiliar os designers a tomarem uma decisão quanto ao novo design do aplicativo."
   ]
  },
  {
   "cell_type": "markdown",
   "id": "46162945",
   "metadata": {},
   "source": [
    "# 1. Iniciação, carregamento, otimização e exploração de dados <a id='inicio'></a>"
   ]
  },
  {
   "cell_type": "markdown",
   "id": "eec45c12",
   "metadata": {},
   "source": [
    "Carregaremos as bibliotecas e carregaremos os dados. Verificaremos se há valores ausentes ou/e duplicados. Também iremos checar se o tipo de dados no dataframe estão corretos, assim como se há alguma correção na grafia."
   ]
  },
  {
   "cell_type": "code",
   "execution_count": 111,
   "id": "07d335d9",
   "metadata": {},
   "outputs": [],
   "source": [
    "import pandas as pd\n",
    "import matplotlib.pyplot as plt\n",
    "import seaborn as sns\n",
    "import numpy as np\n",
    "from scipy import stats as st\n",
    "import datetime as dt\n",
    "import scipy.stats as stats\n",
    "from plotly import graph_objects as go\n",
    "import math as mth"
   ]
  },
  {
   "cell_type": "code",
   "execution_count": 112,
   "id": "a117e7cd",
   "metadata": {},
   "outputs": [],
   "source": [
    "path = 'C://Users//tha_s//Downloads//'\n",
    "df = pd.read_csv(path + 'logs_exp_us.csv', sep='\\t').drop_duplicates()"
   ]
  },
  {
   "cell_type": "markdown",
   "id": "1c8dfdcd",
   "metadata": {},
   "source": [
    "Iniciaremos a verificação desses dados combinando os conjuntos de dados new_users, events e tests e assim, com uma tabela com todos as informações passaremos a verificação dos dados."
   ]
  },
  {
   "cell_type": "code",
   "execution_count": 113,
   "id": "666a1c51",
   "metadata": {},
   "outputs": [
    {
     "data": {
      "text/html": [
       "<div>\n",
       "<style scoped>\n",
       "    .dataframe tbody tr th:only-of-type {\n",
       "        vertical-align: middle;\n",
       "    }\n",
       "\n",
       "    .dataframe tbody tr th {\n",
       "        vertical-align: top;\n",
       "    }\n",
       "\n",
       "    .dataframe thead th {\n",
       "        text-align: right;\n",
       "    }\n",
       "</style>\n",
       "<table border=\"1\" class=\"dataframe\">\n",
       "  <thead>\n",
       "    <tr style=\"text-align: right;\">\n",
       "      <th></th>\n",
       "      <th>EventName</th>\n",
       "      <th>DeviceIDHash</th>\n",
       "      <th>EventTimestamp</th>\n",
       "      <th>ExpId</th>\n",
       "    </tr>\n",
       "  </thead>\n",
       "  <tbody>\n",
       "    <tr>\n",
       "      <th>0</th>\n",
       "      <td>MainScreenAppear</td>\n",
       "      <td>4575588528974610257</td>\n",
       "      <td>1564029816</td>\n",
       "      <td>246</td>\n",
       "    </tr>\n",
       "    <tr>\n",
       "      <th>1</th>\n",
       "      <td>MainScreenAppear</td>\n",
       "      <td>7416695313311560658</td>\n",
       "      <td>1564053102</td>\n",
       "      <td>246</td>\n",
       "    </tr>\n",
       "    <tr>\n",
       "      <th>2</th>\n",
       "      <td>PaymentScreenSuccessful</td>\n",
       "      <td>3518123091307005509</td>\n",
       "      <td>1564054127</td>\n",
       "      <td>248</td>\n",
       "    </tr>\n",
       "    <tr>\n",
       "      <th>3</th>\n",
       "      <td>CartScreenAppear</td>\n",
       "      <td>3518123091307005509</td>\n",
       "      <td>1564054127</td>\n",
       "      <td>248</td>\n",
       "    </tr>\n",
       "    <tr>\n",
       "      <th>4</th>\n",
       "      <td>PaymentScreenSuccessful</td>\n",
       "      <td>6217807653094995999</td>\n",
       "      <td>1564055322</td>\n",
       "      <td>248</td>\n",
       "    </tr>\n",
       "    <tr>\n",
       "      <th>5</th>\n",
       "      <td>CartScreenAppear</td>\n",
       "      <td>6217807653094995999</td>\n",
       "      <td>1564055323</td>\n",
       "      <td>248</td>\n",
       "    </tr>\n",
       "    <tr>\n",
       "      <th>6</th>\n",
       "      <td>OffersScreenAppear</td>\n",
       "      <td>8351860793733343758</td>\n",
       "      <td>1564066242</td>\n",
       "      <td>246</td>\n",
       "    </tr>\n",
       "    <tr>\n",
       "      <th>7</th>\n",
       "      <td>MainScreenAppear</td>\n",
       "      <td>5682100281902512875</td>\n",
       "      <td>1564085677</td>\n",
       "      <td>246</td>\n",
       "    </tr>\n",
       "    <tr>\n",
       "      <th>8</th>\n",
       "      <td>MainScreenAppear</td>\n",
       "      <td>1850981295691852772</td>\n",
       "      <td>1564086702</td>\n",
       "      <td>247</td>\n",
       "    </tr>\n",
       "    <tr>\n",
       "      <th>9</th>\n",
       "      <td>MainScreenAppear</td>\n",
       "      <td>5407636962369102641</td>\n",
       "      <td>1564112112</td>\n",
       "      <td>246</td>\n",
       "    </tr>\n",
       "  </tbody>\n",
       "</table>\n",
       "</div>"
      ],
      "text/plain": [
       "                 EventName         DeviceIDHash  EventTimestamp  ExpId\n",
       "0         MainScreenAppear  4575588528974610257      1564029816    246\n",
       "1         MainScreenAppear  7416695313311560658      1564053102    246\n",
       "2  PaymentScreenSuccessful  3518123091307005509      1564054127    248\n",
       "3         CartScreenAppear  3518123091307005509      1564054127    248\n",
       "4  PaymentScreenSuccessful  6217807653094995999      1564055322    248\n",
       "5         CartScreenAppear  6217807653094995999      1564055323    248\n",
       "6       OffersScreenAppear  8351860793733343758      1564066242    246\n",
       "7         MainScreenAppear  5682100281902512875      1564085677    246\n",
       "8         MainScreenAppear  1850981295691852772      1564086702    247\n",
       "9         MainScreenAppear  5407636962369102641      1564112112    246"
      ]
     },
     "execution_count": 113,
     "metadata": {},
     "output_type": "execute_result"
    }
   ],
   "source": [
    "df.head(10)"
   ]
  },
  {
   "cell_type": "code",
   "execution_count": 114,
   "id": "8ec7b177",
   "metadata": {},
   "outputs": [
    {
     "data": {
      "text/html": [
       "<div>\n",
       "<style scoped>\n",
       "    .dataframe tbody tr th:only-of-type {\n",
       "        vertical-align: middle;\n",
       "    }\n",
       "\n",
       "    .dataframe tbody tr th {\n",
       "        vertical-align: top;\n",
       "    }\n",
       "\n",
       "    .dataframe thead th {\n",
       "        text-align: right;\n",
       "    }\n",
       "</style>\n",
       "<table border=\"1\" class=\"dataframe\">\n",
       "  <thead>\n",
       "    <tr style=\"text-align: right;\">\n",
       "      <th></th>\n",
       "      <th>event_name</th>\n",
       "      <th>device_id</th>\n",
       "      <th>event_time</th>\n",
       "      <th>exp_id</th>\n",
       "    </tr>\n",
       "  </thead>\n",
       "  <tbody>\n",
       "    <tr>\n",
       "      <th>0</th>\n",
       "      <td>MainScreenAppear</td>\n",
       "      <td>4575588528974610257</td>\n",
       "      <td>1564029816</td>\n",
       "      <td>246</td>\n",
       "    </tr>\n",
       "    <tr>\n",
       "      <th>1</th>\n",
       "      <td>MainScreenAppear</td>\n",
       "      <td>7416695313311560658</td>\n",
       "      <td>1564053102</td>\n",
       "      <td>246</td>\n",
       "    </tr>\n",
       "    <tr>\n",
       "      <th>2</th>\n",
       "      <td>PaymentScreenSuccessful</td>\n",
       "      <td>3518123091307005509</td>\n",
       "      <td>1564054127</td>\n",
       "      <td>248</td>\n",
       "    </tr>\n",
       "    <tr>\n",
       "      <th>3</th>\n",
       "      <td>CartScreenAppear</td>\n",
       "      <td>3518123091307005509</td>\n",
       "      <td>1564054127</td>\n",
       "      <td>248</td>\n",
       "    </tr>\n",
       "    <tr>\n",
       "      <th>4</th>\n",
       "      <td>PaymentScreenSuccessful</td>\n",
       "      <td>6217807653094995999</td>\n",
       "      <td>1564055322</td>\n",
       "      <td>248</td>\n",
       "    </tr>\n",
       "  </tbody>\n",
       "</table>\n",
       "</div>"
      ],
      "text/plain": [
       "                event_name            device_id  event_time  exp_id\n",
       "0         MainScreenAppear  4575588528974610257  1564029816     246\n",
       "1         MainScreenAppear  7416695313311560658  1564053102     246\n",
       "2  PaymentScreenSuccessful  3518123091307005509  1564054127     248\n",
       "3         CartScreenAppear  3518123091307005509  1564054127     248\n",
       "4  PaymentScreenSuccessful  6217807653094995999  1564055322     248"
      ]
     },
     "execution_count": 114,
     "metadata": {},
     "output_type": "execute_result"
    }
   ],
   "source": [
    "df.columns = ['event_name', 'device_id', 'event_time', 'exp_id']\n",
    "df.head()"
   ]
  },
  {
   "cell_type": "code",
   "execution_count": 115,
   "id": "629b4fab",
   "metadata": {},
   "outputs": [
    {
     "name": "stdout",
     "output_type": "stream",
     "text": [
      "<class 'pandas.core.frame.DataFrame'>\n",
      "Int64Index: 243713 entries, 0 to 244125\n",
      "Data columns (total 4 columns):\n",
      " #   Column      Non-Null Count   Dtype \n",
      "---  ------      --------------   ----- \n",
      " 0   event_name  243713 non-null  object\n",
      " 1   device_id   243713 non-null  int64 \n",
      " 2   event_time  243713 non-null  int64 \n",
      " 3   exp_id      243713 non-null  int64 \n",
      "dtypes: int64(3), object(1)\n",
      "memory usage: 24.7 MB\n"
     ]
    }
   ],
   "source": [
    "df.info(memory_usage='deep')"
   ]
  },
  {
   "cell_type": "code",
   "execution_count": 116,
   "id": "5b3ed960",
   "metadata": {},
   "outputs": [],
   "source": [
    "df['event_time_2'] = pd.to_datetime(df['event_time'], unit='s')"
   ]
  },
  {
   "cell_type": "code",
   "execution_count": 117,
   "id": "9efd4502",
   "metadata": {},
   "outputs": [
    {
     "name": "stdout",
     "output_type": "stream",
     "text": [
      "<class 'pandas.core.frame.DataFrame'>\n",
      "Int64Index: 243713 entries, 0 to 244125\n",
      "Data columns (total 5 columns):\n",
      " #   Column        Non-Null Count   Dtype         \n",
      "---  ------        --------------   -----         \n",
      " 0   event_name    243713 non-null  object        \n",
      " 1   device_id     243713 non-null  int64         \n",
      " 2   event_time    243713 non-null  int64         \n",
      " 3   exp_id        243713 non-null  int64         \n",
      " 4   event_time_2  243713 non-null  datetime64[ns]\n",
      "dtypes: datetime64[ns](1), int64(3), object(1)\n",
      "memory usage: 26.6 MB\n"
     ]
    }
   ],
   "source": [
    "df.info(memory_usage='deep')"
   ]
  },
  {
   "cell_type": "code",
   "execution_count": 118,
   "id": "b4723b6d",
   "metadata": {},
   "outputs": [
    {
     "name": "stdout",
     "output_type": "stream",
     "text": [
      "Não há valores ausentes no dataframe.\n"
     ]
    }
   ],
   "source": [
    "if df.isnull().values.any():\n",
    "    print(\"Existem valores ausentes no dataframe.\")\n",
    "else:\n",
    "    print(\"Não há valores ausentes no dataframe.\")"
   ]
  },
  {
   "cell_type": "code",
   "execution_count": 119,
   "id": "e5f26bf1",
   "metadata": {},
   "outputs": [
    {
     "name": "stdout",
     "output_type": "stream",
     "text": [
      "Não há dados duplicados no dataframe.\n"
     ]
    }
   ],
   "source": [
    "if df.duplicated().any():\n",
    "    print(\"Existem dados duplicados no dataframe.\")\n",
    "else:\n",
    "    print(\"Não há dados duplicados no dataframe.\")"
   ]
  },
  {
   "cell_type": "markdown",
   "id": "198ae332",
   "metadata": {},
   "source": [
    "Inicialmente, corrigimos a grafia dos nomes das colunas para que ficassem mais fáceis de ler. Também, verificando que a coluna event_time possuía informação em um único número, criamos uma nova coluna chamada 'event_time_2' no DataFrame df e a preenchemos com os valores da coluna 'event_time' convertidos para o formato de data e hora, especificando que os valores estariam em segundos.\n",
    "\n",
    "Por fim, não encontramos valores ausentes e tão pouco valores duplicados, já que, quando carregamos o conjunto de dados, removemos quaisquer linhas duplicadas."
   ]
  },
  {
   "cell_type": "markdown",
   "id": "18a4330b",
   "metadata": {},
   "source": [
    "[Voltar ao Indice](#back)"
   ]
  },
  {
   "cell_type": "markdown",
   "id": "92243a81",
   "metadata": {},
   "source": [
    "# 2. Enriquecendo dados <a id='enriquecendo'></a>"
   ]
  },
  {
   "cell_type": "markdown",
   "id": "98f18abf",
   "metadata": {},
   "source": [
    "Antes de começarmos a análise, decidimos enriquecer os dados, adicionando uma coluna separada para datas. Utilizaremos a coluna criada anteriormente, event_time_2."
   ]
  },
  {
   "cell_type": "code",
   "execution_count": 120,
   "id": "4589387c",
   "metadata": {},
   "outputs": [
    {
     "data": {
      "text/html": [
       "<div>\n",
       "<style scoped>\n",
       "    .dataframe tbody tr th:only-of-type {\n",
       "        vertical-align: middle;\n",
       "    }\n",
       "\n",
       "    .dataframe tbody tr th {\n",
       "        vertical-align: top;\n",
       "    }\n",
       "\n",
       "    .dataframe thead th {\n",
       "        text-align: right;\n",
       "    }\n",
       "</style>\n",
       "<table border=\"1\" class=\"dataframe\">\n",
       "  <thead>\n",
       "    <tr style=\"text-align: right;\">\n",
       "      <th></th>\n",
       "      <th>event_name</th>\n",
       "      <th>device_id</th>\n",
       "      <th>event_time</th>\n",
       "      <th>exp_id</th>\n",
       "      <th>event_time_2</th>\n",
       "    </tr>\n",
       "  </thead>\n",
       "  <tbody>\n",
       "    <tr>\n",
       "      <th>0</th>\n",
       "      <td>MainScreenAppear</td>\n",
       "      <td>4575588528974610257</td>\n",
       "      <td>1564029816</td>\n",
       "      <td>246</td>\n",
       "      <td>2019-07-25 04:43:36</td>\n",
       "    </tr>\n",
       "    <tr>\n",
       "      <th>1</th>\n",
       "      <td>MainScreenAppear</td>\n",
       "      <td>7416695313311560658</td>\n",
       "      <td>1564053102</td>\n",
       "      <td>246</td>\n",
       "      <td>2019-07-25 11:11:42</td>\n",
       "    </tr>\n",
       "    <tr>\n",
       "      <th>2</th>\n",
       "      <td>PaymentScreenSuccessful</td>\n",
       "      <td>3518123091307005509</td>\n",
       "      <td>1564054127</td>\n",
       "      <td>248</td>\n",
       "      <td>2019-07-25 11:28:47</td>\n",
       "    </tr>\n",
       "    <tr>\n",
       "      <th>3</th>\n",
       "      <td>CartScreenAppear</td>\n",
       "      <td>3518123091307005509</td>\n",
       "      <td>1564054127</td>\n",
       "      <td>248</td>\n",
       "      <td>2019-07-25 11:28:47</td>\n",
       "    </tr>\n",
       "    <tr>\n",
       "      <th>4</th>\n",
       "      <td>PaymentScreenSuccessful</td>\n",
       "      <td>6217807653094995999</td>\n",
       "      <td>1564055322</td>\n",
       "      <td>248</td>\n",
       "      <td>2019-07-25 11:48:42</td>\n",
       "    </tr>\n",
       "  </tbody>\n",
       "</table>\n",
       "</div>"
      ],
      "text/plain": [
       "                event_name            device_id  event_time  exp_id  \\\n",
       "0         MainScreenAppear  4575588528974610257  1564029816     246   \n",
       "1         MainScreenAppear  7416695313311560658  1564053102     246   \n",
       "2  PaymentScreenSuccessful  3518123091307005509  1564054127     248   \n",
       "3         CartScreenAppear  3518123091307005509  1564054127     248   \n",
       "4  PaymentScreenSuccessful  6217807653094995999  1564055322     248   \n",
       "\n",
       "         event_time_2  \n",
       "0 2019-07-25 04:43:36  \n",
       "1 2019-07-25 11:11:42  \n",
       "2 2019-07-25 11:28:47  \n",
       "3 2019-07-25 11:28:47  \n",
       "4 2019-07-25 11:48:42  "
      ]
     },
     "execution_count": 120,
     "metadata": {},
     "output_type": "execute_result"
    }
   ],
   "source": [
    "df.head()"
   ]
  },
  {
   "cell_type": "code",
   "execution_count": 121,
   "id": "eb6c3137",
   "metadata": {},
   "outputs": [],
   "source": [
    "df['date'] = df['event_time_2'].dt.date"
   ]
  },
  {
   "cell_type": "code",
   "execution_count": 122,
   "id": "e3ac57cb",
   "metadata": {},
   "outputs": [],
   "source": [
    "df['date'] = pd.to_datetime(df['date'])"
   ]
  },
  {
   "cell_type": "code",
   "execution_count": 123,
   "id": "12822873",
   "metadata": {},
   "outputs": [
    {
     "data": {
      "text/html": [
       "<div>\n",
       "<style scoped>\n",
       "    .dataframe tbody tr th:only-of-type {\n",
       "        vertical-align: middle;\n",
       "    }\n",
       "\n",
       "    .dataframe tbody tr th {\n",
       "        vertical-align: top;\n",
       "    }\n",
       "\n",
       "    .dataframe thead th {\n",
       "        text-align: right;\n",
       "    }\n",
       "</style>\n",
       "<table border=\"1\" class=\"dataframe\">\n",
       "  <thead>\n",
       "    <tr style=\"text-align: right;\">\n",
       "      <th></th>\n",
       "      <th>event_name</th>\n",
       "      <th>device_id</th>\n",
       "      <th>event_time</th>\n",
       "      <th>exp_id</th>\n",
       "      <th>event_time_2</th>\n",
       "      <th>date</th>\n",
       "    </tr>\n",
       "  </thead>\n",
       "  <tbody>\n",
       "    <tr>\n",
       "      <th>0</th>\n",
       "      <td>MainScreenAppear</td>\n",
       "      <td>4575588528974610257</td>\n",
       "      <td>1564029816</td>\n",
       "      <td>246</td>\n",
       "      <td>2019-07-25 04:43:36</td>\n",
       "      <td>2019-07-25</td>\n",
       "    </tr>\n",
       "    <tr>\n",
       "      <th>1</th>\n",
       "      <td>MainScreenAppear</td>\n",
       "      <td>7416695313311560658</td>\n",
       "      <td>1564053102</td>\n",
       "      <td>246</td>\n",
       "      <td>2019-07-25 11:11:42</td>\n",
       "      <td>2019-07-25</td>\n",
       "    </tr>\n",
       "    <tr>\n",
       "      <th>2</th>\n",
       "      <td>PaymentScreenSuccessful</td>\n",
       "      <td>3518123091307005509</td>\n",
       "      <td>1564054127</td>\n",
       "      <td>248</td>\n",
       "      <td>2019-07-25 11:28:47</td>\n",
       "      <td>2019-07-25</td>\n",
       "    </tr>\n",
       "    <tr>\n",
       "      <th>3</th>\n",
       "      <td>CartScreenAppear</td>\n",
       "      <td>3518123091307005509</td>\n",
       "      <td>1564054127</td>\n",
       "      <td>248</td>\n",
       "      <td>2019-07-25 11:28:47</td>\n",
       "      <td>2019-07-25</td>\n",
       "    </tr>\n",
       "    <tr>\n",
       "      <th>4</th>\n",
       "      <td>PaymentScreenSuccessful</td>\n",
       "      <td>6217807653094995999</td>\n",
       "      <td>1564055322</td>\n",
       "      <td>248</td>\n",
       "      <td>2019-07-25 11:48:42</td>\n",
       "      <td>2019-07-25</td>\n",
       "    </tr>\n",
       "  </tbody>\n",
       "</table>\n",
       "</div>"
      ],
      "text/plain": [
       "                event_name            device_id  event_time  exp_id  \\\n",
       "0         MainScreenAppear  4575588528974610257  1564029816     246   \n",
       "1         MainScreenAppear  7416695313311560658  1564053102     246   \n",
       "2  PaymentScreenSuccessful  3518123091307005509  1564054127     248   \n",
       "3         CartScreenAppear  3518123091307005509  1564054127     248   \n",
       "4  PaymentScreenSuccessful  6217807653094995999  1564055322     248   \n",
       "\n",
       "         event_time_2       date  \n",
       "0 2019-07-25 04:43:36 2019-07-25  \n",
       "1 2019-07-25 11:11:42 2019-07-25  \n",
       "2 2019-07-25 11:28:47 2019-07-25  \n",
       "3 2019-07-25 11:28:47 2019-07-25  \n",
       "4 2019-07-25 11:48:42 2019-07-25  "
      ]
     },
     "execution_count": 123,
     "metadata": {},
     "output_type": "execute_result"
    }
   ],
   "source": [
    "df.head()"
   ]
  },
  {
   "cell_type": "markdown",
   "id": "68c767aa",
   "metadata": {},
   "source": [
    "[Voltar ao Indice](#back)"
   ]
  },
  {
   "cell_type": "markdown",
   "id": "fc9e77cb",
   "metadata": {},
   "source": [
    "# 3. Análise de Dados<a id='analise'></a>"
   ]
  },
  {
   "cell_type": "markdown",
   "id": "dc5700e1",
   "metadata": {},
   "source": [
    "Com os dados carregados e tratados passaremos agora à análise dos dados."
   ]
  },
  {
   "cell_type": "markdown",
   "id": "9ef14f29",
   "metadata": {},
   "source": [
    "[Voltar ao Indice](#back)"
   ]
  },
  {
   "cell_type": "markdown",
   "id": "3b201aa2",
   "metadata": {},
   "source": [
    "## 3.1. Verificando os dados <a id='verificando'></a>"
   ]
  },
  {
   "cell_type": "markdown",
   "id": "25943176",
   "metadata": {},
   "source": [
    "Antes de passarmos ao estudo do funil de eventos, iremos verificar os dados para encontrar a quantidade de eventos e usuários nos diários, o número médio de eventos por usuário, bem como o período de tempo coberto por esse estudo."
   ]
  },
  {
   "cell_type": "markdown",
   "id": "5569a0a9",
   "metadata": {},
   "source": [
    "[Voltar ao Indice](#back)"
   ]
  },
  {
   "cell_type": "markdown",
   "id": "c0203db8",
   "metadata": {},
   "source": [
    "### 3.1.1. Quantos eventos e usuários ficam nos diários? <a id='eventos'></a>"
   ]
  },
  {
   "cell_type": "code",
   "execution_count": 124,
   "id": "2871d240",
   "metadata": {},
   "outputs": [
    {
     "name": "stdout",
     "output_type": "stream",
     "text": [
      "Quantidade total de eventos registrados na tabela de logs de eventos: 243713\n"
     ]
    }
   ],
   "source": [
    "evento_total = df['event_name'].shape[0]\n",
    "print('Quantidade total de eventos registrados na tabela de logs de eventos:', evento_total)"
   ]
  },
  {
   "cell_type": "code",
   "execution_count": 125,
   "id": "629cd02e",
   "metadata": {},
   "outputs": [
    {
     "name": "stdout",
     "output_type": "stream",
     "text": [
      "Quantidade total de usuários: 7551\n"
     ]
    }
   ],
   "source": [
    "usuarios_total = df['device_id'].nunique()\n",
    "print('Quantidade total de usuários:', usuarios_total)"
   ]
  },
  {
   "cell_type": "markdown",
   "id": "f1f25ea5",
   "metadata": {},
   "source": [
    "Portanto, temos 243713 eventos e 7551 usuários registrados nos diários. "
   ]
  },
  {
   "cell_type": "markdown",
   "id": "cb19a4f9",
   "metadata": {},
   "source": [
    "[Voltar ao Indice](#back)"
   ]
  },
  {
   "cell_type": "markdown",
   "id": "d40b7c15",
   "metadata": {},
   "source": [
    "### 3.1.2. Qual é o número médio de eventos por usuário? <a id='medio'></a>"
   ]
  },
  {
   "cell_type": "code",
   "execution_count": 126,
   "id": "3ed738a4",
   "metadata": {},
   "outputs": [
    {
     "data": {
      "text/html": [
       "<div>\n",
       "<style scoped>\n",
       "    .dataframe tbody tr th:only-of-type {\n",
       "        vertical-align: middle;\n",
       "    }\n",
       "\n",
       "    .dataframe tbody tr th {\n",
       "        vertical-align: top;\n",
       "    }\n",
       "\n",
       "    .dataframe thead th {\n",
       "        text-align: right;\n",
       "    }\n",
       "</style>\n",
       "<table border=\"1\" class=\"dataframe\">\n",
       "  <thead>\n",
       "    <tr style=\"text-align: right;\">\n",
       "      <th></th>\n",
       "      <th>user_id</th>\n",
       "      <th>num_event</th>\n",
       "    </tr>\n",
       "  </thead>\n",
       "  <tbody>\n",
       "    <tr>\n",
       "      <th>0</th>\n",
       "      <td>6888746892508752</td>\n",
       "      <td>1</td>\n",
       "    </tr>\n",
       "    <tr>\n",
       "      <th>1</th>\n",
       "      <td>6909561520679493</td>\n",
       "      <td>5</td>\n",
       "    </tr>\n",
       "    <tr>\n",
       "      <th>2</th>\n",
       "      <td>6922444491712477</td>\n",
       "      <td>47</td>\n",
       "    </tr>\n",
       "    <tr>\n",
       "      <th>3</th>\n",
       "      <td>7435777799948366</td>\n",
       "      <td>6</td>\n",
       "    </tr>\n",
       "    <tr>\n",
       "      <th>4</th>\n",
       "      <td>7702139951469979</td>\n",
       "      <td>137</td>\n",
       "    </tr>\n",
       "    <tr>\n",
       "      <th>...</th>\n",
       "      <td>...</td>\n",
       "      <td>...</td>\n",
       "    </tr>\n",
       "    <tr>\n",
       "      <th>7546</th>\n",
       "      <td>9217594193087726423</td>\n",
       "      <td>9</td>\n",
       "    </tr>\n",
       "    <tr>\n",
       "      <th>7547</th>\n",
       "      <td>9219463515465815368</td>\n",
       "      <td>17</td>\n",
       "    </tr>\n",
       "    <tr>\n",
       "      <th>7548</th>\n",
       "      <td>9220879493065341500</td>\n",
       "      <td>7</td>\n",
       "    </tr>\n",
       "    <tr>\n",
       "      <th>7549</th>\n",
       "      <td>9221926045299980007</td>\n",
       "      <td>7</td>\n",
       "    </tr>\n",
       "    <tr>\n",
       "      <th>7550</th>\n",
       "      <td>9222603179720523844</td>\n",
       "      <td>59</td>\n",
       "    </tr>\n",
       "  </tbody>\n",
       "</table>\n",
       "<p>7551 rows × 2 columns</p>\n",
       "</div>"
      ],
      "text/plain": [
       "                  user_id  num_event\n",
       "0        6888746892508752          1\n",
       "1        6909561520679493          5\n",
       "2        6922444491712477         47\n",
       "3        7435777799948366          6\n",
       "4        7702139951469979        137\n",
       "...                   ...        ...\n",
       "7546  9217594193087726423          9\n",
       "7547  9219463515465815368         17\n",
       "7548  9220879493065341500          7\n",
       "7549  9221926045299980007          7\n",
       "7550  9222603179720523844         59\n",
       "\n",
       "[7551 rows x 2 columns]"
      ]
     },
     "execution_count": 126,
     "metadata": {},
     "output_type": "execute_result"
    }
   ],
   "source": [
    "eventos_per_user = df.groupby('device_id')['event_name'].count().reset_index()\n",
    "eventos_per_user.columns = ['user_id','num_event']\n",
    "eventos_per_user"
   ]
  },
  {
   "cell_type": "code",
   "execution_count": 127,
   "id": "8bd4e468",
   "metadata": {},
   "outputs": [
    {
     "name": "stdout",
     "output_type": "stream",
     "text": [
      "32\n"
     ]
    }
   ],
   "source": [
    "evento_media = eventos_per_user['num_event'].mean()\n",
    "print(round(evento_media))"
   ]
  },
  {
   "cell_type": "markdown",
   "id": "45bf4de4",
   "metadata": {},
   "source": [
    "Agrupando a coluna device_id e event_name, pudemos imprimir uma tabela com o número de eventos por usuário. Assim, utilizando essa nova tabela, conseguimos verificar que a média de eventos por usuário seria 32 eventos."
   ]
  },
  {
   "cell_type": "markdown",
   "id": "73cce576",
   "metadata": {},
   "source": [
    "[Voltar ao Indice](#back)"
   ]
  },
  {
   "cell_type": "markdown",
   "id": "c76ee7d6",
   "metadata": {},
   "source": [
    "### 3.1.3. Qual é o período de tempo que os dados cobrem? <a id='periodo'></a>"
   ]
  },
  {
   "cell_type": "markdown",
   "id": "395d2f13",
   "metadata": {},
   "source": [
    "Iremos verificar o período de tempo que os dados cobrem e, para isso, utilizaremos os métodos min e max. Para uma melhor visualização, iremos criar um histograma por data e hora. "
   ]
  },
  {
   "cell_type": "code",
   "execution_count": 128,
   "id": "57fff14d",
   "metadata": {},
   "outputs": [
    {
     "name": "stdout",
     "output_type": "stream",
     "text": [
      "Inicio: 2019-07-25 00:00:00\n",
      "Fim: 2019-08-07 00:00:00\n"
     ]
    }
   ],
   "source": [
    "inicio = df['date'].min()\n",
    "fim = df['date'].max()\n",
    "print(\"Inicio:\",inicio)\n",
    "print(\"Fim:\", fim)"
   ]
  },
  {
   "cell_type": "code",
   "execution_count": 129,
   "id": "d4da9941",
   "metadata": {},
   "outputs": [
    {
     "data": {
      "image/png": "[encoded data removed]",
      "text/plain": [
       "<Figure size 640x480 with 1 Axes>"
      ]
     },
     "metadata": {},
     "output_type": "display_data"
    }
   ],
   "source": [
    "plt.hist(df['event_time_2'], bins=30)\n",
    "plt.xlabel('Data e Hora')\n",
    "plt.ylabel('Frequência')\n",
    "plt.title('Histograma por Data e Hora')\n",
    "plt.xticks(rotation=90) \n",
    "plt.show()"
   ]
  },
  {
   "cell_type": "markdown",
   "id": "34869e41",
   "metadata": {},
   "source": [
    "Inicialmente, verificamos que o período que temos nos dados corresponde de 25-07-2019 a 07-08-2019.\n",
    "\n",
    "Quando da criação do gráfico, vimos que há dias com um volume alto de eventos, enquanto outros dias tiveram poucos eventos e quase não aparecem no gráfico. Podemos determinar que houve períodos com dados incompletos ou inconsistentes, não podendo afirmar que possuímos os dados igualmente completos para todo o período."
   ]
  },
  {
   "cell_type": "markdown",
   "id": "7cbc01f7",
   "metadata": {},
   "source": [
    "[Voltar ao Indice](#back)"
   ]
  },
  {
   "cell_type": "markdown",
   "id": "3e31d176",
   "metadata": {},
   "source": [
    "### 3.1.4. Do momento em que os dados começam a ser completos  <a id='momento'></a>"
   ]
  },
  {
   "cell_type": "markdown",
   "id": "96525991",
   "metadata": {},
   "source": [
    "Com a constatação anterior e observando o gráfico, entendemos que os dados começaram a ficar completos no período de 01-08-2019 a 07-08-2019. Assim sendo, iremos identificar as referidas datas como início e fim, respectivamente, e iremos filtrar o dataframe."
   ]
  },
  {
   "cell_type": "code",
   "execution_count": 130,
   "id": "aea6bafa",
   "metadata": {},
   "outputs": [],
   "source": [
    "start_date = pd.to_datetime('2019-08-01')\n",
    "end_date = pd.to_datetime('2019-08-07')"
   ]
  },
  {
   "cell_type": "code",
   "execution_count": 131,
   "id": "e1a7d453",
   "metadata": {},
   "outputs": [
    {
     "data": {
      "text/html": [
       "<div>\n",
       "<style scoped>\n",
       "    .dataframe tbody tr th:only-of-type {\n",
       "        vertical-align: middle;\n",
       "    }\n",
       "\n",
       "    .dataframe tbody tr th {\n",
       "        vertical-align: top;\n",
       "    }\n",
       "\n",
       "    .dataframe thead th {\n",
       "        text-align: right;\n",
       "    }\n",
       "</style>\n",
       "<table border=\"1\" class=\"dataframe\">\n",
       "  <thead>\n",
       "    <tr style=\"text-align: right;\">\n",
       "      <th></th>\n",
       "      <th>event_name</th>\n",
       "      <th>device_id</th>\n",
       "      <th>event_time</th>\n",
       "      <th>exp_id</th>\n",
       "      <th>event_time_2</th>\n",
       "      <th>date</th>\n",
       "    </tr>\n",
       "  </thead>\n",
       "  <tbody>\n",
       "    <tr>\n",
       "      <th>2828</th>\n",
       "      <td>Tutorial</td>\n",
       "      <td>3737462046622621720</td>\n",
       "      <td>1564618048</td>\n",
       "      <td>246</td>\n",
       "      <td>2019-08-01 00:07:28</td>\n",
       "      <td>2019-08-01</td>\n",
       "    </tr>\n",
       "    <tr>\n",
       "      <th>2829</th>\n",
       "      <td>MainScreenAppear</td>\n",
       "      <td>3737462046622621720</td>\n",
       "      <td>1564618080</td>\n",
       "      <td>246</td>\n",
       "      <td>2019-08-01 00:08:00</td>\n",
       "      <td>2019-08-01</td>\n",
       "    </tr>\n",
       "    <tr>\n",
       "      <th>2830</th>\n",
       "      <td>MainScreenAppear</td>\n",
       "      <td>3737462046622621720</td>\n",
       "      <td>1564618135</td>\n",
       "      <td>246</td>\n",
       "      <td>2019-08-01 00:08:55</td>\n",
       "      <td>2019-08-01</td>\n",
       "    </tr>\n",
       "    <tr>\n",
       "      <th>2831</th>\n",
       "      <td>OffersScreenAppear</td>\n",
       "      <td>3737462046622621720</td>\n",
       "      <td>1564618138</td>\n",
       "      <td>246</td>\n",
       "      <td>2019-08-01 00:08:58</td>\n",
       "      <td>2019-08-01</td>\n",
       "    </tr>\n",
       "    <tr>\n",
       "      <th>2832</th>\n",
       "      <td>MainScreenAppear</td>\n",
       "      <td>1433840883824088890</td>\n",
       "      <td>1564618139</td>\n",
       "      <td>247</td>\n",
       "      <td>2019-08-01 00:08:59</td>\n",
       "      <td>2019-08-01</td>\n",
       "    </tr>\n",
       "    <tr>\n",
       "      <th>...</th>\n",
       "      <td>...</td>\n",
       "      <td>...</td>\n",
       "      <td>...</td>\n",
       "      <td>...</td>\n",
       "      <td>...</td>\n",
       "      <td>...</td>\n",
       "    </tr>\n",
       "    <tr>\n",
       "      <th>212977</th>\n",
       "      <td>MainScreenAppear</td>\n",
       "      <td>4259568314706942583</td>\n",
       "      <td>1565135945</td>\n",
       "      <td>248</td>\n",
       "      <td>2019-08-06 23:59:05</td>\n",
       "      <td>2019-08-06</td>\n",
       "    </tr>\n",
       "    <tr>\n",
       "      <th>212978</th>\n",
       "      <td>OffersScreenAppear</td>\n",
       "      <td>4259568314706942583</td>\n",
       "      <td>1565135950</td>\n",
       "      <td>248</td>\n",
       "      <td>2019-08-06 23:59:10</td>\n",
       "      <td>2019-08-06</td>\n",
       "    </tr>\n",
       "    <tr>\n",
       "      <th>212979</th>\n",
       "      <td>MainScreenAppear</td>\n",
       "      <td>8508320995962440734</td>\n",
       "      <td>1565135955</td>\n",
       "      <td>248</td>\n",
       "      <td>2019-08-06 23:59:15</td>\n",
       "      <td>2019-08-06</td>\n",
       "    </tr>\n",
       "    <tr>\n",
       "      <th>212980</th>\n",
       "      <td>MainScreenAppear</td>\n",
       "      <td>4293428370257583636</td>\n",
       "      <td>1565135961</td>\n",
       "      <td>248</td>\n",
       "      <td>2019-08-06 23:59:21</td>\n",
       "      <td>2019-08-06</td>\n",
       "    </tr>\n",
       "    <tr>\n",
       "      <th>212981</th>\n",
       "      <td>OffersScreenAppear</td>\n",
       "      <td>4259568314706942583</td>\n",
       "      <td>1565135968</td>\n",
       "      <td>248</td>\n",
       "      <td>2019-08-06 23:59:28</td>\n",
       "      <td>2019-08-06</td>\n",
       "    </tr>\n",
       "  </tbody>\n",
       "</table>\n",
       "<p>209791 rows × 6 columns</p>\n",
       "</div>"
      ],
      "text/plain": [
       "                event_name            device_id  event_time  exp_id  \\\n",
       "2828              Tutorial  3737462046622621720  1564618048     246   \n",
       "2829      MainScreenAppear  3737462046622621720  1564618080     246   \n",
       "2830      MainScreenAppear  3737462046622621720  1564618135     246   \n",
       "2831    OffersScreenAppear  3737462046622621720  1564618138     246   \n",
       "2832      MainScreenAppear  1433840883824088890  1564618139     247   \n",
       "...                    ...                  ...         ...     ...   \n",
       "212977    MainScreenAppear  4259568314706942583  1565135945     248   \n",
       "212978  OffersScreenAppear  4259568314706942583  1565135950     248   \n",
       "212979    MainScreenAppear  8508320995962440734  1565135955     248   \n",
       "212980    MainScreenAppear  4293428370257583636  1565135961     248   \n",
       "212981  OffersScreenAppear  4259568314706942583  1565135968     248   \n",
       "\n",
       "              event_time_2       date  \n",
       "2828   2019-08-01 00:07:28 2019-08-01  \n",
       "2829   2019-08-01 00:08:00 2019-08-01  \n",
       "2830   2019-08-01 00:08:55 2019-08-01  \n",
       "2831   2019-08-01 00:08:58 2019-08-01  \n",
       "2832   2019-08-01 00:08:59 2019-08-01  \n",
       "...                    ...        ...  \n",
       "212977 2019-08-06 23:59:05 2019-08-06  \n",
       "212978 2019-08-06 23:59:10 2019-08-06  \n",
       "212979 2019-08-06 23:59:15 2019-08-06  \n",
       "212980 2019-08-06 23:59:21 2019-08-06  \n",
       "212981 2019-08-06 23:59:28 2019-08-06  \n",
       "\n",
       "[209791 rows x 6 columns]"
      ]
     },
     "execution_count": 131,
     "metadata": {},
     "output_type": "execute_result"
    }
   ],
   "source": [
    "filtered_df = df[(df['event_time_2'] >= start_date) & (df['event_time_2'] <= end_date)]\n",
    "filtered_df"
   ]
  },
  {
   "cell_type": "code",
   "execution_count": 132,
   "id": "84b99786",
   "metadata": {},
   "outputs": [
    {
     "data": {
      "image/png": "[encoded data removed]",
      "text/plain": [
       "<Figure size 640x480 with 1 Axes>"
      ]
     },
     "metadata": {},
     "output_type": "display_data"
    }
   ],
   "source": [
    "plt.hist(filtered_df['event_time_2'], bins=30)\n",
    "plt.xlabel('Data e Hora')\n",
    "plt.ylabel('Frequência')\n",
    "plt.title('Histograma por Data e Hora')\n",
    "plt.xticks(rotation=90) \n",
    "plt.show()"
   ]
  },
  {
   "cell_type": "code",
   "execution_count": 133,
   "id": "1fbca910",
   "metadata": {},
   "outputs": [
    {
     "name": "stdout",
     "output_type": "stream",
     "text": [
      "Quantidade total de eventos registrados na tabela de logs de eventos: 209791\n"
     ]
    }
   ],
   "source": [
    "evento_total_filtered = filtered_df['event_name'].shape[0]\n",
    "print('Quantidade total de eventos registrados na tabela de logs de eventos:',evento_total_filtered)"
   ]
  },
  {
   "cell_type": "code",
   "execution_count": 134,
   "id": "517dc192",
   "metadata": {},
   "outputs": [
    {
     "name": "stdout",
     "output_type": "stream",
     "text": [
      "Quantidade total de usuário: 7335\n"
     ]
    }
   ],
   "source": [
    "usuarios_total_filtered = filtered_df['device_id'].nunique()\n",
    "print('Quantidade total de usuário:', usuarios_total_filtered)"
   ]
  },
  {
   "cell_type": "code",
   "execution_count": 135,
   "id": "9364a6a9",
   "metadata": {},
   "outputs": [
    {
     "name": "stdout",
     "output_type": "stream",
     "text": [
      "Porcentagem de eventos perdidos: 13.918830755848067\n"
     ]
    }
   ],
   "source": [
    "perda_eventos = ((evento_total - evento_total_filtered) / evento_total) * 100\n",
    "print('Porcentagem de eventos perdidos:', perda_eventos)"
   ]
  },
  {
   "cell_type": "code",
   "execution_count": 136,
   "id": "8053a41f",
   "metadata": {},
   "outputs": [
    {
     "name": "stdout",
     "output_type": "stream",
     "text": [
      "Porcentagem de usuário perdidos: 2.860548271752086\n"
     ]
    }
   ],
   "source": [
    "perda_usuarios = ((usuarios_total - usuarios_total_filtered) / usuarios_total) * 100\n",
    "print('Porcentagem de usuário perdidos:', perda_usuarios)"
   ]
  },
  {
   "cell_type": "code",
   "execution_count": 137,
   "id": "4cb49536",
   "metadata": {},
   "outputs": [
    {
     "data": {
      "text/plain": [
       "exp_id\n",
       "246    68690\n",
       "247    66931\n",
       "248    74170\n",
       "Name: device_id, dtype: int64"
      ]
     },
     "execution_count": 137,
     "metadata": {},
     "output_type": "execute_result"
    }
   ],
   "source": [
    "groups = filtered_df.groupby('exp_id')['device_id'].count()\n",
    "groups"
   ]
  },
  {
   "cell_type": "markdown",
   "id": "63ce6446",
   "metadata": {},
   "source": [
    "Com o dataframe filtrado, encontramos 211.821 eventos e 7.350 usuários. E assim, verificamos que houve perda tanto de eventos quanto de usuários. No entanto, a perda foi aproximadamente 13% de eventos e 2% de usuários, e não consideramos alta, o que não afetará o resultado no nosso estudo.\n",
    "\n",
    "Também verificamos que, no novo dataframe, temos usuários de todos os três grupos experimentais."
   ]
  },
  {
   "cell_type": "markdown",
   "id": "70d0002f",
   "metadata": {},
   "source": [
    "[Voltar ao Indice](#back)"
   ]
  },
  {
   "cell_type": "markdown",
   "id": "a47eabef",
   "metadata": {},
   "source": [
    "## 3.2 Funil de eventos <a id='usuarios'></a>"
   ]
  },
  {
   "cell_type": "markdown",
   "id": "c749e5f0",
   "metadata": {},
   "source": [
    "Agora com os dados verificados e um novo dataframe iremos estudar o funil de eventos. "
   ]
  },
  {
   "cell_type": "markdown",
   "id": "4b8cb2f5",
   "metadata": {},
   "source": [
    "[Voltar ao Indice](#back)"
   ]
  },
  {
   "cell_type": "markdown",
   "id": "b087fb72",
   "metadata": {},
   "source": [
    "### 3.2.1. Tipos de eventos e frequência <a id='tipo'></a>"
   ]
  },
  {
   "cell_type": "markdown",
   "id": "fe72115a",
   "metadata": {},
   "source": [
    "Iremos identificar quais eventos estão presentes nos dados diários e, para isso, utilizaremos o método unique na coluna \"event_name\". Também verificaremos a frequência de cada tipo de evento, calculando quantas vezes cada um ocorreu."
   ]
  },
  {
   "cell_type": "code",
   "execution_count": 138,
   "id": "bb1699ae",
   "metadata": {},
   "outputs": [
    {
     "data": {
      "text/plain": [
       "array(['MainScreenAppear', 'PaymentScreenSuccessful', 'CartScreenAppear',\n",
       "       'OffersScreenAppear', 'Tutorial'], dtype=object)"
      ]
     },
     "execution_count": 138,
     "metadata": {},
     "output_type": "execute_result"
    }
   ],
   "source": [
    "event_type = df['event_name'].unique()\n",
    "event_type"
   ]
  },
  {
   "cell_type": "code",
   "execution_count": 139,
   "id": "9719f197",
   "metadata": {},
   "outputs": [
    {
     "name": "stdout",
     "output_type": "stream",
     "text": [
      "                         device_id\n",
      "event_name                        \n",
      "CartScreenAppear             37249\n",
      "MainScreenAppear            101538\n",
      "OffersScreenAppear           40393\n",
      "PaymentScreenSuccessful      29676\n",
      "Tutorial                       935\n"
     ]
    }
   ],
   "source": [
    "events_count = filtered_df.groupby('event_name').agg({'device_id': 'count'})\n",
    "print(events_count) "
   ]
  },
  {
   "cell_type": "markdown",
   "id": "7ad9edde",
   "metadata": {},
   "source": [
    "Inicialmente, verificamos que há 5 tipos de eventos no dataframe, os quais são:\n",
    "\n",
    "- MainScreenAppear\n",
    "- PaymentScreenSuccessful\n",
    "- CartScreenAppear\n",
    "- OffersScreenAppear\n",
    "- Tutorial\n",
    "\n",
    "Ainda sem determinar a ordem em que os eventos ocorrem, e apenas calculando, vimos que o evento que ocorreu com mais frequência foi MainScreenAppear, com 102.788 ocorrências, e o que ocorreu com menos frequência foi Tutorial, com 944 vezes. Nota-se que essa diferença deve-se ao tipo de evento, ou seja, em determinados eventos seria necessário passar mais de uma vez.\n",
    "\n",
    "A título de exemplo, se assumirmos que Tutorial seria o primeiro evento, onde acontece o primeiro acesso do usuário, e que MainScreenAppear seria onde os alimentos à venda estão disponíveis, o usuário tende a retornar nessa tela para realizar sua escolha de produtos, logo faria sentido essa diferença."
   ]
  },
  {
   "cell_type": "markdown",
   "id": "38950a52",
   "metadata": {},
   "source": [
    "[Voltar ao Indice](#back)"
   ]
  },
  {
   "cell_type": "markdown",
   "id": "c1a8e099",
   "metadata": {},
   "source": [
    "### 3.2.2. Do número de usuários que executaram cada uma dessas ações <a id='numero'></a>"
   ]
  },
  {
   "cell_type": "markdown",
   "id": "db671e76",
   "metadata": {},
   "source": [
    "Encontraremos agora o número de usuários que realizaram cada um dos eventos e, para isso, usaremos o método nunique. Depois, também iremos calcular a proporção de usuários que executaram a ação pelo menos uma vez."
   ]
  },
  {
   "cell_type": "code",
   "execution_count": 140,
   "id": "55fb0edc",
   "metadata": {},
   "outputs": [
    {
     "name": "stdout",
     "output_type": "stream",
     "text": [
      "                         device_id\n",
      "event_name                        \n",
      "MainScreenAppear              7206\n",
      "OffersScreenAppear            4414\n",
      "CartScreenAppear              3601\n",
      "PaymentScreenSuccessful       3418\n",
      "Tutorial                       775\n"
     ]
    }
   ],
   "source": [
    "users_count = filtered_df.groupby('event_name').agg({'device_id': 'nunique'})\n",
    "print(users_count.sort_values(by = 'device_id', ascending=False)) "
   ]
  },
  {
   "cell_type": "code",
   "execution_count": 141,
   "id": "b837ee6b",
   "metadata": {},
   "outputs": [
    {
     "data": {
      "text/plain": [
       "7335"
      ]
     },
     "execution_count": 141,
     "metadata": {},
     "output_type": "execute_result"
    }
   ],
   "source": [
    "usuarios_total_filtered"
   ]
  },
  {
   "cell_type": "code",
   "execution_count": 142,
   "id": "ebcadf61",
   "metadata": {},
   "outputs": [
    {
     "name": "stdout",
     "output_type": "stream",
     "text": [
      "                         device_id\n",
      "event_name                        \n",
      "CartScreenAppear              0.48\n",
      "MainScreenAppear              0.95\n",
      "OffersScreenAppear            0.58\n",
      "PaymentScreenSuccessful       0.45\n",
      "Tutorial                      0.10\n"
     ]
    }
   ],
   "source": [
    "proporcao = users_count / usuarios_total\n",
    "print(round(proporcao,2))"
   ]
  },
  {
   "cell_type": "markdown",
   "id": "f0ee8ded",
   "metadata": {},
   "source": [
    "Novamente pudemos observar que o evento MainScreenAppear seria o mais o mais realizado pelos usuários e tutorial seria o quefoi  menos realizado. "
   ]
  },
  {
   "cell_type": "markdown",
   "id": "5542eff5",
   "metadata": {},
   "source": [
    "[Voltar ao Indice](#back)"
   ]
  },
  {
   "cell_type": "markdown",
   "id": "a7249ef9",
   "metadata": {},
   "source": [
    "### 3.2.3. Da ordem das ações <a id='ordem'></a>"
   ]
  },
  {
   "cell_type": "markdown",
   "id": "744f23f2",
   "metadata": {},
   "source": [
    "Assim, analisando e observando as informações anteriores, iremos determinar qual a ordem que acreditamos que as ações ocorreram. Entendemos que os eventos ocorreriam de forma lógica da seguinte forma:\n",
    "\n",
    "- 1º: Tutorial \n",
    "- 2º: MainScreenAppear\n",
    "- 3º: OffersScreenAppear\n",
    "- 4º: CartScreenAppear\n",
    "- 5º: PaymentScreenSuccessful\n",
    "\n",
    "Acreditamos que o evento Tutorial seria, de fato, o primeiro evento na sequência lógica. Embora tenha menos usuários em comparação com os outros eventos, o Tutorial representa a primeira interação dos usuários com o aplicativo, onde eles aprendem como usar e navegar pelas funcionalidades. Depois, o usuário acessaria a tela principal do aplicativo, onde teria os produtos à venda, podendo então seguir para ver as ofertas, checar seu carrinho com suas compras e realizar o pagamento.\n",
    "\n",
    "Essa seria a sequência lógica, porém, não acreditamos que todos os usuários seguem essa sequência, pois para alguns deles não seria a primeira vez que estariam utilizando o aplicativo e, assim, não precisariam acessar o tutorial. Alguns também poderiam ir direto da tela inicial para o carrinho, sem sequer checar as ofertas.\n",
    "\n",
    "Portanto, apesar de acreditarmos numa sequência lógica, não a colocamos como única."
   ]
  },
  {
   "cell_type": "markdown",
   "id": "52be3bbf",
   "metadata": {},
   "source": [
    "[Voltar ao Indice](#back)"
   ]
  },
  {
   "cell_type": "markdown",
   "id": "010b56c7",
   "metadata": {},
   "source": [
    "### 3.2.4.  Funil de eventos e análise de conversão <a id='conversao'></a>"
   ]
  },
  {
   "cell_type": "markdown",
   "id": "8b174c58",
   "metadata": {},
   "source": [
    "Agora passaremos a descobrir quantos usuários passaram de um estágio para outro. Encontraremos o número daqueles que acessaram o aplicativo e, assim por diante. Porém, antes, precisamos encontrar a hora exata em que uma determinada etapa foi realizada pela primeira vez e, para isso, iremos criar uma pivot_table. Para ajudar em nossa análise, construiremos um gráfico de Funil."
   ]
  },
  {
   "cell_type": "code",
   "execution_count": 143,
   "id": "8084e0d8",
   "metadata": {},
   "outputs": [
    {
     "data": {
      "text/html": [
       "<div>\n",
       "<style scoped>\n",
       "    .dataframe tbody tr th:only-of-type {\n",
       "        vertical-align: middle;\n",
       "    }\n",
       "\n",
       "    .dataframe tbody tr th {\n",
       "        vertical-align: top;\n",
       "    }\n",
       "\n",
       "    .dataframe thead th {\n",
       "        text-align: right;\n",
       "    }\n",
       "</style>\n",
       "<table border=\"1\" class=\"dataframe\">\n",
       "  <thead>\n",
       "    <tr style=\"text-align: right;\">\n",
       "      <th>event_name</th>\n",
       "      <th>CartScreenAppear</th>\n",
       "      <th>MainScreenAppear</th>\n",
       "      <th>OffersScreenAppear</th>\n",
       "      <th>PaymentScreenSuccessful</th>\n",
       "      <th>Tutorial</th>\n",
       "    </tr>\n",
       "    <tr>\n",
       "      <th>device_id</th>\n",
       "      <th></th>\n",
       "      <th></th>\n",
       "      <th></th>\n",
       "      <th></th>\n",
       "      <th></th>\n",
       "    </tr>\n",
       "  </thead>\n",
       "  <tbody>\n",
       "    <tr>\n",
       "      <th>6888746892508752</th>\n",
       "      <td>NaT</td>\n",
       "      <td>2019-08-06 14:06:34</td>\n",
       "      <td>NaT</td>\n",
       "      <td>NaT</td>\n",
       "      <td>NaT</td>\n",
       "    </tr>\n",
       "    <tr>\n",
       "      <th>6909561520679493</th>\n",
       "      <td>2019-08-06 18:52:58</td>\n",
       "      <td>2019-08-06 18:52:54</td>\n",
       "      <td>2019-08-06 18:53:04</td>\n",
       "      <td>2019-08-06 18:52:58</td>\n",
       "      <td>NaT</td>\n",
       "    </tr>\n",
       "    <tr>\n",
       "      <th>6922444491712477</th>\n",
       "      <td>2019-08-04 14:19:40</td>\n",
       "      <td>2019-08-04 14:19:33</td>\n",
       "      <td>2019-08-04 14:19:46</td>\n",
       "      <td>2019-08-04 14:19:40</td>\n",
       "      <td>NaT</td>\n",
       "    </tr>\n",
       "    <tr>\n",
       "      <th>7435777799948366</th>\n",
       "      <td>NaT</td>\n",
       "      <td>2019-08-05 08:06:34</td>\n",
       "      <td>NaT</td>\n",
       "      <td>NaT</td>\n",
       "      <td>NaT</td>\n",
       "    </tr>\n",
       "    <tr>\n",
       "      <th>7702139951469979</th>\n",
       "      <td>2019-08-02 14:28:45</td>\n",
       "      <td>2019-08-01 04:29:54</td>\n",
       "      <td>2019-08-01 04:29:56</td>\n",
       "      <td>2019-08-02 14:28:45</td>\n",
       "      <td>NaT</td>\n",
       "    </tr>\n",
       "  </tbody>\n",
       "</table>\n",
       "</div>"
      ],
      "text/plain": [
       "event_name          CartScreenAppear    MainScreenAppear  OffersScreenAppear  \\\n",
       "device_id                                                                      \n",
       "6888746892508752                 NaT 2019-08-06 14:06:34                 NaT   \n",
       "6909561520679493 2019-08-06 18:52:58 2019-08-06 18:52:54 2019-08-06 18:53:04   \n",
       "6922444491712477 2019-08-04 14:19:40 2019-08-04 14:19:33 2019-08-04 14:19:46   \n",
       "7435777799948366                 NaT 2019-08-05 08:06:34                 NaT   \n",
       "7702139951469979 2019-08-02 14:28:45 2019-08-01 04:29:54 2019-08-01 04:29:56   \n",
       "\n",
       "event_name       PaymentScreenSuccessful Tutorial  \n",
       "device_id                                          \n",
       "6888746892508752                     NaT      NaT  \n",
       "6909561520679493     2019-08-06 18:52:58      NaT  \n",
       "6922444491712477     2019-08-04 14:19:40      NaT  \n",
       "7435777799948366                     NaT      NaT  \n",
       "7702139951469979     2019-08-02 14:28:45      NaT  "
      ]
     },
     "execution_count": 143,
     "metadata": {},
     "output_type": "execute_result"
    }
   ],
   "source": [
    "users = filtered_df.pivot_table(index='device_id', columns='event_name', values='event_time_2', aggfunc='min') \n",
    "users.head()"
   ]
  },
  {
   "cell_type": "code",
   "execution_count": 144,
   "id": "70baccfa",
   "metadata": {},
   "outputs": [
    {
     "name": "stdout",
     "output_type": "stream",
     "text": [
      "Tutorial: 775\n",
      "Acessaram ao menu principal: 729\n",
      "Acessaram ao menu ofertas: 571\n",
      "Adicionaram ao carrinho: 318\n",
      "Pagaram: 198\n"
     ]
    }
   ],
   "source": [
    "step_1 = ~users['Tutorial'].isna()\n",
    "step_2 = step_1 & (users['MainScreenAppear'] > users['Tutorial'])\n",
    "step_3 = step_2 & (users['OffersScreenAppear'] > users['MainScreenAppear'])\n",
    "step_4 = step_3 & (users['CartScreenAppear'] > users['OffersScreenAppear'])\n",
    "step_5 = step_4 & (users['PaymentScreenSuccessful'] > users['CartScreenAppear'])\n",
    "\n",
    "n_tutorial = users[step_1].shape[0]\n",
    "n_screen = users[step_2].shape[0]\n",
    "n_offers = users[step_3].shape[0]\n",
    "n_cart = users[step_4].shape[0]\n",
    "n_payment = users[step_5].shape[0]\n",
    "\n",
    "print('Tutorial:', n_tutorial)\n",
    "print('Acessaram ao menu principal:', n_screen)\n",
    "print('Acessaram ao menu ofertas:', n_offers)\n",
    "print('Adicionaram ao carrinho:', n_cart) \n",
    "print('Pagaram:', n_payment)"
   ]
  },
  {
   "cell_type": "code",
   "execution_count": 145,
   "id": "46f0b8f9",
   "metadata": {},
   "outputs": [
    {
     "data": {
      "application/vnd.plotly.v1+json": {
       "config": {
        "plotlyServerURL": "https://plot.ly"
       },
       "data": [
        {
         "type": "funnel",
         "x": [
          780,
          735,
          577,
          321,
          200
         ],
         "y": [
          "Tutorial",
          "Acessaram ao menu principal",
          "Acessaram ao menu ofertas",
          "Adicionaram ao carrinho",
          "Pagaram"
         ]
        }
       ],
       "layout": {
        "template": {
         "data": {
          "bar": [
           {
            "error_x": {
             "color": "#2a3f5f"
            },
            "error_y": {
             "color": "#2a3f5f"
            },
            "marker": {
             "line": {
              "color": "#E5ECF6",
              "width": 0.5
             },
             "pattern": {
              "fillmode": "overlay",
              "size": 10,
              "solidity": 0.2
             }
            },
            "type": "bar"
           }
          ],
          "barpolar": [
           {
            "marker": {
             "line": {
              "color": "#E5ECF6",
              "width": 0.5
             },
             "pattern": {
              "fillmode": "overlay",
              "size": 10,
              "solidity": 0.2
             }
            },
            "type": "barpolar"
           }
          ],
          "carpet": [
           {
            "aaxis": {
             "endlinecolor": "#2a3f5f",
             "gridcolor": "white",
             "linecolor": "white",
             "minorgridcolor": "white",
             "startlinecolor": "#2a3f5f"
            },
            "baxis": {
             "endlinecolor": "#2a3f5f",
             "gridcolor": "white",
             "linecolor": "white",
             "minorgridcolor": "white",
             "startlinecolor": "#2a3f5f"
            },
            "type": "carpet"
           }
          ],
          "choropleth": [
           {
            "colorbar": {
             "outlinewidth": 0,
             "ticks": ""
            },
            "type": "choropleth"
           }
          ],
          "contour": [
           {
            "colorbar": {
             "outlinewidth": 0,
             "ticks": ""
            },
            "colorscale": [
             [
              0,
              "#0d0887"
             ],
             [
              0.1111111111111111,
              "#46039f"
             ],
             [
              0.2222222222222222,
              "#7201a8"
             ],
             [
              0.3333333333333333,
              "#9c179e"
             ],
             [
              0.4444444444444444,
              "#bd3786"
             ],
             [
              0.5555555555555556,
              "#d8576b"
             ],
             [
              0.6666666666666666,
              "#ed7953"
             ],
             [
              0.7777777777777778,
              "#fb9f3a"
             ],
             [
              0.8888888888888888,
              "#fdca26"
             ],
             [
              1,
              "#f0f921"
             ]
            ],
            "type": "contour"
           }
          ],
          "contourcarpet": [
           {
            "colorbar": {
             "outlinewidth": 0,
             "ticks": ""
            },
            "type": "contourcarpet"
           }
          ],
          "heatmap": [
           {
            "colorbar": {
             "outlinewidth": 0,
             "ticks": ""
            },
            "colorscale": [
             [
              0,
              "#0d0887"
             ],
             [
              0.1111111111111111,
              "#46039f"
             ],
             [
              0.2222222222222222,
              "#7201a8"
             ],
             [
              0.3333333333333333,
              "#9c179e"
             ],
             [
              0.4444444444444444,
              "#bd3786"
             ],
             [
              0.5555555555555556,
              "#d8576b"
             ],
             [
              0.6666666666666666,
              "#ed7953"
             ],
             [
              0.7777777777777778,
              "#fb9f3a"
             ],
             [
              0.8888888888888888,
              "#fdca26"
             ],
             [
              1,
              "#f0f921"
             ]
            ],
            "type": "heatmap"
           }
          ],
          "heatmapgl": [
           {
            "colorbar": {
             "outlinewidth": 0,
             "ticks": ""
            },
            "colorscale": [
             [
              0,
              "#0d0887"
             ],
             [
              0.1111111111111111,
              "#46039f"
             ],
             [
              0.2222222222222222,
              "#7201a8"
             ],
             [
              0.3333333333333333,
              "#9c179e"
             ],
             [
              0.4444444444444444,
              "#bd3786"
             ],
             [
              0.5555555555555556,
              "#d8576b"
             ],
             [
              0.6666666666666666,
              "#ed7953"
             ],
             [
              0.7777777777777778,
              "#fb9f3a"
             ],
             [
              0.8888888888888888,
              "#fdca26"
             ],
             [
              1,
              "#f0f921"
             ]
            ],
            "type": "heatmapgl"
           }
          ],
          "histogram": [
           {
            "marker": {
             "pattern": {
              "fillmode": "overlay",
              "size": 10,
              "solidity": 0.2
             }
            },
            "type": "histogram"
           }
          ],
          "histogram2d": [
           {
            "colorbar": {
             "outlinewidth": 0,
             "ticks": ""
            },
            "colorscale": [
             [
              0,
              "#0d0887"
             ],
             [
              0.1111111111111111,
              "#46039f"
             ],
             [
              0.2222222222222222,
              "#7201a8"
             ],
             [
              0.3333333333333333,
              "#9c179e"
             ],
             [
              0.4444444444444444,
              "#bd3786"
             ],
             [
              0.5555555555555556,
              "#d8576b"
             ],
             [
              0.6666666666666666,
              "#ed7953"
             ],
             [
              0.7777777777777778,
              "#fb9f3a"
             ],
             [
              0.8888888888888888,
              "#fdca26"
             ],
             [
              1,
              "#f0f921"
             ]
            ],
            "type": "histogram2d"
           }
          ],
          "histogram2dcontour": [
           {
            "colorbar": {
             "outlinewidth": 0,
             "ticks": ""
            },
            "colorscale": [
             [
              0,
              "#0d0887"
             ],
             [
              0.1111111111111111,
              "#46039f"
             ],
             [
              0.2222222222222222,
              "#7201a8"
             ],
             [
              0.3333333333333333,
              "#9c179e"
             ],
             [
              0.4444444444444444,
              "#bd3786"
             ],
             [
              0.5555555555555556,
              "#d8576b"
             ],
             [
              0.6666666666666666,
              "#ed7953"
             ],
             [
              0.7777777777777778,
              "#fb9f3a"
             ],
             [
              0.8888888888888888,
              "#fdca26"
             ],
             [
              1,
              "#f0f921"
             ]
            ],
            "type": "histogram2dcontour"
           }
          ],
          "mesh3d": [
           {
            "colorbar": {
             "outlinewidth": 0,
             "ticks": ""
            },
            "type": "mesh3d"
           }
          ],
          "parcoords": [
           {
            "line": {
             "colorbar": {
              "outlinewidth": 0,
              "ticks": ""
             }
            },
            "type": "parcoords"
           }
          ],
          "pie": [
           {
            "automargin": true,
            "type": "pie"
           }
          ],
          "scatter": [
           {
            "fillpattern": {
             "fillmode": "overlay",
             "size": 10,
             "solidity": 0.2
            },
            "type": "scatter"
           }
          ],
          "scatter3d": [
           {
            "line": {
             "colorbar": {
              "outlinewidth": 0,
              "ticks": ""
             }
            },
            "marker": {
             "colorbar": {
              "outlinewidth": 0,
              "ticks": ""
             }
            },
            "type": "scatter3d"
           }
          ],
          "scattercarpet": [
           {
            "marker": {
             "colorbar": {
              "outlinewidth": 0,
              "ticks": ""
             }
            },
            "type": "scattercarpet"
           }
          ],
          "scattergeo": [
           {
            "marker": {
             "colorbar": {
              "outlinewidth": 0,
              "ticks": ""
             }
            },
            "type": "scattergeo"
           }
          ],
          "scattergl": [
           {
            "marker": {
             "colorbar": {
              "outlinewidth": 0,
              "ticks": ""
             }
            },
            "type": "scattergl"
           }
          ],
          "scattermapbox": [
           {
            "marker": {
             "colorbar": {
              "outlinewidth": 0,
              "ticks": ""
             }
            },
            "type": "scattermapbox"
           }
          ],
          "scatterpolar": [
           {
            "marker": {
             "colorbar": {
              "outlinewidth": 0,
              "ticks": ""
             }
            },
            "type": "scatterpolar"
           }
          ],
          "scatterpolargl": [
           {
            "marker": {
             "colorbar": {
              "outlinewidth": 0,
              "ticks": ""
             }
            },
            "type": "scatterpolargl"
           }
          ],
          "scatterternary": [
           {
            "marker": {
             "colorbar": {
              "outlinewidth": 0,
              "ticks": ""
             }
            },
            "type": "scatterternary"
           }
          ],
          "surface": [
           {
            "colorbar": {
             "outlinewidth": 0,
             "ticks": ""
            },
            "colorscale": [
             [
              0,
              "#0d0887"
             ],
             [
              0.1111111111111111,
              "#46039f"
             ],
             [
              0.2222222222222222,
              "#7201a8"
             ],
             [
              0.3333333333333333,
              "#9c179e"
             ],
             [
              0.4444444444444444,
              "#bd3786"
             ],
             [
              0.5555555555555556,
              "#d8576b"
             ],
             [
              0.6666666666666666,
              "#ed7953"
             ],
             [
              0.7777777777777778,
              "#fb9f3a"
             ],
             [
              0.8888888888888888,
              "#fdca26"
             ],
             [
              1,
              "#f0f921"
             ]
            ],
            "type": "surface"
           }
          ],
          "table": [
           {
            "cells": {
             "fill": {
              "color": "#EBF0F8"
             },
             "line": {
              "color": "white"
             }
            },
            "header": {
             "fill": {
              "color": "#C8D4E3"
             },
             "line": {
              "color": "white"
             }
            },
            "type": "table"
           }
          ]
         },
         "layout": {
          "annotationdefaults": {
           "arrowcolor": "#2a3f5f",
           "arrowhead": 0,
           "arrowwidth": 1
          },
          "autotypenumbers": "strict",
          "coloraxis": {
           "colorbar": {
            "outlinewidth": 0,
            "ticks": ""
           }
          },
          "colorscale": {
           "diverging": [
            [
             0,
             "#8e0152"
            ],
            [
             0.1,
             "#c51b7d"
            ],
            [
             0.2,
             "#de77ae"
            ],
            [
             0.3,
             "#f1b6da"
            ],
            [
             0.4,
             "#fde0ef"
            ],
            [
             0.5,
             "#f7f7f7"
            ],
            [
             0.6,
             "#e6f5d0"
            ],
            [
             0.7,
             "#b8e186"
            ],
            [
             0.8,
             "#7fbc41"
            ],
            [
             0.9,
             "#4d9221"
            ],
            [
             1,
             "#276419"
            ]
           ],
           "sequential": [
            [
             0,
             "#0d0887"
            ],
            [
             0.1111111111111111,
             "#46039f"
            ],
            [
             0.2222222222222222,
             "#7201a8"
            ],
            [
             0.3333333333333333,
             "#9c179e"
            ],
            [
             0.4444444444444444,
             "#bd3786"
            ],
            [
             0.5555555555555556,
             "#d8576b"
            ],
            [
             0.6666666666666666,
             "#ed7953"
            ],
            [
             0.7777777777777778,
             "#fb9f3a"
            ],
            [
             0.8888888888888888,
             "#fdca26"
            ],
            [
             1,
             "#f0f921"
            ]
           ],
           "sequentialminus": [
            [
             0,
             "#0d0887"
            ],
            [
             0.1111111111111111,
             "#46039f"
            ],
            [
             0.2222222222222222,
             "#7201a8"
            ],
            [
             0.3333333333333333,
             "#9c179e"
            ],
            [
             0.4444444444444444,
             "#bd3786"
            ],
            [
             0.5555555555555556,
             "#d8576b"
            ],
            [
             0.6666666666666666,
             "#ed7953"
            ],
            [
             0.7777777777777778,
             "#fb9f3a"
            ],
            [
             0.8888888888888888,
             "#fdca26"
            ],
            [
             1,
             "#f0f921"
            ]
           ]
          },
          "colorway": [
           "#636efa",
           "#EF553B",
           "#00cc96",
           "#ab63fa",
           "#FFA15A",
           "#19d3f3",
           "#FF6692",
           "#B6E880",
           "#FF97FF",
           "#FECB52"
          ],
          "font": {
           "color": "#2a3f5f"
          },
          "geo": {
           "bgcolor": "white",
           "lakecolor": "white",
           "landcolor": "#E5ECF6",
           "showlakes": true,
           "showland": true,
           "subunitcolor": "white"
          },
          "hoverlabel": {
           "align": "left"
          },
          "hovermode": "closest",
          "mapbox": {
           "style": "light"
          },
          "paper_bgcolor": "white",
          "plot_bgcolor": "#E5ECF6",
          "polar": {
           "angularaxis": {
            "gridcolor": "white",
            "linecolor": "white",
            "ticks": ""
           },
           "bgcolor": "#E5ECF6",
           "radialaxis": {
            "gridcolor": "white",
            "linecolor": "white",
            "ticks": ""
           }
          },
          "scene": {
           "xaxis": {
            "backgroundcolor": "#E5ECF6",
            "gridcolor": "white",
            "gridwidth": 2,
            "linecolor": "white",
            "showbackground": true,
            "ticks": "",
            "zerolinecolor": "white"
           },
           "yaxis": {
            "backgroundcolor": "#E5ECF6",
            "gridcolor": "white",
            "gridwidth": 2,
            "linecolor": "white",
            "showbackground": true,
            "ticks": "",
            "zerolinecolor": "white"
           },
           "zaxis": {
            "backgroundcolor": "#E5ECF6",
            "gridcolor": "white",
            "gridwidth": 2,
            "linecolor": "white",
            "showbackground": true,
            "ticks": "",
            "zerolinecolor": "white"
           }
          },
          "shapedefaults": {
           "line": {
            "color": "#2a3f5f"
           }
          },
          "ternary": {
           "aaxis": {
            "gridcolor": "white",
            "linecolor": "white",
            "ticks": ""
           },
           "baxis": {
            "gridcolor": "white",
            "linecolor": "white",
            "ticks": ""
           },
           "bgcolor": "#E5ECF6",
           "caxis": {
            "gridcolor": "white",
            "linecolor": "white",
            "ticks": ""
           }
          },
          "title": {
           "x": 0.05
          },
          "xaxis": {
           "automargin": true,
           "gridcolor": "white",
           "linecolor": "white",
           "ticks": "",
           "title": {
            "standoff": 15
           },
           "zerolinecolor": "white",
           "zerolinewidth": 2
          },
          "yaxis": {
           "automargin": true,
           "gridcolor": "white",
           "linecolor": "white",
           "ticks": "",
           "title": {
            "standoff": 15
           },
           "zerolinecolor": "white",
           "zerolinewidth": 2
          }
         }
        },
        "title": {
         "text": "Funil de Conversão de Eventos"
        }
       }
      },
      "text/html": [
       "<div>                            <div id=\"feaa44e3-a850-4c05-a065-aec17a3d4dc6\" class=\"plotly-graph-div\" style=\"height:525px; width:100%;\"></div>            <script type=\"text/javascript\">                require([\"plotly\"], function(Plotly) {                    window.PLOTLYENV=window.PLOTLYENV || {};                                    if (document.getElementById(\"feaa44e3-a850-4c05-a065-aec17a3d4dc6\")) {                    Plotly.newPlot(                        \"feaa44e3-a850-4c05-a065-aec17a3d4dc6\",                        [{\"x\":[780,735,577,321,200],\"y\":[\"Tutorial\",\"Acessaram ao menu principal\",\"Acessaram ao menu ofertas\",\"Adicionaram ao carrinho\",\"Pagaram\"],\"type\":\"funnel\"}],                        {\"template\":{\"data\":{\"histogram2dcontour\":[{\"type\":\"histogram2dcontour\",\"colorbar\":{\"outlinewidth\":0,\"ticks\":\"\"},\"colorscale\":[[0.0,\"#0d0887\"],[0.1111111111111111,\"#46039f\"],[0.2222222222222222,\"#7201a8\"],[0.3333333333333333,\"#9c179e\"],[0.4444444444444444,\"#bd3786\"],[0.5555555555555556,\"#d8576b\"],[0.6666666666666666,\"#ed7953\"],[0.7777777777777778,\"#fb9f3a\"],[0.8888888888888888,\"#fdca26\"],[1.0,\"#f0f921\"]]}],\"choropleth\":[{\"type\":\"choropleth\",\"colorbar\":{\"outlinewidth\":0,\"ticks\":\"\"}}],\"histogram2d\":[{\"type\":\"histogram2d\",\"colorbar\":{\"outlinewidth\":0,\"ticks\":\"\"},\"colorscale\":[[0.0,\"#0d0887\"],[0.1111111111111111,\"#46039f\"],[0.2222222222222222,\"#7201a8\"],[0.3333333333333333,\"#9c179e\"],[0.4444444444444444,\"#bd3786\"],[0.5555555555555556,\"#d8576b\"],[0.6666666666666666,\"#ed7953\"],[0.7777777777777778,\"#fb9f3a\"],[0.8888888888888888,\"#fdca26\"],[1.0,\"#f0f921\"]]}],\"heatmap\":[{\"type\":\"heatmap\",\"colorbar\":{\"outlinewidth\":0,\"ticks\":\"\"},\"colorscale\":[[0.0,\"#0d0887\"],[0.1111111111111111,\"#46039f\"],[0.2222222222222222,\"#7201a8\"],[0.3333333333333333,\"#9c179e\"],[0.4444444444444444,\"#bd3786\"],[0.5555555555555556,\"#d8576b\"],[0.6666666666666666,\"#ed7953\"],[0.7777777777777778,\"#fb9f3a\"],[0.8888888888888888,\"#fdca26\"],[1.0,\"#f0f921\"]]}],\"heatmapgl\":[{\"type\":\"heatmapgl\",\"colorbar\":{\"outlinewidth\":0,\"ticks\":\"\"},\"colorscale\":[[0.0,\"#0d0887\"],[0.1111111111111111,\"#46039f\"],[0.2222222222222222,\"#7201a8\"],[0.3333333333333333,\"#9c179e\"],[0.4444444444444444,\"#bd3786\"],[0.5555555555555556,\"#d8576b\"],[0.6666666666666666,\"#ed7953\"],[0.7777777777777778,\"#fb9f3a\"],[0.8888888888888888,\"#fdca26\"],[1.0,\"#f0f921\"]]}],\"contourcarpet\":[{\"type\":\"contourcarpet\",\"colorbar\":{\"outlinewidth\":0,\"ticks\":\"\"}}],\"contour\":[{\"type\":\"contour\",\"colorbar\":{\"outlinewidth\":0,\"ticks\":\"\"},\"colorscale\":[[0.0,\"#0d0887\"],[0.1111111111111111,\"#46039f\"],[0.2222222222222222,\"#7201a8\"],[0.3333333333333333,\"#9c179e\"],[0.4444444444444444,\"#bd3786\"],[0.5555555555555556,\"#d8576b\"],[0.6666666666666666,\"#ed7953\"],[0.7777777777777778,\"#fb9f3a\"],[0.8888888888888888,\"#fdca26\"],[1.0,\"#f0f921\"]]}],\"surface\":[{\"type\":\"surface\",\"colorbar\":{\"outlinewidth\":0,\"ticks\":\"\"},\"colorscale\":[[0.0,\"#0d0887\"],[0.1111111111111111,\"#46039f\"],[0.2222222222222222,\"#7201a8\"],[0.3333333333333333,\"#9c179e\"],[0.4444444444444444,\"#bd3786\"],[0.5555555555555556,\"#d8576b\"],[0.6666666666666666,\"#ed7953\"],[0.7777777777777778,\"#fb9f3a\"],[0.8888888888888888,\"#fdca26\"],[1.0,\"#f0f921\"]]}],\"mesh3d\":[{\"type\":\"mesh3d\",\"colorbar\":{\"outlinewidth\":0,\"ticks\":\"\"}}],\"scatter\":[{\"fillpattern\":{\"fillmode\":\"overlay\",\"size\":10,\"solidity\":0.2},\"type\":\"scatter\"}],\"parcoords\":[{\"type\":\"parcoords\",\"line\":{\"colorbar\":{\"outlinewidth\":0,\"ticks\":\"\"}}}],\"scatterpolargl\":[{\"type\":\"scatterpolargl\",\"marker\":{\"colorbar\":{\"outlinewidth\":0,\"ticks\":\"\"}}}],\"bar\":[{\"error_x\":{\"color\":\"#2a3f5f\"},\"error_y\":{\"color\":\"#2a3f5f\"},\"marker\":{\"line\":{\"color\":\"#E5ECF6\",\"width\":0.5},\"pattern\":{\"fillmode\":\"overlay\",\"size\":10,\"solidity\":0.2}},\"type\":\"bar\"}],\"scattergeo\":[{\"type\":\"scattergeo\",\"marker\":{\"colorbar\":{\"outlinewidth\":0,\"ticks\":\"\"}}}],\"scatterpolar\":[{\"type\":\"scatterpolar\",\"marker\":{\"colorbar\":{\"outlinewidth\":0,\"ticks\":\"\"}}}],\"histogram\":[{\"marker\":{\"pattern\":{\"fillmode\":\"overlay\",\"size\":10,\"solidity\":0.2}},\"type\":\"histogram\"}],\"scattergl\":[{\"type\":\"scattergl\",\"marker\":{\"colorbar\":{\"outlinewidth\":0,\"ticks\":\"\"}}}],\"scatter3d\":[{\"type\":\"scatter3d\",\"line\":{\"colorbar\":{\"outlinewidth\":0,\"ticks\":\"\"}},\"marker\":{\"colorbar\":{\"outlinewidth\":0,\"ticks\":\"\"}}}],\"scattermapbox\":[{\"type\":\"scattermapbox\",\"marker\":{\"colorbar\":{\"outlinewidth\":0,\"ticks\":\"\"}}}],\"scatterternary\":[{\"type\":\"scatterternary\",\"marker\":{\"colorbar\":{\"outlinewidth\":0,\"ticks\":\"\"}}}],\"scattercarpet\":[{\"type\":\"scattercarpet\",\"marker\":{\"colorbar\":{\"outlinewidth\":0,\"ticks\":\"\"}}}],\"carpet\":[{\"aaxis\":{\"endlinecolor\":\"#2a3f5f\",\"gridcolor\":\"white\",\"linecolor\":\"white\",\"minorgridcolor\":\"white\",\"startlinecolor\":\"#2a3f5f\"},\"baxis\":{\"endlinecolor\":\"#2a3f5f\",\"gridcolor\":\"white\",\"linecolor\":\"white\",\"minorgridcolor\":\"white\",\"startlinecolor\":\"#2a3f5f\"},\"type\":\"carpet\"}],\"table\":[{\"cells\":{\"fill\":{\"color\":\"#EBF0F8\"},\"line\":{\"color\":\"white\"}},\"header\":{\"fill\":{\"color\":\"#C8D4E3\"},\"line\":{\"color\":\"white\"}},\"type\":\"table\"}],\"barpolar\":[{\"marker\":{\"line\":{\"color\":\"#E5ECF6\",\"width\":0.5},\"pattern\":{\"fillmode\":\"overlay\",\"size\":10,\"solidity\":0.2}},\"type\":\"barpolar\"}],\"pie\":[{\"automargin\":true,\"type\":\"pie\"}]},\"layout\":{\"autotypenumbers\":\"strict\",\"colorway\":[\"#636efa\",\"#EF553B\",\"#00cc96\",\"#ab63fa\",\"#FFA15A\",\"#19d3f3\",\"#FF6692\",\"#B6E880\",\"#FF97FF\",\"#FECB52\"],\"font\":{\"color\":\"#2a3f5f\"},\"hovermode\":\"closest\",\"hoverlabel\":{\"align\":\"left\"},\"paper_bgcolor\":\"white\",\"plot_bgcolor\":\"#E5ECF6\",\"polar\":{\"bgcolor\":\"#E5ECF6\",\"angularaxis\":{\"gridcolor\":\"white\",\"linecolor\":\"white\",\"ticks\":\"\"},\"radialaxis\":{\"gridcolor\":\"white\",\"linecolor\":\"white\",\"ticks\":\"\"}},\"ternary\":{\"bgcolor\":\"#E5ECF6\",\"aaxis\":{\"gridcolor\":\"white\",\"linecolor\":\"white\",\"ticks\":\"\"},\"baxis\":{\"gridcolor\":\"white\",\"linecolor\":\"white\",\"ticks\":\"\"},\"caxis\":{\"gridcolor\":\"white\",\"linecolor\":\"white\",\"ticks\":\"\"}},\"coloraxis\":{\"colorbar\":{\"outlinewidth\":0,\"ticks\":\"\"}},\"colorscale\":{\"sequential\":[[0.0,\"#0d0887\"],[0.1111111111111111,\"#46039f\"],[0.2222222222222222,\"#7201a8\"],[0.3333333333333333,\"#9c179e\"],[0.4444444444444444,\"#bd3786\"],[0.5555555555555556,\"#d8576b\"],[0.6666666666666666,\"#ed7953\"],[0.7777777777777778,\"#fb9f3a\"],[0.8888888888888888,\"#fdca26\"],[1.0,\"#f0f921\"]],\"sequentialminus\":[[0.0,\"#0d0887\"],[0.1111111111111111,\"#46039f\"],[0.2222222222222222,\"#7201a8\"],[0.3333333333333333,\"#9c179e\"],[0.4444444444444444,\"#bd3786\"],[0.5555555555555556,\"#d8576b\"],[0.6666666666666666,\"#ed7953\"],[0.7777777777777778,\"#fb9f3a\"],[0.8888888888888888,\"#fdca26\"],[1.0,\"#f0f921\"]],\"diverging\":[[0,\"#8e0152\"],[0.1,\"#c51b7d\"],[0.2,\"#de77ae\"],[0.3,\"#f1b6da\"],[0.4,\"#fde0ef\"],[0.5,\"#f7f7f7\"],[0.6,\"#e6f5d0\"],[0.7,\"#b8e186\"],[0.8,\"#7fbc41\"],[0.9,\"#4d9221\"],[1,\"#276419\"]]},\"xaxis\":{\"gridcolor\":\"white\",\"linecolor\":\"white\",\"ticks\":\"\",\"title\":{\"standoff\":15},\"zerolinecolor\":\"white\",\"automargin\":true,\"zerolinewidth\":2},\"yaxis\":{\"gridcolor\":\"white\",\"linecolor\":\"white\",\"ticks\":\"\",\"title\":{\"standoff\":15},\"zerolinecolor\":\"white\",\"automargin\":true,\"zerolinewidth\":2},\"scene\":{\"xaxis\":{\"backgroundcolor\":\"#E5ECF6\",\"gridcolor\":\"white\",\"linecolor\":\"white\",\"showbackground\":true,\"ticks\":\"\",\"zerolinecolor\":\"white\",\"gridwidth\":2},\"yaxis\":{\"backgroundcolor\":\"#E5ECF6\",\"gridcolor\":\"white\",\"linecolor\":\"white\",\"showbackground\":true,\"ticks\":\"\",\"zerolinecolor\":\"white\",\"gridwidth\":2},\"zaxis\":{\"backgroundcolor\":\"#E5ECF6\",\"gridcolor\":\"white\",\"linecolor\":\"white\",\"showbackground\":true,\"ticks\":\"\",\"zerolinecolor\":\"white\",\"gridwidth\":2}},\"shapedefaults\":{\"line\":{\"color\":\"#2a3f5f\"}},\"annotationdefaults\":{\"arrowcolor\":\"#2a3f5f\",\"arrowhead\":0,\"arrowwidth\":1},\"geo\":{\"bgcolor\":\"white\",\"landcolor\":\"#E5ECF6\",\"subunitcolor\":\"white\",\"showland\":true,\"showlakes\":true,\"lakecolor\":\"white\"},\"title\":{\"x\":0.05},\"mapbox\":{\"style\":\"light\"}}},\"title\":{\"text\":\"Funil de Convers\\u00e3o de Eventos\"}},                        {\"responsive\": true}                    ).then(function(){\n",
       "                            \n",
       "var gd = document.getElementById('feaa44e3-a850-4c05-a065-aec17a3d4dc6');\n",
       "var x = new MutationObserver(function (mutations, observer) {{\n",
       "        var display = window.getComputedStyle(gd).display;\n",
       "        if (!display || display === 'none') {{\n",
       "            console.log([gd, 'removed!']);\n",
       "            Plotly.purge(gd);\n",
       "            observer.disconnect();\n",
       "        }}\n",
       "}});\n",
       "\n",
       "// Listen for the removal of the full notebook cells\n",
       "var notebookContainer = gd.closest('#notebook-container');\n",
       "if (notebookContainer) {{\n",
       "    x.observe(notebookContainer, {childList: true});\n",
       "}}\n",
       "\n",
       "// Listen for the clearing of the current output cell\n",
       "var outputEl = gd.closest('.output');\n",
       "if (outputEl) {{\n",
       "    x.observe(outputEl, {childList: true});\n",
       "}}\n",
       "\n",
       "                        })                };                });            </script>        </div>"
      ]
     },
     "metadata": {},
     "output_type": "display_data"
    }
   ],
   "source": [
    "fig = go.Figure(go.Funnel(\n",
    "    y = [\"Tutorial\", \"Acessaram ao menu principal\", \"Acessaram ao menu ofertas\", \"Adicionaram ao carrinho\", \"Pagaram\"],\n",
    "    x = [780, 735, 577, 321, 200]\n",
    "    ))\n",
    "fig.update_layout(title=\"Funil de Conversão de Eventos\")\n",
    "fig.show() "
   ]
  },
  {
   "cell_type": "markdown",
   "id": "f9df4059",
   "metadata": {},
   "source": [
    "Analisando o gráfico, imediatamente podemos constatar que o número de usuários diminuiu a cada etapa, ou seja, aquele que acessou o tutorial não necessariamente realizou uma compra.\n",
    "\n",
    "Porém, vimos que depois que os usuários acessam o tutorial, 94,2% seguem para o próximo evento – acessar o menu principal. Já desse evento, vimos que 78,5% dos usuários acessam o menu de ofertas, sendo 74% dos que seguiram do primeiro evento, ou seja, houve uma queda aproximada de 20% de usuários.\n",
    "\n",
    "A porcentagem de 55,6% mostra a quantidade de usuários que seguiram do evento anterior para o evento adicionar no carrinho, tendo agora 41,2% daqueles que seguiram do primeiro evento.\n",
    "\n",
    "Por fim, após adicionar itens no carrinho, 62,3% realizaram o pagamento. No entanto, vemos que isso representa apenas 25,6% do total inicial, ou seja, dos que percorreram o caminho inteiro, desde o primeiro evento até o pagamento.\n",
    "\n",
    "Vimos que a fase em que mais perdemos usuários foi do acesso ao menu principal para acessar o menu de ofertas, ou seja, muitos, depois de acessar o menu principal, não seguem utilizando o aplicativo.  "
   ]
  },
  {
   "cell_type": "markdown",
   "id": "61554184",
   "metadata": {},
   "source": [
    "[Voltar ao Indice](#back)"
   ]
  },
  {
   "cell_type": "markdown",
   "id": "022253f6",
   "metadata": {},
   "source": [
    "## 3.3. Dos resultados do experimento <a id='experimento'></a>"
   ]
  },
  {
   "cell_type": "markdown",
   "id": "fb81b217",
   "metadata": {},
   "source": [
    "Sabendo que os designers pretendem alterar as fontes do aplicativo, mas que os gerentes temem que os usuários não se identifiquem, foi criado o teste A/A/B.\n",
    "\n",
    "Para o teste, os usuários foram divididos em três grupos, onde dois grupos de controle recebem as fontes antigas e um grupo de teste recebe as novas. Assim, passaremos agora a ver os resultados do teste A/A/B."
   ]
  },
  {
   "cell_type": "markdown",
   "id": "99493a08",
   "metadata": {},
   "source": [
    "[Voltar ao Indice](#back)"
   ]
  },
  {
   "cell_type": "markdown",
   "id": "513e57e6",
   "metadata": {},
   "source": [
    "### 3.3.1. Quantos usuários há em cada grupo? <a id='grupo'></a>"
   ]
  },
  {
   "cell_type": "markdown",
   "id": "4193d405",
   "metadata": {},
   "source": [
    "Antes de vermos os resultados do experimento iremos encontrar quantos usuários há em cada grupo e para isso iremos agrupar as colunas exp_id e device_id e utilizando nunique."
   ]
  },
  {
   "cell_type": "code",
   "execution_count": 148,
   "id": "f4b809c5",
   "metadata": {},
   "outputs": [
    {
     "data": {
      "text/html": [
       "<div>\n",
       "<style scoped>\n",
       "    .dataframe tbody tr th:only-of-type {\n",
       "        vertical-align: middle;\n",
       "    }\n",
       "\n",
       "    .dataframe tbody tr th {\n",
       "        vertical-align: top;\n",
       "    }\n",
       "\n",
       "    .dataframe thead th {\n",
       "        text-align: right;\n",
       "    }\n",
       "</style>\n",
       "<table border=\"1\" class=\"dataframe\">\n",
       "  <thead>\n",
       "    <tr style=\"text-align: right;\">\n",
       "      <th></th>\n",
       "      <th>exp_id</th>\n",
       "      <th>num_users</th>\n",
       "    </tr>\n",
       "  </thead>\n",
       "  <tbody>\n",
       "    <tr>\n",
       "      <th>0</th>\n",
       "      <td>246</td>\n",
       "      <td>2420</td>\n",
       "    </tr>\n",
       "    <tr>\n",
       "      <th>1</th>\n",
       "      <td>247</td>\n",
       "      <td>2445</td>\n",
       "    </tr>\n",
       "    <tr>\n",
       "      <th>2</th>\n",
       "      <td>248</td>\n",
       "      <td>2470</td>\n",
       "    </tr>\n",
       "  </tbody>\n",
       "</table>\n",
       "</div>"
      ],
      "text/plain": [
       "   exp_id  num_users\n",
       "0     246       2420\n",
       "1     247       2445\n",
       "2     248       2470"
      ]
     },
     "execution_count": 148,
     "metadata": {},
     "output_type": "execute_result"
    }
   ],
   "source": [
    "user_per_group = filtered_df.groupby('exp_id')['device_id'].nunique().reset_index()\n",
    "user_per_group.columns = ['exp_id', 'num_users']\n",
    "user_per_group"
   ]
  },
  {
   "cell_type": "markdown",
   "id": "d44d77f0",
   "metadata": {},
   "source": [
    "[Voltar ao Indice](#back)"
   ]
  },
  {
   "cell_type": "markdown",
   "id": "7aaf370d",
   "metadata": {},
   "source": [
    "### 3.3.2. Dos grupos de controle no teste A/A <a id='controle'></a>"
   ]
  },
  {
   "cell_type": "markdown",
   "id": "ccade0cf",
   "metadata": {},
   "source": [
    "Temos dois grupos de controle no teste A/A, no qual verificamos nossos mecanismos e cálculos. Veremos se há uma diferença estatisticamente significativa entre as amostragens 246 e 247. Porém, para conseguirmos manipular mais facilmente utilizando o dataframe sem filtragem, iremos nesse momento substituir os valores condicionais da coluna event_name por número.\n",
    "\n",
    "Constará assim: \n",
    "- Tutorial: 0\n",
    "- MainScreenAppear: 1\n",
    "- OffersScreenAppear: 2 \n",
    "- CartScreenAppear: 3 \n",
    "- PaymentScreenSuccessful: 4 "
   ]
  },
  {
   "cell_type": "code",
   "execution_count": 149,
   "id": "604a27b3",
   "metadata": {},
   "outputs": [
    {
     "data": {
      "text/plain": [
       "array(['MainScreenAppear', 'PaymentScreenSuccessful', 'CartScreenAppear',\n",
       "       'OffersScreenAppear', 'Tutorial'], dtype=object)"
      ]
     },
     "execution_count": 149,
     "metadata": {},
     "output_type": "execute_result"
    }
   ],
   "source": [
    "df['event_name'].unique()"
   ]
  },
  {
   "cell_type": "code",
   "execution_count": 150,
   "id": "e2780b57",
   "metadata": {},
   "outputs": [],
   "source": [
    "{'Tutorial':0 , 'MainScreenAppear':1, 'OffersScreenAppear':2, 'CartScreenAppear':3, 'PaymentScreenSuccessful': 4}\n",
    "\n",
    "dict_cond = {'Tutorial':0 , 'MainScreenAppear':1, 'OffersScreenAppear':2, 'CartScreenAppear':3, 'PaymentScreenSuccessful': 4}\n",
    "\n",
    "def cond(row):\n",
    "    return dict_cond[row]\n",
    "\n",
    "df['event_name'] = df['event_name'].apply(cond)"
   ]
  },
  {
   "cell_type": "code",
   "execution_count": 151,
   "id": "4c337349",
   "metadata": {},
   "outputs": [
    {
     "name": "stdout",
     "output_type": "stream",
     "text": [
      "p-value:  1.302827862826329e-60\n",
      "Hipótese nula rejeitada: a diferença possui significância estatística\n"
     ]
    }
   ],
   "source": [
    "alpha = 0.05\n",
    "\n",
    "sample_1 = df[df['exp_id'] == 246]['event_name']\n",
    "sample_2 = df[df['exp_id'] == 247]['event_name']\n",
    "\n",
    "results = st.mannwhitneyu(sample_1, sample_2)\n",
    "\n",
    "print('p-value: ', results.pvalue)\n",
    "\n",
    "if (results.pvalue < alpha):\n",
    "    print(\"Hipótese nula rejeitada: a diferença possui significância estatística\")\n",
    "else:\n",
    "    print(\"Falha a rejeitar a hipótese nula: não é possível chegar a conclusões sobre a diferença\")"
   ]
  },
  {
   "cell_type": "markdown",
   "id": "d28525e3",
   "metadata": {},
   "source": [
    "Encontrando o p-value, rejeitamos a hipótese nula, significando que há uma diferença estatisticamente significativa entre as amostragens. Sendo assim, existe uma diferença estatisticamente significativa entre os dois grupos de controle em relação às métricas ou variáveis.\n",
    "\n",
    "Portanto, entendemos que há algo diferente entre os dois grupos de controle, indicando que há a presença de algum fator ou influência que poderia estar afetando as métricas dos estudos."
   ]
  },
  {
   "cell_type": "markdown",
   "id": "74b7aeee",
   "metadata": {},
   "source": [
    "[Voltar ao Indice](#back)"
   ]
  },
  {
   "cell_type": "markdown",
   "id": "be7b9d4a",
   "metadata": {},
   "source": [
    "### 3.3.3.  Dos eventos no grupos A/A <a id='diferenca'></a>"
   ]
  },
  {
   "cell_type": "markdown",
   "id": "6db2c44f",
   "metadata": {},
   "source": [
    "Nesse tópico, iremos selecionar o evento mais popular entre os usuários e examinaremos a proporção dos que realizaram essa ação em cada um dos grupos de controle. Além disso, iremos verificar se há diferenças estatisticamente significativas entre os grupos para cada evento. Visando facilitar, iremos criar uma função para verificar a existência de diferenças estatisticamente significativas.\n",
    "\n",
    "Para podermos fazer a seguinte análise, iremos filtrar os grupos 246 e 247 do dataframe já filtrado, para que tenhamos apenas as informações referentes a esses grupos de forma individual."
   ]
  },
  {
   "cell_type": "code",
   "execution_count": 152,
   "id": "363bdcfd",
   "metadata": {},
   "outputs": [
    {
     "data": {
      "text/html": [
       "<div>\n",
       "<style scoped>\n",
       "    .dataframe tbody tr th:only-of-type {\n",
       "        vertical-align: middle;\n",
       "    }\n",
       "\n",
       "    .dataframe tbody tr th {\n",
       "        vertical-align: top;\n",
       "    }\n",
       "\n",
       "    .dataframe thead th {\n",
       "        text-align: right;\n",
       "    }\n",
       "</style>\n",
       "<table border=\"1\" class=\"dataframe\">\n",
       "  <thead>\n",
       "    <tr style=\"text-align: right;\">\n",
       "      <th></th>\n",
       "      <th>event_name</th>\n",
       "      <th>device_id</th>\n",
       "      <th>event_time</th>\n",
       "      <th>exp_id</th>\n",
       "      <th>event_time_2</th>\n",
       "      <th>date</th>\n",
       "    </tr>\n",
       "  </thead>\n",
       "  <tbody>\n",
       "    <tr>\n",
       "      <th>2828</th>\n",
       "      <td>Tutorial</td>\n",
       "      <td>3737462046622621720</td>\n",
       "      <td>1564618048</td>\n",
       "      <td>246</td>\n",
       "      <td>2019-08-01 00:07:28</td>\n",
       "      <td>2019-08-01</td>\n",
       "    </tr>\n",
       "    <tr>\n",
       "      <th>2829</th>\n",
       "      <td>MainScreenAppear</td>\n",
       "      <td>3737462046622621720</td>\n",
       "      <td>1564618080</td>\n",
       "      <td>246</td>\n",
       "      <td>2019-08-01 00:08:00</td>\n",
       "      <td>2019-08-01</td>\n",
       "    </tr>\n",
       "    <tr>\n",
       "      <th>2830</th>\n",
       "      <td>MainScreenAppear</td>\n",
       "      <td>3737462046622621720</td>\n",
       "      <td>1564618135</td>\n",
       "      <td>246</td>\n",
       "      <td>2019-08-01 00:08:55</td>\n",
       "      <td>2019-08-01</td>\n",
       "    </tr>\n",
       "    <tr>\n",
       "      <th>2831</th>\n",
       "      <td>OffersScreenAppear</td>\n",
       "      <td>3737462046622621720</td>\n",
       "      <td>1564618138</td>\n",
       "      <td>246</td>\n",
       "      <td>2019-08-01 00:08:58</td>\n",
       "      <td>2019-08-01</td>\n",
       "    </tr>\n",
       "    <tr>\n",
       "      <th>2834</th>\n",
       "      <td>OffersScreenAppear</td>\n",
       "      <td>3737462046622621720</td>\n",
       "      <td>1564618226</td>\n",
       "      <td>246</td>\n",
       "      <td>2019-08-01 00:10:26</td>\n",
       "      <td>2019-08-01</td>\n",
       "    </tr>\n",
       "  </tbody>\n",
       "</table>\n",
       "</div>"
      ],
      "text/plain": [
       "              event_name            device_id  event_time  exp_id  \\\n",
       "2828            Tutorial  3737462046622621720  1564618048     246   \n",
       "2829    MainScreenAppear  3737462046622621720  1564618080     246   \n",
       "2830    MainScreenAppear  3737462046622621720  1564618135     246   \n",
       "2831  OffersScreenAppear  3737462046622621720  1564618138     246   \n",
       "2834  OffersScreenAppear  3737462046622621720  1564618226     246   \n",
       "\n",
       "            event_time_2       date  \n",
       "2828 2019-08-01 00:07:28 2019-08-01  \n",
       "2829 2019-08-01 00:08:00 2019-08-01  \n",
       "2830 2019-08-01 00:08:55 2019-08-01  \n",
       "2831 2019-08-01 00:08:58 2019-08-01  \n",
       "2834 2019-08-01 00:10:26 2019-08-01  "
      ]
     },
     "execution_count": 152,
     "metadata": {},
     "output_type": "execute_result"
    }
   ],
   "source": [
    "group_246 = filtered_df.loc[(filtered_df['exp_id'] == 246)]\n",
    "group_246.head()"
   ]
  },
  {
   "cell_type": "code",
   "execution_count": 153,
   "id": "12f2ebff",
   "metadata": {},
   "outputs": [
    {
     "data": {
      "text/html": [
       "<div>\n",
       "<style scoped>\n",
       "    .dataframe tbody tr th:only-of-type {\n",
       "        vertical-align: middle;\n",
       "    }\n",
       "\n",
       "    .dataframe tbody tr th {\n",
       "        vertical-align: top;\n",
       "    }\n",
       "\n",
       "    .dataframe thead th {\n",
       "        text-align: right;\n",
       "    }\n",
       "</style>\n",
       "<table border=\"1\" class=\"dataframe\">\n",
       "  <thead>\n",
       "    <tr style=\"text-align: right;\">\n",
       "      <th>exp_id</th>\n",
       "      <th>246</th>\n",
       "    </tr>\n",
       "    <tr>\n",
       "      <th>event_name</th>\n",
       "      <th></th>\n",
       "    </tr>\n",
       "  </thead>\n",
       "  <tbody>\n",
       "    <tr>\n",
       "      <th>CartScreenAppear</th>\n",
       "      <td>1217</td>\n",
       "    </tr>\n",
       "    <tr>\n",
       "      <th>MainScreenAppear</th>\n",
       "      <td>2377</td>\n",
       "    </tr>\n",
       "    <tr>\n",
       "      <th>OffersScreenAppear</th>\n",
       "      <td>1477</td>\n",
       "    </tr>\n",
       "    <tr>\n",
       "      <th>PaymentScreenSuccessful</th>\n",
       "      <td>1157</td>\n",
       "    </tr>\n",
       "    <tr>\n",
       "      <th>Tutorial</th>\n",
       "      <td>253</td>\n",
       "    </tr>\n",
       "  </tbody>\n",
       "</table>\n",
       "</div>"
      ],
      "text/plain": [
       "exp_id                    246\n",
       "event_name                   \n",
       "CartScreenAppear         1217\n",
       "MainScreenAppear         2377\n",
       "OffersScreenAppear       1477\n",
       "PaymentScreenSuccessful  1157\n",
       "Tutorial                  253"
      ]
     },
     "execution_count": 153,
     "metadata": {},
     "output_type": "execute_result"
    }
   ],
   "source": [
    "pivot_table_246 = group_246.pivot_table(index='event_name', columns='exp_id', values='device_id', aggfunc='nunique')\n",
    "pivot_table_246"
   ]
  },
  {
   "cell_type": "code",
   "execution_count": 154,
   "id": "b6e82bdf",
   "metadata": {},
   "outputs": [
    {
     "data": {
      "text/plain": [
       "2420"
      ]
     },
     "execution_count": 154,
     "metadata": {},
     "output_type": "execute_result"
    }
   ],
   "source": [
    "total_users_246 = group_246['device_id'].nunique()\n",
    "total_users_246"
   ]
  },
  {
   "cell_type": "code",
   "execution_count": 155,
   "id": "7657c986",
   "metadata": {},
   "outputs": [
    {
     "name": "stdout",
     "output_type": "stream",
     "text": [
      "exp_id                    246\n",
      "event_name                   \n",
      "CartScreenAppear         0.50\n",
      "MainScreenAppear         0.98\n",
      "OffersScreenAppear       0.61\n",
      "PaymentScreenSuccessful  0.48\n",
      "Tutorial                 0.10\n"
     ]
    }
   ],
   "source": [
    "proportion_246 = pivot_table_246 / total_users_246\n",
    "print(round(proportion_246,2))"
   ]
  },
  {
   "cell_type": "code",
   "execution_count": 156,
   "id": "e648b44f",
   "metadata": {},
   "outputs": [
    {
     "data": {
      "text/html": [
       "<div>\n",
       "<style scoped>\n",
       "    .dataframe tbody tr th:only-of-type {\n",
       "        vertical-align: middle;\n",
       "    }\n",
       "\n",
       "    .dataframe tbody tr th {\n",
       "        vertical-align: top;\n",
       "    }\n",
       "\n",
       "    .dataframe thead th {\n",
       "        text-align: right;\n",
       "    }\n",
       "</style>\n",
       "<table border=\"1\" class=\"dataframe\">\n",
       "  <thead>\n",
       "    <tr style=\"text-align: right;\">\n",
       "      <th></th>\n",
       "      <th>event_name</th>\n",
       "      <th>device_id</th>\n",
       "      <th>event_time</th>\n",
       "      <th>exp_id</th>\n",
       "      <th>event_time_2</th>\n",
       "      <th>date</th>\n",
       "    </tr>\n",
       "  </thead>\n",
       "  <tbody>\n",
       "    <tr>\n",
       "      <th>2832</th>\n",
       "      <td>MainScreenAppear</td>\n",
       "      <td>1433840883824088890</td>\n",
       "      <td>1564618139</td>\n",
       "      <td>247</td>\n",
       "      <td>2019-08-01 00:08:59</td>\n",
       "      <td>2019-08-01</td>\n",
       "    </tr>\n",
       "    <tr>\n",
       "      <th>2833</th>\n",
       "      <td>MainScreenAppear</td>\n",
       "      <td>4899590676214355127</td>\n",
       "      <td>1564618215</td>\n",
       "      <td>247</td>\n",
       "      <td>2019-08-01 00:10:15</td>\n",
       "      <td>2019-08-01</td>\n",
       "    </tr>\n",
       "    <tr>\n",
       "      <th>2838</th>\n",
       "      <td>MainScreenAppear</td>\n",
       "      <td>4899590676214355127</td>\n",
       "      <td>1564618288</td>\n",
       "      <td>247</td>\n",
       "      <td>2019-08-01 00:11:28</td>\n",
       "      <td>2019-08-01</td>\n",
       "    </tr>\n",
       "    <tr>\n",
       "      <th>2839</th>\n",
       "      <td>OffersScreenAppear</td>\n",
       "      <td>4899590676214355127</td>\n",
       "      <td>1564618290</td>\n",
       "      <td>247</td>\n",
       "      <td>2019-08-01 00:11:30</td>\n",
       "      <td>2019-08-01</td>\n",
       "    </tr>\n",
       "    <tr>\n",
       "      <th>2843</th>\n",
       "      <td>OffersScreenAppear</td>\n",
       "      <td>4899590676214355127</td>\n",
       "      <td>1564618356</td>\n",
       "      <td>247</td>\n",
       "      <td>2019-08-01 00:12:36</td>\n",
       "      <td>2019-08-01</td>\n",
       "    </tr>\n",
       "  </tbody>\n",
       "</table>\n",
       "</div>"
      ],
      "text/plain": [
       "              event_name            device_id  event_time  exp_id  \\\n",
       "2832    MainScreenAppear  1433840883824088890  1564618139     247   \n",
       "2833    MainScreenAppear  4899590676214355127  1564618215     247   \n",
       "2838    MainScreenAppear  4899590676214355127  1564618288     247   \n",
       "2839  OffersScreenAppear  4899590676214355127  1564618290     247   \n",
       "2843  OffersScreenAppear  4899590676214355127  1564618356     247   \n",
       "\n",
       "            event_time_2       date  \n",
       "2832 2019-08-01 00:08:59 2019-08-01  \n",
       "2833 2019-08-01 00:10:15 2019-08-01  \n",
       "2838 2019-08-01 00:11:28 2019-08-01  \n",
       "2839 2019-08-01 00:11:30 2019-08-01  \n",
       "2843 2019-08-01 00:12:36 2019-08-01  "
      ]
     },
     "execution_count": 156,
     "metadata": {},
     "output_type": "execute_result"
    }
   ],
   "source": [
    "group_247 = filtered_df.loc[(filtered_df['exp_id'] == 247)]\n",
    "group_247.head()"
   ]
  },
  {
   "cell_type": "code",
   "execution_count": 157,
   "id": "1f157397",
   "metadata": {},
   "outputs": [
    {
     "data": {
      "text/html": [
       "<div>\n",
       "<style scoped>\n",
       "    .dataframe tbody tr th:only-of-type {\n",
       "        vertical-align: middle;\n",
       "    }\n",
       "\n",
       "    .dataframe tbody tr th {\n",
       "        vertical-align: top;\n",
       "    }\n",
       "\n",
       "    .dataframe thead th {\n",
       "        text-align: right;\n",
       "    }\n",
       "</style>\n",
       "<table border=\"1\" class=\"dataframe\">\n",
       "  <thead>\n",
       "    <tr style=\"text-align: right;\">\n",
       "      <th>exp_id</th>\n",
       "      <th>247</th>\n",
       "    </tr>\n",
       "    <tr>\n",
       "      <th>event_name</th>\n",
       "      <th></th>\n",
       "    </tr>\n",
       "  </thead>\n",
       "  <tbody>\n",
       "    <tr>\n",
       "      <th>CartScreenAppear</th>\n",
       "      <td>1190</td>\n",
       "    </tr>\n",
       "    <tr>\n",
       "      <th>MainScreenAppear</th>\n",
       "      <td>2406</td>\n",
       "    </tr>\n",
       "    <tr>\n",
       "      <th>OffersScreenAppear</th>\n",
       "      <td>1462</td>\n",
       "    </tr>\n",
       "    <tr>\n",
       "      <th>PaymentScreenSuccessful</th>\n",
       "      <td>1114</td>\n",
       "    </tr>\n",
       "    <tr>\n",
       "      <th>Tutorial</th>\n",
       "      <td>267</td>\n",
       "    </tr>\n",
       "  </tbody>\n",
       "</table>\n",
       "</div>"
      ],
      "text/plain": [
       "exp_id                    247\n",
       "event_name                   \n",
       "CartScreenAppear         1190\n",
       "MainScreenAppear         2406\n",
       "OffersScreenAppear       1462\n",
       "PaymentScreenSuccessful  1114\n",
       "Tutorial                  267"
      ]
     },
     "execution_count": 157,
     "metadata": {},
     "output_type": "execute_result"
    }
   ],
   "source": [
    "pivot_table_247 = group_247.pivot_table(index='event_name', columns='exp_id', values='device_id', aggfunc='nunique')\n",
    "pivot_table_247"
   ]
  },
  {
   "cell_type": "code",
   "execution_count": 158,
   "id": "2f5f2a00",
   "metadata": {},
   "outputs": [
    {
     "data": {
      "text/plain": [
       "2445"
      ]
     },
     "execution_count": 158,
     "metadata": {},
     "output_type": "execute_result"
    }
   ],
   "source": [
    "total_users_247 = group_247['device_id'].nunique()\n",
    "total_users_247"
   ]
  },
  {
   "cell_type": "code",
   "execution_count": 159,
   "id": "a65662f6",
   "metadata": {},
   "outputs": [
    {
     "name": "stdout",
     "output_type": "stream",
     "text": [
      "exp_id                    247\n",
      "event_name                   \n",
      "CartScreenAppear         0.49\n",
      "MainScreenAppear         0.98\n",
      "OffersScreenAppear       0.60\n",
      "PaymentScreenSuccessful  0.46\n",
      "Tutorial                 0.11\n"
     ]
    }
   ],
   "source": [
    "proportion_247 = pivot_table_247 / total_users_247\n",
    "print(round(proportion_247,2))"
   ]
  },
  {
   "cell_type": "markdown",
   "id": "3612aac2",
   "metadata": {},
   "source": [
    "Definiremos MainScreenAppear como o evento mais popular, pois foi o que teve mais sucesso entre os usuários. Verificamos anteriormente que 96% dos usuários realizaram essa ação."
   ]
  },
  {
   "cell_type": "code",
   "execution_count": 160,
   "id": "9c0e5a2a",
   "metadata": {},
   "outputs": [
    {
     "name": "stdout",
     "output_type": "stream",
     "text": [
      "p-value:  0.5\n",
      "Falha a rejeitar a hipótese nula: não é possível chegar a conclusões sobre a diferença\n"
     ]
    }
   ],
   "source": [
    "alpha = 0.05 # nível de significância\n",
    "\n",
    "sample_1 = pivot_table_246.loc['MainScreenAppear', 246]\n",
    "sample_2 = pivot_table_247.loc['MainScreenAppear', 247]\n",
    "\n",
    "results = st.mannwhitneyu(sample_1, sample_2, True, 'less')\n",
    "\n",
    "print('p-value: ', results.pvalue)\n",
    "\n",
    "if (results.pvalue < alpha):\n",
    "    print(\"Hipótese nula rejeitada: a diferença possui significância estatística\")\n",
    "else:\n",
    "    print(\"Falha a rejeitar a hipótese nula: não é possível chegar a conclusões sobre a diferença\")"
   ]
  },
  {
   "cell_type": "code",
   "execution_count": 161,
   "id": "599e16d4",
   "metadata": {},
   "outputs": [],
   "source": [
    "def group_event(group_246, group_247, alpha):\n",
    "    \n",
    "    results = st.mannwhitneyu(group_246, group_247, True, 'less')\n",
    "    \n",
    "    print('p-value:', results.pvalue)\n",
    "     \n",
    "    \n",
    "    if (results.pvalue < alpha):\n",
    "        print(\"Hipótese nula rejeitada: a diferença possui significância estatística\")\n",
    "    else:\n",
    "        print(\"Falha ao rejeitar a hipótese nula: não é possível chegar a conclusões sobre a diferença\")"
   ]
  },
  {
   "cell_type": "code",
   "execution_count": 162,
   "id": "0a09df02",
   "metadata": {},
   "outputs": [],
   "source": [
    "alpha = 0.05  # nível de significância"
   ]
  },
  {
   "cell_type": "code",
   "execution_count": 163,
   "id": "fc03fe30",
   "metadata": {},
   "outputs": [
    {
     "name": "stdout",
     "output_type": "stream",
     "text": [
      "p-value: 0.5\n",
      "Falha ao rejeitar a hipótese nula: não é possível chegar a conclusões sobre a diferença\n"
     ]
    }
   ],
   "source": [
    "group_246_tutorial = pivot_table_246.loc['Tutorial', 246]\n",
    "group_247_tutorial = pivot_table_247.loc['Tutorial', 247]\n",
    "group_event(group_246_tutorial, group_247_tutorial, alpha)\n"
   ]
  },
  {
   "cell_type": "code",
   "execution_count": 164,
   "id": "3217977e",
   "metadata": {},
   "outputs": [
    {
     "name": "stdout",
     "output_type": "stream",
     "text": [
      "p-value: 1.0\n",
      "Falha ao rejeitar a hipótese nula: não é possível chegar a conclusões sobre a diferença\n"
     ]
    }
   ],
   "source": [
    "group_246_offers = pivot_table_246.loc['OffersScreenAppear', 246]\n",
    "group_247_offers = pivot_table_247.loc['OffersScreenAppear', 247]\n",
    "group_event(group_246_offers, group_247_offers, alpha)"
   ]
  },
  {
   "cell_type": "code",
   "execution_count": 165,
   "id": "91d7ac22",
   "metadata": {},
   "outputs": [
    {
     "name": "stdout",
     "output_type": "stream",
     "text": [
      "p-value: 1.0\n",
      "Falha ao rejeitar a hipótese nula: não é possível chegar a conclusões sobre a diferença\n"
     ]
    }
   ],
   "source": [
    "group_246_cart = pivot_table_246.loc['CartScreenAppear', 246]\n",
    "group_247_cart = pivot_table_247.loc['CartScreenAppear', 247]\n",
    "group_event(group_246_cart, group_247_cart, alpha)"
   ]
  },
  {
   "cell_type": "code",
   "execution_count": 166,
   "id": "18d53a83",
   "metadata": {},
   "outputs": [
    {
     "name": "stdout",
     "output_type": "stream",
     "text": [
      "p-value: 0.5\n",
      "Falha ao rejeitar a hipótese nula: não é possível chegar a conclusões sobre a diferença\n"
     ]
    }
   ],
   "source": [
    "group_246_payment = pivot_table_246.loc['PaymentScreenSuccessful', 246]\n",
    "group_247_payment = pivot_table_247.loc['PaymentScreenSuccessful', 247]\n",
    "group_event(group_247_payment, group_246_payment, alpha)"
   ]
  },
  {
   "cell_type": "markdown",
   "id": "606f88ee",
   "metadata": {},
   "source": [
    "Os resultados indicam que não há diferença estatisticamente significativa entre os grupos de controle para nenhum dos eventos analisados. Portanto, não podemos concluir que existe uma diferença real entre os grupos nessas métricas específicas.\n",
    "\n",
    "Tendo em vista os resultados encontrados, onde o p-value está em torno de 0.5 e não há diferenças estatisticamente significativas entre os grupos, podemos confirmar que os grupos de controle são semelhantes entre si em relação aos eventos considerados, estando de acordo com o que era esperado no teste A/A e, portanto, os grupos foram divididos corretamente."
   ]
  },
  {
   "cell_type": "markdown",
   "id": "e5b0364e",
   "metadata": {},
   "source": [
    "[Voltar ao Indice](#back)"
   ]
  },
  {
   "cell_type": "markdown",
   "id": "542aad02",
   "metadata": {},
   "source": [
    "### 3.3.4.  Comparando grupo B com grupos A/A <a id='comparando'></a>"
   ]
  },
  {
   "cell_type": "markdown",
   "id": "69a7aec3",
   "metadata": {},
   "source": [
    "Com as análises feitas nos grupos de controle A/A, iremos agora analisar o grupo B em relação aos grupos A/A. Assim, compararemos os resultados do grupo teste com os de cada um dos grupos de controle para cada evento isoladamente e também compararemos os resultados com os resultados combinados para os grupos de controle."
   ]
  },
  {
   "cell_type": "code",
   "execution_count": 167,
   "id": "887b5fe5",
   "metadata": {},
   "outputs": [
    {
     "data": {
      "text/html": [
       "<div>\n",
       "<style scoped>\n",
       "    .dataframe tbody tr th:only-of-type {\n",
       "        vertical-align: middle;\n",
       "    }\n",
       "\n",
       "    .dataframe tbody tr th {\n",
       "        vertical-align: top;\n",
       "    }\n",
       "\n",
       "    .dataframe thead th {\n",
       "        text-align: right;\n",
       "    }\n",
       "</style>\n",
       "<table border=\"1\" class=\"dataframe\">\n",
       "  <thead>\n",
       "    <tr style=\"text-align: right;\">\n",
       "      <th></th>\n",
       "      <th>event_name</th>\n",
       "      <th>device_id</th>\n",
       "      <th>event_time</th>\n",
       "      <th>exp_id</th>\n",
       "      <th>event_time_2</th>\n",
       "      <th>date</th>\n",
       "    </tr>\n",
       "  </thead>\n",
       "  <tbody>\n",
       "    <tr>\n",
       "      <th>2844</th>\n",
       "      <td>MainScreenAppear</td>\n",
       "      <td>4613461174774205834</td>\n",
       "      <td>1564618471</td>\n",
       "      <td>248</td>\n",
       "      <td>2019-08-01 00:14:31</td>\n",
       "      <td>2019-08-01</td>\n",
       "    </tr>\n",
       "    <tr>\n",
       "      <th>2845</th>\n",
       "      <td>MainScreenAppear</td>\n",
       "      <td>4613461174774205834</td>\n",
       "      <td>1564618474</td>\n",
       "      <td>248</td>\n",
       "      <td>2019-08-01 00:14:34</td>\n",
       "      <td>2019-08-01</td>\n",
       "    </tr>\n",
       "    <tr>\n",
       "      <th>2846</th>\n",
       "      <td>CartScreenAppear</td>\n",
       "      <td>4613461174774205834</td>\n",
       "      <td>1564618474</td>\n",
       "      <td>248</td>\n",
       "      <td>2019-08-01 00:14:34</td>\n",
       "      <td>2019-08-01</td>\n",
       "    </tr>\n",
       "    <tr>\n",
       "      <th>2847</th>\n",
       "      <td>PaymentScreenSuccessful</td>\n",
       "      <td>4613461174774205834</td>\n",
       "      <td>1564618483</td>\n",
       "      <td>248</td>\n",
       "      <td>2019-08-01 00:14:43</td>\n",
       "      <td>2019-08-01</td>\n",
       "    </tr>\n",
       "    <tr>\n",
       "      <th>2848</th>\n",
       "      <td>OffersScreenAppear</td>\n",
       "      <td>4613461174774205834</td>\n",
       "      <td>1564618491</td>\n",
       "      <td>248</td>\n",
       "      <td>2019-08-01 00:14:51</td>\n",
       "      <td>2019-08-01</td>\n",
       "    </tr>\n",
       "  </tbody>\n",
       "</table>\n",
       "</div>"
      ],
      "text/plain": [
       "                   event_name            device_id  event_time  exp_id  \\\n",
       "2844         MainScreenAppear  4613461174774205834  1564618471     248   \n",
       "2845         MainScreenAppear  4613461174774205834  1564618474     248   \n",
       "2846         CartScreenAppear  4613461174774205834  1564618474     248   \n",
       "2847  PaymentScreenSuccessful  4613461174774205834  1564618483     248   \n",
       "2848       OffersScreenAppear  4613461174774205834  1564618491     248   \n",
       "\n",
       "            event_time_2       date  \n",
       "2844 2019-08-01 00:14:31 2019-08-01  \n",
       "2845 2019-08-01 00:14:34 2019-08-01  \n",
       "2846 2019-08-01 00:14:34 2019-08-01  \n",
       "2847 2019-08-01 00:14:43 2019-08-01  \n",
       "2848 2019-08-01 00:14:51 2019-08-01  "
      ]
     },
     "execution_count": 167,
     "metadata": {},
     "output_type": "execute_result"
    }
   ],
   "source": [
    "group_248 = filtered_df.loc[(filtered_df['exp_id'] == 248)]\n",
    "group_248.head()"
   ]
  },
  {
   "cell_type": "code",
   "execution_count": 168,
   "id": "1dddfd94",
   "metadata": {},
   "outputs": [
    {
     "data": {
      "text/html": [
       "<div>\n",
       "<style scoped>\n",
       "    .dataframe tbody tr th:only-of-type {\n",
       "        vertical-align: middle;\n",
       "    }\n",
       "\n",
       "    .dataframe tbody tr th {\n",
       "        vertical-align: top;\n",
       "    }\n",
       "\n",
       "    .dataframe thead th {\n",
       "        text-align: right;\n",
       "    }\n",
       "</style>\n",
       "<table border=\"1\" class=\"dataframe\">\n",
       "  <thead>\n",
       "    <tr style=\"text-align: right;\">\n",
       "      <th>exp_id</th>\n",
       "      <th>248</th>\n",
       "    </tr>\n",
       "    <tr>\n",
       "      <th>event_name</th>\n",
       "      <th></th>\n",
       "    </tr>\n",
       "  </thead>\n",
       "  <tbody>\n",
       "    <tr>\n",
       "      <th>CartScreenAppear</th>\n",
       "      <td>1194</td>\n",
       "    </tr>\n",
       "    <tr>\n",
       "      <th>MainScreenAppear</th>\n",
       "      <td>2423</td>\n",
       "    </tr>\n",
       "    <tr>\n",
       "      <th>OffersScreenAppear</th>\n",
       "      <td>1475</td>\n",
       "    </tr>\n",
       "    <tr>\n",
       "      <th>PaymentScreenSuccessful</th>\n",
       "      <td>1147</td>\n",
       "    </tr>\n",
       "    <tr>\n",
       "      <th>Tutorial</th>\n",
       "      <td>255</td>\n",
       "    </tr>\n",
       "  </tbody>\n",
       "</table>\n",
       "</div>"
      ],
      "text/plain": [
       "exp_id                    248\n",
       "event_name                   \n",
       "CartScreenAppear         1194\n",
       "MainScreenAppear         2423\n",
       "OffersScreenAppear       1475\n",
       "PaymentScreenSuccessful  1147\n",
       "Tutorial                  255"
      ]
     },
     "execution_count": 168,
     "metadata": {},
     "output_type": "execute_result"
    }
   ],
   "source": [
    "pivot_table_248 = group_248.pivot_table(index='event_name', columns='exp_id', values='device_id', aggfunc='nunique')\n",
    "pivot_table_248"
   ]
  },
  {
   "cell_type": "code",
   "execution_count": 169,
   "id": "6096b4b2",
   "metadata": {},
   "outputs": [
    {
     "data": {
      "text/plain": [
       "2470"
      ]
     },
     "execution_count": 169,
     "metadata": {},
     "output_type": "execute_result"
    }
   ],
   "source": [
    "total_users_248 = group_248['device_id'].nunique()\n",
    "total_users_248"
   ]
  },
  {
   "cell_type": "code",
   "execution_count": 170,
   "id": "0d0145ac",
   "metadata": {},
   "outputs": [
    {
     "name": "stdout",
     "output_type": "stream",
     "text": [
      "exp_id                    248\n",
      "event_name                   \n",
      "CartScreenAppear         0.48\n",
      "MainScreenAppear         0.98\n",
      "OffersScreenAppear       0.60\n",
      "PaymentScreenSuccessful  0.46\n",
      "Tutorial                 0.10\n"
     ]
    }
   ],
   "source": [
    "proportion_248 = pivot_table_248 / total_users_248\n",
    "print(round(proportion_248,2))"
   ]
  },
  {
   "cell_type": "markdown",
   "id": "a3eb4cbd",
   "metadata": {},
   "source": [
    "****GRUPO TESTE (248) E GRUPO CONTROLE (A) 246***"
   ]
  },
  {
   "cell_type": "code",
   "execution_count": 171,
   "id": "6aaf5929",
   "metadata": {},
   "outputs": [],
   "source": [
    "def group_event(group_246, group_248, alpha):\n",
    "    \n",
    "    results = st.mannwhitneyu(group_246, group_248, True, 'less')\n",
    "    \n",
    "    print('p-value:', results.pvalue)\n",
    "     \n",
    "    \n",
    "    if (results.pvalue < alpha):\n",
    "        print(\"Hipótese nula rejeitada: a diferença possui significância estatística\")\n",
    "    else:\n",
    "        print(\"Falha ao rejeitar a hipótese nula: não é possível chegar a conclusões sobre a diferença\")"
   ]
  },
  {
   "cell_type": "code",
   "execution_count": 172,
   "id": "3f99dc3d",
   "metadata": {},
   "outputs": [],
   "source": [
    "alpha = 0.05  # nível de significância"
   ]
  },
  {
   "cell_type": "code",
   "execution_count": 173,
   "id": "7c6309b5",
   "metadata": {},
   "outputs": [
    {
     "name": "stdout",
     "output_type": "stream",
     "text": [
      "p-value: 0.5\n",
      "Falha ao rejeitar a hipótese nula: não é possível chegar a conclusões sobre a diferença\n"
     ]
    }
   ],
   "source": [
    "group_246_tutorial = pivot_table_246.loc['Tutorial', 246]\n",
    "group_248_tutorial = pivot_table_248.loc['Tutorial', 248]\n",
    "group_event(group_246_tutorial, group_248_tutorial, alpha)"
   ]
  },
  {
   "cell_type": "code",
   "execution_count": 174,
   "id": "5ae00799",
   "metadata": {},
   "outputs": [
    {
     "name": "stdout",
     "output_type": "stream",
     "text": [
      "p-value: 0.5\n",
      "Falha ao rejeitar a hipótese nula: não é possível chegar a conclusões sobre a diferença\n"
     ]
    }
   ],
   "source": [
    "group_246_main = pivot_table_246.loc['MainScreenAppear', 246]\n",
    "group_248_main = pivot_table_248.loc['MainScreenAppear', 248]\n",
    "group_event(group_246_main, group_248_main, alpha)"
   ]
  },
  {
   "cell_type": "code",
   "execution_count": 175,
   "id": "697cd50a",
   "metadata": {},
   "outputs": [
    {
     "name": "stdout",
     "output_type": "stream",
     "text": [
      "p-value: 1.0\n",
      "Falha ao rejeitar a hipótese nula: não é possível chegar a conclusões sobre a diferença\n"
     ]
    }
   ],
   "source": [
    "group_246_offers = pivot_table_246.loc['OffersScreenAppear', 246]\n",
    "group_248_offers = pivot_table_248.loc['OffersScreenAppear', 248]\n",
    "group_event(group_246_offers, group_248_offers, alpha)"
   ]
  },
  {
   "cell_type": "code",
   "execution_count": 176,
   "id": "1cd68585",
   "metadata": {},
   "outputs": [
    {
     "name": "stdout",
     "output_type": "stream",
     "text": [
      "p-value: 1.0\n",
      "Falha ao rejeitar a hipótese nula: não é possível chegar a conclusões sobre a diferença\n"
     ]
    }
   ],
   "source": [
    "group_246_cart = pivot_table_246.loc['CartScreenAppear', 246]\n",
    "group_248_cart = pivot_table_248.loc['CartScreenAppear', 248]\n",
    "group_event(group_246_cart, group_248_cart, alpha)"
   ]
  },
  {
   "cell_type": "code",
   "execution_count": 177,
   "id": "709b41f6",
   "metadata": {},
   "outputs": [
    {
     "name": "stdout",
     "output_type": "stream",
     "text": [
      "p-value: 1.0\n",
      "Falha ao rejeitar a hipótese nula: não é possível chegar a conclusões sobre a diferença\n"
     ]
    }
   ],
   "source": [
    "group_246_payment = pivot_table_246.loc['PaymentScreenSuccessful', 246]\n",
    "group_248_payment = pivot_table_248.loc['PaymentScreenSuccessful', 248]\n",
    "group_event(group_246_payment, group_248_payment, alpha)"
   ]
  },
  {
   "cell_type": "markdown",
   "id": "6f28041e",
   "metadata": {},
   "source": [
    "**Resultado:** GRUPO TESTE (248) E GRUPO CONTROLE (A) 246\n",
    "\n",
    "Os resultados indicam que não há diferença estatisticamente significativa entre os grupos de teste e de controle para nenhum dos eventos analisados. Portanto, não podemos concluir que existe uma diferença real entre os grupos nessas métricas específicas."
   ]
  },
  {
   "cell_type": "markdown",
   "id": "83783dc8",
   "metadata": {},
   "source": [
    "****GRUPO TESTE (248) E GRUPO CONTROLE (A) 247***"
   ]
  },
  {
   "cell_type": "code",
   "execution_count": 105,
   "id": "25fdfb6c",
   "metadata": {},
   "outputs": [],
   "source": [
    "def group_event(group_247, group_248, alpha):\n",
    "    \n",
    "    results = st.mannwhitneyu(group_247, group_248, True, 'less')\n",
    "    \n",
    "    print('p-value:', results.pvalue)\n",
    "     \n",
    "    \n",
    "    if (results.pvalue < alpha):\n",
    "        print(\"Hipótese nula rejeitada: a diferença possui significância estatística\")\n",
    "    else:\n",
    "        print(\"Falha ao rejeitar a hipótese nula: não é possível chegar a conclusões sobre a diferença\")"
   ]
  },
  {
   "cell_type": "code",
   "execution_count": 106,
   "id": "4b33017b",
   "metadata": {},
   "outputs": [],
   "source": [
    "alpha = 0.05  # nível de significância"
   ]
  },
  {
   "cell_type": "code",
   "execution_count": 107,
   "id": "dc8f95bd",
   "metadata": {},
   "outputs": [
    {
     "name": "stdout",
     "output_type": "stream",
     "text": [
      "p-value: 1.0\n",
      "Falha ao rejeitar a hipótese nula: não é possível chegar a conclusões sobre a diferença\n"
     ]
    }
   ],
   "source": [
    "group_247_tutorial = pivot_table_247.loc['Tutorial', 247]\n",
    "group_248_tutorial = pivot_table_248.loc['Tutorial', 248]\n",
    "group_event(group_247_tutorial, group_248_tutorial, alpha)"
   ]
  },
  {
   "cell_type": "code",
   "execution_count": 108,
   "id": "5ea9ffbe",
   "metadata": {},
   "outputs": [
    {
     "name": "stdout",
     "output_type": "stream",
     "text": [
      "p-value: 0.5\n",
      "Falha ao rejeitar a hipótese nula: não é possível chegar a conclusões sobre a diferença\n"
     ]
    }
   ],
   "source": [
    "group_247_main = pivot_table_247.loc['MainScreenAppear', 247]\n",
    "group_248_main = pivot_table_248.loc['MainScreenAppear', 248]\n",
    "group_event(group_247_main, group_248_main, alpha)"
   ]
  },
  {
   "cell_type": "code",
   "execution_count": 109,
   "id": "196afff8",
   "metadata": {},
   "outputs": [
    {
     "name": "stdout",
     "output_type": "stream",
     "text": [
      "p-value: 0.5\n",
      "Falha ao rejeitar a hipótese nula: não é possível chegar a conclusões sobre a diferença\n"
     ]
    }
   ],
   "source": [
    "group_247_offers = pivot_table_247.loc['OffersScreenAppear', 247]\n",
    "group_248_offers = pivot_table_248.loc['OffersScreenAppear', 248]\n",
    "group_event(group_247_offers, group_248_offers, alpha)"
   ]
  },
  {
   "cell_type": "code",
   "execution_count": 110,
   "id": "e639c907",
   "metadata": {},
   "outputs": [
    {
     "name": "stdout",
     "output_type": "stream",
     "text": [
      "p-value: 0.5\n",
      "Falha ao rejeitar a hipótese nula: não é possível chegar a conclusões sobre a diferença\n"
     ]
    }
   ],
   "source": [
    "group_247_cart = pivot_table_247.loc['CartScreenAppear', 247]\n",
    "group_248_cart = pivot_table_248.loc['CartScreenAppear', 248]\n",
    "group_event(group_247_cart, group_248_cart, alpha)"
   ]
  },
  {
   "cell_type": "code",
   "execution_count": 72,
   "id": "dba58c8c",
   "metadata": {},
   "outputs": [
    {
     "name": "stdout",
     "output_type": "stream",
     "text": [
      "p-value: 0.5\n",
      "Falha ao rejeitar a hipótese nula: não é possível chegar a conclusões sobre a diferença\n"
     ]
    }
   ],
   "source": [
    "group_247_payment = pivot_table_247.loc['PaymentScreenSuccessful', 247]\n",
    "group_248_payment = pivot_table_248.loc['PaymentScreenSuccessful', 248]\n",
    "group_event(group_247_payment, group_248_payment, alpha)"
   ]
  },
  {
   "cell_type": "markdown",
   "id": "5c175bf4",
   "metadata": {},
   "source": [
    "**Resultado:** GRUPO TESTE (248) E GRUPO CONTROLE (A) 247\n",
    "\n",
    "Os resultados indicam que não há diferença estatisticamente significativa entre os grupos de teste e de controle para nenhum dos eventos analisados. Portanto, não podemos concluir que existe uma diferença real entre os grupos nessas métricas específicas."
   ]
  },
  {
   "cell_type": "markdown",
   "id": "0fdb437c",
   "metadata": {},
   "source": [
    "Assim, comparando o grupo teste com cada grupo de controle, verificamos que em nenhum caso houve diferença estatisticamente significativa entre os grupos.\n",
    "\n",
    "Concluímos, então, que os 3 grupos apresentaram o mesmo resultado, tendo em vista que não existe uma diferença real entre os grupos."
   ]
  },
  {
   "cell_type": "markdown",
   "id": "3590eba2",
   "metadata": {},
   "source": [
    "[Voltar ao Indice](#back)"
   ]
  },
  {
   "cell_type": "markdown",
   "id": "2e30a681",
   "metadata": {},
   "source": [
    "# 4. Conclusão <a id='conclusao'></a>"
   ]
  },
  {
   "cell_type": "markdown",
   "id": "341a52ca",
   "metadata": {},
   "source": [
    "O presente projeto teve como escopo analisar o comportamento do usuário para o aplicativo da empresa, analisando o funil de vendas e os resultados do teste A/A/B.\n",
    "\n",
    "Inicialmente, tínhamos 243.713 eventos e 7.551 usuários registrados nos diários, porém acreditamos que os dados não estavam completos. Assim, filtramos o dataframe no período de 01-08-2019 a 07-08-2019 e encontramos 211.821 eventos e 7.350 usuários.\n",
    "\n",
    "No dataframe, havia os seguintes 5 tipos de eventos: Tutorial, MainScreenAppear, OffersScreenAppear, CartScreenAppear e PaymentScreenSuccessful. Notamos que o evento que ocorreu com mais frequência foi MainScreenAppear, com 102.788 ocorrências, e com menos frequência, Tutorial, com 944 vezes. No entanto, entendemos que essa diferença deve ter se dado devido ao tipo de evento, ou seja, em determinados eventos seria necessário passar mais de uma vez.\n",
    "\n",
    "Observamos a proporção de eventos feitos apenas uma vez pelos usuários e identificamos que o evento Tutorial possui uma proporção muito baixa; muitos usuários devem utilizá-lo apenas uma vez, quando instalam o aplicativo, e não usam mais.\n",
    "\n",
    "Acreditamos que a forma lógica que os eventos ocorrem seria a seguinte:\n",
    "\n",
    "- 1º: Tutorial (primeira interação com o aplicativo, onde o usuário aprende a navegar e usar as funcionalidades)\n",
    "- 2º: MainScreenAppear (tela inicial com os produtos disponíveis)\n",
    "- 3º: OffersScreenAppear (tela de ofertas)\n",
    "- 4º: CartScreenAppear (tela do carrinho de compras)\n",
    "- 5º: PaymentScreenSuccessful (tela de pagamento, com a finalização da compra)\n",
    "\n",
    "Frisamos que, apesar de acreditarmos que essa seria uma sequência lógica, não a colocamos como única, pois para alguns usuários não seria a primeira vez que estariam utilizando o aplicativo e, assim, não precisariam acessar o tutorial. Alguns também poderiam ir direto da tela inicial para o carrinho, sem sequer checar as ofertas.\n",
    "\n",
    "Quanto ao funil, vimos que não são todos que, quando fazem o primeiro evento - Tutorial, fazem também o último evento - Pagamento, ou seja, apenas 25,6% percorreram o caminho inteiro, desde o primeiro evento até o último. Porém, é na fase do acesso ao menu principal para acessar o menu de ofertas que mais perdemos usuários, sendo assim, muitos, depois que acessam o menu principal, não seguem utilizando o aplicativo.\n",
    "\n",
    "Já nos experimentos, vimos que entre os grupos de controle havia diferença estatisticamente significativa entre os dois grupos de controle. Porém, quando realizamos os testes por eventos nos grupos de controle A/A, percebemos que não havia diferença estatisticamente significativa entre as duas amostragens 246 e 247.\n",
    "\n",
    "Quanto à comparação do grupo B e cada respectivo grupo de controle, o experimento retornou o mesmo resultado para ambos: não havia diferença estatisticamente significativa entre eles.\n",
    "\n",
    "Assim, concluímos que todos os usuários utilizaram da mesma forma o aplicativo, não interferindo o tipo de design que o aplicativo possui."
   ]
  },
  {
   "cell_type": "markdown",
   "id": "37a7dd4b",
   "metadata": {},
   "source": [
    "[Voltar ao Indice](#back)"
   ]
  }
 ],
 "metadata": {
  "kernelspec": {
   "display_name": "Python 3 (ipykernel)",
   "language": "python",
   "name": "python3"
  },
  "language_info": {
   "codemirror_mode": {
    "name": "ipython",
    "version": 3
   },
   "file_extension": ".py",
   "mimetype": "text/x-python",
   "name": "python",
   "nbconvert_exporter": "python",
   "pygments_lexer": "ipython3",
   "version": "3.9.13"
  },
  "toc": {
   "base_numbering": 1,
   "nav_menu": {},
   "number_sections": true,
   "sideBar": true,
   "skip_h1_title": true,
   "title_cell": "Table of Contents",
   "title_sidebar": "Contents",
   "toc_cell": false,
   "toc_position": {},
   "toc_section_display": true,
   "toc_window_display": false
  }
 },
 "nbformat": 4,
 "nbformat_minor": 5
}
